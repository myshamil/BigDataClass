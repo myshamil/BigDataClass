{
 "cells": [
  {
   "cell_type": "code",
   "execution_count": 203,
   "metadata": {},
   "outputs": [],
   "source": [
    "from sklearn.preprocessing import LabelEncoder\n",
    "from sklearn.tree import DecisionTreeClassifier"
   ]
  },
  {
   "cell_type": "code",
   "execution_count": 264,
   "metadata": {},
   "outputs": [],
   "source": [
    "train=pd.read_csv(\"../titanic/train.csv\")\n",
    "test=pd.read_csv(\"../titanic/test.csv\")"
   ]
  },
  {
   "cell_type": "code",
   "execution_count": 205,
   "metadata": {
    "tags": []
   },
   "outputs": [
    {
     "output_type": "stream",
     "name": "stdout",
     "text": "<class 'pandas.core.frame.DataFrame'>\nRangeIndex: 418 entries, 0 to 417\nData columns (total 11 columns):\n #   Column       Non-Null Count  Dtype  \n---  ------       --------------  -----  \n 0   PassengerId  418 non-null    int64  \n 1   Pclass       418 non-null    int64  \n 2   Name         418 non-null    object \n 3   Sex          418 non-null    object \n 4   Age          332 non-null    float64\n 5   SibSp        418 non-null    int64  \n 6   Parch        418 non-null    int64  \n 7   Ticket       418 non-null    object \n 8   Fare         417 non-null    float64\n 9   Cabin        91 non-null     object \n 10  Embarked     418 non-null    object \ndtypes: float64(2), int64(4), object(5)\nmemory usage: 36.0+ KB\n"
    }
   ],
   "source": [
    "train.head()\n",
    "test.info()"
   ]
  },
  {
   "cell_type": "code",
   "execution_count": 287,
   "metadata": {},
   "outputs": [
    {
     "output_type": "execute_result",
     "data": {
      "text/plain": "Empty DataFrame\nColumns: [PassengerId, Pclass, Name, Sex, Age, SibSp, Parch, Ticket, Fare, Cabin, Embarked, Age_mean, Gender, Embarked_S, Embarked_C, Embarked_Q, FamilySize, Family, Family_S, Family_M, Family_L, Survived]\nIndex: []\n\n[0 rows x 22 columns]",
      "text/html": "<div>\n<style scoped>\n    .dataframe tbody tr th:only-of-type {\n        vertical-align: middle;\n    }\n\n    .dataframe tbody tr th {\n        vertical-align: top;\n    }\n\n    .dataframe thead th {\n        text-align: right;\n    }\n</style>\n<table border=\"1\" class=\"dataframe\">\n  <thead>\n    <tr style=\"text-align: right;\">\n      <th></th>\n      <th>PassengerId</th>\n      <th>Pclass</th>\n      <th>Name</th>\n      <th>Sex</th>\n      <th>Age</th>\n      <th>SibSp</th>\n      <th>Parch</th>\n      <th>Ticket</th>\n      <th>Fare</th>\n      <th>Cabin</th>\n      <th>...</th>\n      <th>Gender</th>\n      <th>Embarked_S</th>\n      <th>Embarked_C</th>\n      <th>Embarked_Q</th>\n      <th>FamilySize</th>\n      <th>Family</th>\n      <th>Family_S</th>\n      <th>Family_M</th>\n      <th>Family_L</th>\n      <th>Survived</th>\n    </tr>\n  </thead>\n  <tbody>\n  </tbody>\n</table>\n<p>0 rows × 22 columns</p>\n</div>"
     },
     "metadata": {},
     "execution_count": 287
    }
   ],
   "source": [
    "#test의 Fare 빈값 채우기 \n",
    "mean_fare =train[['Pclass', 'Fare']].groupby(['Pclass'], as_index=False).mean()\n",
    "# test[pd.isnull(test['Fare'])]\n",
    "test.loc[pd.isnull(test['Fare']),\"Fare\"]=mean_fare\n",
    "test[pd.isnull(test['Fare'])]"
   ]
  },
  {
   "cell_type": "code",
   "execution_count": 266,
   "metadata": {},
   "outputs": [
    {
     "output_type": "execute_result",
     "data": {
      "text/plain": "PassengerId      0\nSurvived         0\nPclass           0\nName             0\nSex              0\nAge            177\nSibSp            0\nParch            0\nTicket           0\nFare             0\nCabin          687\nEmbarked         2\nAge_mean         0\ndtype: int64"
     },
     "metadata": {},
     "execution_count": 266
    }
   ],
   "source": [
    "train['Age_mean']=train['Age']\n",
    "train['Age_mean'].isnull().sum() #177\n",
    "train['Age_mean'].fillna(train['Age'].mean(),inplace=True)\n",
    "train.isnull().sum()"
   ]
  },
  {
   "cell_type": "code",
   "execution_count": 267,
   "metadata": {},
   "outputs": [],
   "source": [
    "test['Age_mean']=test['Age']\n",
    "test['Age_mean'].fillna(test['Age'].mean(),inplace=True)"
   ]
  },
  {
   "cell_type": "code",
   "execution_count": 268,
   "metadata": {},
   "outputs": [],
   "source": [
    "train['Sex'].value_counts()\n",
    "train['Gender']=(train['Sex']=='female')\n",
    "test['Gender']=(test['Sex']=='female')"
   ]
  },
  {
   "cell_type": "code",
   "execution_count": 269,
   "metadata": {},
   "outputs": [],
   "source": [
    "train['Embarked_S']=train['Embarked']=='S'\n",
    "train['Embarked_C']=train['Embarked']=='C'\n",
    "train['Embarked_Q']=train['Embarked']=='Q'"
   ]
  },
  {
   "cell_type": "code",
   "execution_count": 270,
   "metadata": {},
   "outputs": [],
   "source": [
    "test['Embarked_S']=test['Embarked']=='S'\n",
    "test['Embarked_C']=test['Embarked']=='C'\n",
    "test['Embarked_Q']=test['Embarked']=='Q'"
   ]
  },
  {
   "cell_type": "code",
   "execution_count": 271,
   "metadata": {},
   "outputs": [],
   "source": [
    "train['FamilySize']=train['SibSp']+train['Parch']+1"
   ]
  },
  {
   "cell_type": "code",
   "execution_count": 272,
   "metadata": {},
   "outputs": [],
   "source": [
    "train['Family']=train['FamilySize']\n",
    "train.loc[train['FamilySize']==1, 'Family']='S'\n",
    "train.loc[(train['FamilySize']>1) & \n",
    "          (train['FamilySize']<5), 'Family']='M'\n",
    "train.loc[train['FamilySize']>=5, 'Family']='L'"
   ]
  },
  {
   "cell_type": "code",
   "execution_count": 273,
   "metadata": {},
   "outputs": [],
   "source": [
    "train['Family_S']=train['Family']=='S'\n",
    "train['Family_M']=train['Family']=='M'\n",
    "train['Family_L']=train['Family']=='L'"
   ]
  },
  {
   "cell_type": "code",
   "execution_count": 274,
   "metadata": {},
   "outputs": [],
   "source": [
    "test['FamilySize']=test['SibSp']+test['Parch']+1\n",
    "test['Family']=test['FamilySize']\n",
    "test.loc[test['FamilySize']==1, 'Family']='S'\n",
    "test.loc[(test['FamilySize']>1) & \n",
    "          (test['FamilySize']<5), 'Family']='M'\n",
    "test.loc[test['FamilySize']>=5, 'Family']='L'\n",
    "test['Family_S']=test['Family']=='S'\n",
    "test['Family_M']=test['Family']=='M'\n",
    "test['Family_L']=test['Family']=='L'"
   ]
  },
  {
   "cell_type": "code",
   "execution_count": 275,
   "metadata": {},
   "outputs": [],
   "source": [
    "train.loc[train['Fare']<=17,'Fare']=0\n",
    "train.loc[(train['Fare']>17) & (train['Fare']<=30),'Fare']=1\n",
    "train.loc[(train['Fare']>30) & (train['Fare']<=100),'Fare']=2\n",
    "train.loc[(train['Fare']>100),'Fare']=3\n"
   ]
  },
  {
   "cell_type": "code",
   "execution_count": 276,
   "metadata": {},
   "outputs": [],
   "source": [
    "test.loc[test['Fare']<=17,'Fare']=0\n",
    "test.loc[(test['Fare']>17) & (test['Fare']<=30),'Fare']=1\n",
    "test.loc[(test['Fare']>30) & (test['Fare']<=100),'Fare']=2\n",
    "test.loc[(test['Fare']>100),'Fare']=3"
   ]
  },
  {
   "cell_type": "code",
   "execution_count": 277,
   "metadata": {},
   "outputs": [],
   "source": [
    "train['Pclass'].value_counts()\n",
    "train['Pclass']=train['Pclass'].astype('category')"
   ]
  },
  {
   "cell_type": "code",
   "execution_count": 278,
   "metadata": {},
   "outputs": [],
   "source": [
    "fn=['Gender','Age_mean','Embarked_C', 'Embarked_Q','Family_S', 'Family_M', 'Family_L','Fare']\n",
    "xTrain=train[fn]\n",
    "xTrain.head()\n",
    "yLable =train['Survived']"
   ]
  },
  {
   "cell_type": "code",
   "execution_count": 279,
   "metadata": {},
   "outputs": [
    {
     "output_type": "execute_result",
     "data": {
      "text/plain": "DecisionTreeClassifier(max_depth=4, random_state=2020)"
     },
     "metadata": {},
     "execution_count": 279
    }
   ],
   "source": [
    "#모델 객체 생성\n",
    "model=DecisionTreeClassifier(max_depth=4, random_state=2020)\n",
    "#scikit-learn.org\n",
    "model"
   ]
  },
  {
   "cell_type": "code",
   "execution_count": 280,
   "metadata": {},
   "outputs": [
    {
     "output_type": "execute_result",
     "data": {
      "text/plain": "DecisionTreeClassifier(max_depth=4, random_state=2020)"
     },
     "metadata": {},
     "execution_count": 280
    }
   ],
   "source": [
    "#모델링\n",
    "model.fit(xTrain, yLable)"
   ]
  },
  {
   "cell_type": "code",
   "execution_count": 281,
   "metadata": {},
   "outputs": [],
   "source": [
    "from sklearn.model_selection import KFold, cross_val_score\n",
    "#교차검증: 아직 본 적없는 데이터에 대해 성능을 예측\n",
    "# 더 좋은 모델을 위한 파라미터 튜닝을 위해\n",
    "Kfold=KFold(n_splits=10, shuffle= True, random_state=2020)\n",
    "#전테 데이터를 10겹 으로 분리, 9겹 트레이닝, 1겹 테스트"
   ]
  },
  {
   "cell_type": "code",
   "execution_count": 282,
   "metadata": {},
   "outputs": [],
   "source": [
    "score= cross_val_score(model, xTrain, yLable, cv=Kfold, n_jobs=-1, scoring='accuracy')\n",
    "#n_jobs = 컴퓨터 코어사용 여부 -1은 전부 다 사용한다는 것"
   ]
  },
  {
   "cell_type": "code",
   "execution_count": 283,
   "metadata": {
    "tags": []
   },
   "outputs": [
    {
     "output_type": "stream",
     "name": "stdout",
     "text": "[0.9        0.71910112 0.84269663 0.80898876 0.78651685 0.83146067\n 0.84269663 0.85393258 0.83146067 0.83146067]\n"
    },
    {
     "output_type": "execute_result",
     "data": {
      "text/plain": "82.48"
     },
     "metadata": {},
     "execution_count": 283
    }
   ],
   "source": [
    "print(score)\n",
    "round(np.mean(score)*100,2)"
   ]
  },
  {
   "cell_type": "code",
   "execution_count": 284,
   "metadata": {},
   "outputs": [
    {
     "output_type": "execute_result",
     "data": {
      "text/plain": "     Gender  Age_mean  Embarked_C  Embarked_Q  Family_S  Family_M  Family_L  \\\n0     False  34.50000       False        True      True     False     False   \n1      True  47.00000       False       False     False      True     False   \n2     False  62.00000       False        True      True     False     False   \n3     False  27.00000       False       False      True     False     False   \n4      True  22.00000       False       False     False      True     False   \n..      ...       ...         ...         ...       ...       ...       ...   \n413   False  30.27259       False       False      True     False     False   \n414    True  39.00000        True       False      True     False     False   \n415   False  38.50000       False       False      True     False     False   \n416   False  30.27259       False       False      True     False     False   \n417   False  30.27259        True       False     False      True     False   \n\n     Fare  \n0     0.0  \n1     0.0  \n2     0.0  \n3     0.0  \n4     0.0  \n..    ...  \n413   0.0  \n414   3.0  \n415   0.0  \n416   0.0  \n417   1.0  \n\n[418 rows x 8 columns]",
      "text/html": "<div>\n<style scoped>\n    .dataframe tbody tr th:only-of-type {\n        vertical-align: middle;\n    }\n\n    .dataframe tbody tr th {\n        vertical-align: top;\n    }\n\n    .dataframe thead th {\n        text-align: right;\n    }\n</style>\n<table border=\"1\" class=\"dataframe\">\n  <thead>\n    <tr style=\"text-align: right;\">\n      <th></th>\n      <th>Gender</th>\n      <th>Age_mean</th>\n      <th>Embarked_C</th>\n      <th>Embarked_Q</th>\n      <th>Family_S</th>\n      <th>Family_M</th>\n      <th>Family_L</th>\n      <th>Fare</th>\n    </tr>\n  </thead>\n  <tbody>\n    <tr>\n      <th>0</th>\n      <td>False</td>\n      <td>34.50000</td>\n      <td>False</td>\n      <td>True</td>\n      <td>True</td>\n      <td>False</td>\n      <td>False</td>\n      <td>0.0</td>\n    </tr>\n    <tr>\n      <th>1</th>\n      <td>True</td>\n      <td>47.00000</td>\n      <td>False</td>\n      <td>False</td>\n      <td>False</td>\n      <td>True</td>\n      <td>False</td>\n      <td>0.0</td>\n    </tr>\n    <tr>\n      <th>2</th>\n      <td>False</td>\n      <td>62.00000</td>\n      <td>False</td>\n      <td>True</td>\n      <td>True</td>\n      <td>False</td>\n      <td>False</td>\n      <td>0.0</td>\n    </tr>\n    <tr>\n      <th>3</th>\n      <td>False</td>\n      <td>27.00000</td>\n      <td>False</td>\n      <td>False</td>\n      <td>True</td>\n      <td>False</td>\n      <td>False</td>\n      <td>0.0</td>\n    </tr>\n    <tr>\n      <th>4</th>\n      <td>True</td>\n      <td>22.00000</td>\n      <td>False</td>\n      <td>False</td>\n      <td>False</td>\n      <td>True</td>\n      <td>False</td>\n      <td>0.0</td>\n    </tr>\n    <tr>\n      <th>...</th>\n      <td>...</td>\n      <td>...</td>\n      <td>...</td>\n      <td>...</td>\n      <td>...</td>\n      <td>...</td>\n      <td>...</td>\n      <td>...</td>\n    </tr>\n    <tr>\n      <th>413</th>\n      <td>False</td>\n      <td>30.27259</td>\n      <td>False</td>\n      <td>False</td>\n      <td>True</td>\n      <td>False</td>\n      <td>False</td>\n      <td>0.0</td>\n    </tr>\n    <tr>\n      <th>414</th>\n      <td>True</td>\n      <td>39.00000</td>\n      <td>True</td>\n      <td>False</td>\n      <td>True</td>\n      <td>False</td>\n      <td>False</td>\n      <td>3.0</td>\n    </tr>\n    <tr>\n      <th>415</th>\n      <td>False</td>\n      <td>38.50000</td>\n      <td>False</td>\n      <td>False</td>\n      <td>True</td>\n      <td>False</td>\n      <td>False</td>\n      <td>0.0</td>\n    </tr>\n    <tr>\n      <th>416</th>\n      <td>False</td>\n      <td>30.27259</td>\n      <td>False</td>\n      <td>False</td>\n      <td>True</td>\n      <td>False</td>\n      <td>False</td>\n      <td>0.0</td>\n    </tr>\n    <tr>\n      <th>417</th>\n      <td>False</td>\n      <td>30.27259</td>\n      <td>True</td>\n      <td>False</td>\n      <td>False</td>\n      <td>True</td>\n      <td>False</td>\n      <td>1.0</td>\n    </tr>\n  </tbody>\n</table>\n<p>418 rows × 8 columns</p>\n</div>"
     },
     "metadata": {},
     "execution_count": 284
    }
   ],
   "source": [
    "xTest= test[fn]\n",
    "xTest"
   ]
  },
  {
   "cell_type": "code",
   "execution_count": 285,
   "metadata": {},
   "outputs": [],
   "source": [
    "prediction = model.predict(xTest)\n",
    "prediction.shape\n",
    "test['Survived']=prediction"
   ]
  },
  {
   "cell_type": "code",
   "execution_count": 286,
   "metadata": {},
   "outputs": [],
   "source": [
    "res=test[['PassengerId', 'Survived']]\n",
    "res.to_csv(\"titanic_res5.csv\", index=False)"
   ]
  },
  {
   "cell_type": "code",
   "execution_count": 289,
   "metadata": {},
   "outputs": [],
   "source": [
    "from sklearn.ensemble import RandomForestClassifier"
   ]
  },
  {
   "cell_type": "code",
   "execution_count": 298,
   "metadata": {
    "tags": []
   },
   "outputs": [
    {
     "output_type": "stream",
     "name": "stdout",
     "text": "[0.77777778 0.68539326 0.7752809  0.78651685 0.75280899 0.7752809\n 0.84269663 0.84269663 0.75280899 0.80898876]\n"
    }
   ],
   "source": [
    "#랜덤 포레스트 \n",
    "clf = RandomForestClassifier(n_estimators=13)\n",
    "scoring = 'accuracy'\n",
    "score = cross_val_score(clf, xTrain, yLable, cv=Kfold, n_jobs=1, scoring=scoring)\n",
    "print(score)"
   ]
  },
  {
   "cell_type": "code",
   "execution_count": 299,
   "metadata": {},
   "outputs": [
    {
     "output_type": "execute_result",
     "data": {
      "text/plain": "RandomForestClassifier(n_estimators=13)"
     },
     "metadata": {},
     "execution_count": 299
    }
   ],
   "source": [
    "clf.fit(xTrain, yLable)"
   ]
  },
  {
   "cell_type": "code",
   "execution_count": 300,
   "metadata": {},
   "outputs": [],
   "source": [
    "prediction = clf.predict(xTest)\n",
    "prediction.shape\n",
    "test['Survived']=prediction"
   ]
  }
 ],
 "metadata": {
  "language_info": {
   "codemirror_mode": {
    "name": "ipython",
    "version": 3
   },
   "file_extension": ".py",
   "mimetype": "text/x-python",
   "name": "python",
   "nbconvert_exporter": "python",
   "pygments_lexer": "ipython3",
   "version": 3
  },
  "orig_nbformat": 2,
  "kernelspec": {
   "name": "python_defaultSpec_1594016102460",
   "display_name": "Python 3.7.7 64-bit"
  }
 },
 "nbformat": 4,
 "nbformat_minor": 2
}