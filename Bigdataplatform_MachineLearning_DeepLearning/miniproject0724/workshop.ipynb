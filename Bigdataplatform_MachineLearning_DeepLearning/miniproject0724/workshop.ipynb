{
 "metadata": {
  "language_info": {
   "codemirror_mode": {
    "name": "ipython",
    "version": 3
   },
   "file_extension": ".py",
   "mimetype": "text/x-python",
   "name": "python",
   "nbconvert_exporter": "python",
   "pygments_lexer": "ipython3",
   "version": 3
  },
  "orig_nbformat": 2,
  "kernelspec": {
   "name": "python_defaultSpec_1595571351268",
   "display_name": "Python 3.7.6 64-bit ('base': conda)"
  }
 },
 "nbformat": 4,
 "nbformat_minor": 2,
 "cells": [
  {
   "cell_type": "code",
   "execution_count": 2,
   "metadata": {},
   "outputs": [],
   "source": [
    "%matplotlib inline\n",
    "from keras.preprocessing.image import *\n",
    "from PIL import Image\n",
    "import os\n",
    "import random\n",
    "from sklearn.model_selection import train_test_split\n",
    "from keras.utils import to_categorical\n",
    "from keras.models import Sequential\n",
    "from keras.layers import *\n",
    "from keras.callbacks import EarlyStopping,ReduceLROnPlateau"
   ]
  },
  {
   "cell_type": "code",
   "execution_count": 3,
   "metadata": {},
   "outputs": [],
   "source": [
    "train_datagen=ImageDataGenerator(\n",
    "    rescale=1./255, rotation_range= 15, #0~15도 사이의 각도로 회전\n",
    "    width_shift_range= 0.1, #좌우로 각각 10 픽셀 이내로 \n",
    "    height_shift_range=0.1 , #상하로 이동\n",
    "    shear_range= 0.5, #변형\n",
    "    zoom_range=[0.8, 2.0], \n",
    "    horizontal_flip=True,\n",
    "    vertical_flip=True\n",
    ")"
   ]
  },
  {
   "cell_type": "code",
   "execution_count": null,
   "metadata": {},
   "outputs": [],
   "source": [
    "IMAGE_WIDTH = 128\n",
    "IMAGE_HEIGHT = 128\n",
    "IMAGE_SIZE = (IMAGE_WIDTH, IMAGE_HEIGHT)\n",
    "IMAGE_CHANNEL = 1"
   ]
  },
  {
   "cell_type": "code",
   "execution_count": 4,
   "metadata": {},
   "outputs": [
    {
     "output_type": "execute_result",
     "data": {
      "text/plain": "['sun.1.png',\n 'sun.2.png',\n 'sun.3.png',\n 'sun.4.png',\n 'sun5.png',\n 'woobin.1.png',\n 'woobin.2.png',\n 'woobin.3.png',\n 'woobin.4.png',\n 'woobin.5.png']"
     },
     "metadata": {},
     "execution_count": 4
    }
   ],
   "source": [
    "files =os.listdir(\"hello/train\")\n",
    "files"
   ]
  },
  {
   "cell_type": "code",
   "execution_count": 5,
   "metadata": {},
   "outputs": [],
   "source": [
    "df = pd.DataFrame({'filename':files})"
   ]
  },
  {
   "cell_type": "code",
   "execution_count": 6,
   "metadata": {},
   "outputs": [
    {
     "output_type": "execute_result",
     "data": {
      "text/plain": "       filename\n0     sun.1.png\n1     sun.2.png\n2     sun.3.png\n3     sun.4.png\n4      sun5.png\n5  woobin.1.png\n6  woobin.2.png\n7  woobin.3.png\n8  woobin.4.png\n9  woobin.5.png",
      "text/html": "<div>\n<style scoped>\n    .dataframe tbody tr th:only-of-type {\n        vertical-align: middle;\n    }\n\n    .dataframe tbody tr th {\n        vertical-align: top;\n    }\n\n    .dataframe thead th {\n        text-align: right;\n    }\n</style>\n<table border=\"1\" class=\"dataframe\">\n  <thead>\n    <tr style=\"text-align: right;\">\n      <th></th>\n      <th>filename</th>\n    </tr>\n  </thead>\n  <tbody>\n    <tr>\n      <th>0</th>\n      <td>sun.1.png</td>\n    </tr>\n    <tr>\n      <th>1</th>\n      <td>sun.2.png</td>\n    </tr>\n    <tr>\n      <th>2</th>\n      <td>sun.3.png</td>\n    </tr>\n    <tr>\n      <th>3</th>\n      <td>sun.4.png</td>\n    </tr>\n    <tr>\n      <th>4</th>\n      <td>sun5.png</td>\n    </tr>\n    <tr>\n      <th>5</th>\n      <td>woobin.1.png</td>\n    </tr>\n    <tr>\n      <th>6</th>\n      <td>woobin.2.png</td>\n    </tr>\n    <tr>\n      <th>7</th>\n      <td>woobin.3.png</td>\n    </tr>\n    <tr>\n      <th>8</th>\n      <td>woobin.4.png</td>\n    </tr>\n    <tr>\n      <th>9</th>\n      <td>woobin.5.png</td>\n    </tr>\n  </tbody>\n</table>\n</div>"
     },
     "metadata": {},
     "execution_count": 6
    }
   ],
   "source": [
    "df"
   ]
  },
  {
   "cell_type": "code",
   "execution_count": null,
   "metadata": {},
   "outputs": [],
   "source": [
    "categories =[]\n",
    "for name in files:\n",
    "    category = name.split(\".\")[0]\n",
    "    if category=='sun':\n",
    "        categories.append(1)\n",
    "    else:\n",
    "        categories.append(0)"
   ]
  }
 ]
}