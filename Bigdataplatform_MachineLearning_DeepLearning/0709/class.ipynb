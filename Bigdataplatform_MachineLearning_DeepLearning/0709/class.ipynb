{
 "cells": [
  {
   "cell_type": "code",
   "execution_count": 1,
   "metadata": {},
   "outputs": [
    {
     "output_type": "execute_result",
     "data": {
      "text/plain": "[[1, 2, 3, 4, 5, 6, 7],\n [10, 21, 32, 43, 54, 65, 76],\n [0, 1, 0, 0, 1, 1, 1],\n [-1, -20, -35, -46, -57, -66, -77]]"
     },
     "metadata": {},
     "execution_count": 1
    }
   ],
   "source": [
    "data = [[1,2,3,4,5,6,7],\n",
    "[10,21,32,43,54,65,76],\n",
    "[0,1,0,0,1,1,1],\n",
    "[-1,-20,-35,-46,-57,-66,-77]]\n",
    "\n",
    "data"
   ]
  },
  {
   "cell_type": "code",
   "execution_count": 4,
   "metadata": {},
   "outputs": [],
   "source": [
    "df=pd.DataFrame(data).T"
   ]
  },
  {
   "cell_type": "code",
   "execution_count": 5,
   "metadata": {},
   "outputs": [
    {
     "output_type": "execute_result",
     "data": {
      "text/plain": "   0   1  2   3\n0  1  10  0  -1\n1  2  21  1 -20\n2  3  32  0 -35\n3  4  43  0 -46\n4  5  54  1 -57\n5  6  65  1 -66\n6  7  76  1 -77",
      "text/html": "<div>\n<style scoped>\n    .dataframe tbody tr th:only-of-type {\n        vertical-align: middle;\n    }\n\n    .dataframe tbody tr th {\n        vertical-align: top;\n    }\n\n    .dataframe thead th {\n        text-align: right;\n    }\n</style>\n<table border=\"1\" class=\"dataframe\">\n  <thead>\n    <tr style=\"text-align: right;\">\n      <th></th>\n      <th>0</th>\n      <th>1</th>\n      <th>2</th>\n      <th>3</th>\n    </tr>\n  </thead>\n  <tbody>\n    <tr>\n      <th>0</th>\n      <td>1</td>\n      <td>10</td>\n      <td>0</td>\n      <td>-1</td>\n    </tr>\n    <tr>\n      <th>1</th>\n      <td>2</td>\n      <td>21</td>\n      <td>1</td>\n      <td>-20</td>\n    </tr>\n    <tr>\n      <th>2</th>\n      <td>3</td>\n      <td>32</td>\n      <td>0</td>\n      <td>-35</td>\n    </tr>\n    <tr>\n      <th>3</th>\n      <td>4</td>\n      <td>43</td>\n      <td>0</td>\n      <td>-46</td>\n    </tr>\n    <tr>\n      <th>4</th>\n      <td>5</td>\n      <td>54</td>\n      <td>1</td>\n      <td>-57</td>\n    </tr>\n    <tr>\n      <th>5</th>\n      <td>6</td>\n      <td>65</td>\n      <td>1</td>\n      <td>-66</td>\n    </tr>\n    <tr>\n      <th>6</th>\n      <td>7</td>\n      <td>76</td>\n      <td>1</td>\n      <td>-77</td>\n    </tr>\n  </tbody>\n</table>\n</div>"
     },
     "metadata": {},
     "execution_count": 5
    }
   ],
   "source": [
    "df"
   ]
  },
  {
   "cell_type": "code",
   "execution_count": 6,
   "metadata": {},
   "outputs": [
    {
     "output_type": "execute_result",
     "data": {
      "text/plain": "          0         1         2         3\n0  1.000000  1.000000  0.577350 -0.991775\n1  1.000000  1.000000  0.577350 -0.991775\n2  0.577350  0.577350  1.000000 -0.555859\n3 -0.991775 -0.991775 -0.555859  1.000000",
      "text/html": "<div>\n<style scoped>\n    .dataframe tbody tr th:only-of-type {\n        vertical-align: middle;\n    }\n\n    .dataframe tbody tr th {\n        vertical-align: top;\n    }\n\n    .dataframe thead th {\n        text-align: right;\n    }\n</style>\n<table border=\"1\" class=\"dataframe\">\n  <thead>\n    <tr style=\"text-align: right;\">\n      <th></th>\n      <th>0</th>\n      <th>1</th>\n      <th>2</th>\n      <th>3</th>\n    </tr>\n  </thead>\n  <tbody>\n    <tr>\n      <th>0</th>\n      <td>1.000000</td>\n      <td>1.000000</td>\n      <td>0.577350</td>\n      <td>-0.991775</td>\n    </tr>\n    <tr>\n      <th>1</th>\n      <td>1.000000</td>\n      <td>1.000000</td>\n      <td>0.577350</td>\n      <td>-0.991775</td>\n    </tr>\n    <tr>\n      <th>2</th>\n      <td>0.577350</td>\n      <td>0.577350</td>\n      <td>1.000000</td>\n      <td>-0.555859</td>\n    </tr>\n    <tr>\n      <th>3</th>\n      <td>-0.991775</td>\n      <td>-0.991775</td>\n      <td>-0.555859</td>\n      <td>1.000000</td>\n    </tr>\n  </tbody>\n</table>\n</div>"
     },
     "metadata": {},
     "execution_count": 6
    }
   ],
   "source": [
    "mycorr =df.corr(method='pearson')\n",
    "mycorr"
   ]
  },
  {
   "cell_type": "code",
   "execution_count": 23,
   "metadata": {},
   "outputs": [
    {
     "output_type": "execute_result",
     "data": {
      "text/plain": "           1월  2월    3월    4월    5월    6월  7월    8월  9월   10월   11월   12월\n분류                                                                       \n공용관리비    1204   0  1190  1071  1064  1145   0  1114   0  1112  1108  1160\n일반관리비     409   0   404   380   375   418   0   405   0   408   403   417\n인건비       386   0   377   353   347   383   0   383   0   385   381   383\n급여          0   0     0     0     0     0   0     0   0     0     0     0\n제수당         0   0     0     0     0     0   0     0   0     0     0     0\n...       ...  ..   ...   ...   ...   ...  ..   ...  ..   ...   ...   ...\n월사용액        0   0     0     0     0     0   0     0   0     0     0     0\n충당금잔액       0   0     0     0     0     0   0     0   0     0     0     0\n적립요율(%)     1   0     1     1     1     1   0     1   0     1     1     1\n합계       3229   0  2888  2231  1494  1555   0  1560   0  1848  2529  3442\n잡수입        26   0  1028   915    20    78   0    17   0    27    28    45\n\n[70 rows x 12 columns]",
      "text/html": "<div>\n<style scoped>\n    .dataframe tbody tr th:only-of-type {\n        vertical-align: middle;\n    }\n\n    .dataframe tbody tr th {\n        vertical-align: top;\n    }\n\n    .dataframe thead th {\n        text-align: right;\n    }\n</style>\n<table border=\"1\" class=\"dataframe\">\n  <thead>\n    <tr style=\"text-align: right;\">\n      <th></th>\n      <th>1월</th>\n      <th>2월</th>\n      <th>3월</th>\n      <th>4월</th>\n      <th>5월</th>\n      <th>6월</th>\n      <th>7월</th>\n      <th>8월</th>\n      <th>9월</th>\n      <th>10월</th>\n      <th>11월</th>\n      <th>12월</th>\n    </tr>\n    <tr>\n      <th>분류</th>\n      <th></th>\n      <th></th>\n      <th></th>\n      <th></th>\n      <th></th>\n      <th></th>\n      <th></th>\n      <th></th>\n      <th></th>\n      <th></th>\n      <th></th>\n      <th></th>\n    </tr>\n  </thead>\n  <tbody>\n    <tr>\n      <th>공용관리비</th>\n      <td>1204</td>\n      <td>0</td>\n      <td>1190</td>\n      <td>1071</td>\n      <td>1064</td>\n      <td>1145</td>\n      <td>0</td>\n      <td>1114</td>\n      <td>0</td>\n      <td>1112</td>\n      <td>1108</td>\n      <td>1160</td>\n    </tr>\n    <tr>\n      <th>일반관리비</th>\n      <td>409</td>\n      <td>0</td>\n      <td>404</td>\n      <td>380</td>\n      <td>375</td>\n      <td>418</td>\n      <td>0</td>\n      <td>405</td>\n      <td>0</td>\n      <td>408</td>\n      <td>403</td>\n      <td>417</td>\n    </tr>\n    <tr>\n      <th>인건비</th>\n      <td>386</td>\n      <td>0</td>\n      <td>377</td>\n      <td>353</td>\n      <td>347</td>\n      <td>383</td>\n      <td>0</td>\n      <td>383</td>\n      <td>0</td>\n      <td>385</td>\n      <td>381</td>\n      <td>383</td>\n    </tr>\n    <tr>\n      <th>급여</th>\n      <td>0</td>\n      <td>0</td>\n      <td>0</td>\n      <td>0</td>\n      <td>0</td>\n      <td>0</td>\n      <td>0</td>\n      <td>0</td>\n      <td>0</td>\n      <td>0</td>\n      <td>0</td>\n      <td>0</td>\n    </tr>\n    <tr>\n      <th>제수당</th>\n      <td>0</td>\n      <td>0</td>\n      <td>0</td>\n      <td>0</td>\n      <td>0</td>\n      <td>0</td>\n      <td>0</td>\n      <td>0</td>\n      <td>0</td>\n      <td>0</td>\n      <td>0</td>\n      <td>0</td>\n    </tr>\n    <tr>\n      <th>...</th>\n      <td>...</td>\n      <td>...</td>\n      <td>...</td>\n      <td>...</td>\n      <td>...</td>\n      <td>...</td>\n      <td>...</td>\n      <td>...</td>\n      <td>...</td>\n      <td>...</td>\n      <td>...</td>\n      <td>...</td>\n    </tr>\n    <tr>\n      <th>월사용액</th>\n      <td>0</td>\n      <td>0</td>\n      <td>0</td>\n      <td>0</td>\n      <td>0</td>\n      <td>0</td>\n      <td>0</td>\n      <td>0</td>\n      <td>0</td>\n      <td>0</td>\n      <td>0</td>\n      <td>0</td>\n    </tr>\n    <tr>\n      <th>충당금잔액</th>\n      <td>0</td>\n      <td>0</td>\n      <td>0</td>\n      <td>0</td>\n      <td>0</td>\n      <td>0</td>\n      <td>0</td>\n      <td>0</td>\n      <td>0</td>\n      <td>0</td>\n      <td>0</td>\n      <td>0</td>\n    </tr>\n    <tr>\n      <th>적립요율(%)</th>\n      <td>1</td>\n      <td>0</td>\n      <td>1</td>\n      <td>1</td>\n      <td>1</td>\n      <td>1</td>\n      <td>0</td>\n      <td>1</td>\n      <td>0</td>\n      <td>1</td>\n      <td>1</td>\n      <td>1</td>\n    </tr>\n    <tr>\n      <th>합계</th>\n      <td>3229</td>\n      <td>0</td>\n      <td>2888</td>\n      <td>2231</td>\n      <td>1494</td>\n      <td>1555</td>\n      <td>0</td>\n      <td>1560</td>\n      <td>0</td>\n      <td>1848</td>\n      <td>2529</td>\n      <td>3442</td>\n    </tr>\n    <tr>\n      <th>잡수입</th>\n      <td>26</td>\n      <td>0</td>\n      <td>1028</td>\n      <td>915</td>\n      <td>20</td>\n      <td>78</td>\n      <td>0</td>\n      <td>17</td>\n      <td>0</td>\n      <td>27</td>\n      <td>28</td>\n      <td>45</td>\n    </tr>\n  </tbody>\n</table>\n<p>70 rows × 12 columns</p>\n</div>"
     },
     "metadata": {},
     "execution_count": 23
    }
   ],
   "source": [
    "rawdata=pd.read_excel(\"데이터분석실습데이터/2012년.xls\", index_col=0)\n",
    "rawdata\n"
   ]
  },
  {
   "cell_type": "code",
   "execution_count": 24,
   "metadata": {
    "tags": []
   },
   "outputs": [
    {
     "output_type": "stream",
     "name": "stdout",
     "text": "<class 'pandas.core.frame.DataFrame'>\nIndex: 70 entries, 공용관리비 to 잡수입\nData columns (total 12 columns):\n #   Column  Non-Null Count  Dtype\n---  ------  --------------  -----\n 0   1월      70 non-null     int64\n 1   2월      70 non-null     int64\n 2   3월      70 non-null     int64\n 3   4월      70 non-null     int64\n 4   5월      70 non-null     int64\n 5   6월      70 non-null     int64\n 6   7월      70 non-null     int64\n 7   8월      70 non-null     int64\n 8   9월      70 non-null     int64\n 9   10월     70 non-null     int64\n 10  11월     70 non-null     int64\n 11  12월     70 non-null     int64\ndtypes: int64(12)\nmemory usage: 7.1+ KB\n"
    }
   ],
   "source": [
    "rawdata.info()"
   ]
  },
  {
   "cell_type": "code",
   "execution_count": 29,
   "metadata": {},
   "outputs": [
    {
     "output_type": "execute_result",
     "data": {
      "text/plain": "Index(['공용관리비', '일반관리비', '인건비', '급여', '제수당', '상여금', '퇴직금', '산재보험료', '고용보험료',\n       '국민연금', '건강보험료', '식대등복리후생비', '제사무비', '일반사무용품비', '도서인쇄비', '여비교통비',\n       '제세공과금', '공과금중전기료', '통신료', '우편료', '제세공과금등', '피복비', '교육훈련비', '차량유지비',\n       '연료비', '수리비', '보험료', '기타차량유지비', '그밖의부대비용', '관리용품구입비', '전문가자문비등', '잡비',\n       '청소비', '경비비', '소독비', '승강기유지비', '지능형홈네트워크설비유지비', '수선유지비', '수선비', '시설유지비',\n       '안전점검비', '재해예방비', '위탁관리수수료', '개별사용료', '난방비', '난방공용', '난방전용', '급탕비',\n       '급탕공용', '급탕전용', '가스사용료', '가스공용', '가스전용', '전기료', '전기공용', '전기전용', '수도료',\n       '수도공용', '수도전용', '정화조오물수수료', '생활폐기물수수료', '입주자대표회의운영비', '건물보험료',\n       '선거관리위원회운영비', '장기수선충당금월부과액', '월사용액', '충당금잔액', '적립요율(%)', '합계', '잡수입'],\n      dtype='object', name='분류')"
     },
     "metadata": {},
     "execution_count": 29
    }
   ],
   "source": [
    "rawdata.index"
   ]
  },
  {
   "cell_type": "code",
   "execution_count": 1,
   "metadata": {},
   "outputs": [
    {
     "output_type": "error",
     "ename": "NameError",
     "evalue": "name 'freme' is not defined",
     "traceback": [
      "\u001b[1;31m---------------------------------------------------------------------------\u001b[0m",
      "\u001b[1;31mNameError\u001b[0m                                 Traceback (most recent call last)",
      "\u001b[1;32m<ipython-input-1-2291a81286f1>\u001b[0m in \u001b[0;36m<module>\u001b[1;34m\u001b[0m\n\u001b[0;32m      3\u001b[0m     \u001b[0mframe\u001b[0m \u001b[1;33m=\u001b[0m \u001b[0mpd\u001b[0m\u001b[1;33m.\u001b[0m\u001b[0mread_excel\u001b[0m\u001b[1;33m(\u001b[0m\u001b[1;34m'데이터분석실습데이터/%d년.xls'\u001b[0m \u001b[1;33m%\u001b[0m\u001b[0myear\u001b[0m \u001b[1;33m,\u001b[0m \u001b[0mindex_col\u001b[0m\u001b[1;33m=\u001b[0m\u001b[1;36m0\u001b[0m\u001b[1;33m)\u001b[0m\u001b[1;33m\u001b[0m\u001b[1;33m\u001b[0m\u001b[0m\n\u001b[0;32m      4\u001b[0m     \u001b[0mframe\u001b[0m \u001b[1;33m=\u001b[0m \u001b[0mframe\u001b[0m\u001b[1;33m.\u001b[0m\u001b[0mT\u001b[0m\u001b[1;33m\u001b[0m\u001b[1;33m\u001b[0m\u001b[0m\n\u001b[1;32m----> 5\u001b[1;33m     \u001b[0mpieces\u001b[0m\u001b[1;33m.\u001b[0m\u001b[0mappend\u001b[0m\u001b[1;33m(\u001b[0m\u001b[0mfreme\u001b[0m\u001b[1;33m)\u001b[0m\u001b[1;33m\u001b[0m\u001b[1;33m\u001b[0m\u001b[0m\n\u001b[0m\u001b[0;32m      6\u001b[0m \u001b[0mdf\u001b[0m \u001b[1;33m=\u001b[0m \u001b[0mpd\u001b[0m\u001b[1;33m.\u001b[0m\u001b[0mconcat\u001b[0m\u001b[1;33m(\u001b[0m\u001b[0mpieces\u001b[0m\u001b[1;33m,\u001b[0m \u001b[0mignore_index\u001b[0m \u001b[1;33m=\u001b[0m \u001b[1;32mTrue\u001b[0m\u001b[1;33m)\u001b[0m\u001b[1;33m\u001b[0m\u001b[1;33m\u001b[0m\u001b[0m\n",
      "\u001b[1;31mNameError\u001b[0m: name 'freme' is not defined"
     ]
    }
   ],
   "source": [
    "pieces = []\n",
    "for year in range(2012,2020):\n",
    "    frame = pd.read_excel('데이터분석실습데이터/%d년.xls' %year , index_col=0)\n",
    "    frame = frame.T\n",
    "    pieces.append(freme)\n",
    "df = pd.concat(pieces, ignore_index = True)"
   ]
  }
 ],
 "metadata": {
  "language_info": {
   "codemirror_mode": {
    "name": "ipython",
    "version": 3
   },
   "file_extension": ".py",
   "mimetype": "text/x-python",
   "name": "python",
   "nbconvert_exporter": "python",
   "pygments_lexer": "ipython3",
   "version": "3.7.7-final"
  },
  "orig_nbformat": 2,
  "kernelspec": {
   "name": "python37764bit103ddcd5d3034bf398bf8a71a396b0e1",
   "display_name": "Python 3.7.7 64-bit"
  }
 },
 "nbformat": 4,
 "nbformat_minor": 2
}