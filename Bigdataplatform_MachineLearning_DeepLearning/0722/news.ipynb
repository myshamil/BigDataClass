{
 "metadata": {
  "language_info": {
   "codemirror_mode": {
    "name": "ipython",
    "version": 3
   },
   "file_extension": ".py",
   "mimetype": "text/x-python",
   "name": "python",
   "nbconvert_exporter": "python",
   "pygments_lexer": "ipython3",
   "version": 3
  },
  "orig_nbformat": 2,
  "kernelspec": {
   "name": "python_defaultSpec_1595376950447",
   "display_name": "Python 3.7.7 64-bit"
  }
 },
 "nbformat": 4,
 "nbformat_minor": 2,
 "cells": [
  {
   "cell_type": "code",
   "execution_count": 1,
   "metadata": {},
   "outputs": [],
   "source": [
    "from keras.datasets import reuters\n"
   ]
  },
  {
   "cell_type": "code",
   "execution_count": 4,
   "metadata": {
    "tags": []
   },
   "outputs": [],
   "source": [
    "(trainData, trainLabels), (testData, testLabels)=reuters.load_data(num_words=10000) # 가장많이 등장한 1만개의 단어"
   ]
  },
  {
   "cell_type": "code",
   "execution_count": 11,
   "metadata": {},
   "outputs": [
    {
     "output_type": "execute_result",
     "data": {
      "text/plain": "2246"
     },
     "metadata": {},
     "execution_count": 11
    }
   ],
   "source": [
    "len(trainData) #8982\n",
    "len(trainLabels) #8982\n",
    "len(testData) #2246\n",
    "len(testLabels) #2246"
   ]
  },
  {
   "cell_type": "code",
   "execution_count": 16,
   "metadata": {},
   "outputs": [
    {
     "output_type": "execute_result",
     "data": {
      "text/plain": "3"
     },
     "metadata": {},
     "execution_count": 16
    }
   ],
   "source": [
    "trainData[10] #news articles\n",
    "trainLabels[10] # 3 category"
   ]
  },
  {
   "cell_type": "code",
   "execution_count": 23,
   "metadata": {
    "tags": []
   },
   "outputs": [],
   "source": [
    "word_index=reuters.get_word_index() # get_word_index: 단어와 인덱스 확인 \n",
    "\n",
    "reverseWordIndex=dict([(value, key) for (key, value) in word_index.items()])\n",
    "#key, value의 자리를 바꿔서 dict로 저장 \n",
    "reverseWordIndex"
   ]
  },
  {
   "cell_type": "code",
   "execution_count": 31,
   "metadata": {},
   "outputs": [
    {
     "output_type": "execute_result",
     "data": {
      "text/plain": "'? ? ? said as a result of its december acquisition of space co it expects earnings per share in 1987 of 1 15 to 1 30 dlrs per share up from 70 cts in 1986 the company said pretax net should rise to nine to 10 mln dlrs from six mln dlrs in 1986 and rental operation revenues to 19 to 22 mln dlrs from 12 5 mln dlrs it said cash flow per share this year should be 2 50 to three dlrs reuter 3'"
     },
     "metadata": {},
     "execution_count": 31
    }
   ],
   "source": [
    "trainData.shape #8982\n",
    "trainData[0]\n",
    "\n",
    "[reverseWordIndex.get(i-3, '?') for i in trainData[0]] # 숫자(인덱스) 하나하나가 i에 들어간다\n",
    "decoded_news=\" \".join([reverseWordIndex.get(i-3, '?') for i in trainData[0]])\n",
    "decoded_news"
   ]
  },
  {
   "cell_type": "code",
   "execution_count": 38,
   "metadata": {
    "tags": []
   },
   "outputs": [],
   "source": [
    "#데이터를 벡터로 변환\n",
    "import numpy as np \n",
    "\n",
    "def vec_seq(seq, dimension=10000):\n",
    "    res=np.zeros((len(seq), dimension)) # (8982, 10000)\n",
    "    # print(res, res.shape) # 지금 다 0으로 들어간 상태\n",
    "    # trainData[i]의 단어인덱스 ->해당하면 1로 바꿔줌. \n",
    "    for i, sequence in enumerate(seq):\n",
    "        # print(i, sequence) # i = 문서의 번호 \n",
    "        res[i, sequence]=1\n",
    "    return res\n",
    "\n",
    "xTrain = vec_seq(trainData)\n",
    "xTest = vec_seq(testData)"
   ]
  },
  {
   "cell_type": "code",
   "execution_count": 41,
   "metadata": {
    "tags": []
   },
   "outputs": [
    {
     "output_type": "stream",
     "name": "stdout",
     "text": "[[0. 1. 1. ... 0. 0. 0.]\n [0. 1. 1. ... 0. 0. 0.]\n [0. 1. 1. ... 0. 0. 0.]\n ...\n [0. 1. 1. ... 0. 0. 0.]\n [0. 1. 1. ... 0. 0. 0.]\n [0. 1. 1. ... 0. 0. 0.]] (8982, 10000)\n[[0. 1. 1. ... 0. 0. 0.]\n [0. 1. 1. ... 0. 0. 0.]\n [0. 1. 1. ... 0. 0. 0.]\n ...\n [0. 1. 0. ... 0. 0. 0.]\n [0. 1. 1. ... 0. 0. 0.]\n [0. 1. 1. ... 0. 0. 0.]] (2246, 10000)\n"
    }
   ],
   "source": [
    "print(xTrain, xTrain.shape)\n",
    "print(xTest, xTest.shape)"
   ]
  },
  {
   "cell_type": "code",
   "execution_count": 48,
   "metadata": {},
   "outputs": [],
   "source": [
    "#레이블->  벡터 변환 (원핫인코딩 )\n",
    "def lab2OneHot(labels, dimension = 46):\n",
    "    res=np.zeros((len(labels), dimension)) #(8982, 46)\n",
    "    for i, label in enumerate(labels):\n",
    "        res[i, label]=1\n",
    "    return res\n",
    "\n",
    "OneHotTrainLabels=lab2OneHot(trainLabels)\n",
    "OneHotTestLabels=lab2OneHot(testLabels)"
   ]
  },
  {
   "cell_type": "code",
   "execution_count": 51,
   "metadata": {
    "tags": []
   },
   "outputs": [
    {
     "output_type": "stream",
     "name": "stdout",
     "text": "[[0. 0. 0. ... 0. 0. 0.]\n [0. 0. 0. ... 0. 0. 0.]\n [0. 0. 0. ... 0. 0. 0.]\n ...\n [0. 0. 0. ... 0. 0. 0.]\n [0. 0. 0. ... 0. 0. 0.]\n [0. 0. 0. ... 0. 0. 0.]] (8982, 46)\n[[0. 0. 0. ... 0. 0. 0.]\n [0. 0. 0. ... 0. 0. 0.]\n [0. 1. 0. ... 0. 0. 0.]\n ...\n [0. 0. 0. ... 0. 0. 0.]\n [0. 0. 0. ... 0. 0. 0.]\n [0. 0. 0. ... 0. 0. 0.]] (2246, 46)\n"
    }
   ],
   "source": [
    "print(OneHotTrainLabels, OneHotTrainLabels.shape)\n",
    "print(OneHotTestLabels, OneHotTestLabels.shape)"
   ]
  },
  {
   "cell_type": "code",
   "execution_count": 52,
   "metadata": {},
   "outputs": [
    {
     "output_type": "execute_result",
     "data": {
      "text/plain": "array([0., 0., 0., 1., 0., 0., 0., 0., 0., 0., 0., 0., 0., 0., 0., 0., 0.,\n       0., 0., 0., 0., 0., 0., 0., 0., 0., 0., 0., 0., 0., 0., 0., 0., 0.,\n       0., 0., 0., 0., 0., 0., 0., 0., 0., 0., 0., 0.])"
     },
     "metadata": {},
     "execution_count": 52
    }
   ],
   "source": [
    "OneHotTrainLabels[0]"
   ]
  },
  {
   "cell_type": "code",
   "execution_count": 54,
   "metadata": {},
   "outputs": [
    {
     "output_type": "execute_result",
     "data": {
      "text/plain": "45"
     },
     "metadata": {},
     "execution_count": 54
    }
   ],
   "source": [
    "np.max(trainLabels) # 46개의 분류 "
   ]
  },
  {
   "cell_type": "code",
   "execution_count": 56,
   "metadata": {},
   "outputs": [],
   "source": [
    "from keras.utils.np_utils import to_categorical # 이 3줄이 위의 것과 같아\n",
    "\n",
    "OneHotTrainLabels2=to_categorical(trainLabels)\n",
    "OneHotTestLabels2=to_categorical(testLabels)"
   ]
  },
  {
   "cell_type": "code",
   "execution_count": 57,
   "metadata": {},
   "outputs": [
    {
     "output_type": "execute_result",
     "data": {
      "text/plain": "array([[0., 0., 0., ..., 0., 0., 0.],\n       [0., 0., 0., ..., 0., 0., 0.],\n       [0., 0., 0., ..., 0., 0., 0.],\n       ...,\n       [0., 0., 0., ..., 0., 0., 0.],\n       [0., 0., 0., ..., 0., 0., 0.],\n       [0., 0., 0., ..., 0., 0., 0.]], dtype=float32)"
     },
     "metadata": {},
     "execution_count": 57
    }
   ],
   "source": [
    "OneHotTrainLabels2\n",
    "OneHotTestLabels2"
   ]
  },
  {
   "cell_type": "code",
   "execution_count": 78,
   "metadata": {},
   "outputs": [],
   "source": [
    "from keras import models, layers"
   ]
  },
  {
   "cell_type": "code",
   "execution_count": 79,
   "metadata": {},
   "outputs": [],
   "source": [
    "model = models.Sequential() # sequential 모델의 첫 번째 레이어:\n",
    "model.add(layers.Dense(128, activation='relu', input_shape=(10000, )))\n",
    "model.add(layers.Dense(64, activation='relu'))\n",
    "model.add(layers.Dense(46, activation='softmax'))\n",
    "# 모델은 (*, 10000) 형태의 배열을 인풋으로 받고\n",
    "# (*, 128) 형태의 배열을 출력합니다\n",
    "# 첫 번째 레이어 이후에는,\n",
    "# 인풋의 크기를 특정하지 않아도 됩니다:"
   ]
  },
  {
   "cell_type": "code",
   "execution_count": 80,
   "metadata": {},
   "outputs": [],
   "source": [
    "model.compile(optimizer='rmsprop', loss='categorical_crossentropy', metrics=['accuracy'])"
   ]
  },
  {
   "cell_type": "code",
   "execution_count": 81,
   "metadata": {},
   "outputs": [],
   "source": [
    "xTrain.shape\n",
    "xVal = xTrain[:1000] # 검증셋\n",
    "pxTrain = xTrain[1000:] # 트레이닝 셋 \n",
    "yVal = OneHotTrainLabels[:1000] # 검증셋\n",
    "pyTrain = OneHotTrainLabels[1000:] # 트레이닝 셋 "
   ]
  },
  {
   "cell_type": "code",
   "execution_count": 82,
   "metadata": {
    "tags": []
   },
   "outputs": [
    {
     "output_type": "stream",
     "name": "stdout",
     "text": "Epoch 1/30\n16/16 [==============================] - 1s 36ms/step - loss: 2.2888 - accuracy: 0.5678 - val_loss: 1.4677 - val_accuracy: 0.6970\nEpoch 2/30\n16/16 [==============================] - 1s 40ms/step - loss: 1.1739 - accuracy: 0.7511 - val_loss: 1.1379 - val_accuracy: 0.7450\nEpoch 3/30\n16/16 [==============================] - 1s 39ms/step - loss: 0.8261 - accuracy: 0.8290 - val_loss: 0.9819 - val_accuracy: 0.7910\nEpoch 4/30\n16/16 [==============================] - 1s 41ms/step - loss: 0.6042 - accuracy: 0.8766 - val_loss: 0.9368 - val_accuracy: 0.8010\nEpoch 5/30\n16/16 [==============================] - 1s 36ms/step - loss: 0.4495 - accuracy: 0.9062 - val_loss: 0.8858 - val_accuracy: 0.8100\nEpoch 6/30\n16/16 [==============================] - 1s 37ms/step - loss: 0.3507 - accuracy: 0.9273 - val_loss: 0.9204 - val_accuracy: 0.8110\nEpoch 7/30\n16/16 [==============================] - 1s 34ms/step - loss: 0.2643 - accuracy: 0.9414 - val_loss: 0.8754 - val_accuracy: 0.8210\nEpoch 8/30\n16/16 [==============================] - 1s 35ms/step - loss: 0.2250 - accuracy: 0.9490 - val_loss: 0.8770 - val_accuracy: 0.8180\nEpoch 9/30\n16/16 [==============================] - 1s 36ms/step - loss: 0.1952 - accuracy: 0.9496 - val_loss: 0.8989 - val_accuracy: 0.8270\nEpoch 10/30\n16/16 [==============================] - 1s 33ms/step - loss: 0.1700 - accuracy: 0.9536 - val_loss: 0.9334 - val_accuracy: 0.8160\nEpoch 11/30\n16/16 [==============================] - 1s 35ms/step - loss: 0.1522 - accuracy: 0.9565 - val_loss: 1.0605 - val_accuracy: 0.7890\nEpoch 12/30\n16/16 [==============================] - 1s 33ms/step - loss: 0.1414 - accuracy: 0.9559 - val_loss: 1.0252 - val_accuracy: 0.8020\nEpoch 13/30\n16/16 [==============================] - 1s 38ms/step - loss: 0.1320 - accuracy: 0.9570 - val_loss: 1.0344 - val_accuracy: 0.8140\nEpoch 14/30\n16/16 [==============================] - 1s 36ms/step - loss: 0.1303 - accuracy: 0.9569 - val_loss: 1.0266 - val_accuracy: 0.8080\nEpoch 15/30\n16/16 [==============================] - 1s 34ms/step - loss: 0.1237 - accuracy: 0.9564 - val_loss: 1.0200 - val_accuracy: 0.8140\nEpoch 16/30\n16/16 [==============================] - 1s 34ms/step - loss: 0.1149 - accuracy: 0.9579 - val_loss: 1.0501 - val_accuracy: 0.8040\nEpoch 17/30\n16/16 [==============================] - 1s 33ms/step - loss: 0.1172 - accuracy: 0.9570 - val_loss: 1.0537 - val_accuracy: 0.8110\nEpoch 18/30\n16/16 [==============================] - 1s 36ms/step - loss: 0.1094 - accuracy: 0.9577 - val_loss: 1.1056 - val_accuracy: 0.8100\nEpoch 19/30\n16/16 [==============================] - 1s 32ms/step - loss: 0.1096 - accuracy: 0.9573 - val_loss: 1.0836 - val_accuracy: 0.8110\nEpoch 20/30\n16/16 [==============================] - 1s 34ms/step - loss: 0.1058 - accuracy: 0.9560 - val_loss: 1.1154 - val_accuracy: 0.8040\nEpoch 21/30\n16/16 [==============================] - 1s 34ms/step - loss: 0.1082 - accuracy: 0.9568 - val_loss: 1.1229 - val_accuracy: 0.8070\nEpoch 22/30\n16/16 [==============================] - 1s 38ms/step - loss: 0.1033 - accuracy: 0.9575 - val_loss: 1.1144 - val_accuracy: 0.8090\nEpoch 23/30\n16/16 [==============================] - 1s 37ms/step - loss: 0.1013 - accuracy: 0.9583 - val_loss: 1.1204 - val_accuracy: 0.8050\nEpoch 24/30\n16/16 [==============================] - 1s 34ms/step - loss: 0.0986 - accuracy: 0.9592 - val_loss: 1.1915 - val_accuracy: 0.7920\nEpoch 25/30\n16/16 [==============================] - 1s 37ms/step - loss: 0.0986 - accuracy: 0.9583 - val_loss: 1.1591 - val_accuracy: 0.7970\nEpoch 26/30\n16/16 [==============================] - 1s 37ms/step - loss: 0.0982 - accuracy: 0.9580 - val_loss: 1.1871 - val_accuracy: 0.8040\nEpoch 27/30\n16/16 [==============================] - 1s 35ms/step - loss: 0.0947 - accuracy: 0.9588 - val_loss: 1.2040 - val_accuracy: 0.8000\nEpoch 28/30\n16/16 [==============================] - 1s 36ms/step - loss: 0.0958 - accuracy: 0.9577 - val_loss: 1.2569 - val_accuracy: 0.7890\nEpoch 29/30\n16/16 [==============================] - 1s 35ms/step - loss: 0.0940 - accuracy: 0.9582 - val_loss: 1.2156 - val_accuracy: 0.7830\nEpoch 30/30\n16/16 [==============================] - 1s 33ms/step - loss: 0.0906 - accuracy: 0.9578 - val_loss: 1.2329 - val_accuracy: 0.7940\n"
    }
   ],
   "source": [
    "history=model.fit(pxTrain, pyTrain, \n",
    "            epochs=30, batch_size=512,\n",
    "            validation_data=(xVal, yVal))"
   ]
  },
  {
   "cell_type": "code",
   "execution_count": 83,
   "metadata": {},
   "outputs": [
    {
     "output_type": "execute_result",
     "data": {
      "text/plain": "[2.2887635231018066,\n 1.1738852262496948,\n 0.8261059522628784,\n 0.6041662693023682,\n 0.449537068605423,\n 0.350717693567276,\n 0.2643364369869232,\n 0.22501824796199799,\n 0.1952495574951172,\n 0.16995561122894287,\n 0.1522272825241089,\n 0.14143100380897522,\n 0.13197080790996552,\n 0.13028879463672638,\n 0.12369531393051147,\n 0.11489517986774445,\n 0.11719939112663269,\n 0.10939549654722214,\n 0.10964492708444595,\n 0.10580020397901535,\n 0.10816516727209091,\n 0.10330313444137573,\n 0.10130196809768677,\n 0.09855557978153229,\n 0.0985785648226738,\n 0.09818324446678162,\n 0.09466402232646942,\n 0.09580182284116745,\n 0.09399918466806412,\n 0.09055110812187195]"
     },
     "metadata": {},
     "execution_count": 83
    }
   ],
   "source": [
    "histDict=history.history\n",
    "histDict.keys()\n",
    "history.history['loss']"
   ]
  },
  {
   "cell_type": "code",
   "execution_count": 84,
   "metadata": {},
   "outputs": [
    {
     "output_type": "execute_result",
     "data": {
      "text/plain": "<matplotlib.legend.Legend at 0x227b4ac5748>"
     },
     "metadata": {},
     "execution_count": 84
    },
    {
     "output_type": "display_data",
     "data": {
      "text/plain": "<Figure size 432x288 with 1 Axes>",
      "image/svg+xml": "<?xml version=\"1.0\" encoding=\"utf-8\" standalone=\"no\"?>\r\n<!DOCTYPE svg PUBLIC \"-//W3C//DTD SVG 1.1//EN\"\r\n  \"http://www.w3.org/Graphics/SVG/1.1/DTD/svg11.dtd\">\r\n<!-- Created with matplotlib (https://matplotlib.org/) -->\r\n<svg height=\"248.518125pt\" version=\"1.1\" viewBox=\"0 0 372.103125 248.518125\" width=\"372.103125pt\" xmlns=\"http://www.w3.org/2000/svg\" xmlns:xlink=\"http://www.w3.org/1999/xlink\">\r\n <defs>\r\n  <style type=\"text/css\">\r\n*{stroke-linecap:butt;stroke-linejoin:round;}\r\n  </style>\r\n </defs>\r\n <g id=\"figure_1\">\r\n  <g id=\"patch_1\">\r\n   <path d=\"M 0 248.518125 \r\nL 372.103125 248.518125 \r\nL 372.103125 0 \r\nL 0 0 \r\nz\r\n\" style=\"fill:none;\"/>\r\n  </g>\r\n  <g id=\"axes_1\">\r\n   <g id=\"patch_2\">\r\n    <path d=\"M 30.103125 224.64 \r\nL 364.903125 224.64 \r\nL 364.903125 7.2 \r\nL 30.103125 7.2 \r\nz\r\n\" style=\"fill:#ffffff;\"/>\r\n   </g>\r\n   <g id=\"matplotlib.axis_1\">\r\n    <g id=\"xtick_1\">\r\n     <g id=\"line2d_1\">\r\n      <defs>\r\n       <path d=\"M 0 0 \r\nL 0 3.5 \r\n\" id=\"m34889d7df3\" style=\"stroke:#000000;stroke-width:0.8;\"/>\r\n      </defs>\r\n      <g>\r\n       <use style=\"stroke:#000000;stroke-width:0.8;\" x=\"34.826009\" xlink:href=\"#m34889d7df3\" y=\"224.64\"/>\r\n      </g>\r\n     </g>\r\n     <g id=\"text_1\">\r\n      <!-- 0 -->\r\n      <defs>\r\n       <path d=\"M 31.78125 66.40625 \r\nQ 24.171875 66.40625 20.328125 58.90625 \r\nQ 16.5 51.421875 16.5 36.375 \r\nQ 16.5 21.390625 20.328125 13.890625 \r\nQ 24.171875 6.390625 31.78125 6.390625 \r\nQ 39.453125 6.390625 43.28125 13.890625 \r\nQ 47.125 21.390625 47.125 36.375 \r\nQ 47.125 51.421875 43.28125 58.90625 \r\nQ 39.453125 66.40625 31.78125 66.40625 \r\nz\r\nM 31.78125 74.21875 \r\nQ 44.046875 74.21875 50.515625 64.515625 \r\nQ 56.984375 54.828125 56.984375 36.375 \r\nQ 56.984375 17.96875 50.515625 8.265625 \r\nQ 44.046875 -1.421875 31.78125 -1.421875 \r\nQ 19.53125 -1.421875 13.0625 8.265625 \r\nQ 6.59375 17.96875 6.59375 36.375 \r\nQ 6.59375 54.828125 13.0625 64.515625 \r\nQ 19.53125 74.21875 31.78125 74.21875 \r\nz\r\n\" id=\"DejaVuSans-48\"/>\r\n      </defs>\r\n      <g transform=\"translate(31.644759 239.238437)scale(0.1 -0.1)\">\r\n       <use xlink:href=\"#DejaVuSans-48\"/>\r\n      </g>\r\n     </g>\r\n    </g>\r\n    <g id=\"xtick_2\">\r\n     <g id=\"line2d_2\">\r\n      <g>\r\n       <use style=\"stroke:#000000;stroke-width:0.8;\" x=\"87.302498\" xlink:href=\"#m34889d7df3\" y=\"224.64\"/>\r\n      </g>\r\n     </g>\r\n     <g id=\"text_2\">\r\n      <!-- 5 -->\r\n      <defs>\r\n       <path d=\"M 10.796875 72.90625 \r\nL 49.515625 72.90625 \r\nL 49.515625 64.59375 \r\nL 19.828125 64.59375 \r\nL 19.828125 46.734375 \r\nQ 21.96875 47.46875 24.109375 47.828125 \r\nQ 26.265625 48.1875 28.421875 48.1875 \r\nQ 40.625 48.1875 47.75 41.5 \r\nQ 54.890625 34.8125 54.890625 23.390625 \r\nQ 54.890625 11.625 47.5625 5.09375 \r\nQ 40.234375 -1.421875 26.90625 -1.421875 \r\nQ 22.3125 -1.421875 17.546875 -0.640625 \r\nQ 12.796875 0.140625 7.71875 1.703125 \r\nL 7.71875 11.625 \r\nQ 12.109375 9.234375 16.796875 8.0625 \r\nQ 21.484375 6.890625 26.703125 6.890625 \r\nQ 35.15625 6.890625 40.078125 11.328125 \r\nQ 45.015625 15.765625 45.015625 23.390625 \r\nQ 45.015625 31 40.078125 35.4375 \r\nQ 35.15625 39.890625 26.703125 39.890625 \r\nQ 22.75 39.890625 18.8125 39.015625 \r\nQ 14.890625 38.140625 10.796875 36.28125 \r\nz\r\n\" id=\"DejaVuSans-53\"/>\r\n      </defs>\r\n      <g transform=\"translate(84.121248 239.238437)scale(0.1 -0.1)\">\r\n       <use xlink:href=\"#DejaVuSans-53\"/>\r\n      </g>\r\n     </g>\r\n    </g>\r\n    <g id=\"xtick_3\">\r\n     <g id=\"line2d_3\">\r\n      <g>\r\n       <use style=\"stroke:#000000;stroke-width:0.8;\" x=\"139.778987\" xlink:href=\"#m34889d7df3\" y=\"224.64\"/>\r\n      </g>\r\n     </g>\r\n     <g id=\"text_3\">\r\n      <!-- 10 -->\r\n      <defs>\r\n       <path d=\"M 12.40625 8.296875 \r\nL 28.515625 8.296875 \r\nL 28.515625 63.921875 \r\nL 10.984375 60.40625 \r\nL 10.984375 69.390625 \r\nL 28.421875 72.90625 \r\nL 38.28125 72.90625 \r\nL 38.28125 8.296875 \r\nL 54.390625 8.296875 \r\nL 54.390625 0 \r\nL 12.40625 0 \r\nz\r\n\" id=\"DejaVuSans-49\"/>\r\n      </defs>\r\n      <g transform=\"translate(133.416487 239.238437)scale(0.1 -0.1)\">\r\n       <use xlink:href=\"#DejaVuSans-49\"/>\r\n       <use x=\"63.623047\" xlink:href=\"#DejaVuSans-48\"/>\r\n      </g>\r\n     </g>\r\n    </g>\r\n    <g id=\"xtick_4\">\r\n     <g id=\"line2d_4\">\r\n      <g>\r\n       <use style=\"stroke:#000000;stroke-width:0.8;\" x=\"192.255476\" xlink:href=\"#m34889d7df3\" y=\"224.64\"/>\r\n      </g>\r\n     </g>\r\n     <g id=\"text_4\">\r\n      <!-- 15 -->\r\n      <g transform=\"translate(185.892976 239.238437)scale(0.1 -0.1)\">\r\n       <use xlink:href=\"#DejaVuSans-49\"/>\r\n       <use x=\"63.623047\" xlink:href=\"#DejaVuSans-53\"/>\r\n      </g>\r\n     </g>\r\n    </g>\r\n    <g id=\"xtick_5\">\r\n     <g id=\"line2d_5\">\r\n      <g>\r\n       <use style=\"stroke:#000000;stroke-width:0.8;\" x=\"244.731965\" xlink:href=\"#m34889d7df3\" y=\"224.64\"/>\r\n      </g>\r\n     </g>\r\n     <g id=\"text_5\">\r\n      <!-- 20 -->\r\n      <defs>\r\n       <path d=\"M 19.1875 8.296875 \r\nL 53.609375 8.296875 \r\nL 53.609375 0 \r\nL 7.328125 0 \r\nL 7.328125 8.296875 \r\nQ 12.9375 14.109375 22.625 23.890625 \r\nQ 32.328125 33.6875 34.8125 36.53125 \r\nQ 39.546875 41.84375 41.421875 45.53125 \r\nQ 43.3125 49.21875 43.3125 52.78125 \r\nQ 43.3125 58.59375 39.234375 62.25 \r\nQ 35.15625 65.921875 28.609375 65.921875 \r\nQ 23.96875 65.921875 18.8125 64.3125 \r\nQ 13.671875 62.703125 7.8125 59.421875 \r\nL 7.8125 69.390625 \r\nQ 13.765625 71.78125 18.9375 73 \r\nQ 24.125 74.21875 28.421875 74.21875 \r\nQ 39.75 74.21875 46.484375 68.546875 \r\nQ 53.21875 62.890625 53.21875 53.421875 \r\nQ 53.21875 48.921875 51.53125 44.890625 \r\nQ 49.859375 40.875 45.40625 35.40625 \r\nQ 44.1875 33.984375 37.640625 27.21875 \r\nQ 31.109375 20.453125 19.1875 8.296875 \r\nz\r\n\" id=\"DejaVuSans-50\"/>\r\n      </defs>\r\n      <g transform=\"translate(238.369465 239.238437)scale(0.1 -0.1)\">\r\n       <use xlink:href=\"#DejaVuSans-50\"/>\r\n       <use x=\"63.623047\" xlink:href=\"#DejaVuSans-48\"/>\r\n      </g>\r\n     </g>\r\n    </g>\r\n    <g id=\"xtick_6\">\r\n     <g id=\"line2d_6\">\r\n      <g>\r\n       <use style=\"stroke:#000000;stroke-width:0.8;\" x=\"297.208454\" xlink:href=\"#m34889d7df3\" y=\"224.64\"/>\r\n      </g>\r\n     </g>\r\n     <g id=\"text_6\">\r\n      <!-- 25 -->\r\n      <g transform=\"translate(290.845954 239.238437)scale(0.1 -0.1)\">\r\n       <use xlink:href=\"#DejaVuSans-50\"/>\r\n       <use x=\"63.623047\" xlink:href=\"#DejaVuSans-53\"/>\r\n      </g>\r\n     </g>\r\n    </g>\r\n    <g id=\"xtick_7\">\r\n     <g id=\"line2d_7\">\r\n      <g>\r\n       <use style=\"stroke:#000000;stroke-width:0.8;\" x=\"349.684943\" xlink:href=\"#m34889d7df3\" y=\"224.64\"/>\r\n      </g>\r\n     </g>\r\n     <g id=\"text_7\">\r\n      <!-- 30 -->\r\n      <defs>\r\n       <path d=\"M 40.578125 39.3125 \r\nQ 47.65625 37.796875 51.625 33 \r\nQ 55.609375 28.21875 55.609375 21.1875 \r\nQ 55.609375 10.40625 48.1875 4.484375 \r\nQ 40.765625 -1.421875 27.09375 -1.421875 \r\nQ 22.515625 -1.421875 17.65625 -0.515625 \r\nQ 12.796875 0.390625 7.625 2.203125 \r\nL 7.625 11.71875 \r\nQ 11.71875 9.328125 16.59375 8.109375 \r\nQ 21.484375 6.890625 26.8125 6.890625 \r\nQ 36.078125 6.890625 40.9375 10.546875 \r\nQ 45.796875 14.203125 45.796875 21.1875 \r\nQ 45.796875 27.640625 41.28125 31.265625 \r\nQ 36.765625 34.90625 28.71875 34.90625 \r\nL 20.21875 34.90625 \r\nL 20.21875 43.015625 \r\nL 29.109375 43.015625 \r\nQ 36.375 43.015625 40.234375 45.921875 \r\nQ 44.09375 48.828125 44.09375 54.296875 \r\nQ 44.09375 59.90625 40.109375 62.90625 \r\nQ 36.140625 65.921875 28.71875 65.921875 \r\nQ 24.65625 65.921875 20.015625 65.03125 \r\nQ 15.375 64.15625 9.8125 62.3125 \r\nL 9.8125 71.09375 \r\nQ 15.4375 72.65625 20.34375 73.4375 \r\nQ 25.25 74.21875 29.59375 74.21875 \r\nQ 40.828125 74.21875 47.359375 69.109375 \r\nQ 53.90625 64.015625 53.90625 55.328125 \r\nQ 53.90625 49.265625 50.4375 45.09375 \r\nQ 46.96875 40.921875 40.578125 39.3125 \r\nz\r\n\" id=\"DejaVuSans-51\"/>\r\n      </defs>\r\n      <g transform=\"translate(343.322443 239.238437)scale(0.1 -0.1)\">\r\n       <use xlink:href=\"#DejaVuSans-51\"/>\r\n       <use x=\"63.623047\" xlink:href=\"#DejaVuSans-48\"/>\r\n      </g>\r\n     </g>\r\n    </g>\r\n   </g>\r\n   <g id=\"matplotlib.axis_2\">\r\n    <g id=\"ytick_1\">\r\n     <g id=\"line2d_8\">\r\n      <defs>\r\n       <path d=\"M 0 0 \r\nL -3.5 0 \r\n\" id=\"m21633ead8f\" style=\"stroke:#000000;stroke-width:0.8;\"/>\r\n      </defs>\r\n      <g>\r\n       <use style=\"stroke:#000000;stroke-width:0.8;\" x=\"30.103125\" xlink:href=\"#m21633ead8f\" y=\"222.899109\"/>\r\n      </g>\r\n     </g>\r\n     <g id=\"text_8\">\r\n      <!-- 0.0 -->\r\n      <defs>\r\n       <path d=\"M 10.6875 12.40625 \r\nL 21 12.40625 \r\nL 21 0 \r\nL 10.6875 0 \r\nz\r\n\" id=\"DejaVuSans-46\"/>\r\n      </defs>\r\n      <g transform=\"translate(7.2 226.698328)scale(0.1 -0.1)\">\r\n       <use xlink:href=\"#DejaVuSans-48\"/>\r\n       <use x=\"63.623047\" xlink:href=\"#DejaVuSans-46\"/>\r\n       <use x=\"95.410156\" xlink:href=\"#DejaVuSans-48\"/>\r\n      </g>\r\n     </g>\r\n    </g>\r\n    <g id=\"ytick_2\">\r\n     <g id=\"line2d_9\">\r\n      <g>\r\n       <use style=\"stroke:#000000;stroke-width:0.8;\" x=\"30.103125\" xlink:href=\"#m21633ead8f\" y=\"177.936956\"/>\r\n      </g>\r\n     </g>\r\n     <g id=\"text_9\">\r\n      <!-- 0.5 -->\r\n      <g transform=\"translate(7.2 181.736175)scale(0.1 -0.1)\">\r\n       <use xlink:href=\"#DejaVuSans-48\"/>\r\n       <use x=\"63.623047\" xlink:href=\"#DejaVuSans-46\"/>\r\n       <use x=\"95.410156\" xlink:href=\"#DejaVuSans-53\"/>\r\n      </g>\r\n     </g>\r\n    </g>\r\n    <g id=\"ytick_3\">\r\n     <g id=\"line2d_10\">\r\n      <g>\r\n       <use style=\"stroke:#000000;stroke-width:0.8;\" x=\"30.103125\" xlink:href=\"#m21633ead8f\" y=\"132.974803\"/>\r\n      </g>\r\n     </g>\r\n     <g id=\"text_10\">\r\n      <!-- 1.0 -->\r\n      <g transform=\"translate(7.2 136.774021)scale(0.1 -0.1)\">\r\n       <use xlink:href=\"#DejaVuSans-49\"/>\r\n       <use x=\"63.623047\" xlink:href=\"#DejaVuSans-46\"/>\r\n       <use x=\"95.410156\" xlink:href=\"#DejaVuSans-48\"/>\r\n      </g>\r\n     </g>\r\n    </g>\r\n    <g id=\"ytick_4\">\r\n     <g id=\"line2d_11\">\r\n      <g>\r\n       <use style=\"stroke:#000000;stroke-width:0.8;\" x=\"30.103125\" xlink:href=\"#m21633ead8f\" y=\"88.012649\"/>\r\n      </g>\r\n     </g>\r\n     <g id=\"text_11\">\r\n      <!-- 1.5 -->\r\n      <g transform=\"translate(7.2 91.811868)scale(0.1 -0.1)\">\r\n       <use xlink:href=\"#DejaVuSans-49\"/>\r\n       <use x=\"63.623047\" xlink:href=\"#DejaVuSans-46\"/>\r\n       <use x=\"95.410156\" xlink:href=\"#DejaVuSans-53\"/>\r\n      </g>\r\n     </g>\r\n    </g>\r\n    <g id=\"ytick_5\">\r\n     <g id=\"line2d_12\">\r\n      <g>\r\n       <use style=\"stroke:#000000;stroke-width:0.8;\" x=\"30.103125\" xlink:href=\"#m21633ead8f\" y=\"43.050496\"/>\r\n      </g>\r\n     </g>\r\n     <g id=\"text_12\">\r\n      <!-- 2.0 -->\r\n      <g transform=\"translate(7.2 46.849715)scale(0.1 -0.1)\">\r\n       <use xlink:href=\"#DejaVuSans-50\"/>\r\n       <use x=\"63.623047\" xlink:href=\"#DejaVuSans-46\"/>\r\n       <use x=\"95.410156\" xlink:href=\"#DejaVuSans-48\"/>\r\n      </g>\r\n     </g>\r\n    </g>\r\n   </g>\r\n   <g id=\"line2d_13\">\r\n    <defs>\r\n     <path d=\"M 0 3 \r\nC 0.795609 3 1.55874 2.683901 2.12132 2.12132 \r\nC 2.683901 1.55874 3 0.795609 3 0 \r\nC 3 -0.795609 2.683901 -1.55874 2.12132 -2.12132 \r\nC 1.55874 -2.683901 0.795609 -3 0 -3 \r\nC -0.795609 -3 -1.55874 -2.683901 -2.12132 -2.12132 \r\nC -2.683901 -1.55874 -3 -0.795609 -3 0 \r\nC -3 0.795609 -2.683901 1.55874 -2.12132 2.12132 \r\nC -1.55874 2.683901 -0.795609 3 0 3 \r\nz\r\n\" id=\"m2ccea0e982\" style=\"stroke:#0000ff;\"/>\r\n    </defs>\r\n    <g clip-path=\"url(#p952996d869)\">\r\n     <use style=\"fill:#0000ff;stroke:#0000ff;\" x=\"45.321307\" xlink:href=\"#m2ccea0e982\" y=\"17.083636\"/>\r\n     <use style=\"fill:#0000ff;stroke:#0000ff;\" x=\"55.816605\" xlink:href=\"#m2ccea0e982\" y=\"117.338294\"/>\r\n     <use style=\"fill:#0000ff;stroke:#0000ff;\" x=\"66.311902\" xlink:href=\"#m2ccea0e982\" y=\"148.612104\"/>\r\n     <use style=\"fill:#0000ff;stroke:#0000ff;\" x=\"76.8072\" xlink:href=\"#m2ccea0e982\" y=\"168.569876\"/>\r\n     <use style=\"fill:#0000ff;stroke:#0000ff;\" x=\"87.302498\" xlink:href=\"#m2ccea0e982\" y=\"182.4748\"/>\r\n     <use style=\"fill:#0000ff;stroke:#0000ff;\" x=\"97.797796\" xlink:href=\"#m2ccea0e982\" y=\"191.361064\"/>\r\n     <use style=\"fill:#0000ff;stroke:#0000ff;\" x=\"108.293094\" xlink:href=\"#m2ccea0e982\" y=\"199.128838\"/>\r\n     <use style=\"fill:#0000ff;stroke:#0000ff;\" x=\"118.788391\" xlink:href=\"#m2ccea0e982\" y=\"202.664499\"/>\r\n     <use style=\"fill:#0000ff;stroke:#0000ff;\" x=\"129.283689\" xlink:href=\"#m2ccea0e982\" y=\"205.341428\"/>\r\n     <use style=\"fill:#0000ff;stroke:#0000ff;\" x=\"139.778987\" xlink:href=\"#m2ccea0e982\" y=\"207.615969\"/>\r\n     <use style=\"fill:#0000ff;stroke:#0000ff;\" x=\"150.274285\" xlink:href=\"#m2ccea0e982\" y=\"209.210176\"/>\r\n     <use style=\"fill:#0000ff;stroke:#0000ff;\" x=\"160.769583\" xlink:href=\"#m2ccea0e982\" y=\"210.181024\"/>\r\n     <use style=\"fill:#0000ff;stroke:#0000ff;\" x=\"171.26488\" xlink:href=\"#m2ccea0e982\" y=\"211.031726\"/>\r\n     <use style=\"fill:#0000ff;stroke:#0000ff;\" x=\"181.760178\" xlink:href=\"#m2ccea0e982\" y=\"211.18298\"/>\r\n     <use style=\"fill:#0000ff;stroke:#0000ff;\" x=\"192.255476\" xlink:href=\"#m2ccea0e982\" y=\"211.775894\"/>\r\n     <use style=\"fill:#0000ff;stroke:#0000ff;\" x=\"202.750774\" xlink:href=\"#m2ccea0e982\" y=\"212.56724\"/>\r\n     <use style=\"fill:#0000ff;stroke:#0000ff;\" x=\"213.246072\" xlink:href=\"#m2ccea0e982\" y=\"212.360035\"/>\r\n     <use style=\"fill:#0000ff;stroke:#0000ff;\" x=\"223.74137\" xlink:href=\"#m2ccea0e982\" y=\"213.061795\"/>\r\n     <use style=\"fill:#0000ff;stroke:#0000ff;\" x=\"234.236667\" xlink:href=\"#m2ccea0e982\" y=\"213.039365\"/>\r\n     <use style=\"fill:#0000ff;stroke:#0000ff;\" x=\"244.731965\" xlink:href=\"#m2ccea0e982\" y=\"213.385099\"/>\r\n     <use style=\"fill:#0000ff;stroke:#0000ff;\" x=\"255.227263\" xlink:href=\"#m2ccea0e982\" y=\"213.172432\"/>\r\n     <use style=\"fill:#0000ff;stroke:#0000ff;\" x=\"265.722561\" xlink:href=\"#m2ccea0e982\" y=\"213.609647\"/>\r\n     <use style=\"fill:#0000ff;stroke:#0000ff;\" x=\"276.217859\" xlink:href=\"#m2ccea0e982\" y=\"213.7896\"/>\r\n     <use style=\"fill:#0000ff;stroke:#0000ff;\" x=\"286.713156\" xlink:href=\"#m2ccea0e982\" y=\"214.036567\"/>\r\n     <use style=\"fill:#0000ff;stroke:#0000ff;\" x=\"297.208454\" xlink:href=\"#m2ccea0e982\" y=\"214.0345\"/>\r\n     <use style=\"fill:#0000ff;stroke:#0000ff;\" x=\"307.703752\" xlink:href=\"#m2ccea0e982\" y=\"214.070049\"/>\r\n     <use style=\"fill:#0000ff;stroke:#0000ff;\" x=\"318.19905\" xlink:href=\"#m2ccea0e982\" y=\"214.386513\"/>\r\n     <use style=\"fill:#0000ff;stroke:#0000ff;\" x=\"328.694348\" xlink:href=\"#m2ccea0e982\" y=\"214.284197\"/>\r\n     <use style=\"fill:#0000ff;stroke:#0000ff;\" x=\"339.189645\" xlink:href=\"#m2ccea0e982\" y=\"214.446298\"/>\r\n     <use style=\"fill:#0000ff;stroke:#0000ff;\" x=\"349.684943\" xlink:href=\"#m2ccea0e982\" y=\"214.756364\"/>\r\n    </g>\r\n   </g>\r\n   <g id=\"line2d_14\">\r\n    <path clip-path=\"url(#p952996d869)\" d=\"M 45.321307 90.919348 \r\nL 55.816605 120.576814 \r\nL 66.311902 134.601438 \r\nL 76.8072 138.657675 \r\nL 87.302498 143.242486 \r\nL 97.797796 140.130219 \r\nL 108.293094 144.178283 \r\nL 118.788391 144.038159 \r\nL 129.283689 142.067905 \r\nL 139.778987 138.959293 \r\nL 150.274285 127.536438 \r\nL 160.769583 130.705965 \r\nL 171.26488 129.881869 \r\nL 181.760178 130.578421 \r\nL 192.255476 131.179288 \r\nL 202.750774 128.470198 \r\nL 213.246072 128.1484 \r\nL 223.74137 123.481755 \r\nL 234.236667 125.455004 \r\nL 244.731965 122.600339 \r\nL 255.227263 121.926278 \r\nL 265.722561 122.68553 \r\nL 276.217859 122.148735 \r\nL 286.713156 115.754763 \r\nL 297.208454 118.668409 \r\nL 307.703752 116.153058 \r\nL 318.19905 114.62675 \r\nL 328.694348 109.870637 \r\nL 339.189645 113.588718 \r\nL 349.684943 112.035267 \r\n\" style=\"fill:none;stroke:#ff0000;stroke-linecap:square;stroke-width:1.5;\"/>\r\n   </g>\r\n   <g id=\"patch_3\">\r\n    <path d=\"M 30.103125 224.64 \r\nL 30.103125 7.2 \r\n\" style=\"fill:none;stroke:#000000;stroke-linecap:square;stroke-linejoin:miter;stroke-width:0.8;\"/>\r\n   </g>\r\n   <g id=\"patch_4\">\r\n    <path d=\"M 364.903125 224.64 \r\nL 364.903125 7.2 \r\n\" style=\"fill:none;stroke:#000000;stroke-linecap:square;stroke-linejoin:miter;stroke-width:0.8;\"/>\r\n   </g>\r\n   <g id=\"patch_5\">\r\n    <path d=\"M 30.103125 224.64 \r\nL 364.903125 224.64 \r\n\" style=\"fill:none;stroke:#000000;stroke-linecap:square;stroke-linejoin:miter;stroke-width:0.8;\"/>\r\n   </g>\r\n   <g id=\"patch_6\">\r\n    <path d=\"M 30.103125 7.2 \r\nL 364.903125 7.2 \r\n\" style=\"fill:none;stroke:#000000;stroke-linecap:square;stroke-linejoin:miter;stroke-width:0.8;\"/>\r\n   </g>\r\n   <g id=\"legend_1\">\r\n    <g id=\"patch_7\">\r\n     <path d=\"M 278.703125 44.55625 \r\nL 357.903125 44.55625 \r\nQ 359.903125 44.55625 359.903125 42.55625 \r\nL 359.903125 14.2 \r\nQ 359.903125 12.2 357.903125 12.2 \r\nL 278.703125 12.2 \r\nQ 276.703125 12.2 276.703125 14.2 \r\nL 276.703125 42.55625 \r\nQ 276.703125 44.55625 278.703125 44.55625 \r\nz\r\n\" style=\"fill:#ffffff;opacity:0.8;stroke:#cccccc;stroke-linejoin:miter;\"/>\r\n    </g>\r\n    <g id=\"line2d_15\"/>\r\n    <g id=\"line2d_16\">\r\n     <g>\r\n      <use style=\"fill:#0000ff;stroke:#0000ff;\" x=\"290.703125\" xlink:href=\"#m2ccea0e982\" y=\"20.298437\"/>\r\n     </g>\r\n    </g>\r\n    <g id=\"text_13\">\r\n     <!-- train cost -->\r\n     <defs>\r\n      <path d=\"M 18.3125 70.21875 \r\nL 18.3125 54.6875 \r\nL 36.8125 54.6875 \r\nL 36.8125 47.703125 \r\nL 18.3125 47.703125 \r\nL 18.3125 18.015625 \r\nQ 18.3125 11.328125 20.140625 9.421875 \r\nQ 21.96875 7.515625 27.59375 7.515625 \r\nL 36.8125 7.515625 \r\nL 36.8125 0 \r\nL 27.59375 0 \r\nQ 17.1875 0 13.234375 3.875 \r\nQ 9.28125 7.765625 9.28125 18.015625 \r\nL 9.28125 47.703125 \r\nL 2.6875 47.703125 \r\nL 2.6875 54.6875 \r\nL 9.28125 54.6875 \r\nL 9.28125 70.21875 \r\nz\r\n\" id=\"DejaVuSans-116\"/>\r\n      <path d=\"M 41.109375 46.296875 \r\nQ 39.59375 47.171875 37.8125 47.578125 \r\nQ 36.03125 48 33.890625 48 \r\nQ 26.265625 48 22.1875 43.046875 \r\nQ 18.109375 38.09375 18.109375 28.8125 \r\nL 18.109375 0 \r\nL 9.078125 0 \r\nL 9.078125 54.6875 \r\nL 18.109375 54.6875 \r\nL 18.109375 46.1875 \r\nQ 20.953125 51.171875 25.484375 53.578125 \r\nQ 30.03125 56 36.53125 56 \r\nQ 37.453125 56 38.578125 55.875 \r\nQ 39.703125 55.765625 41.0625 55.515625 \r\nz\r\n\" id=\"DejaVuSans-114\"/>\r\n      <path d=\"M 34.28125 27.484375 \r\nQ 23.390625 27.484375 19.1875 25 \r\nQ 14.984375 22.515625 14.984375 16.5 \r\nQ 14.984375 11.71875 18.140625 8.90625 \r\nQ 21.296875 6.109375 26.703125 6.109375 \r\nQ 34.1875 6.109375 38.703125 11.40625 \r\nQ 43.21875 16.703125 43.21875 25.484375 \r\nL 43.21875 27.484375 \r\nz\r\nM 52.203125 31.203125 \r\nL 52.203125 0 \r\nL 43.21875 0 \r\nL 43.21875 8.296875 \r\nQ 40.140625 3.328125 35.546875 0.953125 \r\nQ 30.953125 -1.421875 24.3125 -1.421875 \r\nQ 15.921875 -1.421875 10.953125 3.296875 \r\nQ 6 8.015625 6 15.921875 \r\nQ 6 25.140625 12.171875 29.828125 \r\nQ 18.359375 34.515625 30.609375 34.515625 \r\nL 43.21875 34.515625 \r\nL 43.21875 35.40625 \r\nQ 43.21875 41.609375 39.140625 45 \r\nQ 35.0625 48.390625 27.6875 48.390625 \r\nQ 23 48.390625 18.546875 47.265625 \r\nQ 14.109375 46.140625 10.015625 43.890625 \r\nL 10.015625 52.203125 \r\nQ 14.9375 54.109375 19.578125 55.046875 \r\nQ 24.21875 56 28.609375 56 \r\nQ 40.484375 56 46.34375 49.84375 \r\nQ 52.203125 43.703125 52.203125 31.203125 \r\nz\r\n\" id=\"DejaVuSans-97\"/>\r\n      <path d=\"M 9.421875 54.6875 \r\nL 18.40625 54.6875 \r\nL 18.40625 0 \r\nL 9.421875 0 \r\nz\r\nM 9.421875 75.984375 \r\nL 18.40625 75.984375 \r\nL 18.40625 64.59375 \r\nL 9.421875 64.59375 \r\nz\r\n\" id=\"DejaVuSans-105\"/>\r\n      <path d=\"M 54.890625 33.015625 \r\nL 54.890625 0 \r\nL 45.90625 0 \r\nL 45.90625 32.71875 \r\nQ 45.90625 40.484375 42.875 44.328125 \r\nQ 39.84375 48.1875 33.796875 48.1875 \r\nQ 26.515625 48.1875 22.3125 43.546875 \r\nQ 18.109375 38.921875 18.109375 30.90625 \r\nL 18.109375 0 \r\nL 9.078125 0 \r\nL 9.078125 54.6875 \r\nL 18.109375 54.6875 \r\nL 18.109375 46.1875 \r\nQ 21.34375 51.125 25.703125 53.5625 \r\nQ 30.078125 56 35.796875 56 \r\nQ 45.21875 56 50.046875 50.171875 \r\nQ 54.890625 44.34375 54.890625 33.015625 \r\nz\r\n\" id=\"DejaVuSans-110\"/>\r\n      <path id=\"DejaVuSans-32\"/>\r\n      <path d=\"M 48.78125 52.59375 \r\nL 48.78125 44.1875 \r\nQ 44.96875 46.296875 41.140625 47.34375 \r\nQ 37.3125 48.390625 33.40625 48.390625 \r\nQ 24.65625 48.390625 19.8125 42.84375 \r\nQ 14.984375 37.3125 14.984375 27.296875 \r\nQ 14.984375 17.28125 19.8125 11.734375 \r\nQ 24.65625 6.203125 33.40625 6.203125 \r\nQ 37.3125 6.203125 41.140625 7.25 \r\nQ 44.96875 8.296875 48.78125 10.40625 \r\nL 48.78125 2.09375 \r\nQ 45.015625 0.34375 40.984375 -0.53125 \r\nQ 36.96875 -1.421875 32.421875 -1.421875 \r\nQ 20.0625 -1.421875 12.78125 6.34375 \r\nQ 5.515625 14.109375 5.515625 27.296875 \r\nQ 5.515625 40.671875 12.859375 48.328125 \r\nQ 20.21875 56 33.015625 56 \r\nQ 37.15625 56 41.109375 55.140625 \r\nQ 45.0625 54.296875 48.78125 52.59375 \r\nz\r\n\" id=\"DejaVuSans-99\"/>\r\n      <path d=\"M 30.609375 48.390625 \r\nQ 23.390625 48.390625 19.1875 42.75 \r\nQ 14.984375 37.109375 14.984375 27.296875 \r\nQ 14.984375 17.484375 19.15625 11.84375 \r\nQ 23.34375 6.203125 30.609375 6.203125 \r\nQ 37.796875 6.203125 41.984375 11.859375 \r\nQ 46.1875 17.53125 46.1875 27.296875 \r\nQ 46.1875 37.015625 41.984375 42.703125 \r\nQ 37.796875 48.390625 30.609375 48.390625 \r\nz\r\nM 30.609375 56 \r\nQ 42.328125 56 49.015625 48.375 \r\nQ 55.71875 40.765625 55.71875 27.296875 \r\nQ 55.71875 13.875 49.015625 6.21875 \r\nQ 42.328125 -1.421875 30.609375 -1.421875 \r\nQ 18.84375 -1.421875 12.171875 6.21875 \r\nQ 5.515625 13.875 5.515625 27.296875 \r\nQ 5.515625 40.765625 12.171875 48.375 \r\nQ 18.84375 56 30.609375 56 \r\nz\r\n\" id=\"DejaVuSans-111\"/>\r\n      <path d=\"M 44.28125 53.078125 \r\nL 44.28125 44.578125 \r\nQ 40.484375 46.53125 36.375 47.5 \r\nQ 32.28125 48.484375 27.875 48.484375 \r\nQ 21.1875 48.484375 17.84375 46.4375 \r\nQ 14.5 44.390625 14.5 40.28125 \r\nQ 14.5 37.15625 16.890625 35.375 \r\nQ 19.28125 33.59375 26.515625 31.984375 \r\nL 29.59375 31.296875 \r\nQ 39.15625 29.25 43.1875 25.515625 \r\nQ 47.21875 21.78125 47.21875 15.09375 \r\nQ 47.21875 7.46875 41.1875 3.015625 \r\nQ 35.15625 -1.421875 24.609375 -1.421875 \r\nQ 20.21875 -1.421875 15.453125 -0.5625 \r\nQ 10.6875 0.296875 5.421875 2 \r\nL 5.421875 11.28125 \r\nQ 10.40625 8.6875 15.234375 7.390625 \r\nQ 20.0625 6.109375 24.8125 6.109375 \r\nQ 31.15625 6.109375 34.5625 8.28125 \r\nQ 37.984375 10.453125 37.984375 14.40625 \r\nQ 37.984375 18.0625 35.515625 20.015625 \r\nQ 33.0625 21.96875 24.703125 23.78125 \r\nL 21.578125 24.515625 \r\nQ 13.234375 26.265625 9.515625 29.90625 \r\nQ 5.8125 33.546875 5.8125 39.890625 \r\nQ 5.8125 47.609375 11.28125 51.796875 \r\nQ 16.75 56 26.8125 56 \r\nQ 31.78125 56 36.171875 55.265625 \r\nQ 40.578125 54.546875 44.28125 53.078125 \r\nz\r\n\" id=\"DejaVuSans-115\"/>\r\n     </defs>\r\n     <g transform=\"translate(308.703125 23.798437)scale(0.1 -0.1)\">\r\n      <use xlink:href=\"#DejaVuSans-116\"/>\r\n      <use x=\"39.208984\" xlink:href=\"#DejaVuSans-114\"/>\r\n      <use x=\"80.322266\" xlink:href=\"#DejaVuSans-97\"/>\r\n      <use x=\"141.601562\" xlink:href=\"#DejaVuSans-105\"/>\r\n      <use x=\"169.384766\" xlink:href=\"#DejaVuSans-110\"/>\r\n      <use x=\"232.763672\" xlink:href=\"#DejaVuSans-32\"/>\r\n      <use x=\"264.550781\" xlink:href=\"#DejaVuSans-99\"/>\r\n      <use x=\"319.53125\" xlink:href=\"#DejaVuSans-111\"/>\r\n      <use x=\"380.712891\" xlink:href=\"#DejaVuSans-115\"/>\r\n      <use x=\"432.8125\" xlink:href=\"#DejaVuSans-116\"/>\r\n     </g>\r\n    </g>\r\n    <g id=\"line2d_17\">\r\n     <path d=\"M 280.703125 34.976562 \r\nL 300.703125 34.976562 \r\n\" style=\"fill:none;stroke:#ff0000;stroke-linecap:square;stroke-width:1.5;\"/>\r\n    </g>\r\n    <g id=\"line2d_18\"/>\r\n    <g id=\"text_14\">\r\n     <!-- val cost -->\r\n     <defs>\r\n      <path d=\"M 2.984375 54.6875 \r\nL 12.5 54.6875 \r\nL 29.59375 8.796875 \r\nL 46.6875 54.6875 \r\nL 56.203125 54.6875 \r\nL 35.6875 0 \r\nL 23.484375 0 \r\nz\r\n\" id=\"DejaVuSans-118\"/>\r\n      <path d=\"M 9.421875 75.984375 \r\nL 18.40625 75.984375 \r\nL 18.40625 0 \r\nL 9.421875 0 \r\nz\r\n\" id=\"DejaVuSans-108\"/>\r\n     </defs>\r\n     <g transform=\"translate(308.703125 38.476562)scale(0.1 -0.1)\">\r\n      <use xlink:href=\"#DejaVuSans-118\"/>\r\n      <use x=\"59.179688\" xlink:href=\"#DejaVuSans-97\"/>\r\n      <use x=\"120.458984\" xlink:href=\"#DejaVuSans-108\"/>\r\n      <use x=\"148.242188\" xlink:href=\"#DejaVuSans-32\"/>\r\n      <use x=\"180.029297\" xlink:href=\"#DejaVuSans-99\"/>\r\n      <use x=\"235.009766\" xlink:href=\"#DejaVuSans-111\"/>\r\n      <use x=\"296.191406\" xlink:href=\"#DejaVuSans-115\"/>\r\n      <use x=\"348.291016\" xlink:href=\"#DejaVuSans-116\"/>\r\n     </g>\r\n    </g>\r\n   </g>\r\n  </g>\r\n </g>\r\n <defs>\r\n  <clipPath id=\"p952996d869\">\r\n   <rect height=\"217.44\" width=\"334.8\" x=\"30.103125\" y=\"7.2\"/>\r\n  </clipPath>\r\n </defs>\r\n</svg>\r\n",
      "image/png": "[encoded data removed]"
     },
     "metadata": {
      "needs_background": "light"
     }
    }
   ],
   "source": [
    "import matplotlib.pyplot as plt \n",
    "plt.plot(range(1, len(history.history['accuracy'])+1), history.history['loss'],'bo', label='train cost') # 1~30\n",
    "\n",
    "plt.plot(range(1, len(history.history['accuracy'])+1), history.history['val_loss'],'r', label='val cost') # 1~30\n",
    "\n",
    "plt.legend()"
   ]
  },
  {
   "cell_type": "code",
   "execution_count": 86,
   "metadata": {
    "tags": []
   },
   "outputs": [
    {
     "output_type": "stream",
     "name": "stdout",
     "text": "Epoch 1/30\n16/16 [==============================] - 1s 49ms/step - loss: 2.3284 - accuracy: 0.5226 - val_loss: 1.4504 - val_accuracy: 0.6840\nEpoch 2/30\n16/16 [==============================] - 1s 42ms/step - loss: 1.1774 - accuracy: 0.7325 - val_loss: 1.3099 - val_accuracy: 0.7080\nEpoch 3/30\n16/16 [==============================] - 1s 46ms/step - loss: 0.8088 - accuracy: 0.8192 - val_loss: 1.2338 - val_accuracy: 0.7170\nEpoch 4/30\n16/16 [==============================] - 1s 43ms/step - loss: 0.5765 - accuracy: 0.8723 - val_loss: 1.0295 - val_accuracy: 0.7780\nEpoch 5/30\n16/16 [==============================] - 1s 45ms/step - loss: 0.3937 - accuracy: 0.9162 - val_loss: 1.0021 - val_accuracy: 0.7790\nEpoch 6/30\n16/16 [==============================] - 1s 43ms/step - loss: 0.3004 - accuracy: 0.9330 - val_loss: 0.9391 - val_accuracy: 0.8130\nEpoch 7/30\n16/16 [==============================] - 1s 47ms/step - loss: 0.2281 - accuracy: 0.9426 - val_loss: 0.9857 - val_accuracy: 0.7990\nEpoch 8/30\n16/16 [==============================] - 1s 46ms/step - loss: 0.1818 - accuracy: 0.9526 - val_loss: 1.0325 - val_accuracy: 0.8010\nEpoch 9/30\n16/16 [==============================] - 1s 47ms/step - loss: 0.1751 - accuracy: 0.9531 - val_loss: 1.2014 - val_accuracy: 0.7660\nEpoch 10/30\n16/16 [==============================] - 1s 49ms/step - loss: 0.1532 - accuracy: 0.9536 - val_loss: 0.9791 - val_accuracy: 0.8100\nEpoch 11/30\n16/16 [==============================] - 1s 44ms/step - loss: 0.1395 - accuracy: 0.9559 - val_loss: 1.1038 - val_accuracy: 0.7910\nEpoch 12/30\n16/16 [==============================] - 1s 47ms/step - loss: 0.1395 - accuracy: 0.9535 - val_loss: 1.1608 - val_accuracy: 0.7910\nEpoch 13/30\n16/16 [==============================] - 1s 47ms/step - loss: 0.1271 - accuracy: 0.9550 - val_loss: 1.0942 - val_accuracy: 0.7960\nEpoch 14/30\n16/16 [==============================] - 1s 45ms/step - loss: 0.1201 - accuracy: 0.9572 - val_loss: 1.0598 - val_accuracy: 0.8100\nEpoch 15/30\n16/16 [==============================] - 1s 46ms/step - loss: 0.1178 - accuracy: 0.9553 - val_loss: 1.0217 - val_accuracy: 0.8130\nEpoch 16/30\n16/16 [==============================] - 1s 47ms/step - loss: 0.1084 - accuracy: 0.9567 - val_loss: 1.1195 - val_accuracy: 0.8060\nEpoch 17/30\n16/16 [==============================] - 1s 48ms/step - loss: 0.1060 - accuracy: 0.9587 - val_loss: 1.1132 - val_accuracy: 0.8010\nEpoch 18/30\n16/16 [==============================] - 1s 52ms/step - loss: 0.1072 - accuracy: 0.9579 - val_loss: 1.1632 - val_accuracy: 0.7990\nEpoch 19/30\n16/16 [==============================] - 1s 51ms/step - loss: 0.0987 - accuracy: 0.9590 - val_loss: 1.1826 - val_accuracy: 0.8000\nEpoch 20/30\n16/16 [==============================] - 1s 45ms/step - loss: 0.0960 - accuracy: 0.9594 - val_loss: 1.1618 - val_accuracy: 0.7960\nEpoch 21/30\n16/16 [==============================] - 1s 48ms/step - loss: 0.0956 - accuracy: 0.9565 - val_loss: 1.2323 - val_accuracy: 0.7930\nEpoch 22/30\n16/16 [==============================] - 1s 45ms/step - loss: 0.0948 - accuracy: 0.9565 - val_loss: 1.2992 - val_accuracy: 0.7890\nEpoch 23/30\n16/16 [==============================] - 1s 45ms/step - loss: 0.0903 - accuracy: 0.9580 - val_loss: 1.2596 - val_accuracy: 0.7960\nEpoch 24/30\n16/16 [==============================] - 1s 46ms/step - loss: 0.0905 - accuracy: 0.9595 - val_loss: 1.2167 - val_accuracy: 0.8000\nEpoch 25/30\n16/16 [==============================] - 1s 46ms/step - loss: 0.0852 - accuracy: 0.9574 - val_loss: 1.3312 - val_accuracy: 0.7810\nEpoch 26/30\n16/16 [==============================] - 1s 45ms/step - loss: 0.0828 - accuracy: 0.9592 - val_loss: 1.4362 - val_accuracy: 0.7820\nEpoch 27/30\n16/16 [==============================] - 1s 47ms/step - loss: 0.0833 - accuracy: 0.9582 - val_loss: 1.3095 - val_accuracy: 0.7970\nEpoch 28/30\n16/16 [==============================] - 1s 46ms/step - loss: 0.0838 - accuracy: 0.9572 - val_loss: 1.3119 - val_accuracy: 0.8000\nEpoch 29/30\n16/16 [==============================] - 1s 44ms/step - loss: 0.0785 - accuracy: 0.9589 - val_loss: 1.3784 - val_accuracy: 0.7970\nEpoch 30/30\n16/16 [==============================] - 1s 47ms/step - loss: 0.0802 - accuracy: 0.9572 - val_loss: 1.3987 - val_accuracy: 0.7930\n71/71 [==============================] - 0s 3ms/step - loss: 1.6638 - accuracy: 0.7827\n[1.6638412475585938, 0.7827248573303223]\n"
    }
   ],
   "source": [
    "model = models.Sequential() # sequential 모델의 첫 번째 레이어:\n",
    "model.add(layers.Dense(256, activation='relu', input_shape=(10000, ))) # 층 추가\n",
    "model.add(layers.Dense(128, activation='relu')) # 히든계층\n",
    "model.add(layers.Dense(64, activation='relu')) # 히든계층\n",
    "model.add(layers.Dense(46, activation='softmax')) # 출력 계층\n",
    "model.compile(optimizer='rmsprop', \n",
    "                loss='categorical_crossentropy', \n",
    "                metrics=['accuracy'])\n",
    "model.fit(pxTrain, pyTrain, \n",
    "            epochs=30, batch_size=512,\n",
    "            validation_data=(xVal, yVal))\n",
    "\n",
    "result=model.evaluate(xTest, OneHotTestLabels)\n",
    "print(result)"
   ]
  },
  {
   "cell_type": "code",
   "execution_count": 97,
   "metadata": {},
   "outputs": [
    {
     "output_type": "execute_result",
     "data": {
      "text/plain": "0.9942888"
     },
     "metadata": {},
     "execution_count": 97
    }
   ],
   "source": [
    "predictions=model.predict(xTest)# (2246, 46) # 분류가 46개 이니까 \n",
    "np.sum(predictions[0])\n",
    "np.max(predictions[0])\n",
    "# np.argmax(predictions[0]) # 3번 category"
   ]
  },
  {
   "cell_type": "code",
   "execution_count": null,
   "metadata": {},
   "outputs": [],
   "source": [
    "#오늘 평가 대체 연습문제 "
   ]
  }
 ]
}