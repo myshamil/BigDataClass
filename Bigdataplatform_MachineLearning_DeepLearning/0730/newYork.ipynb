{
 "metadata": {
  "language_info": {
   "codemirror_mode": {
    "name": "ipython",
    "version": 3
   },
   "file_extension": ".py",
   "mimetype": "text/x-python",
   "name": "python",
   "nbconvert_exporter": "python",
   "pygments_lexer": "ipython3",
   "version": 3
  },
  "orig_nbformat": 2,
  "kernelspec": {
   "name": "python_defaultSpec_1596076207534",
   "display_name": "Python 3.7.6 64-bit ('base': conda)"
  }
 },
 "nbformat": 4,
 "nbformat_minor": 2,
 "cells": [
  {
   "cell_type": "markdown",
   "metadata": {},
   "source": [
    "https://www.kaggle.com/aashita/nyt-comments"
   ]
  },
  {
   "cell_type": "code",
   "execution_count": 20,
   "metadata": {
    "tags": []
   },
   "outputs": [
    {
     "output_type": "stream",
     "name": "stdout",
     "text": "!\"#$%&'()*+,-./:;<=>?@[\\]^_`{|}~\n"
    }
   ],
   "source": [
    "from string import punctuation\n",
    "print(punctuation)\n",
    "from keras.preprocessing.text import Tokenizer\n",
    "from keras.preprocessing.sequence import pad_sequences\n",
    "from keras.utils import to_categorical\n",
    "from keras.models import Sequential\n",
    "from keras.layers import Embedding, Dense, SimpleRNN, LSTM"
   ]
  },
  {
   "cell_type": "code",
   "execution_count": 3,
   "metadata": {},
   "outputs": [
    {
     "output_type": "execute_result",
     "data": {
      "text/plain": "0    “I understand that they could meet with us, pa...\n1    The agency plans to publish a new regulation T...\n2    What’s it like to eat at the second incarnatio...\n3    President Trump welcomed President Emmanuel Ma...\n4    Alek Minassian, 25, a resident of Toronto’s Ri...\nName: snippet, dtype: object"
     },
     "metadata": {},
     "execution_count": 3
    }
   ],
   "source": [
    "df =pd.read_csv(\"nyt.csv\")\n",
    "df.head()['snippet']"
   ]
  },
  {
   "cell_type": "code",
   "execution_count": 6,
   "metadata": {
    "tags": []
   },
   "outputs": [
    {
     "output_type": "execute_result",
     "data": {
      "text/plain": "0"
     },
     "metadata": {},
     "execution_count": 6
    }
   ],
   "source": [
    "# df.info()\n",
    "df['headline'].isnull().sum()"
   ]
  },
  {
   "cell_type": "code",
   "execution_count": 8,
   "metadata": {},
   "outputs": [
    {
     "output_type": "execute_result",
     "data": {
      "text/plain": "array(['Former N.F.L. Cheerleaders’ Settlement Offer: $1 and a Meeting With Goodell',\n       'E.P.A. to Unveil a New Rule. Its Effect: Less Science in Policymaking.',\n       'The New Noma, Explained', ...,\n       'Gen. Michael Hayden Has One Regret: Russia',\n       'There Is Nothin’ Like a Tune', 'Unknown'], dtype=object)"
     },
     "metadata": {},
     "execution_count": 8
    }
   ],
   "source": [
    "df['headline'].values"
   ]
  },
  {
   "cell_type": "code",
   "execution_count": 41,
   "metadata": {},
   "outputs": [
    {
     "output_type": "execute_result",
     "data": {
      "text/plain": "['Former N.F.L. Cheerleaders’ Settlement Offer: $1 and a Meeting With Goodell',\n 'E.P.A. to Unveil a New Rule. Its Effect: Less Science in Policymaking.',\n 'The New Noma, Explained',\n 'Unknown',\n 'Unknown',\n 'Unknown',\n 'Unknown',\n 'Unknown',\n 'How a Bag of Texas Dirt  Became a Times Tradition',\n 'Is School a Place for Self-Expression?']"
     },
     "metadata": {},
     "execution_count": 41
    }
   ],
   "source": [
    "headline=[]\n",
    "headline.extend(list(df.headline.values))\n",
    "headline[:10]\n"
   ]
  },
  {
   "cell_type": "code",
   "execution_count": 42,
   "metadata": {},
   "outputs": [
    {
     "output_type": "execute_result",
     "data": {
      "text/plain": "1214"
     },
     "metadata": {},
     "execution_count": 42
    }
   ],
   "source": [
    "headline =[n for n in headline if n !='Unknown']\n",
    "len(headline)"
   ]
  },
  {
   "cell_type": "code",
   "execution_count": 16,
   "metadata": {},
   "outputs": [
    {
     "output_type": "execute_result",
     "data": {
      "text/plain": "\"' \""
     },
     "metadata": {},
     "execution_count": 16
    }
   ],
   "source": [
    "# \"' \".encode('utf-8').decode('ascii', 'ignore')"
   ]
  },
  {
   "cell_type": "code",
   "execution_count": 43,
   "metadata": {
    "tags": []
   },
   "outputs": [
    {
     "output_type": "execute_result",
     "data": {
      "text/plain": "['former nfl cheerleaders settlement offer 1 and a meeting with goodell',\n 'epa to unveil a new rule its effect less science in policymaking',\n 'the new noma explained',\n 'how a bag of texas dirt  became a times tradition',\n 'is school a place for selfexpression']"
     },
     "metadata": {},
     "execution_count": 43
    }
   ],
   "source": [
    "def repreprocessing(s):\n",
    "    s=s.encode('utf8').decode('ascii', 'ignore')\n",
    "    #s=\"Former N.F.L. Cheerleaders’ Settlement Offer: $1 and a Meeting With Goodell\"\n",
    "    return ''.join(c for c in s if c not in punctuation).lower()\n",
    "    #s에 전달된 뉴스기사제목에 대해 전처리(점 제거, 소문자)\n",
    "    #return result    \n",
    "text=[repreprocessing(x) for x in headline]\n",
    "#                 <-2->  <-     1        ->\n",
    "text[:5]"
   ]
  },
  {
   "cell_type": "code",
   "execution_count": 44,
   "metadata": {},
   "outputs": [],
   "source": [
    "t=Tokenizer()\n",
    "t.fit_on_texts(text)"
   ]
  },
  {
   "cell_type": "code",
   "execution_count": 45,
   "metadata": {},
   "outputs": [],
   "source": [
    "vocabSize=len(t.word_index)+1 #3493 +1 단어"
   ]
  },
  {
   "cell_type": "code",
   "execution_count": 46,
   "metadata": {},
   "outputs": [
    {
     "output_type": "execute_result",
     "data": {
      "text/plain": "[[99, 269],\n [99, 269, 371],\n [99, 269, 371, 1115],\n [99, 269, 371, 1115, 582],\n [99, 269, 371, 1115, 582, 52],\n [99, 269, 371, 1115, 582, 52, 7],\n [99, 269, 371, 1115, 582, 52, 7, 2],\n [99, 269, 371, 1115, 582, 52, 7, 2, 372],\n [99, 269, 371, 1115, 582, 52, 7, 2, 372, 10],\n [99, 269, 371, 1115, 582, 52, 7, 2, 372, 10, 1116],\n [100, 3]]"
     },
     "metadata": {},
     "execution_count": 46
    }
   ],
   "source": [
    "sequences = []\n",
    "for line in text:\n",
    "    encoded=t.texts_to_sequences([line])[0]\n",
    "    for i in range(1, len(encoded)):\n",
    "        sequence =encoded[:i+1]\n",
    "        sequences.append(sequence)\n",
    "sequences[:11]"
   ]
  },
  {
   "cell_type": "code",
   "execution_count": 47,
   "metadata": {},
   "outputs": [],
   "source": [
    "# ['former nfl cheerleaders settlement offer 1 and a meeting with goodell\n",
    "#    99    269    371         1115\n",
    "#t.word_counts\n",
    "indextoWord={}\n",
    "for k, v in t.word_index.items(): #{'the':1}\n",
    "    indextoWord[v]=k  #{1:'the'}"
   ]
  },
  {
   "cell_type": "code",
   "execution_count": 48,
   "metadata": {
    "tags": []
   },
   "outputs": [
    {
     "output_type": "stream",
     "name": "stdout",
     "text": "24\n"
    }
   ],
   "source": [
    "maxLen=max(len(s) for s in sequences)\n",
    "print(maxLen) #24"
   ]
  },
  {
   "cell_type": "code",
   "execution_count": 49,
   "metadata": {
    "tags": []
   },
   "outputs": [
    {
     "output_type": "stream",
     "name": "stdout",
     "text": "[[   0    0    0    0    0    0    0    0    0    0    0    0    0    0\n     0    0    0    0    0    0    0    0   99  269]\n [   0    0    0    0    0    0    0    0    0    0    0    0    0    0\n     0    0    0    0    0    0    0   99  269  371]\n [   0    0    0    0    0    0    0    0    0    0    0    0    0    0\n     0    0    0    0    0    0   99  269  371 1115]]\n"
    }
   ],
   "source": [
    "sequences=pad_sequences(sequences, maxlen=maxLen, \n",
    "                        padding='pre')\n",
    "print(sequences[:3])"
   ]
  },
  {
   "cell_type": "code",
   "execution_count": 50,
   "metadata": {},
   "outputs": [],
   "source": [
    "x=sequences[:,:-1]\n",
    "y=sequences[:,-1]\n"
   ]
  },
  {
   "cell_type": "code",
   "execution_count": 51,
   "metadata": {
    "tags": []
   },
   "outputs": [
    {
     "output_type": "stream",
     "name": "stdout",
     "text": "[ 0  0  0  0  0  0  0  0  0  0  0  0  0  0  0  0  0  0  0  0  0  0 99]\n269\n"
    }
   ],
   "source": [
    "print(x[0])\n",
    "print(y[0])"
   ]
  },
  {
   "cell_type": "code",
   "execution_count": 52,
   "metadata": {},
   "outputs": [],
   "source": [
    "y=to_categorical(y, num_classes=vocabSize)"
   ]
  },
  {
   "cell_type": "code",
   "execution_count": 53,
   "metadata": {},
   "outputs": [
    {
     "output_type": "execute_result",
     "data": {
      "text/plain": "(7803, 3494)"
     },
     "metadata": {},
     "execution_count": 53
    }
   ],
   "source": [
    "y.shape"
   ]
  },
  {
   "cell_type": "code",
   "execution_count": 54,
   "metadata": {
    "tags": []
   },
   "outputs": [
    {
     "output_type": "stream",
     "name": "stdout",
     "text": "Epoch 1/200\n781/781 [==============================] - 3s 3ms/step - loss: 7.6758 - accuracy: 0.0305\nEpoch 2/200\n781/781 [==============================] - 2s 3ms/step - loss: 7.0931 - accuracy: 0.0352\nEpoch 3/200\n781/781 [==============================] - 2s 3ms/step - loss: 6.8484 - accuracy: 0.0461\nEpoch 4/200\n781/781 [==============================] - 2s 3ms/step - loss: 6.6182 - accuracy: 0.0495\nEpoch 5/200\n781/781 [==============================] - 3s 3ms/step - loss: 6.3811 - accuracy: 0.0531\nEpoch 6/200\n781/781 [==============================] - 2s 3ms/step - loss: 6.1430 - accuracy: 0.0610\nEpoch 7/200\n781/781 [==============================] - 2s 3ms/step - loss: 5.9230 - accuracy: 0.0683\nEpoch 8/200\n781/781 [==============================] - 2s 3ms/step - loss: 5.7145 - accuracy: 0.0761\nEpoch 9/200\n781/781 [==============================] - 2s 3ms/step - loss: 5.5182 - accuracy: 0.0846\nEpoch 10/200\n781/781 [==============================] - 2s 3ms/step - loss: 5.3295 - accuracy: 0.0989\nEpoch 11/200\n781/781 [==============================] - 2s 3ms/step - loss: 5.1443 - accuracy: 0.1130\nEpoch 12/200\n781/781 [==============================] - 2s 3ms/step - loss: 4.9655 - accuracy: 0.1311\nEpoch 13/200\n781/781 [==============================] - 2s 3ms/step - loss: 4.7940 - accuracy: 0.1498\nEpoch 14/200\n781/781 [==============================] - 2s 3ms/step - loss: 4.6270 - accuracy: 0.1711\nEpoch 15/200\n781/781 [==============================] - 2s 3ms/step - loss: 4.4626 - accuracy: 0.1930\nEpoch 16/200\n781/781 [==============================] - 2s 3ms/step - loss: 4.3025 - accuracy: 0.2215\nEpoch 17/200\n781/781 [==============================] - 3s 4ms/step - loss: 4.1446 - accuracy: 0.2453\nEpoch 18/200\n781/781 [==============================] - 3s 4ms/step - loss: 3.9913 - accuracy: 0.2760\nEpoch 19/200\n781/781 [==============================] - 3s 4ms/step - loss: 3.8445 - accuracy: 0.3004\nEpoch 20/200\n781/781 [==============================] - 3s 4ms/step - loss: 3.6981 - accuracy: 0.3288\nEpoch 21/200\n781/781 [==============================] - 3s 4ms/step - loss: 3.5560 - accuracy: 0.3576\nEpoch 22/200\n781/781 [==============================] - 3s 4ms/step - loss: 3.4237 - accuracy: 0.3879\nEpoch 23/200\n781/781 [==============================] - 4s 5ms/step - loss: 3.2893 - accuracy: 0.4110\nEpoch 24/200\n781/781 [==============================] - 4s 5ms/step - loss: 3.1652 - accuracy: 0.4410\nEpoch 25/200\n781/781 [==============================] - 4s 5ms/step - loss: 3.0418 - accuracy: 0.4632\nEpoch 26/200\n781/781 [==============================] - 3s 4ms/step - loss: 2.9206 - accuracy: 0.4885\nEpoch 27/200\n781/781 [==============================] - 4s 5ms/step - loss: 2.8105 - accuracy: 0.5111\nEpoch 28/200\n781/781 [==============================] - 5s 6ms/step - loss: 2.7041 - accuracy: 0.5315\nEpoch 29/200\n781/781 [==============================] - 4s 6ms/step - loss: 2.5963 - accuracy: 0.5506\nEpoch 30/200\n781/781 [==============================] - 3s 4ms/step - loss: 2.4996 - accuracy: 0.5671\nEpoch 31/200\n781/781 [==============================] - 3s 4ms/step - loss: 2.4014 - accuracy: 0.5926\nEpoch 32/200\n781/781 [==============================] - 3s 4ms/step - loss: 2.3108 - accuracy: 0.6077\nEpoch 33/200\n781/781 [==============================] - 3s 4ms/step - loss: 2.2288 - accuracy: 0.6201\nEpoch 34/200\n781/781 [==============================] - 3s 4ms/step - loss: 2.1441 - accuracy: 0.6376\nEpoch 35/200\n781/781 [==============================] - 3s 4ms/step - loss: 2.0649 - accuracy: 0.6494\nEpoch 36/200\n781/781 [==============================] - 3s 4ms/step - loss: 1.9983 - accuracy: 0.6599\nEpoch 37/200\n781/781 [==============================] - 4s 5ms/step - loss: 1.9201 - accuracy: 0.6741\nEpoch 38/200\n781/781 [==============================] - 4s 5ms/step - loss: 1.8571 - accuracy: 0.6855\nEpoch 39/200\n781/781 [==============================] - 4s 5ms/step - loss: 1.8004 - accuracy: 0.6927\nEpoch 40/200\n781/781 [==============================] - 4s 5ms/step - loss: 1.7402 - accuracy: 0.7004\nEpoch 41/200\n781/781 [==============================] - 4s 5ms/step - loss: 1.6808 - accuracy: 0.7127\nEpoch 42/200\n781/781 [==============================] - 4s 5ms/step - loss: 1.6276 - accuracy: 0.7223\nEpoch 43/200\n781/781 [==============================] - 3s 4ms/step - loss: 1.5699 - accuracy: 0.7331\nEpoch 44/200\n781/781 [==============================] - 3s 4ms/step - loss: 1.6293 - accuracy: 0.7125\nEpoch 45/200\n781/781 [==============================] - 3s 4ms/step - loss: 1.5517 - accuracy: 0.7247\nEpoch 46/200\n781/781 [==============================] - 3s 4ms/step - loss: 1.4477 - accuracy: 0.7500\nEpoch 47/200\n781/781 [==============================] - 3s 4ms/step - loss: 1.3835 - accuracy: 0.7621\nEpoch 48/200\n781/781 [==============================] - 3s 4ms/step - loss: 1.3676 - accuracy: 0.7607\nEpoch 49/200\n781/781 [==============================] - 4s 5ms/step - loss: 1.3223 - accuracy: 0.7701\nEpoch 50/200\n781/781 [==============================] - 3s 4ms/step - loss: 1.2930 - accuracy: 0.7733\nEpoch 51/200\n781/781 [==============================] - 3s 4ms/step - loss: 1.2555 - accuracy: 0.7824\nEpoch 52/200\n781/781 [==============================] - 3s 4ms/step - loss: 1.2056 - accuracy: 0.7897\nEpoch 53/200\n781/781 [==============================] - 4s 5ms/step - loss: 1.1756 - accuracy: 0.7952\nEpoch 54/200\n781/781 [==============================] - 3s 4ms/step - loss: 1.1458 - accuracy: 0.7994\nEpoch 55/200\n781/781 [==============================] - 3s 4ms/step - loss: 1.1830 - accuracy: 0.7865\nEpoch 56/200\n781/781 [==============================] - 3s 4ms/step - loss: 1.1037 - accuracy: 0.8052\nEpoch 57/200\n781/781 [==============================] - 3s 4ms/step - loss: 1.0499 - accuracy: 0.8148\nEpoch 58/200\n781/781 [==============================] - 3s 4ms/step - loss: 1.0220 - accuracy: 0.8180\nEpoch 59/200\n781/781 [==============================] - 3s 4ms/step - loss: 1.0081 - accuracy: 0.8214\nEpoch 60/200\n781/781 [==============================] - 3s 4ms/step - loss: 0.9883 - accuracy: 0.8252\nEpoch 61/200\n781/781 [==============================] - 4s 5ms/step - loss: 0.9743 - accuracy: 0.8242\nEpoch 62/200\n781/781 [==============================] - 3s 4ms/step - loss: 0.9540 - accuracy: 0.8265\nEpoch 63/200\n781/781 [==============================] - 3s 4ms/step - loss: 0.9158 - accuracy: 0.8361\nEpoch 64/200\n781/781 [==============================] - 3s 4ms/step - loss: 0.8981 - accuracy: 0.8378\nEpoch 65/200\n781/781 [==============================] - 3s 4ms/step - loss: 0.8792 - accuracy: 0.8403\nEpoch 66/200\n781/781 [==============================] - 4s 5ms/step - loss: 0.8747 - accuracy: 0.8388\nEpoch 67/200\n781/781 [==============================] - 3s 4ms/step - loss: 0.8511 - accuracy: 0.8436\nEpoch 68/200\n781/781 [==============================] - 3s 4ms/step - loss: 0.8527 - accuracy: 0.8384\nEpoch 69/200\n781/781 [==============================] - 3s 4ms/step - loss: 0.8245 - accuracy: 0.8438\nEpoch 70/200\n781/781 [==============================] - 3s 4ms/step - loss: 0.8020 - accuracy: 0.8517\nEpoch 71/200\n781/781 [==============================] - 3s 4ms/step - loss: 0.7889 - accuracy: 0.8545\nEpoch 72/200\n781/781 [==============================] - 3s 4ms/step - loss: 0.7640 - accuracy: 0.8572\nEpoch 73/200\n781/781 [==============================] - 3s 4ms/step - loss: 0.7629 - accuracy: 0.8580\nEpoch 74/200\n781/781 [==============================] - 3s 3ms/step - loss: 0.7492 - accuracy: 0.8590\nEpoch 75/200\n781/781 [==============================] - 3s 3ms/step - loss: 0.7510 - accuracy: 0.8586\nEpoch 76/200\n781/781 [==============================] - 3s 4ms/step - loss: 0.7275 - accuracy: 0.8635\nEpoch 77/200\n781/781 [==============================] - 3s 3ms/step - loss: 0.7100 - accuracy: 0.8658\nEpoch 78/200\n781/781 [==============================] - 3s 3ms/step - loss: 0.6951 - accuracy: 0.8659\nEpoch 79/200\n781/781 [==============================] - 3s 4ms/step - loss: 0.7457 - accuracy: 0.8533\nEpoch 80/200\n781/781 [==============================] - 3s 4ms/step - loss: 0.7071 - accuracy: 0.8629\nEpoch 81/200\n781/781 [==============================] - 3s 4ms/step - loss: 0.6550 - accuracy: 0.8733\nEpoch 82/200\n781/781 [==============================] - 3s 4ms/step - loss: 0.6290 - accuracy: 0.8780\nEpoch 83/200\n781/781 [==============================] - 3s 4ms/step - loss: 0.6332 - accuracy: 0.8771\nEpoch 84/200\n781/781 [==============================] - 3s 4ms/step - loss: 0.6329 - accuracy: 0.8761\nEpoch 85/200\n781/781 [==============================] - 3s 4ms/step - loss: 0.6442 - accuracy: 0.8713\nEpoch 86/200\n781/781 [==============================] - 3s 4ms/step - loss: 0.6143 - accuracy: 0.8807\nEpoch 87/200\n781/781 [==============================] - 3s 3ms/step - loss: 2.1881 - accuracy: 0.6233\nEpoch 88/200\n781/781 [==============================] - 3s 3ms/step - loss: 3.4975 - accuracy: 0.3273\nEpoch 89/200\n781/781 [==============================] - 3s 4ms/step - loss: 2.6482 - accuracy: 0.4464\nEpoch 90/200\n781/781 [==============================] - 3s 3ms/step - loss: 2.2177 - accuracy: 0.5253\nEpoch 91/200\n781/781 [==============================] - 3s 3ms/step - loss: 1.9321 - accuracy: 0.5785\nEpoch 92/200\n781/781 [==============================] - 3s 3ms/step - loss: 1.7457 - accuracy: 0.6253\nEpoch 93/200\n781/781 [==============================] - 3s 3ms/step - loss: 1.5948 - accuracy: 0.6594\nEpoch 94/200\n781/781 [==============================] - 3s 4ms/step - loss: 1.4649 - accuracy: 0.6896\nEpoch 95/200\n781/781 [==============================] - 3s 3ms/step - loss: 1.3894 - accuracy: 0.7042\nEpoch 96/200\n781/781 [==============================] - 3s 3ms/step - loss: 1.2927 - accuracy: 0.7316\nEpoch 97/200\n781/781 [==============================] - 3s 3ms/step - loss: 1.2220 - accuracy: 0.7438\nEpoch 98/200\n781/781 [==============================] - 3s 4ms/step - loss: 1.1662 - accuracy: 0.7550\nEpoch 99/200\n781/781 [==============================] - 3s 4ms/step - loss: 1.1173 - accuracy: 0.7693\nEpoch 100/200\n781/781 [==============================] - 3s 4ms/step - loss: 1.0683 - accuracy: 0.7779\nEpoch 101/200\n781/781 [==============================] - 4s 5ms/step - loss: 1.0279 - accuracy: 0.7916\nEpoch 102/200\n781/781 [==============================] - 3s 4ms/step - loss: 0.9780 - accuracy: 0.7996\nEpoch 103/200\n781/781 [==============================] - 3s 4ms/step - loss: 0.9577 - accuracy: 0.8074\nEpoch 104/200\n781/781 [==============================] - 3s 3ms/step - loss: 0.9331 - accuracy: 0.8098\nEpoch 105/200\n781/781 [==============================] - 3s 3ms/step - loss: 0.9026 - accuracy: 0.8178\nEpoch 106/200\n781/781 [==============================] - 3s 4ms/step - loss: 0.8641 - accuracy: 0.8276\nEpoch 107/200\n781/781 [==============================] - 3s 4ms/step - loss: 0.8290 - accuracy: 0.8367\nEpoch 108/200\n781/781 [==============================] - 3s 4ms/step - loss: 0.9876 - accuracy: 0.8135\nEpoch 109/200\n781/781 [==============================] - 3s 4ms/step - loss: 2.6060 - accuracy: 0.4658\nEpoch 110/200\n781/781 [==============================] - 3s 4ms/step - loss: 1.5893 - accuracy: 0.6372\nEpoch 111/200\n781/781 [==============================] - 3s 4ms/step - loss: 1.2857 - accuracy: 0.7138\nEpoch 112/200\n781/781 [==============================] - 3s 4ms/step - loss: 1.1311 - accuracy: 0.7493\nEpoch 113/200\n781/781 [==============================] - 3s 4ms/step - loss: 1.0335 - accuracy: 0.7768\nEpoch 114/200\n781/781 [==============================] - 3s 4ms/step - loss: 0.9630 - accuracy: 0.7915\nEpoch 115/200\n781/781 [==============================] - 3s 4ms/step - loss: 0.9169 - accuracy: 0.8075\nEpoch 116/200\n781/781 [==============================] - 3s 4ms/step - loss: 0.8723 - accuracy: 0.8188\nEpoch 117/200\n781/781 [==============================] - 3s 4ms/step - loss: 0.8273 - accuracy: 0.8281\nEpoch 118/200\n781/781 [==============================] - 3s 3ms/step - loss: 0.8032 - accuracy: 0.8330\nEpoch 119/200\n781/781 [==============================] - 3s 4ms/step - loss: 0.7767 - accuracy: 0.8424\nEpoch 120/200\n781/781 [==============================] - 3s 4ms/step - loss: 0.7523 - accuracy: 0.8466\nEpoch 121/200\n781/781 [==============================] - 3s 4ms/step - loss: 0.7213 - accuracy: 0.8536\nEpoch 122/200\n781/781 [==============================] - 3s 3ms/step - loss: 0.6920 - accuracy: 0.8617\nEpoch 123/200\n781/781 [==============================] - 3s 4ms/step - loss: 0.6782 - accuracy: 0.8615\nEpoch 124/200\n781/781 [==============================] - 3s 3ms/step - loss: 0.6678 - accuracy: 0.8670\nEpoch 125/200\n781/781 [==============================] - 3s 3ms/step - loss: 0.6540 - accuracy: 0.8685\nEpoch 126/200\n781/781 [==============================] - 3s 4ms/step - loss: 0.6461 - accuracy: 0.8698\nEpoch 127/200\n781/781 [==============================] - 3s 4ms/step - loss: 0.6226 - accuracy: 0.8725\nEpoch 128/200\n781/781 [==============================] - 3s 4ms/step - loss: 0.6073 - accuracy: 0.8761\nEpoch 129/200\n781/781 [==============================] - 3s 4ms/step - loss: 0.5932 - accuracy: 0.8767\nEpoch 130/200\n781/781 [==============================] - 3s 4ms/step - loss: 0.5897 - accuracy: 0.8763\nEpoch 131/200\n781/781 [==============================] - 3s 4ms/step - loss: 0.5716 - accuracy: 0.8816\nEpoch 132/200\n781/781 [==============================] - 3s 4ms/step - loss: 0.5631 - accuracy: 0.8829\nEpoch 133/200\n781/781 [==============================] - 3s 4ms/step - loss: 0.5459 - accuracy: 0.8874\nEpoch 134/200\n781/781 [==============================] - 3s 4ms/step - loss: 0.5452 - accuracy: 0.8840\nEpoch 135/200\n781/781 [==============================] - 3s 4ms/step - loss: 0.5396 - accuracy: 0.8861\nEpoch 136/200\n781/781 [==============================] - 3s 4ms/step - loss: 0.5215 - accuracy: 0.8909\nEpoch 137/200\n781/781 [==============================] - 3s 4ms/step - loss: 0.5197 - accuracy: 0.8884\nEpoch 138/200\n781/781 [==============================] - 3s 4ms/step - loss: 0.5189 - accuracy: 0.8898\nEpoch 139/200\n781/781 [==============================] - 3s 4ms/step - loss: 0.5188 - accuracy: 0.8897\nEpoch 140/200\n781/781 [==============================] - 3s 4ms/step - loss: 0.4948 - accuracy: 0.8954\nEpoch 141/200\n781/781 [==============================] - 3s 4ms/step - loss: 1.4196 - accuracy: 0.7110\nEpoch 142/200\n781/781 [==============================] - 3s 4ms/step - loss: 1.8310 - accuracy: 0.5804\nEpoch 143/200\n781/781 [==============================] - 3s 4ms/step - loss: 1.2939 - accuracy: 0.6984\nEpoch 144/200\n781/781 [==============================] - 3s 3ms/step - loss: 1.0754 - accuracy: 0.7475\nEpoch 145/200\n781/781 [==============================] - 3s 3ms/step - loss: 0.9416 - accuracy: 0.7848\nEpoch 146/200\n781/781 [==============================] - 3s 3ms/step - loss: 0.8469 - accuracy: 0.8047\nEpoch 147/200\n781/781 [==============================] - 3s 4ms/step - loss: 0.7798 - accuracy: 0.8279\nEpoch 148/200\n781/781 [==============================] - 3s 4ms/step - loss: 0.7291 - accuracy: 0.8429\nEpoch 149/200\n781/781 [==============================] - 3s 3ms/step - loss: 0.6980 - accuracy: 0.8484\nEpoch 150/200\n781/781 [==============================] - 3s 4ms/step - loss: 0.6691 - accuracy: 0.8561\nEpoch 151/200\n781/781 [==============================] - 3s 3ms/step - loss: 0.6582 - accuracy: 0.8566\nEpoch 152/200\n781/781 [==============================] - 3s 4ms/step - loss: 0.6378 - accuracy: 0.8606\nEpoch 153/200\n781/781 [==============================] - 3s 3ms/step - loss: 0.6156 - accuracy: 0.8685\nEpoch 154/200\n781/781 [==============================] - 3s 4ms/step - loss: 0.5973 - accuracy: 0.8738\nEpoch 155/200\n781/781 [==============================] - 3s 4ms/step - loss: 0.5726 - accuracy: 0.8793\nEpoch 156/200\n781/781 [==============================] - 3s 4ms/step - loss: 0.5489 - accuracy: 0.8854\nEpoch 157/200\n781/781 [==============================] - 3s 4ms/step - loss: 0.5484 - accuracy: 0.8825\nEpoch 158/200\n781/781 [==============================] - 3s 4ms/step - loss: 0.5276 - accuracy: 0.8867\nEpoch 159/200\n781/781 [==============================] - 3s 4ms/step - loss: 0.5285 - accuracy: 0.8868\nEpoch 160/200\n781/781 [==============================] - 3s 4ms/step - loss: 0.5114 - accuracy: 0.8908\nEpoch 161/200\n781/781 [==============================] - 3s 4ms/step - loss: 0.5068 - accuracy: 0.8913\nEpoch 162/200\n781/781 [==============================] - 3s 4ms/step - loss: 0.5181 - accuracy: 0.8874\nEpoch 163/200\n781/781 [==============================] - 3s 4ms/step - loss: 0.4962 - accuracy: 0.8915\nEpoch 164/200\n781/781 [==============================] - 3s 4ms/step - loss: 0.4731 - accuracy: 0.8956\nEpoch 165/200\n781/781 [==============================] - 3s 4ms/step - loss: 0.4683 - accuracy: 0.8970\nEpoch 166/200\n781/781 [==============================] - 3s 4ms/step - loss: 0.4595 - accuracy: 0.8976\nEpoch 167/200\n781/781 [==============================] - 3s 4ms/step - loss: 0.4678 - accuracy: 0.8966\nEpoch 168/200\n781/781 [==============================] - 3s 4ms/step - loss: 0.4521 - accuracy: 0.9007\nEpoch 169/200\n781/781 [==============================] - 3s 4ms/step - loss: 0.4406 - accuracy: 0.9014\nEpoch 170/200\n781/781 [==============================] - 3s 4ms/step - loss: 0.4544 - accuracy: 0.8988\nEpoch 171/200\n781/781 [==============================] - 3s 4ms/step - loss: 0.4407 - accuracy: 0.9008\nEpoch 172/200\n781/781 [==============================] - 3s 4ms/step - loss: 0.4361 - accuracy: 0.9013\nEpoch 173/200\n781/781 [==============================] - 3s 4ms/step - loss: 0.4310 - accuracy: 0.9025\nEpoch 174/200\n781/781 [==============================] - 3s 4ms/step - loss: 0.4171 - accuracy: 0.9068\nEpoch 175/200\n781/781 [==============================] - 3s 4ms/step - loss: 0.4134 - accuracy: 0.9076\nEpoch 176/200\n781/781 [==============================] - 3s 4ms/step - loss: 0.4218 - accuracy: 0.9036\nEpoch 177/200\n781/781 [==============================] - 3s 3ms/step - loss: 0.4508 - accuracy: 0.8926\nEpoch 178/200\n781/781 [==============================] - 3s 4ms/step - loss: 0.4496 - accuracy: 0.8982\nEpoch 179/200\n781/781 [==============================] - 3s 3ms/step - loss: 0.4035 - accuracy: 0.9070\nEpoch 180/200\n781/781 [==============================] - 3s 3ms/step - loss: 0.3821 - accuracy: 0.9098\nEpoch 181/200\n781/781 [==============================] - 3s 3ms/step - loss: 0.3796 - accuracy: 0.9102\nEpoch 182/200\n781/781 [==============================] - 3s 3ms/step - loss: 0.3829 - accuracy: 0.9088\nEpoch 183/200\n781/781 [==============================] - 3s 3ms/step - loss: 0.3808 - accuracy: 0.9081\nEpoch 184/200\n781/781 [==============================] - 3s 3ms/step - loss: 0.3885 - accuracy: 0.9077\nEpoch 185/200\n781/781 [==============================] - 3s 3ms/step - loss: 0.3988 - accuracy: 0.9075\nEpoch 186/200\n781/781 [==============================] - 3s 3ms/step - loss: 0.3843 - accuracy: 0.9082\nEpoch 187/200\n781/781 [==============================] - 3s 3ms/step - loss: 0.3966 - accuracy: 0.9048\nEpoch 188/200\n781/781 [==============================] - 3s 3ms/step - loss: 0.3795 - accuracy: 0.9093\nEpoch 189/200\n781/781 [==============================] - 3s 4ms/step - loss: 0.3755 - accuracy: 0.9103\nEpoch 190/200\n781/781 [==============================] - 3s 3ms/step - loss: 0.3769 - accuracy: 0.9072\nEpoch 191/200\n781/781 [==============================] - 3s 3ms/step - loss: 0.3680 - accuracy: 0.9104\nEpoch 192/200\n781/781 [==============================] - 3s 3ms/step - loss: 0.3631 - accuracy: 0.9117\nEpoch 193/200\n781/781 [==============================] - 3s 3ms/step - loss: 0.3807 - accuracy: 0.9097\nEpoch 194/200\n781/781 [==============================] - 3s 3ms/step - loss: 0.3711 - accuracy: 0.9097\nEpoch 195/200\n781/781 [==============================] - 3s 3ms/step - loss: 0.3601 - accuracy: 0.9117\nEpoch 196/200\n781/781 [==============================] - 3s 4ms/step - loss: 0.3629 - accuracy: 0.9102\nEpoch 197/200\n781/781 [==============================] - 3s 4ms/step - loss: 0.3617 - accuracy: 0.9109\nEpoch 198/200\n781/781 [==============================] - 3s 4ms/step - loss: 0.3632 - accuracy: 0.9084\nEpoch 199/200\n781/781 [==============================] - 3s 4ms/step - loss: 0.3611 - accuracy: 0.9105\nEpoch 200/200\n781/781 [==============================] - 3s 4ms/step - loss: 0.3490 - accuracy: 0.9118\n"
    },
    {
     "output_type": "execute_result",
     "data": {
      "text/plain": "<tensorflow.python.keras.callbacks.History at 0x1ef6e0f6248>"
     },
     "metadata": {},
     "execution_count": 54
    }
   ],
   "source": [
    "model= Sequential()\n",
    "model.add(Embedding(vocabSize, 10, input_length=maxLen-1))\n",
    "#입력 데이터의 길이는 maxlen 에서  y를 뺀 \n",
    "model.add(SimpleRNN(32))\n",
    "model.add(Dense(vocabSize, activation='softmax'))\n",
    "model.compile(loss='categorical_crossentropy',optimizer='adam',metrics=['accuracy'])\n",
    "model.fit(x, y, epochs=200, batch_size=10)"
   ]
  },
  {
   "cell_type": "code",
   "execution_count": 57,
   "metadata": {
    "tags": []
   },
   "outputs": [
    {
     "output_type": "execute_result",
     "data": {
      "text/plain": "'you little big leader of afghan if jail its long them'"
     },
     "metadata": {},
     "execution_count": 57
    }
   ],
   "source": [
    "def sentence_generation(model, t, cw, n):\n",
    "    #문장 예측 생성\n",
    "    initWord = cw #시작단어 저장\n",
    "    sentence =''\n",
    "    for _ in range(n):\n",
    "        #4번 반복\n",
    "        #_ : 변수가 없다. \n",
    "        # print(t.texts_to_sequences([cw]))\n",
    "        encoded = t.texts_to_sequences([cw])[0]\n",
    "        encoded =pad_sequences([encoded], maxlen=5, padding='pre')\n",
    "        # print(encoded)\n",
    "        result = model.predict_classes(encoded)\n",
    "        # print(result)\n",
    "        for word, index in t.word_index.items():\n",
    "            if index==result:\n",
    "                break\n",
    "        cw=cw+\" \"+ word #\"들판에 있는\"\n",
    "        sentence = sentence+\" \"+ word\n",
    "    sentence=initWord+sentence\n",
    "    return sentence\n",
    "\n",
    "sentence_generation(model, t, 'you', 10)"
   ]
  }
 ]
}