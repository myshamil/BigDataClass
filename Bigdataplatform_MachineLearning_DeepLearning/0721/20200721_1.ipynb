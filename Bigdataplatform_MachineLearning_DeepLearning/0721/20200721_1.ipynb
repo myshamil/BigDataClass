{
 "cells": [
  {
   "cell_type": "code",
   "execution_count": 1,
   "metadata": {},
   "outputs": [],
   "source": [
    "\"\"\"\n",
    "딸기:OOV(Out of Voc)\n",
    "코퍼스(분석 대상 분야 문서 집합)\n",
    "문서1) 저는 사과 좋아요\n",
    "문서2) 저는 바나나 좋아요\n",
    "문서3) 저는 바나나 좋아요 저는 바나나 좋아요\n",
    "\"\"\"\n",
    "import numpy as np\n",
    "from numpy.linalg import norm\n",
    "from numpy import dot\n",
    "#dot:두 벡터 내적\n",
    "#norm:벡터의 크기\n",
    "\n",
    "#     바나나 사과 저는 좋아요\n",
    "#d1     0     1    1       1\n",
    "#d2     1      0   1       1\n",
    "#d3     2     0     2      2\n",
    "doc1=np.array([0,1,1,1])\n",
    "doc2=np.array([1,0,1,1])\n",
    "doc3=np.array([2,0,2,2])"
   ]
  },
  {
   "cell_type": "code",
   "execution_count": 2,
   "metadata": {},
   "outputs": [
    {
     "output_type": "execute_result",
     "data": {
      "text/plain": "1.7320508075688772"
     },
     "metadata": {},
     "execution_count": 2
    }
   ],
   "source": [
    "dot(doc1,doc2) #두 벡터의 내적\n",
    "norm(doc1)\n",
    "\n",
    "#코사인 유사도\n",
    "#doc1,doc2\n",
    "#doc1,doc3\n",
    "#doc2,doc3\n"
   ]
  },
  {
   "cell_type": "code",
   "execution_count": 3,
   "metadata": {},
   "outputs": [],
   "source": [
    "#https://www.kaggle.com/rounakbanik/the-movies-dataset"
   ]
  },
  {
   "cell_type": "code",
   "execution_count": 4,
   "metadata": {},
   "outputs": [],
   "source": [
    "import pandas as pd"
   ]
  },
  {
   "cell_type": "code",
   "execution_count": 5,
   "metadata": {},
   "outputs": [
    {
     "output_type": "execute_result",
     "data": {
      "text/plain": "   adult                              belongs_to_collection    budget  \\\n0  False  {'id': 10194, 'name': 'Toy Story Collection', ...  30000000   \n1  False                                                NaN  65000000   \n2  False  {'id': 119050, 'name': 'Grumpy Old Men Collect...         0   \n3  False                                                NaN  16000000   \n4  False  {'id': 96871, 'name': 'Father of the Bride Col...         0   \n\n                                              genres  \\\n0  [{'id': 16, 'name': 'Animation'}, {'id': 35, '...   \n1  [{'id': 12, 'name': 'Adventure'}, {'id': 14, '...   \n2  [{'id': 10749, 'name': 'Romance'}, {'id': 35, ...   \n3  [{'id': 35, 'name': 'Comedy'}, {'id': 18, 'nam...   \n4                     [{'id': 35, 'name': 'Comedy'}]   \n\n                               homepage     id    imdb_id original_language  \\\n0  http://toystory.disney.com/toy-story    862  tt0114709                en   \n1                                   NaN   8844  tt0113497                en   \n2                                   NaN  15602  tt0113228                en   \n3                                   NaN  31357  tt0114885                en   \n4                                   NaN  11862  tt0113041                en   \n\n                original_title  \\\n0                    Toy Story   \n1                      Jumanji   \n2             Grumpier Old Men   \n3            Waiting to Exhale   \n4  Father of the Bride Part II   \n\n                                            overview  ... release_date  \\\n0  Led by Woody, Andy's toys live happily in his ...  ...   1995-10-30   \n1  When siblings Judy and Peter discover an encha...  ...   1995-12-15   \n2  A family wedding reignites the ancient feud be...  ...   1995-12-22   \n3  Cheated on, mistreated and stepped on, the wom...  ...   1995-12-22   \n4  Just when George Banks has recovered from his ...  ...   1995-02-10   \n\n       revenue runtime                                   spoken_languages  \\\n0  373554033.0    81.0           [{'iso_639_1': 'en', 'name': 'English'}]   \n1  262797249.0   104.0  [{'iso_639_1': 'en', 'name': 'English'}, {'iso...   \n2          0.0   101.0           [{'iso_639_1': 'en', 'name': 'English'}]   \n3   81452156.0   127.0           [{'iso_639_1': 'en', 'name': 'English'}]   \n4   76578911.0   106.0           [{'iso_639_1': 'en', 'name': 'English'}]   \n\n     status                                            tagline  \\\n0  Released                                                NaN   \n1  Released          Roll the dice and unleash the excitement!   \n2  Released  Still Yelling. Still Fighting. Still Ready for...   \n3  Released  Friends are the people who let you be yourself...   \n4  Released  Just When His World Is Back To Normal... He's ...   \n\n                         title  video vote_average vote_count  \n0                    Toy Story  False          7.7     5415.0  \n1                      Jumanji  False          6.9     2413.0  \n2             Grumpier Old Men  False          6.5       92.0  \n3            Waiting to Exhale  False          6.1       34.0  \n4  Father of the Bride Part II  False          5.7      173.0  \n\n[5 rows x 24 columns]",
      "text/html": "<div>\n<style scoped>\n    .dataframe tbody tr th:only-of-type {\n        vertical-align: middle;\n    }\n\n    .dataframe tbody tr th {\n        vertical-align: top;\n    }\n\n    .dataframe thead th {\n        text-align: right;\n    }\n</style>\n<table border=\"1\" class=\"dataframe\">\n  <thead>\n    <tr style=\"text-align: right;\">\n      <th></th>\n      <th>adult</th>\n      <th>belongs_to_collection</th>\n      <th>budget</th>\n      <th>genres</th>\n      <th>homepage</th>\n      <th>id</th>\n      <th>imdb_id</th>\n      <th>original_language</th>\n      <th>original_title</th>\n      <th>overview</th>\n      <th>...</th>\n      <th>release_date</th>\n      <th>revenue</th>\n      <th>runtime</th>\n      <th>spoken_languages</th>\n      <th>status</th>\n      <th>tagline</th>\n      <th>title</th>\n      <th>video</th>\n      <th>vote_average</th>\n      <th>vote_count</th>\n    </tr>\n  </thead>\n  <tbody>\n    <tr>\n      <th>0</th>\n      <td>False</td>\n      <td>{'id': 10194, 'name': 'Toy Story Collection', ...</td>\n      <td>30000000</td>\n      <td>[{'id': 16, 'name': 'Animation'}, {'id': 35, '...</td>\n      <td>http://toystory.disney.com/toy-story</td>\n      <td>862</td>\n      <td>tt0114709</td>\n      <td>en</td>\n      <td>Toy Story</td>\n      <td>Led by Woody, Andy's toys live happily in his ...</td>\n      <td>...</td>\n      <td>1995-10-30</td>\n      <td>373554033.0</td>\n      <td>81.0</td>\n      <td>[{'iso_639_1': 'en', 'name': 'English'}]</td>\n      <td>Released</td>\n      <td>NaN</td>\n      <td>Toy Story</td>\n      <td>False</td>\n      <td>7.7</td>\n      <td>5415.0</td>\n    </tr>\n    <tr>\n      <th>1</th>\n      <td>False</td>\n      <td>NaN</td>\n      <td>65000000</td>\n      <td>[{'id': 12, 'name': 'Adventure'}, {'id': 14, '...</td>\n      <td>NaN</td>\n      <td>8844</td>\n      <td>tt0113497</td>\n      <td>en</td>\n      <td>Jumanji</td>\n      <td>When siblings Judy and Peter discover an encha...</td>\n      <td>...</td>\n      <td>1995-12-15</td>\n      <td>262797249.0</td>\n      <td>104.0</td>\n      <td>[{'iso_639_1': 'en', 'name': 'English'}, {'iso...</td>\n      <td>Released</td>\n      <td>Roll the dice and unleash the excitement!</td>\n      <td>Jumanji</td>\n      <td>False</td>\n      <td>6.9</td>\n      <td>2413.0</td>\n    </tr>\n    <tr>\n      <th>2</th>\n      <td>False</td>\n      <td>{'id': 119050, 'name': 'Grumpy Old Men Collect...</td>\n      <td>0</td>\n      <td>[{'id': 10749, 'name': 'Romance'}, {'id': 35, ...</td>\n      <td>NaN</td>\n      <td>15602</td>\n      <td>tt0113228</td>\n      <td>en</td>\n      <td>Grumpier Old Men</td>\n      <td>A family wedding reignites the ancient feud be...</td>\n      <td>...</td>\n      <td>1995-12-22</td>\n      <td>0.0</td>\n      <td>101.0</td>\n      <td>[{'iso_639_1': 'en', 'name': 'English'}]</td>\n      <td>Released</td>\n      <td>Still Yelling. Still Fighting. Still Ready for...</td>\n      <td>Grumpier Old Men</td>\n      <td>False</td>\n      <td>6.5</td>\n      <td>92.0</td>\n    </tr>\n    <tr>\n      <th>3</th>\n      <td>False</td>\n      <td>NaN</td>\n      <td>16000000</td>\n      <td>[{'id': 35, 'name': 'Comedy'}, {'id': 18, 'nam...</td>\n      <td>NaN</td>\n      <td>31357</td>\n      <td>tt0114885</td>\n      <td>en</td>\n      <td>Waiting to Exhale</td>\n      <td>Cheated on, mistreated and stepped on, the wom...</td>\n      <td>...</td>\n      <td>1995-12-22</td>\n      <td>81452156.0</td>\n      <td>127.0</td>\n      <td>[{'iso_639_1': 'en', 'name': 'English'}]</td>\n      <td>Released</td>\n      <td>Friends are the people who let you be yourself...</td>\n      <td>Waiting to Exhale</td>\n      <td>False</td>\n      <td>6.1</td>\n      <td>34.0</td>\n    </tr>\n    <tr>\n      <th>4</th>\n      <td>False</td>\n      <td>{'id': 96871, 'name': 'Father of the Bride Col...</td>\n      <td>0</td>\n      <td>[{'id': 35, 'name': 'Comedy'}]</td>\n      <td>NaN</td>\n      <td>11862</td>\n      <td>tt0113041</td>\n      <td>en</td>\n      <td>Father of the Bride Part II</td>\n      <td>Just when George Banks has recovered from his ...</td>\n      <td>...</td>\n      <td>1995-02-10</td>\n      <td>76578911.0</td>\n      <td>106.0</td>\n      <td>[{'iso_639_1': 'en', 'name': 'English'}]</td>\n      <td>Released</td>\n      <td>Just When His World Is Back To Normal... He's ...</td>\n      <td>Father of the Bride Part II</td>\n      <td>False</td>\n      <td>5.7</td>\n      <td>173.0</td>\n    </tr>\n  </tbody>\n</table>\n<p>5 rows × 24 columns</p>\n</div>"
     },
     "metadata": {},
     "execution_count": 5
    }
   ],
   "source": [
    "data=pd.read_csv(\"data/movies_metadata.csv\")\n",
    "data.head()"
   ]
  },
  {
   "cell_type": "code",
   "execution_count": 6,
   "metadata": {
    "tags": []
   },
   "outputs": [
    {
     "output_type": "stream",
     "name": "stdout",
     "text": "<class 'pandas.core.frame.DataFrame'>\nRangeIndex: 45466 entries, 0 to 45465\nData columns (total 24 columns):\n #   Column                 Non-Null Count  Dtype  \n---  ------                 --------------  -----  \n 0   adult                  45466 non-null  object \n 1   belongs_to_collection  4494 non-null   object \n 2   budget                 45466 non-null  object \n 3   genres                 45466 non-null  object \n 4   homepage               7782 non-null   object \n 5   id                     45466 non-null  object \n 6   imdb_id                45449 non-null  object \n 7   original_language      45455 non-null  object \n 8   original_title         45466 non-null  object \n 9   overview               44512 non-null  object \n 10  popularity             45461 non-null  object \n 11  poster_path            45080 non-null  object \n 12  production_companies   45463 non-null  object \n 13  production_countries   45463 non-null  object \n 14  release_date           45379 non-null  object \n 15  revenue                45460 non-null  float64\n 16  runtime                45203 non-null  float64\n 17  spoken_languages       45460 non-null  object \n 18  status                 45379 non-null  object \n 19  tagline                20412 non-null  object \n 20  title                  45460 non-null  object \n 21  video                  45460 non-null  object \n 22  vote_average           45460 non-null  float64\n 23  vote_count             45460 non-null  float64\ndtypes: float64(4), object(20)\nmemory usage: 8.3+ MB\n"
    }
   ],
   "source": [
    "data.info()"
   ]
  },
  {
   "cell_type": "code",
   "execution_count": 7,
   "metadata": {},
   "outputs": [],
   "source": [
    "data=data.head(20000)"
   ]
  },
  {
   "cell_type": "code",
   "execution_count": 8,
   "metadata": {},
   "outputs": [
    {
     "output_type": "execute_result",
     "data": {
      "text/plain": "135"
     },
     "metadata": {},
     "execution_count": 8
    }
   ],
   "source": [
    "data['overview'].isnull().sum()"
   ]
  },
  {
   "cell_type": "code",
   "execution_count": 9,
   "metadata": {},
   "outputs": [],
   "source": [
    "data['overview']=data['overview'].fillna('')"
   ]
  },
  {
   "cell_type": "code",
   "execution_count": 10,
   "metadata": {},
   "outputs": [
    {
     "output_type": "execute_result",
     "data": {
      "text/plain": "0"
     },
     "metadata": {},
     "execution_count": 10
    }
   ],
   "source": [
    "data['overview'].isnull().sum()"
   ]
  },
  {
   "cell_type": "code",
   "execution_count": 11,
   "metadata": {},
   "outputs": [],
   "source": [
    "#TFIDF 구하기\n",
    "from sklearn.feature_extraction.text import TfidfVectorizer"
   ]
  },
  {
   "cell_type": "code",
   "execution_count": 12,
   "metadata": {},
   "outputs": [],
   "source": [
    "Tfidf=TfidfVectorizer(stop_words='english')"
   ]
  },
  {
   "cell_type": "code",
   "execution_count": 13,
   "metadata": {},
   "outputs": [],
   "source": [
    "TfidfMatrix=Tfidf.fit_transform(data['overview'])"
   ]
  },
  {
   "cell_type": "code",
   "execution_count": 14,
   "metadata": {},
   "outputs": [
    {
     "output_type": "execute_result",
     "data": {
      "text/plain": "(20000, 47487)"
     },
     "metadata": {},
     "execution_count": 14
    }
   ],
   "source": [
    "TfidfMatrix.shape"
   ]
  },
  {
   "cell_type": "code",
   "execution_count": 15,
   "metadata": {},
   "outputs": [],
   "source": [
    "#코사인 유사도(linear_kernel)\n",
    "from sklearn.metrics.pairwise import linear_kernel"
   ]
  },
  {
   "cell_type": "code",
   "execution_count": 16,
   "metadata": {},
   "outputs": [],
   "source": [
    "cos_sim=linear_kernel(TfidfMatrix, TfidfMatrix)"
   ]
  },
  {
   "cell_type": "code",
   "execution_count": 17,
   "metadata": {},
   "outputs": [
    {
     "output_type": "execute_result",
     "data": {
      "text/plain": "array([[1.        , 0.01575748, 0.        , ..., 0.        , 0.        ,\n        0.        ],\n       [0.01575748, 1.        , 0.04907345, ..., 0.        , 0.        ,\n        0.        ],\n       [0.        , 0.04907345, 1.        , ..., 0.        , 0.        ,\n        0.        ],\n       ...,\n       [0.        , 0.        , 0.        , ..., 1.        , 0.        ,\n        0.08375766],\n       [0.        , 0.        , 0.        , ..., 0.        , 1.        ,\n        0.        ],\n       [0.        , 0.        , 0.        , ..., 0.08375766, 0.        ,\n        1.        ]])"
     },
     "metadata": {},
     "execution_count": 17
    }
   ],
   "source": [
    "cos_sim.shape\n",
    "cos_sim"
   ]
  },
  {
   "cell_type": "code",
   "execution_count": 18,
   "metadata": {},
   "outputs": [],
   "source": [
    "# 1. Toy Story 영화 제목 입력\n",
    "# 2. Toy Story 코사인 유사도가 가장 높은 영화 제목을 추출"
   ]
  },
  {
   "cell_type": "code",
   "execution_count": 19,
   "metadata": {},
   "outputs": [
    {
     "output_type": "execute_result",
     "data": {
      "text/plain": "Index(['adult', 'belongs_to_collection', 'budget', 'genres', 'homepage', 'id',\n       'imdb_id', 'original_language', 'original_title', 'overview',\n       'popularity', 'poster_path', 'production_companies',\n       'production_countries', 'release_date', 'revenue', 'runtime',\n       'spoken_languages', 'status', 'tagline', 'title', 'video',\n       'vote_average', 'vote_count'],\n      dtype='object')"
     },
     "metadata": {},
     "execution_count": 19
    }
   ],
   "source": [
    "data.columns"
   ]
  },
  {
   "cell_type": "code",
   "execution_count": 20,
   "metadata": {
    "tags": []
   },
   "outputs": [
    {
     "output_type": "stream",
     "name": "stdout",
     "text": "title\nToy Story                      0\nJumanji                        1\nGrumpier Old Men               2\nWaiting to Exhale              3\nFather of the Bride Part II    4\ndtype: int64\n"
    }
   ],
   "source": [
    "data['title'].duplicated().sum()\n",
    "\n",
    "indices=pd.Series(data.index, \n",
    "                  index=data['title']).drop_duplicates()\n",
    "print(indices.head())\n",
    "#data.index"
   ]
  },
  {
   "cell_type": "code",
   "execution_count": 21,
   "metadata": {},
   "outputs": [],
   "source": [
    "# df=pd.DataFrame({'k1':['a','b','b','c','b','c']})\n",
    "# df.duplicated(['k1']).sum()\n",
    "# df.drop_duplicates()"
   ]
  },
  {
   "cell_type": "code",
   "execution_count": 22,
   "metadata": {},
   "outputs": [
    {
     "output_type": "execute_result",
     "data": {
      "text/plain": "RangeIndex(start=0, stop=20000, step=1)"
     },
     "metadata": {},
     "execution_count": 22
    }
   ],
   "source": [
    "data.index"
   ]
  },
  {
   "cell_type": "code",
   "execution_count": 23,
   "metadata": {},
   "outputs": [
    {
     "output_type": "execute_result",
     "data": {
      "text/plain": "0            0\n1            1\n2            2\n3            3\n4            4\n         ...  \n19995    19995\n19996    19996\n19997    19997\n19998    19998\n19999    19999\nLength: 20000, dtype: int64"
     },
     "metadata": {},
     "execution_count": 23
    }
   ],
   "source": [
    "pd.Series(data.index)"
   ]
  },
  {
   "cell_type": "code",
   "execution_count": 24,
   "metadata": {},
   "outputs": [
    {
     "output_type": "execute_result",
     "data": {
      "text/plain": "Batman     585\nBatman    8603\ndtype: int64"
     },
     "metadata": {},
     "execution_count": 24
    }
   ],
   "source": [
    "indices['Batman']"
   ]
  },
  {
   "cell_type": "code",
   "execution_count": 25,
   "metadata": {},
   "outputs": [],
   "source": [
    "def getRecommendation(title, cosine_sim=cos_sim):\n",
    "    #title에 저장된 영화 제목으로 코사인 유사도가\n",
    "    #가장 높은 10편의 영화를 추출\n",
    "    idx=indices[title]\n",
    "    simScores=list(enumerate(cosine_sim[idx]))\n",
    "    #simScores의 유사도값을 기준으로 내림차순 정렬\n",
    "    simScores=sorted(simScores, key=lambda x:x[1],reverse=True)\n",
    "    simScores=simScores[1:21]\n",
    "    movieidx=[i[0] for i in simScores]    \n",
    "    return data['title'].iloc[movieidx]"
   ]
  },
  {
   "cell_type": "code",
   "execution_count": 26,
   "metadata": {},
   "outputs": [
    {
     "output_type": "execute_result",
     "data": {
      "text/plain": "15348                                    Toy Story 3\n2997                                     Toy Story 2\n10301                         The 40 Year Old Virgin\n8327                                       The Champ\n1071                           Rebel Without a Cause\n11399                         For Your Consideration\n1932                                       Condorman\n3057                                 Man on the Moon\n485                                           Malice\n11606                                   Factory Girl\n17189                                      Group Sex\n7254                                  Africa Screams\n5797                                   Class of 1984\n13947                            The Gang's All Here\n1032                                   The Sunchaser\n3252                                 Bound for Glory\n2157                               Indecent Proposal\n7615     The First $20 Million Is Always the Hardest\n6944                                Rivers and Tides\n19976                                   Dragon Fight\nName: title, dtype: object"
     },
     "metadata": {},
     "execution_count": 26
    }
   ],
   "source": [
    "getRecommendation(\"Toy Story\")"
   ]
  },
  {
   "cell_type": "code",
   "execution_count": 27,
   "metadata": {},
   "outputs": [],
   "source": [
    "#영화 리뷰 분류(이진 분류)"
   ]
  },
  {
   "cell_type": "code",
   "execution_count": 28,
   "metadata": {},
   "outputs": [],
   "source": [
    "from keras.datasets import imdb"
   ]
  },
  {
   "cell_type": "code",
   "execution_count": 29,
   "metadata": {
    "tags": []
   },
   "outputs": [],
   "source": [
    "(traindata,trainlabels),(testdata,testlabels)=imdb.load_data(num_words=10000)\n",
    "#자주 사용되는 단어 10000개만 추려서 사용"
   ]
  },
  {
   "cell_type": "code",
   "execution_count": 30,
   "metadata": {},
   "outputs": [
    {
     "output_type": "execute_result",
     "data": {
      "text/plain": "(25000,)"
     },
     "metadata": {},
     "execution_count": 30
    }
   ],
   "source": [
    "#traindata.shape #25000 개 훈련데이터(리뷰)\n",
    "#traindata\n",
    "trainlabels #0:부정, 1:긍정\n",
    "testdata.shape"
   ]
  },
  {
   "cell_type": "code",
   "execution_count": 31,
   "metadata": {},
   "outputs": [
    {
     "output_type": "execute_result",
     "data": {
      "text/plain": "[1,\n 14,\n 22,\n 16,\n 43,\n 530,\n 973,\n 1622,\n 1385,\n 65,\n 458,\n 4468,\n 66,\n 3941,\n 4,\n 173,\n 36,\n 256,\n 5,\n 25,\n 100,\n 43,\n 838,\n 112,\n 50,\n 670,\n 2,\n 9,\n 35,\n 480,\n 284,\n 5,\n 150,\n 4,\n 172,\n 112,\n 167,\n 2,\n 336,\n 385,\n 39,\n 4,\n 172,\n 4536,\n 1111,\n 17,\n 546,\n 38,\n 13,\n 447,\n 4,\n 192,\n 50,\n 16,\n 6,\n 147,\n 2025,\n 19,\n 14,\n 22,\n 4,\n 1920,\n 4613,\n 469,\n 4,\n 22,\n 71,\n 87,\n 12,\n 16,\n 43,\n 530,\n 38,\n 76,\n 15,\n 13,\n 1247,\n 4,\n 22,\n 17,\n 515,\n 17,\n 12,\n 16,\n 626,\n 18,\n 2,\n 5,\n 62,\n 386,\n 12,\n 8,\n 316,\n 8,\n 106,\n 5,\n 4,\n 2223,\n 5244,\n 16,\n 480,\n 66,\n 3785,\n 33,\n 4,\n 130,\n 12,\n 16,\n 38,\n 619,\n 5,\n 25,\n 124,\n 51,\n 36,\n 135,\n 48,\n 25,\n 1415,\n 33,\n 6,\n 22,\n 12,\n 215,\n 28,\n 77,\n 52,\n 5,\n 14,\n 407,\n 16,\n 82,\n 2,\n 8,\n 4,\n 107,\n 117,\n 5952,\n 15,\n 256,\n 4,\n 2,\n 7,\n 3766,\n 5,\n 723,\n 36,\n 71,\n 43,\n 530,\n 476,\n 26,\n 400,\n 317,\n 46,\n 7,\n 4,\n 2,\n 1029,\n 13,\n 104,\n 88,\n 4,\n 381,\n 15,\n 297,\n 98,\n 32,\n 2071,\n 56,\n 26,\n 141,\n 6,\n 194,\n 7486,\n 18,\n 4,\n 226,\n 22,\n 21,\n 134,\n 476,\n 26,\n 480,\n 5,\n 144,\n 30,\n 5535,\n 18,\n 51,\n 36,\n 28,\n 224,\n 92,\n 25,\n 104,\n 4,\n 226,\n 65,\n 16,\n 38,\n 1334,\n 88,\n 12,\n 16,\n 283,\n 5,\n 16,\n 4472,\n 113,\n 103,\n 32,\n 15,\n 16,\n 5345,\n 19,\n 178,\n 32]"
     },
     "metadata": {},
     "execution_count": 31
    }
   ],
   "source": [
    "traindata[0]"
   ]
  },
  {
   "cell_type": "code",
   "execution_count": 32,
   "metadata": {},
   "outputs": [
    {
     "output_type": "execute_result",
     "data": {
      "text/plain": "9999"
     },
     "metadata": {},
     "execution_count": 32
    }
   ],
   "source": [
    "maxseq=[max(seq) for seq in traindata]\n",
    "max(maxseq)\n",
    "    "
   ]
  },
  {
   "cell_type": "code",
   "execution_count": 33,
   "metadata": {
    "tags": []
   },
   "outputs": [],
   "source": [
    "word_index=imdb.get_word_index()#(단어, 인덱스)\n",
    "reverse_word_index=dict([(value, key) #(인덱스, 단어)\n",
    "      for (key, value) \n",
    "      in word_index.items()])"
   ]
  },
  {
   "cell_type": "code",
   "execution_count": 34,
   "metadata": {
    "tags": []
   },
   "outputs": [
    {
     "output_type": "stream",
     "name": "stdout",
     "text": "?\n"
    }
   ],
   "source": [
    "reverse_word_index\n",
    "#traindata[0]\n",
    "print(reverse_word_index.get(1000000,\"?\"))\n",
    "#만약 인덱스가 100만이 존재하지 않다면 ?로 대체해라\n",
    "\n",
    "#0, 1, 2 는 \"패딩\", \"문서 시작\", \" 사전에 없음(oov)\"\n",
    "#을 인덱스로 약속되어 사용됨. 따라서 위 3개는 제외\n",
    "#위 3개는 물음표 문자로 대체\n",
    "\n",
    "decodedReview=\" \".join(reverse_word_index.get(i-3,\"?\")\n",
    "                       for i in traindata[0])"
   ]
  },
  {
   "cell_type": "code",
   "execution_count": 35,
   "metadata": {},
   "outputs": [
    {
     "output_type": "execute_result",
     "data": {
      "text/plain": "\"? this film was just brilliant casting location scenery story direction everyone's really suited the part they played and you could just imagine being there robert ? is an amazing actor and now the same being director ? father came from the same scottish island as myself so i loved the fact there was a real connection with this film the witty remarks throughout the film were great it was just brilliant so much that i bought the film as soon as it was released for ? and would recommend it to everyone to watch and the fly fishing was amazing really cried at the end it was so sad and you know what they say if you cry at a film it must have been good and this definitely was also ? to the two little boy's that played the ? of norman and paul they were just brilliant children are often left out of the ? list i think because the stars that play them all grown up are such a big profile for the whole film but these children are amazing and should be praised for what they have done don't you think the whole story was so lovely because it was true and was someone's life after all that was shared with us all\""
     },
     "metadata": {},
     "execution_count": 35
    }
   ],
   "source": [
    "decodedReview"
   ]
  },
  {
   "cell_type": "code",
   "execution_count": null,
   "metadata": {},
   "outputs": [],
   "source": []
  },
  {
   "cell_type": "code",
   "execution_count": 100,
   "metadata": {},
   "outputs": [
    {
     "output_type": "execute_result",
     "data": {
      "text/plain": "array([[ 1,  5,  0,  0,  0,  0,  0],\n       [ 1,  8,  5,  0,  0,  0,  0],\n       [ 1,  3,  5,  0,  0,  0,  0],\n       [ 9,  2,  0,  0,  0,  0,  0],\n       [ 2,  4,  3,  2,  0,  0,  0],\n       [ 3,  2,  0,  0,  0,  0,  0],\n       [ 1,  4,  6,  0,  0,  0,  0],\n       [ 1,  4,  6,  0,  0,  0,  0],\n       [ 1,  4,  2,  0,  0,  0,  0],\n       [ 7,  7,  3,  2, 10,  1, 11],\n       [ 1, 12,  3, 13,  0,  0,  0]])"
     },
     "metadata": {},
     "execution_count": 100
    }
   ],
   "source": [
    "# tok.index_word\n",
    "encoded=tok.texts_to_sequences(sentences)\n",
    "encoded \n",
    "# 모든 문장들의 길이를 동일하게 해줘야 한다. \n",
    "# encoded에 저장된 문장들 중에서 가장 긴 문장의 길이를 구해보자 \n",
    "[len(item) for item in encoded] #문장의 길이를 구해보자 \n",
    "maxLen=max(len(item) for item in encoded) # 최대 문장의 길이 7\n",
    "for item in encoded:\n",
    "    while len(item)<maxLen:\n",
    "        item.append(0)\n",
    "padded_np = np.array(encoded)\n",
    "padded_np"
   ]
  },
  {
   "cell_type": "code",
   "execution_count": 101,
   "metadata": {},
   "outputs": [],
   "source": [
    "from tensorflow.keras.preprocessing.sequence import pad_sequences"
   ]
  },
  {
   "cell_type": "code",
   "execution_count": 102,
   "metadata": {},
   "outputs": [],
   "source": [
    "from tensorflow.keras.preprocessing import sequence"
   ]
  },
  {
   "cell_type": "code",
   "execution_count": 103,
   "metadata": {},
   "outputs": [
    {
     "output_type": "execute_result",
     "data": {
      "text/plain": "array([[ 1,  5,  0,  0,  0,  0,  0],\n       [ 1,  8,  5,  0,  0,  0,  0],\n       [ 1,  3,  5,  0,  0,  0,  0],\n       [ 9,  2,  0,  0,  0,  0,  0],\n       [ 2,  4,  3,  2,  0,  0,  0],\n       [ 3,  2,  0,  0,  0,  0,  0],\n       [ 1,  4,  6,  0,  0,  0,  0],\n       [ 1,  4,  6,  0,  0,  0,  0],\n       [ 1,  4,  2,  0,  0,  0,  0],\n       [ 7,  7,  3,  2, 10,  1, 11],\n       [ 1, 12,  3, 13,  0,  0,  0]])"
     },
     "metadata": {},
     "execution_count": 103
    }
   ],
   "source": [
    "encoded=tok.texts_to_sequences(sentences)\n",
    "padded=sequence.pad_sequences(encoded,padding='post')\n",
    "padded"
   ]
  },
  {
   "cell_type": "code",
   "execution_count": 104,
   "metadata": {},
   "outputs": [
    {
     "output_type": "execute_result",
     "data": {
      "text/plain": "array([[ 1,  5,  0,  0,  0,  0,  0],\n       [ 1,  8,  5,  0,  0,  0,  0],\n       [ 1,  3,  5,  0,  0,  0,  0],\n       [ 9,  2,  0,  0,  0,  0,  0],\n       [ 2,  4,  3,  2,  0,  0,  0],\n       [ 3,  2,  0,  0,  0,  0,  0],\n       [ 1,  4,  6,  0,  0,  0,  0],\n       [ 1,  4,  6,  0,  0,  0,  0],\n       [ 1,  4,  2,  0,  0,  0,  0],\n       [ 7,  7,  3,  2, 10,  1, 11],\n       [ 1, 12,  3, 13,  0,  0,  0]])"
     },
     "metadata": {},
     "execution_count": 104
    }
   ],
   "source": [
    "\"\"\"\n",
    "패딩: 문장의 길이가 다름 ->문장의 길이를 동일하게 해줌 \n",
    "신경망 모델을 만들기 위해서는 먼저 패딩을 수행하여\n",
    "모든 문장의 길이를 동일하게 해줘야 함. \n",
    "\"\"\"\n",
    "sentences = [['barber', 'person'], \n",
    "            ['barber', 'good', 'person'], ['barber', 'huge', 'person'], \n",
    "            ['knew', 'secret'], ['secret', 'kept', 'huge', 'secret'], ['huge', 'secret'], ['barber', 'kept', 'word'], \n",
    "            ['barber', 'kept', 'word'], ['barber', 'kept', 'secret'], ['keeping', 'keeping', 'huge', 'secret', 'driving', 'barber', 'crazy'], \n",
    "            ['barber', 'went', 'huge', 'mountain']]\n",
    "#정수 인코딩\n",
    "from tensorflow.keras.preprocessing.text import Tokenizer\n",
    "tok=Tokenizer()\n",
    "tok.fit_on_texts(sentences)\n",
    "#빈도수를 기준으로 단어 집합을 생성해주는 함수 \n",
    "# tok.index_word\n",
    "encoded=tok.texts_to_sequences(sentences)\n",
    "encoded \n",
    "# 모든 문장들의 길이를 동일하게 해줘야 한다. \n",
    "# encoded에 저장된 문장들 중에서 가장 긴 문장의 길이를 구해보자 \n",
    "[len(item) for item in encoded] #문장의 길이를 구해보자 \n",
    "maxLen=max(len(item) for item in encoded) # 최대 문장의 길이 7\n",
    "for item in encoded:\n",
    "    while len(item)<maxLen:\n",
    "        item.append(0)\n",
    "padded_np = np.array(encoded)\n",
    "padded_np\n",
    "from tensorflow.keras.preprocessing.sequence import pad_sequences\n",
    "sentences\n",
    "#케라스에서 제로 패딩 \n",
    "encoded=tok.texts_to_sequences(sentences)\n",
    "padded=pad_sequences(encoded, padding='post') #반대로 나온것을 뒤집어서 출력 \n",
    "padded"
   ]
  },
  {
   "cell_type": "code",
   "execution_count": 112,
   "metadata": {
    "tags": [
     "outputPrepend"
    ]
   },
   "outputs": [
    {
     "output_type": "stream",
     "name": "stdout",
     "text": "882, 11, 6, 96, 14, 9, 24, 6, 1361, 237, 4, 1472, 248, 3230, 374, 9237, 5, 857, 32, 202, 14, 245, 21, 39, 14, 1573, 606, 863, 6, 1238, 1315, 3696, 297, 9600, 5, 4, 836, 266, 39, 406, 876, 5, 4, 1729, 7, 84, 247, 74, 6, 1019, 8194, 160, 232, 261, 14, 9, 35, 1427, 11, 4, 22, 198, 51, 166, 4, 2714, 6405, 38, 52, 10, 10, 46, 7, 470, 381]\n24982 번 문서 [1, 13, 377, 149, 14, 22, 11, 5697, 54, 13, 16, 693, 12, 16, 427, 530, 13, 258, 4, 288, 43, 6, 378, 7, 1928, 596, 13, 16, 754, 3583, 56, 5, 180, 19, 9283, 13, 1247, 12, 5, 1177, 12, 8, 61, 362, 36, 447, 12, 99, 36, 1803, 51, 715, 4, 16, 1118, 13, 161, 376, 98, 151, 88, 13, 92, 104, 979, 4, 715, 2, 5, 2, 8, 1086, 291, 154, 362, 9, 55, 52, 2, 4, 690, 26, 530, 13, 131, 377, 98, 32, 637, 131, 377, 98, 54, 146, 3293, 50, 42, 751, 2, 4044, 9, 16, 141, 6, 530, 284, 45, 6, 2240, 29, 520, 12, 56, 10, 10, 48, 25, 169, 4, 22, 818, 12, 490, 119, 12]\n24983 번 문서 [1, 13, 424, 825, 2, 9, 6, 753, 1179, 509, 422, 12, 28, 49, 52, 213, 21, 45, 6, 7319, 39, 160, 509, 4, 1421, 9, 38, 373, 885, 4, 114, 10, 10, 4, 65, 271, 39, 6, 1795, 44, 6, 581, 4579, 23, 4, 2, 54, 35, 2, 413, 6, 8202, 5, 1203, 4, 113, 6, 430, 11, 2, 4, 4579, 266, 1239, 5, 380, 6, 880, 9159, 481, 1081, 208, 45, 8350, 39, 2039, 2553, 2, 476, 7, 4, 6247, 25, 403, 12, 10, 10, 825, 2, 9, 38, 1908, 856, 22, 1201, 28, 6, 629, 561, 60, 4, 477, 136, 9, 1322, 1038, 75, 131, 100, 358, 12, 17, 263, 58, 455, 21, 13, 2788, 25, 8, 106, 142, 334, 305, 894, 335, 6, 194, 337, 78, 5, 954, 102, 125, 265, 10, 10, 470, 158]\n24984 번 문서 [1, 14, 503, 1992, 22, 3820, 4, 2, 20, 313, 7, 61, 2059, 44, 3070, 1928, 103, 94, 766, 11, 148, 504, 76, 7, 263, 368, 1615, 212, 2396, 2, 39, 2, 2, 259, 38, 14, 20, 3502, 40, 6, 2, 12, 69, 72, 2, 19, 6046, 2, 17, 5140, 150, 276, 12, 608, 38, 49, 7, 4, 1682, 1994, 71, 11, 192, 5715, 8635, 21, 89, 16, 14, 430, 19, 2, 7, 2, 8, 124, 15, 33, 4, 58, 11, 101, 420, 61, 514, 139, 69, 2, 955, 3434, 7, 7360, 2, 40, 15, 8974, 3560, 1014, 10, 10, 319, 7358, 5518, 174, 5277, 153, 303, 13, 131, 2, 2, 33, 4, 7787, 23, 2482, 209, 4, 4688, 2, 12, 62, 242, 30, 43, 160, 1257, 8, 2, 212, 21, 95, 160, 20, 15, 280, 69, 72, 11, 2, 60, 53, 2, 4, 3483, 1532, 5675, 2, 607, 61, 506, 150, 186, 1967, 5, 4569, 972, 39, 49, 99, 346, 7773, 1801, 5, 2, 9172, 139, 215, 30, 49, 318, 2, 15, 166, 1593, 2075, 2220, 789, 2, 1207, 8, 72, 14, 31, 33, 222, 5188, 2310, 46, 7, 747]\n24985 번 문서 [1, 13, 62, 40, 8, 9342, 4, 1045, 9868, 10, 10, 315, 4, 3026, 136, 1340, 26, 110, 2, 46, 11, 4, 1872, 2254, 8, 30, 623, 245, 5, 2987, 8, 1090, 49, 7, 4, 1340, 1483, 1705, 2, 2074, 5, 589, 8, 2089, 2918, 19, 98, 2, 1340, 26, 24, 2, 885, 81, 36, 126, 1671, 2, 83, 6, 4000, 3254, 36, 28, 2, 2, 6510, 5, 21, 24, 2, 4, 361, 7, 6, 2, 11, 14, 136, 9, 1755, 5, 46, 7, 1895, 7059, 48, 25, 168, 3280, 25, 80, 67, 15, 4, 2, 9, 4693, 23, 350, 7, 4, 1093, 14, 9, 242, 6, 55, 52, 5548, 15, 12, 9, 1896, 900, 12, 62, 4939]\n24986 번 문서 [1, 859, 44, 2, 2, 13, 911, 19, 14, 88, 12, 186, 15, 6, 52, 4166, 7, 4, 857, 13, 28, 332, 23, 4, 953, 1166, 8, 4, 606, 21, 815, 3743, 15, 12, 152, 1070, 6, 7585, 8, 2, 12, 218, 15, 13, 3439, 19, 15, 2707, 13, 43, 235, 15, 14, 20, 9, 6, 275, 1626, 3902, 5, 1015, 94, 205, 4762, 50, 26, 757, 7, 2096, 8, 30, 252, 21, 36, 26, 2, 3277, 54, 25, 1133, 15, 4, 1317, 8, 4, 483, 7, 257, 20, 9, 275, 11, 2, 4, 1953, 1147, 7, 4, 1321, 9, 9189, 11, 4, 953, 4, 1953, 1147, 7, 4, 1321, 2, 39, 6, 1515, 6593, 264, 72, 54, 13, 135, 15, 13, 391, 4, 2, 8, 1661, 35, 3972, 34, 267, 18, 2, 5, 2, 21, 18, 72, 12, 9, 53, 674, 8, 1483, 257, 162, 22, 17, 6, 532, 3887, 2, 86, 5, 95, 2, 61, 2, 3511, 10, 10, 4, 953, 9, 31, 7, 148, 108, 25, 79, 1849, 1417, 44, 88, 12, 186, 8, 30, 11, 49, 432, 7, 2043, 3112, 12, 218, 210, 252, 51, 12, 494, 8, 30, 4, 1299, 26, 1942, 21, 776, 8, 794, 48, 24, 8, 5709, 592, 2, 5, 4059, 8679, 297, 6, 2375, 867, 2162, 7, 2, 37, 26, 11, 4118, 2, 6, 953, 6023, 6, 4558, 4814, 2957, 23, 68, 2, 5, 36, 26, 6524, 34, 6, 2357, 3865, 132, 15, 48, 3581, 4, 4558, 80, 1203, 4, 341, 7, 31, 415, 937, 36, 92, 124, 5, 36, 80, 3911, 31, 1431, 2512, 31, 7, 4, 183, 4, 953, 6883, 9, 8, 2, 56, 14, 2504, 1092, 15, 1198, 46, 50, 263, 1729, 28, 1515, 3615, 159, 4, 4558, 9, 3581, 12, 47, 35, 3270, 5, 6923, 489, 2, 246, 2950, 280, 12, 47, 77, 3581, 687, 26, 270, 11, 1270, 15, 97, 4, 107, 832, 888, 68, 205, 3696, 5, 1685, 2598, 68, 2, 2154, 10, 10, 4, 4147, 15, 4, 953, 9, 35, 2846, 9, 221, 88, 18, 72, 12, 1568, 4, 20, 19, 6, 2, 48, 50, 26, 2, 3529, 4240, 35, 2, 448, 23, 8308, 8676, 34, 4620, 3742, 5, 24, 3742, 4, 4558, 95, 17, 4, 3573, 2, 75, 1495, 15, 1116, 12, 9, 6, 918, 2, 30, 2, 42, 4, 4448, 80, 30, 6877, 46, 13, 1408, 4, 4620, 92, 124, 4, 3615, 7, 68, 1729, 54, 36, 26, 2454, 19, 231, 4, 2154, 21, 36, 28, 57, 282, 8, 1781, 15, 4, 953, 70, 81, 233, 38, 138, 62, 36, 2257, 2, 9, 2, 2, 34, 4, 192, 15, 75, 64, 459, 44, 12, 54, 1353, 19, 6, 439, 11, 263, 205, 456, 10, 10, 4, 1987, 2, 11, 14, 20, 26, 2587, 3655, 4, 4558, 42, 92, 45, 1329, 294, 9, 6763, 19, 25, 193, 4, 278, 42, 92, 57, 31, 408, 233, 245, 18, 879, 1787, 18, 4, 882, 4, 2757, 25, 169, 1364, 2596, 129, 5130, 10, 10, 13, 2, 15, 4, 953, 9, 35, 2954, 157, 88, 12, 1580, 4, 2556, 1099, 7, 879, 80, 137, 3656, 15, 75, 26, 2605, 11, 111, 2, 9237, 25, 70, 64, 2257, 8, 30, 879, 33, 4, 6898, 7, 2, 113, 9, 15, 2204, 57, 12, 9, 64, 160, 953, 88, 95, 25, 413, 2605, 11, 4, 3615, 7, 129, 205, 3696, 50, 9, 57, 1090, 18, 178, 88, 75, 412, 23, 703, 5, 15, 9, 160, 953, 14, 9, 5248, 138, 4, 2, 3529, 11, 4, 22, 26, 1116, 2, 36, 4659, 75, 2, 8, 1515, 1553, 63, 2098, 178, 7, 263, 2204, 75, 93, 12, 8, 4599, 5, 75, 71, 3865, 18, 12, 5, 679, 83, 6734, 11, 6, 1195, 500, 10, 10, 4, 2072, 8, 1560, 723, 2, 8785, 14, 213, 247, 73, 25, 70, 64, 2541, 4, 477, 7201, 879, 42, 24, 879, 252, 21, 57, 551, 4, 812, 11, 63, 75, 2541, 4, 7201, 12, 9, 6, 7201, 2935, 10, 10, 2]\n24987 번 문서 [1, 13, 1408, 13, 144, 30, 1257, 5, 213, 46, 15, 13, 92, 264, 11, 2745, 15, 301, 146, 55, 928, 11, 4, 875, 5, 13, 358, 6, 629, 65, 17, 76, 17, 4, 375, 232, 13, 244, 6, 337, 7, 1213, 4644, 88, 36, 33, 222, 353, 8, 202, 68, 2, 6, 3749, 2651, 60, 402, 672, 7, 91, 2368, 69, 6, 1250, 722, 2367, 8, 98, 2, 1110, 47, 1082, 7, 134, 2432, 4, 2936, 533, 28, 4, 986, 8, 30, 221, 21, 17, 19, 38, 76, 635, 248, 134, 504, 12, 2478, 39, 338, 116, 5, 710, 3167, 4, 1188, 7, 4, 123, 2, 974, 15, 927, 3619, 4, 537, 13, 842, 36, 26, 60, 170, 8, 2, 11, 6, 883, 3677, 8, 1271, 8, 4, 185, 668, 2, 4, 123, 47, 111, 85, 1508, 99, 17, 409, 28, 3431, 4, 2559, 946, 461, 40, 5573, 180, 6, 2, 120, 4, 350, 1114, 5, 3884, 302, 946, 413, 43, 17, 2227, 146, 1688, 8, 4984, 49, 2793, 18, 4, 2119, 7, 722, 21, 14, 226, 2734, 19, 6, 2, 65, 6792, 9, 43, 647, 348, 15, 4, 1180, 7, 14, 123, 26, 82, 1893, 18, 1224, 351, 8052, 40, 2, 2, 2583, 5, 2, 8691, 13, 1408, 14, 9, 66, 57, 866, 48, 25, 26, 6, 783, 254, 337, 7, 1659, 2, 3864, 42, 6, 194, 635, 123, 2, 13, 482, 490, 169, 76, 8, 40, 11, 2, 1110, 18, 4, 360, 7, 178, 13, 386, 25, 798]\n24988 번 문서 [1, 13, 286, 252, 44, 397, 14, 20, 23, 288, 88, 13, 66, 81, 28, 142, 429, 84, 231, 328, 5, 428, 108, 11, 4, 6161, 1117, 21, 13, 1054, 56, 2644, 12, 553, 13, 131, 92, 391, 138, 12, 69, 8, 30, 328, 5, 428, 21, 198, 4, 64, 2, 13, 70, 67, 44, 4, 22, 5, 12, 252, 9, 6, 404, 463, 8, 67, 4, 6279, 2200, 7, 8063, 438, 24, 316, 70, 391, 6, 22, 40, 14, 21, 45, 179, 6586, 8, 148, 37, 81, 1025, 1604, 2, 2, 4, 2, 2352, 14, 20, 184, 73, 5, 4, 116, 9, 33, 222, 17, 52, 17, 15, 31, 42, 85, 1112, 8063, 108, 141, 17, 852, 852, 2, 2, 525, 10, 10, 61, 64, 440, 9, 15, 14, 1528, 152, 79, 9734, 5, 3540, 34, 6, 2136, 363, 1034, 45, 480, 8, 67, 89, 148, 493, 1142, 2, 7, 2512, 5, 131, 191, 97, 6, 20, 198, 300, 17, 52, 17, 14, 869, 364, 352, 509, 10, 10, 6220, 8, 4, 436, 1051, 158, 158]\n24989 번 문서 [1, 14, 20, 9, 38, 78, 45, 220, 52, 78, 65, 78, 116, 78, 228, 25, 403, 12, 1604, 2295, 37, 26, 4, 2, 15, 520, 14, 509, 6, 2]\n24990 번 문서 [1, 14, 20, 9, 307, 11, 111, 771, 4, 114, 4, 1137, 7, 4, 105, 4, 1380, 1381, 5, 116, 4, 40, 139, 7, 3353, 57, 1222, 2876, 133, 43, 3086, 7, 84, 294, 301, 4, 65, 47, 142, 8, 81, 19, 4, 2, 13, 169, 49, 5670, 19, 4, 3888, 1521, 2955, 99, 10, 10, 4, 5110, 8760, 917, 3047, 200, 671, 5, 119, 21, 29, 9, 918, 18, 4, 2798, 52, 18, 4, 80, 7, 27, 2, 8, 2257, 4, 671, 5, 4, 5293, 4, 784, 7, 27, 4046, 5, 17, 27, 4205, 29, 40, 11, 2, 16, 6, 52, 232, 159, 1575, 5110, 280, 6204, 671, 29, 47, 8, 30, 2, 5, 2747, 19, 1356, 476, 27, 452, 27, 336, 525, 8, 4478, 5, 9250, 4, 3806, 2, 34, 671, 29, 461, 6, 969, 444, 4, 5110, 9, 6, 2, 3888, 1521, 822, 10, 10, 4, 5059, 2, 949, 6, 275, 458, 39, 1050, 445, 8, 2, 5, 3696, 60, 14, 109, 9, 918, 949, 27, 4205, 34, 119, 5, 34, 27, 162, 2, 14, 109, 9, 66, 3210, 99, 10, 10, 761, 2, 6, 389, 2, 4509, 9, 4, 3696, 885, 34, 671, 42, 119, 42, 784, 59, 9, 3696, 429, 671, 820, 40, 2, 41, 2, 18, 5, 429, 4, 5110, 28, 210, 6, 1515, 2, 10, 10, 11, 1174, 6, 389, 20, 48, 25, 119, 438, 5, 25, 181, 8, 353, 1619, 102, 25, 70, 380, 133]\n24991 번 문서 [1, 13, 387, 6, 464, 740, 72, 83, 829, 14, 20, 5, 32, 13, 70, 135, 9, 13, 181, 8, 516, 15, 464, 10, 10, 15, 9, 35, 534, 5, 6, 320, 7, 61, 113, 13, 80, 115, 79, 145, 5, 13, 80, 1437, 2598, 12, 10, 10, 48, 874, 82, 69, 4, 78, 1996, 7, 319, 14, 20, 25, 80, 1041, 19, 72, 15, 14, 9, 427, 4, 249, 20, 126, 93, 126, 10, 10, 48, 874, 115, 110, 14, 20, 5, 26, 536, 7, 319, 12, 387, 72, 607, 25, 6, 437, 7, 58, 5, 3081, 25, 81, 24, 106, 14, 20, 12, 1870, 10, 10, 285, 11, 14, 20, 996, 4, 589, 33, 212, 5, 2, 12, 43, 266, 125, 17, 379, 4373, 5, 2317, 353, 260, 372, 11, 4, 20, 37, 26, 165, 1564, 5, 1279, 5, 24, 1922, 1558, 5, 2742, 8, 168, 33, 10, 10, 4, 116, 9, 1322, 17, 9, 4, 487, 540, 14, 16, 93, 34, 964, 9958, 13, 191, 264, 134, 84, 71, 1668, 8, 97, 141, 6, 379, 20, 218, 50, 6, 1164, 429, 15, 50, 144, 30, 10, 10, 50, 26, 6, 226, 9373, 7, 52, 503, 102, 48, 25, 26, 83, 15, 432, 7, 155, 21, 81, 24, 437, 25, 58, 23, 14, 2136, 3030, 30, 20, 10, 10, 2470]\n24992 번 문서 [1, 628, 2, 76, 40, 7698, 628, 2219, 9, 35, 6820, 1296, 6, 167, 37, 299, 19, 1326, 40, 635, 2, 383, 6040, 5, 341, 9, 2725, 8, 79, 4, 91, 1572, 39, 1221, 29, 2085, 14, 19, 108, 17, 4, 2223, 1298, 6803, 2487, 5, 4797, 1745, 4797, 4543, 5, 53, 1033, 5072, 45, 118, 8, 67, 19, 6, 788, 330, 353, 24, 8, 332, 99, 76, 44, 4, 114, 42, 4092, 30, 2262, 18, 25, 51, 13, 70, 376, 25, 9, 15, 2, 304, 25, 23, 6, 1189, 180, 83, 4, 182, 7, 2, 15, 1421, 17, 6, 5074, 18, 101, 243, 7, 2, 5424, 581, 46, 5389, 9, 142, 84, 210, 925, 7, 21, 89, 230, 70, 25, 140, 83, 12, 159, 635, 214, 2, 5, 4, 939, 304, 120, 5, 505, 83, 6, 1726, 148, 26, 4, 1326, 2842, 11, 35, 4665, 7, 2043, 4, 406, 7027, 1748, 2350, 112, 2, 34, 3497, 5, 91, 3517, 635, 410, 10, 10, 4, 65, 5, 940, 26, 321, 2, 694, 27, 3331, 55, 73, 5, 2, 961, 8, 113, 35, 4502, 182, 6739, 4, 644, 2, 5, 1807, 7331, 8, 537, 141, 17, 14, 4, 22, 287, 49, 184, 2317, 538, 21, 9, 7036, 364, 1317, 11, 4, 599, 2550, 11, 2096, 8, 85, 157, 4, 1465, 302, 29, 299, 23, 26, 115, 120, 4, 350, 5, 4, 114, 8066, 9, 55, 1089, 5, 1518, 45, 24, 4, 91, 2772, 20, 126, 21, 12, 80, 563, 25, 536, 44, 12, 1535, 5, 184, 1471, 10, 10, 4, 116, 214, 107, 3366, 56, 17, 73, 199, 3238, 2100, 1655, 5909, 5, 7403, 1164, 297, 68, 531, 950, 5, 4519, 1975, 68, 1730, 8798, 2, 5, 8681, 4, 414, 203, 306, 6, 117, 4801, 5, 2, 33, 211, 21, 15, 9, 173, 7, 4, 962, 2, 16, 170, 18, 8, 987, 6, 2, 5, 1536, 841, 15, 1457, 25, 179, 33, 2, 696, 156, 17, 3467, 2, 1561, 2, 5, 35, 262, 948, 9801, 7913, 5833, 4, 20, 60, 1931, 19, 68, 2, 1081, 354, 10, 10, 14, 20, 304, 49, 397, 343, 8, 21, 48, 25, 70, 1144, 4, 465, 1163, 541, 2656, 5, 2, 2, 65, 490, 119, 12]\n24993 번 문서 [1, 4, 20, 9, 6, 654, 2, 16, 93, 8, 97, 178, 1666, 5, 2, 51, 75, 81, 17, 75, 925, 44, 4, 350, 307, 8627, 2, 57, 881, 57, 933, 105, 164, 318, 38, 2, 1666]\n24994 번 문서 [1, 12, 62, 306, 75, 144, 7539, 2, 438, 18, 53, 74, 1533, 4, 9198, 5125, 2425, 17, 2, 56, 34, 4, 5728, 32, 148, 153, 596, 2, 42, 4, 2, 132, 11, 631, 9, 6, 2427, 5, 1685, 197, 143, 22, 246, 1685, 441, 5, 1026, 11, 1500, 199, 23, 5, 467, 4, 2558, 17, 6, 22, 584, 12, 9, 6, 2, 212, 23, 926, 5, 4642, 11, 4, 1208, 682, 182, 75, 412, 11, 6, 182, 15, 4235, 34, 4, 2, 132, 47, 3820, 4, 2, 7, 2, 5, 4, 40, 21, 367, 19, 14, 328, 212, 235, 8, 12, 12, 62, 306, 4, 22, 2, 6, 117, 2750, 5, 5245, 1341, 33, 222, 8, 72, 7, 2, 1736, 9906, 5, 263, 406, 4988, 8, 181, 8, 2, 4, 882, 2923, 38, 76, 819, 11, 263, 182, 15, 382, 186, 1536, 8, 178, 10, 10, 14, 16, 11, 882, 6, 777, 2871, 8, 2392, 9495, 438, 18, 72, 4, 22, 55, 76, 734, 83, 15, 2385, 7, 4, 1874, 498, 5556, 19, 94, 933, 1326, 5, 7345, 2, 841, 1864, 8490, 35, 911, 1962, 5, 24, 38, 76, 6, 1321, 17, 6, 2, 7, 687, 15, 203, 384, 31, 155, 42, 160, 38, 111, 211, 2002, 110, 108, 15, 361, 4, 270, 56, 4, 2, 132, 2, 5, 38, 111, 211, 45, 679, 83, 6, 491, 8, 727, 2499, 7355, 187, 6, 1255, 65, 42, 6, 1313, 65, 42, 142, 367, 148, 411, 21, 14, 22, 2080, 94, 956, 5, 904, 8, 511, 17, 6, 2691, 4157, 18, 94, 2311, 773, 2, 8, 3739, 37, 29, 9, 121, 29, 9, 5, 51, 4, 614, 4163, 496, 14, 1622, 66, 26, 10, 10, 4, 270, 56, 146, 662, 44, 2290, 301, 632, 6812, 33, 6, 1622, 19, 57, 2600, 1757, 42, 51, 575, 159, 14, 637, 1783, 208, 11, 5, 135, 45, 11, 61, 652, 240, 351, 5, 47, 77, 1412, 8, 49, 432, 7, 2, 17, 28, 32, 4, 9527, 5818, 1462, 11, 4, 543, 15, 2, 8571, 19, 26, 7, 4, 172, 559, 172, 5695, 5, 172, 2169, 6899, 8, 72, 15, 91, 7, 98, 26, 1484, 7, 68, 205, 1720, 5, 28, 77, 1412, 8, 6, 2, 4170, 7, 101, 1426, 547, 3335, 42, 91, 3517, 1460, 10, 10, 54, 75, 86, 67, 2, 29, 214, 125, 6, 2647, 63, 29, 303, 2147, 9, 7249, 11, 94, 4038, 5, 6077, 6, 2, 1709, 11, 4, 655, 7, 3968, 1282, 29, 9, 2, 5, 47, 6, 666, 7631, 21, 515, 29, 80, 30, 4, 1961, 7955, 6, 1735, 5, 4228, 2170, 2, 393, 5, 6, 344, 7, 27, 205, 601, 19, 162, 292, 11, 63, 4, 22, 166, 31, 7, 4, 118, 2, 7038, 200, 4, 3968, 5, 4, 2608, 15, 207, 126, 110, 21, 4, 162, 292, 17, 73, 17, 4, 162, 543, 9, 7971, 25, 70, 193, 2010, 1945, 25, 40, 7347, 26, 7036, 243, 5, 50, 43, 186, 8, 30, 57, 1426, 42, 2097, 8, 233, 134, 1008, 26, 118, 276, 638, 11, 6, 438, 54, 2, 131, 6, 3597, 2, 8, 4, 543, 9, 2578, 5, 9, 695, 3889, 34, 6, 22, 23, 123, 21, 316, 334, 3631, 11, 1654, 2454, 405, 50, 9, 82, 4, 2405, 463, 54, 31, 132, 47, 4584, 39, 6, 2054, 5, 1838, 2, 23, 49, 2, 21, 1462, 2371, 23, 34, 209, 8602, 10, 10, 8, 145, 56, 61, 326, 23, 316, 460, 112, 351, 5, 4, 543, 116, 17, 6, 432, 7, 2, 341, 5, 5395, 11, 831, 9, 1167, 50, 9, 6, 572, 1606, 136, 1237, 35, 8119, 2300, 2, 5, 4472, 8978, 21, 4468, 2097, 8, 4, 1494, 9, 1654, 2454, 5, 12, 3418, 145, 746, 4, 534, 4379, 6, 1720, 589, 1237, 6900, 303, 23, 266, 8, 164, 5, 305, 75, 79, 4, 213, 7, 650, 2795, 51, 45, 40, 8, 30, 3317, 180, 5153, 4134, 19, 2, 23, 129, 499, 4, 543, 1421, 17, 6, 2, 6, 2, 926, 11, 63, 4, 2, 359, 8, 532, 5395, 2, 9, 1167, 6, 273, 11, 63, 861, 4249, 70, 3916, 5, 989, 1969, 1305, 38, 21, 199, 467, 1426, 329, 5, 1797, 329, 2331, 6, 273, 11, 63, 84, 70, 589, 1720, 21, 12, 9, 1167, 8, 165, 783, 4, 543, 2, 134, 1722, 88, 4, 4019, 47, 460, 77, 224, 11, 2, 2, 5, 1346, 4, 22, 560, 25, 566, 516, 624, 1453, 849, 25, 566, 235, 1460, 42, 1426, 11, 35, 2, 7, 2, 10, 10, 21, 4, 598, 118, 173, 9, 4, 31, 15, 2, 56, 23, 25, 4235, 34, 4, 2722, 677, 234, 7, 4, 22, 5, 4, 499, 65, 15, 2013, 56, 1237, 49, 228, 582, 39, 160, 1601, 313, 12, 62, 306, 50, 9, 6, 478, 347, 200, 4, 9906, 4, 22, 2, 17, 5, 75, 79, 8, 67, 134, 9906, 64, 55, 55, 3355, 475, 38, 3355, 15, 36, 7034, 7, 6, 686, 324, 4, 9, 6, 9680, 3904, 19, 228, 5, 476, 395, 12, 1580, 113, 440, 1426, 5, 2652, 3145, 4, 609, 9, 6, 8921, 1282, 63, 2, 25, 1216, 8, 94, 5034, 1703, 56, 5, 3270, 605, 125, 213, 4, 2871, 7, 134, 107, 9906, 33, 4, 55, 130, 7, 4, 22, 1087, 8305, 25, 7, 4, 635, 2, 5, 1001, 2454, 2, 5, 285, 15, 385, 19, 12, 4, 2, 43, 16, 24, 1623, 18, 2, 5, 27, 9584, 330, 475, 5, 168, 121, 4, 2, 130, 56]\n24995 번 문서 [1, 4, 274, 9, 128, 74, 4, 22, 669, 88, 7, 4, 564, 2, 159, 13, 219, 14, 22, 294, 37, 69, 110, 12, 579, 72, 4, 119, 2399, 11, 14, 22, 218, 147, 103, 319, 14, 22, 13, 70, 67, 89, 41, 5488, 7, 2793, 11, 14, 2904, 2856, 77, 4075, 8, 85, 20, 5958, 17, 73, 2035, 49, 7, 4, 1596, 3856, 7, 119, 71, 1322, 5, 306, 8, 30, 23, 4, 1289, 7, 2111, 21, 34, 4, 130, 316, 144, 923, 14, 9, 6, 194, 749, 418, 7, 498, 12, 9, 24, 4282, 44, 119, 33, 32, 12, 1077, 119, 8, 2596, 4, 406, 2, 42, 4, 2, 6871, 7, 3125, 15, 339, 4356, 1650, 5, 3680, 12, 9, 44, 2, 5, 4, 2034, 1045, 7, 4, 183, 15, 1505, 3138, 178, 4, 2778, 136, 18, 4, 147, 756, 7, 14, 20, 9, 54, 4, 632, 42, 2, 18, 339, 18, 27, 6384, 1461, 11, 4, 2092, 9, 3714, 5, 2, 18, 4, 1007, 617, 11, 15, 136, 14, 22, 9, 82, 44, 440, 5, 7726, 4, 440, 2, 11, 4, 2, 649, 200, 2, 9026, 109, 5, 4, 1395, 2, 2, 11, 4, 2069, 2069, 649, 19, 27, 428, 2, 37, 630, 56, 1721, 5, 4, 7726, 2, 11, 4, 2, 1730, 86, 2335, 5, 95, 5780, 46, 7, 51, 29, 1291, 80, 30, 4, 6717, 2, 18, 27, 325, 3326, 5465, 7, 704, 13, 104, 4, 22, 2856, 77, 93, 60, 128, 74, 12, 9, 13, 92, 124, 48, 6, 53, 821, 1146, 7, 4, 2331, 7, 119, 2533, 93, 4, 147, 1326, 5, 757, 7, 14, 22, 60, 53, 578, 42, 24, 21, 13, 1041, 14, 22, 9, 24, 44, 821, 731, 119, 17, 4, 84, 496, 14, 418, 7, 498, 42, 22, 8958, 11, 35, 402, 136, 54, 4, 6394, 1846, 86, 909, 4, 632, 2326, 44, 89, 6, 162, 519, 1912, 180, 519, 702, 519, 525, 146, 2, 9, 131, 43, 6, 519, 57, 551, 51, 2, 25, 276, 11, 1011, 7, 12, 59, 7231, 21, 2, 119, 2, 119, 731, 119, 525, 26, 55, 275, 2572, 7, 119, 14, 9, 2954, 88, 14, 22, 9, 66, 44, 4, 31, 119, 32, 1714, 144, 181, 63, 9, 4, 119, 7, 42, 18, 2470, 24, 2, 183, 63, 26, 633, 4, 147, 1007, 18, 1650, 2, 11, 142, 91, 7, 178, 181, 141, 17, 1880, 903, 135, 900, 75, 203, 30, 317, 6384, 8, 783, 11, 6, 4501, 11, 6, 4311, 2092, 19, 2213, 1513, 498, 8587, 7, 2, 6899, 15, 4, 2, 5, 113, 696, 4334, 63, 71, 280, 50, 28, 32, 21, 4332, 13, 264, 4, 631, 3127, 1199, 4, 735, 88, 7, 134, 194, 3456, 24, 4282, 18, 94, 2823, 7, 731, 119, 2128, 2353, 8, 140, 15, 96, 4, 649, 7, 4, 632, 5, 1886, 16, 1670, 8, 2514, 4, 311, 11, 472, 14, 650, 7, 119, 203, 30, 2, 11, 4, 559, 7, 4313, 5, 38, 111, 2, 37, 191, 306, 8, 79, 295, 23, 38, 111, 2191, 38, 647, 2058, 7, 2, 119, 26, 254, 8, 79, 83, 60, 11, 2, 63, 22, 119, 47, 210, 77, 262, 11, 52, 154, 363, 4, 22, 203, 809, 346, 7, 51, 84, 535, 21, 6, 693, 46, 7, 158, 20, 290, 319, 3563]\n24996 번 문서 [1, 4, 9212, 2293, 8, 126, 67, 6, 4210, 1494, 11, 4, 178, 562, 273, 33, 2, 1086, 120, 2, 1782, 84, 1177, 56, 8, 989, 4, 2660, 7076, 2, 1853, 5, 14, 1494, 161, 4363, 33, 32, 279, 4, 1126, 1014, 7, 32, 58, 562, 273, 17, 4, 6496, 6107, 2, 27, 182, 425, 429, 4, 2095, 3745, 50, 26, 120, 1691, 4259, 11, 32, 38, 25, 79, 3400, 7, 206]\n24997 번 문서 [1, 13, 1408, 15, 8, 135, 14, 9, 35, 32, 46, 394, 20, 62, 30, 5093, 21, 45, 184, 78, 4, 1492, 910, 769, 2290, 2515, 395, 4257, 5, 1454, 11, 119, 2, 89, 1036, 4, 116, 218, 78, 21, 407, 100, 30, 128, 262, 15, 7, 185, 2280, 284, 1842, 2, 37, 315, 4, 226, 20, 272, 2942, 40, 29, 152, 60, 181, 8, 30, 50, 553, 362, 80, 119, 12, 21, 846, 5518]\n24998 번 문서 [1, 11, 119, 241, 9, 4, 840, 20, 12, 468, 15, 94, 3684, 562, 791, 39, 4, 86, 107, 8, 97, 14, 31, 33, 4, 2960, 7, 743, 46, 1028, 9, 3531, 5, 4, 768, 47, 8, 79, 90, 145, 164, 162, 50, 6, 501, 119, 7, 9, 4, 78, 232, 15, 16, 224, 11, 4, 333, 20, 4, 985, 200, 5, 2, 5, 9, 1861, 8, 79, 357, 4, 20, 47, 220, 57, 206, 139, 11, 12, 5, 55, 117, 212, 13, 1276, 92, 124, 51, 45, 1188, 71, 536, 13, 520, 14, 20, 6, 2302, 7, 470]\n24999 번 문서 [1, 6, 52, 7465, 430, 22, 9, 220, 2594, 8, 28, 2, 519, 3227, 6, 769, 15, 47, 6, 3482, 4067, 8, 114, 5, 33, 222, 31, 55, 184, 704, 5586, 2, 19, 346, 3153, 5, 6, 364, 350, 4, 184, 5586, 9, 133, 1810, 11, 5417, 2, 21, 4, 7298, 2, 570, 50, 2005, 2643, 9, 6, 1249, 17, 6, 2, 2, 21, 17, 6, 1211, 232, 1138, 2249, 29, 266, 56, 96, 346, 194, 308, 9, 194, 21, 29, 218, 1078, 19, 4, 78, 173, 7, 27, 2, 5698, 3406, 718, 2, 9, 6, 6907, 17, 210, 5, 3281, 5677, 47, 77, 395, 14, 172, 173, 18, 2740, 2931, 4517, 82, 127, 27, 173, 11, 6, 392, 217, 21, 50, 9, 57, 65, 12, 2, 53, 40, 35, 390, 7, 11, 4, 3567, 7, 4, 314, 74, 6, 792, 22, 2, 19, 714, 727, 5205, 382, 4, 91, 6533, 439, 19, 14, 20, 9, 1441, 5805, 1118, 4, 756, 25, 124, 4, 31, 12, 16, 93, 804, 34, 2005, 2643]\n"
    },
    {
     "output_type": "execute_result",
     "data": {
      "text/plain": "array([0., 1., 1., ..., 0., 0., 0.])"
     },
     "metadata": {},
     "execution_count": 112
    }
   ],
   "source": [
    "def vectorize_sequences(sequences,dimension=10000):\n",
    "    results = np.zeros((len(sequences),dimension))\n",
    "    #25000행, 10000열 0으로 구성\n",
    "    for i, seq in enumerate(sequences):\n",
    "        print(i,'번 문서',seq)\n",
    "        results[i,seq]=1\n",
    "    return results\n",
    "xtrain=vectorize_sequences(traindata)\n",
    "xtest=vectorize_sequences(testdata)\n",
    "xtrain[0]"
   ]
  },
  {
   "cell_type": "code",
   "execution_count": 113,
   "metadata": {},
   "outputs": [
    {
     "output_type": "execute_result",
     "data": {
      "text/plain": "array([0., 1., 1., ..., 0., 0., 0.])"
     },
     "metadata": {},
     "execution_count": 113
    }
   ],
   "source": [
    "xtrain[0]"
   ]
  }
 ],
 "metadata": {
  "kernelspec": {
   "display_name": "Python 3",
   "language": "python",
   "name": "python3"
  },
  "language_info": {
   "codemirror_mode": {
    "name": "ipython",
    "version": 3
   },
   "file_extension": ".py",
   "mimetype": "text/x-python",
   "name": "python",
   "nbconvert_exporter": "python",
   "pygments_lexer": "ipython3",
   "version": "3.7.6"
  }
 },
 "nbformat": 4,
 "nbformat_minor": 4
}