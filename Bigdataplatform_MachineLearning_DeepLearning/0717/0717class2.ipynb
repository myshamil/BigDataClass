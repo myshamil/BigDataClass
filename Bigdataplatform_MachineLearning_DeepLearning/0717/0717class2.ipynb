{
 "cells": [
  {
   "cell_type": "code",
   "execution_count": 1,
   "metadata": {
    "tags": []
   },
   "outputs": [
    {
     "output_type": "stream",
     "name": "stdout",
     "text": "WARNING:tensorflow:From C:\\Users\\kccistc\\anaconda3\\lib\\site-packages\\tensorflow\\python\\compat\\v2_compat.py:96: disable_resource_variables (from tensorflow.python.ops.variable_scope) is deprecated and will be removed in a future version.\nInstructions for updating:\nnon-resource variables are not supported in the long term\n"
    }
   ],
   "source": [
    "import tensorflow.compat.v1 as tf # 1.xxversion을 사용\n",
    "tf.disable_v2_behavior() #2.xx version 기능 사용불가\n",
    "#tf 1.xx version -> 2.xx version\n",
    "import random\n",
    "# from tensorflow.examples.tutorials.mnist import input_data\n",
    "from keras.utils import np_utils\n",
    "from keras.datasets import mnist\n",
    "from keras.models import Sequential\n",
    "from keras.layers import Dense, Activation\n",
    "#tf 1.xx version -> 2.xx version\n",
    "%matplotlib inline"
   ]
  },
  {
   "cell_type": "markdown",
   "metadata": {},
   "source": [
    "이미지"
   ]
  },
  {
   "cell_type": "code",
   "execution_count": 2,
   "metadata": {
    "tags": []
   },
   "outputs": [],
   "source": [
    "(xtrain, ytrain),(xtest,ytest)=tf.keras.datasets.fashion_mnist.load_data()\n"
   ]
  },
  {
   "cell_type": "code",
   "execution_count": 3,
   "metadata": {},
   "outputs": [
    {
     "output_type": "execute_result",
     "data": {
      "text/plain": "<matplotlib.image.AxesImage at 0x157f16dce88>"
     },
     "metadata": {},
     "execution_count": 3
    },
    {
     "output_type": "display_data",
     "data": {
      "text/plain": "<Figure size 432x288 with 1 Axes>",
      "image/svg+xml": "<?xml version=\"1.0\" encoding=\"utf-8\" standalone=\"no\"?>\r\n<!DOCTYPE svg PUBLIC \"-//W3C//DTD SVG 1.1//EN\"\r\n  \"http://www.w3.org/Graphics/SVG/1.1/DTD/svg11.dtd\">\r\n<!-- Created with matplotlib (https://matplotlib.org/) -->\r\n<svg height=\"251.453783pt\" version=\"1.1\" viewBox=\"0 0 253.574062 251.453783\" width=\"253.574062pt\" xmlns=\"http://www.w3.org/2000/svg\" xmlns:xlink=\"http://www.w3.org/1999/xlink\">\r\n <defs>\r\n  <style type=\"text/css\">\r\n*{stroke-linecap:butt;stroke-linejoin:round;}\r\n  </style>\r\n </defs>\r\n <g id=\"figure_1\">\r\n  <g id=\"patch_1\">\r\n   <path d=\"M 0 251.453783 \r\nL 253.574062 251.453783 \r\nL 253.574062 0 \r\nL 0 0 \r\nz\r\n\" style=\"fill:none;\"/>\r\n  </g>\r\n  <g id=\"axes_1\">\r\n   <g id=\"patch_2\">\r\n    <path d=\"M 28.934063 224.69394 \r\nL 246.374063 224.69394 \r\nL 246.374063 7.25394 \r\nL 28.934063 7.25394 \r\nz\r\n\" style=\"fill:#ffffff;\"/>\r\n   </g>\r\n   <g clip-path=\"url(#pc3bc5df990)\">\r\n    <image height=\"218\" id=\"image7d5c8050b1\" transform=\"scale(1 -1)translate(0 -218)\" width=\"218\" x=\"28.934063\" xlink:href=\"data:image/png;base64,\r\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\" y=\"-6.69394\"/>\r\n   </g>\r\n   <g id=\"matplotlib.axis_1\">\r\n    <g id=\"xtick_1\">\r\n     <g id=\"line2d_1\">\r\n      <path clip-path=\"url(#pc3bc5df990)\" d=\"M 32.81692 224.69394 \r\nL 32.81692 7.25394 \r\n\" style=\"fill:none;stroke:#cccccc;stroke-linecap:round;\"/>\r\n     </g>\r\n     <g id=\"text_1\">\r\n      <!-- 0 -->\r\n      <defs>\r\n       <path d=\"M 4.15625 35.296875 \r\nQ 4.15625 48 6.765625 55.734375 \r\nQ 9.375 63.484375 14.515625 67.671875 \r\nQ 19.671875 71.875 27.484375 71.875 \r\nQ 33.25 71.875 37.59375 69.546875 \r\nQ 41.9375 67.234375 44.765625 62.859375 \r\nQ 47.609375 58.5 49.21875 52.21875 \r\nQ 50.828125 45.953125 50.828125 35.296875 \r\nQ 50.828125 22.703125 48.234375 14.96875 \r\nQ 45.65625 7.234375 40.5 3 \r\nQ 35.359375 -1.21875 27.484375 -1.21875 \r\nQ 17.140625 -1.21875 11.234375 6.203125 \r\nQ 4.15625 15.140625 4.15625 35.296875 \r\nz\r\nM 13.1875 35.296875 \r\nQ 13.1875 17.671875 17.3125 11.828125 \r\nQ 21.4375 6 27.484375 6 \r\nQ 33.546875 6 37.671875 11.859375 \r\nQ 41.796875 17.71875 41.796875 35.296875 \r\nQ 41.796875 52.984375 37.671875 58.78125 \r\nQ 33.546875 64.59375 27.390625 64.59375 \r\nQ 21.34375 64.59375 17.71875 59.46875 \r\nQ 13.1875 52.9375 13.1875 35.296875 \r\nz\r\n\" id=\"ArialMT-48\"/>\r\n      </defs>\r\n      <g style=\"fill:#262626;\" transform=\"translate(29.758404 242.067533)scale(0.11 -0.11)\">\r\n       <use xlink:href=\"#ArialMT-48\"/>\r\n      </g>\r\n     </g>\r\n    </g>\r\n    <g id=\"xtick_2\">\r\n     <g id=\"line2d_2\">\r\n      <path clip-path=\"url(#pc3bc5df990)\" d=\"M 71.645491 224.69394 \r\nL 71.645491 7.25394 \r\n\" style=\"fill:none;stroke:#cccccc;stroke-linecap:round;\"/>\r\n     </g>\r\n     <g id=\"text_2\">\r\n      <!-- 5 -->\r\n      <defs>\r\n       <path d=\"M 4.15625 18.75 \r\nL 13.375 19.53125 \r\nQ 14.40625 12.796875 18.140625 9.390625 \r\nQ 21.875 6 27.15625 6 \r\nQ 33.5 6 37.890625 10.78125 \r\nQ 42.28125 15.578125 42.28125 23.484375 \r\nQ 42.28125 31 38.0625 35.34375 \r\nQ 33.84375 39.703125 27 39.703125 \r\nQ 22.75 39.703125 19.328125 37.765625 \r\nQ 15.921875 35.84375 13.96875 32.765625 \r\nL 5.71875 33.84375 \r\nL 12.640625 70.609375 \r\nL 48.25 70.609375 \r\nL 48.25 62.203125 \r\nL 19.671875 62.203125 \r\nL 15.828125 42.96875 \r\nQ 22.265625 47.46875 29.34375 47.46875 \r\nQ 38.71875 47.46875 45.15625 40.96875 \r\nQ 51.609375 34.46875 51.609375 24.265625 \r\nQ 51.609375 14.546875 45.953125 7.46875 \r\nQ 39.0625 -1.21875 27.15625 -1.21875 \r\nQ 17.390625 -1.21875 11.203125 4.25 \r\nQ 5.03125 9.71875 4.15625 18.75 \r\nz\r\n\" id=\"ArialMT-53\"/>\r\n      </defs>\r\n      <g style=\"fill:#262626;\" transform=\"translate(68.586975 242.067533)scale(0.11 -0.11)\">\r\n       <use xlink:href=\"#ArialMT-53\"/>\r\n      </g>\r\n     </g>\r\n    </g>\r\n    <g id=\"xtick_3\">\r\n     <g id=\"line2d_3\">\r\n      <path clip-path=\"url(#pc3bc5df990)\" d=\"M 110.474063 224.69394 \r\nL 110.474063 7.25394 \r\n\" style=\"fill:none;stroke:#cccccc;stroke-linecap:round;\"/>\r\n     </g>\r\n     <g id=\"text_3\">\r\n      <!-- 10 -->\r\n      <defs>\r\n       <path d=\"M 37.25 0 \r\nL 28.46875 0 \r\nL 28.46875 56 \r\nQ 25.296875 52.984375 20.140625 49.953125 \r\nQ 14.984375 46.921875 10.890625 45.40625 \r\nL 10.890625 53.90625 \r\nQ 18.265625 57.375 23.78125 62.296875 \r\nQ 29.296875 67.234375 31.59375 71.875 \r\nL 37.25 71.875 \r\nz\r\n\" id=\"ArialMT-49\"/>\r\n      </defs>\r\n      <g style=\"fill:#262626;\" transform=\"translate(104.357031 242.067533)scale(0.11 -0.11)\">\r\n       <use xlink:href=\"#ArialMT-49\"/>\r\n       <use x=\"55.615234\" xlink:href=\"#ArialMT-48\"/>\r\n      </g>\r\n     </g>\r\n    </g>\r\n    <g id=\"xtick_4\">\r\n     <g id=\"line2d_4\">\r\n      <path clip-path=\"url(#pc3bc5df990)\" d=\"M 149.302634 224.69394 \r\nL 149.302634 7.25394 \r\n\" style=\"fill:none;stroke:#cccccc;stroke-linecap:round;\"/>\r\n     </g>\r\n     <g id=\"text_4\">\r\n      <!-- 15 -->\r\n      <g style=\"fill:#262626;\" transform=\"translate(143.185603 242.067533)scale(0.11 -0.11)\">\r\n       <use xlink:href=\"#ArialMT-49\"/>\r\n       <use x=\"55.615234\" xlink:href=\"#ArialMT-53\"/>\r\n      </g>\r\n     </g>\r\n    </g>\r\n    <g id=\"xtick_5\">\r\n     <g id=\"line2d_5\">\r\n      <path clip-path=\"url(#pc3bc5df990)\" d=\"M 188.131205 224.69394 \r\nL 188.131205 7.25394 \r\n\" style=\"fill:none;stroke:#cccccc;stroke-linecap:round;\"/>\r\n     </g>\r\n     <g id=\"text_5\">\r\n      <!-- 20 -->\r\n      <defs>\r\n       <path d=\"M 50.34375 8.453125 \r\nL 50.34375 0 \r\nL 3.03125 0 \r\nQ 2.9375 3.171875 4.046875 6.109375 \r\nQ 5.859375 10.9375 9.828125 15.625 \r\nQ 13.8125 20.3125 21.34375 26.46875 \r\nQ 33.015625 36.03125 37.109375 41.625 \r\nQ 41.21875 47.21875 41.21875 52.203125 \r\nQ 41.21875 57.421875 37.46875 61 \r\nQ 33.734375 64.59375 27.734375 64.59375 \r\nQ 21.390625 64.59375 17.578125 60.78125 \r\nQ 13.765625 56.984375 13.71875 50.25 \r\nL 4.6875 51.171875 \r\nQ 5.609375 61.28125 11.65625 66.578125 \r\nQ 17.71875 71.875 27.9375 71.875 \r\nQ 38.234375 71.875 44.234375 66.15625 \r\nQ 50.25 60.453125 50.25 52 \r\nQ 50.25 47.703125 48.484375 43.546875 \r\nQ 46.734375 39.40625 42.65625 34.8125 \r\nQ 38.578125 30.21875 29.109375 22.21875 \r\nQ 21.1875 15.578125 18.9375 13.203125 \r\nQ 16.703125 10.84375 15.234375 8.453125 \r\nz\r\n\" id=\"ArialMT-50\"/>\r\n      </defs>\r\n      <g style=\"fill:#262626;\" transform=\"translate(182.014174 242.067533)scale(0.11 -0.11)\">\r\n       <use xlink:href=\"#ArialMT-50\"/>\r\n       <use x=\"55.615234\" xlink:href=\"#ArialMT-48\"/>\r\n      </g>\r\n     </g>\r\n    </g>\r\n    <g id=\"xtick_6\">\r\n     <g id=\"line2d_6\">\r\n      <path clip-path=\"url(#pc3bc5df990)\" d=\"M 226.959777 224.69394 \r\nL 226.959777 7.25394 \r\n\" style=\"fill:none;stroke:#cccccc;stroke-linecap:round;\"/>\r\n     </g>\r\n     <g id=\"text_6\">\r\n      <!-- 25 -->\r\n      <g style=\"fill:#262626;\" transform=\"translate(220.842746 242.067533)scale(0.11 -0.11)\">\r\n       <use xlink:href=\"#ArialMT-50\"/>\r\n       <use x=\"55.615234\" xlink:href=\"#ArialMT-53\"/>\r\n      </g>\r\n     </g>\r\n    </g>\r\n   </g>\r\n   <g id=\"matplotlib.axis_2\">\r\n    <g id=\"ytick_1\">\r\n     <g id=\"line2d_7\">\r\n      <path clip-path=\"url(#pc3bc5df990)\" d=\"M 28.934063 11.136797 \r\nL 246.374063 11.136797 \r\n\" style=\"fill:none;stroke:#cccccc;stroke-linecap:round;\"/>\r\n     </g>\r\n     <g id=\"text_7\">\r\n      <!-- 0 -->\r\n      <g style=\"fill:#262626;\" transform=\"translate(13.317031 15.073594)scale(0.11 -0.11)\">\r\n       <use xlink:href=\"#ArialMT-48\"/>\r\n      </g>\r\n     </g>\r\n    </g>\r\n    <g id=\"ytick_2\">\r\n     <g id=\"line2d_8\">\r\n      <path clip-path=\"url(#pc3bc5df990)\" d=\"M 28.934063 49.965368 \r\nL 246.374063 49.965368 \r\n\" style=\"fill:none;stroke:#cccccc;stroke-linecap:round;\"/>\r\n     </g>\r\n     <g id=\"text_8\">\r\n      <!-- 5 -->\r\n      <g style=\"fill:#262626;\" transform=\"translate(13.317031 53.902165)scale(0.11 -0.11)\">\r\n       <use xlink:href=\"#ArialMT-53\"/>\r\n      </g>\r\n     </g>\r\n    </g>\r\n    <g id=\"ytick_3\">\r\n     <g id=\"line2d_9\">\r\n      <path clip-path=\"url(#pc3bc5df990)\" d=\"M 28.934063 88.79394 \r\nL 246.374063 88.79394 \r\n\" style=\"fill:none;stroke:#cccccc;stroke-linecap:round;\"/>\r\n     </g>\r\n     <g id=\"text_9\">\r\n      <!-- 10 -->\r\n      <g style=\"fill:#262626;\" transform=\"translate(7.2 92.730737)scale(0.11 -0.11)\">\r\n       <use xlink:href=\"#ArialMT-49\"/>\r\n       <use x=\"55.615234\" xlink:href=\"#ArialMT-48\"/>\r\n      </g>\r\n     </g>\r\n    </g>\r\n    <g id=\"ytick_4\">\r\n     <g id=\"line2d_10\">\r\n      <path clip-path=\"url(#pc3bc5df990)\" d=\"M 28.934063 127.622511 \r\nL 246.374063 127.622511 \r\n\" style=\"fill:none;stroke:#cccccc;stroke-linecap:round;\"/>\r\n     </g>\r\n     <g id=\"text_10\">\r\n      <!-- 15 -->\r\n      <g style=\"fill:#262626;\" transform=\"translate(7.2 131.559308)scale(0.11 -0.11)\">\r\n       <use xlink:href=\"#ArialMT-49\"/>\r\n       <use x=\"55.615234\" xlink:href=\"#ArialMT-53\"/>\r\n      </g>\r\n     </g>\r\n    </g>\r\n    <g id=\"ytick_5\">\r\n     <g id=\"line2d_11\">\r\n      <path clip-path=\"url(#pc3bc5df990)\" d=\"M 28.934063 166.451083 \r\nL 246.374063 166.451083 \r\n\" style=\"fill:none;stroke:#cccccc;stroke-linecap:round;\"/>\r\n     </g>\r\n     <g id=\"text_11\">\r\n      <!-- 20 -->\r\n      <g style=\"fill:#262626;\" transform=\"translate(7.2 170.387879)scale(0.11 -0.11)\">\r\n       <use xlink:href=\"#ArialMT-50\"/>\r\n       <use x=\"55.615234\" xlink:href=\"#ArialMT-48\"/>\r\n      </g>\r\n     </g>\r\n    </g>\r\n    <g id=\"ytick_6\">\r\n     <g id=\"line2d_12\">\r\n      <path clip-path=\"url(#pc3bc5df990)\" d=\"M 28.934063 205.279654 \r\nL 246.374063 205.279654 \r\n\" style=\"fill:none;stroke:#cccccc;stroke-linecap:round;\"/>\r\n     </g>\r\n     <g id=\"text_12\">\r\n      <!-- 25 -->\r\n      <g style=\"fill:#262626;\" transform=\"translate(7.2 209.216451)scale(0.11 -0.11)\">\r\n       <use xlink:href=\"#ArialMT-50\"/>\r\n       <use x=\"55.615234\" xlink:href=\"#ArialMT-53\"/>\r\n      </g>\r\n     </g>\r\n    </g>\r\n   </g>\r\n   <g id=\"patch_3\">\r\n    <path d=\"M 28.934063 224.69394 \r\nL 28.934063 7.25394 \r\n\" style=\"fill:none;stroke:#cccccc;stroke-linecap:square;stroke-linejoin:miter;stroke-width:1.25;\"/>\r\n   </g>\r\n   <g id=\"patch_4\">\r\n    <path d=\"M 246.374063 224.69394 \r\nL 246.374063 7.25394 \r\n\" style=\"fill:none;stroke:#cccccc;stroke-linecap:square;stroke-linejoin:miter;stroke-width:1.25;\"/>\r\n   </g>\r\n   <g id=\"patch_5\">\r\n    <path d=\"M 28.934063 224.69394 \r\nL 246.374063 224.69394 \r\n\" style=\"fill:none;stroke:#cccccc;stroke-linecap:square;stroke-linejoin:miter;stroke-width:1.25;\"/>\r\n   </g>\r\n   <g id=\"patch_6\">\r\n    <path d=\"M 28.934063 7.25394 \r\nL 246.374063 7.25394 \r\n\" style=\"fill:none;stroke:#cccccc;stroke-linecap:square;stroke-linejoin:miter;stroke-width:1.25;\"/>\r\n   </g>\r\n  </g>\r\n </g>\r\n <defs>\r\n  <clipPath id=\"pc3bc5df990\">\r\n   <rect height=\"217.44\" width=\"217.44\" x=\"28.934063\" y=\"7.25394\"/>\r\n  </clipPath>\r\n </defs>\r\n</svg>\r\n",
      "image/png": "[encoded data removed]"
     },
     "metadata": {
      "needs_background": "light"
     }
    }
   ],
   "source": [
    "xtrain.shape\n",
    "plt.imshow(xtrain[6], plt.cm.Blues)"
   ]
  },
  {
   "cell_type": "code",
   "execution_count": 4,
   "metadata": {},
   "outputs": [],
   "source": [
    "xtrain=xtrain.reshape(60000,784).astype('float32')/255.0\n",
    "xtest=xtest.reshape(10000,784).astype('float32')/255.0"
   ]
  },
  {
   "cell_type": "code",
   "execution_count": 5,
   "metadata": {},
   "outputs": [],
   "source": [
    "ytrain=np_utils.to_categorical(ytrain)\n",
    "ytest=np_utils.to_categorical(ytest)"
   ]
  },
  {
   "cell_type": "code",
   "execution_count": 13,
   "metadata": {
    "tags": []
   },
   "outputs": [],
   "source": [
    "model=Sequential()\n",
    "model.add(Dense(units=2, input_dim=28*28, activation='relu')) #레이어 설계\n",
    "model.add(Dense(units=128, activation='relu'))\n",
    "model.add(Dense(units=64, activation='relu'))\n",
    "model.add(Dense(units=10, activation='softmax'))"
   ]
  },
  {
   "cell_type": "code",
   "execution_count": 14,
   "metadata": {
    "tags": []
   },
   "outputs": [
    {
     "output_type": "stream",
     "name": "stdout",
     "text": "Train on 60000 samples\nEpoch 1/50\n60000/60000 [==============================] - 1s 24us/sample - loss: 0.9039 - acc: 0.6563\nEpoch 2/50\n60000/60000 [==============================] - 1s 23us/sample - loss: 0.7238 - acc: 0.7301\nEpoch 3/50\n60000/60000 [==============================] - 1s 23us/sample - loss: 0.7012 - acc: 0.7401\nEpoch 4/50\n60000/60000 [==============================] - 1s 23us/sample - loss: 0.6850 - acc: 0.7454\nEpoch 5/50\n60000/60000 [==============================] - 1s 23us/sample - loss: 0.6789 - acc: 0.7483\nEpoch 6/50\n60000/60000 [==============================] - 1s 25us/sample - loss: 0.6712 - acc: 0.7497\nEpoch 7/50\n60000/60000 [==============================] - 1s 24us/sample - loss: 0.6647 - acc: 0.7527\nEpoch 8/50\n60000/60000 [==============================] - 1s 23us/sample - loss: 0.6579 - acc: 0.7558\nEpoch 9/50\n60000/60000 [==============================] - 1s 22us/sample - loss: 0.6573 - acc: 0.7549\nEpoch 10/50\n60000/60000 [==============================] - 1s 24us/sample - loss: 0.6542 - acc: 0.7558\nEpoch 11/50\n60000/60000 [==============================] - 1s 25us/sample - loss: 0.6484 - acc: 0.7590\nEpoch 12/50\n60000/60000 [==============================] - 1s 24us/sample - loss: 0.6481 - acc: 0.7595\nEpoch 13/50\n60000/60000 [==============================] - 2s 25us/sample - loss: 0.6467 - acc: 0.7595\nEpoch 14/50\n60000/60000 [==============================] - 2s 26us/sample - loss: 0.6435 - acc: 0.7600\nEpoch 15/50\n60000/60000 [==============================] - 2s 25us/sample - loss: 0.6435 - acc: 0.7608\nEpoch 16/50\n60000/60000 [==============================] - 1s 23us/sample - loss: 0.6449 - acc: 0.7598\nEpoch 17/50\n60000/60000 [==============================] - 1s 22us/sample - loss: 0.6391 - acc: 0.7628\nEpoch 18/50\n60000/60000 [==============================] - 1s 22us/sample - loss: 0.6353 - acc: 0.7638\nEpoch 19/50\n60000/60000 [==============================] - 1s 24us/sample - loss: 0.6350 - acc: 0.7621\nEpoch 20/50\n60000/60000 [==============================] - 1s 23us/sample - loss: 0.6350 - acc: 0.7640\nEpoch 21/50\n60000/60000 [==============================] - 1s 22us/sample - loss: 0.6358 - acc: 0.7642\nEpoch 22/50\n60000/60000 [==============================] - 2s 28us/sample - loss: 0.6316 - acc: 0.7643\nEpoch 23/50\n60000/60000 [==============================] - 2s 28us/sample - loss: 0.6340 - acc: 0.7635\nEpoch 24/50\n60000/60000 [==============================] - 1s 23us/sample - loss: 0.6322 - acc: 0.7634\nEpoch 25/50\n60000/60000 [==============================] - 1s 22us/sample - loss: 0.6303 - acc: 0.7650\nEpoch 26/50\n60000/60000 [==============================] - 1s 22us/sample - loss: 0.6283 - acc: 0.7664\nEpoch 27/50\n60000/60000 [==============================] - 2s 25us/sample - loss: 0.6293 - acc: 0.7661\nEpoch 28/50\n60000/60000 [==============================] - 2s 25us/sample - loss: 0.6275 - acc: 0.7654\nEpoch 29/50\n60000/60000 [==============================] - 1s 23us/sample - loss: 0.6279 - acc: 0.7655\nEpoch 30/50\n60000/60000 [==============================] - 2s 27us/sample - loss: 0.6291 - acc: 0.7660\nEpoch 31/50\n60000/60000 [==============================] - 2s 25us/sample - loss: 0.6258 - acc: 0.7672\nEpoch 32/50\n60000/60000 [==============================] - 1s 23us/sample - loss: 0.6275 - acc: 0.7661\nEpoch 33/50\n60000/60000 [==============================] - 1s 25us/sample - loss: 0.6247 - acc: 0.7678\nEpoch 34/50\n60000/60000 [==============================] - 1s 24us/sample - loss: 0.6232 - acc: 0.7693\nEpoch 35/50\n60000/60000 [==============================] - 1s 23us/sample - loss: 0.6260 - acc: 0.7667\nEpoch 36/50\n60000/60000 [==============================] - 2s 29us/sample - loss: 0.6241 - acc: 0.7673\nEpoch 37/50\n60000/60000 [==============================] - 2s 30us/sample - loss: 0.6247 - acc: 0.7679\nEpoch 38/50\n60000/60000 [==============================] - 2s 28us/sample - loss: 0.6240 - acc: 0.7677\nEpoch 39/50\n60000/60000 [==============================] - 1s 22us/sample - loss: 0.6235 - acc: 0.7677\nEpoch 40/50\n60000/60000 [==============================] - 1s 22us/sample - loss: 0.6210 - acc: 0.7691\nEpoch 41/50\n60000/60000 [==============================] - 1s 22us/sample - loss: 0.6218 - acc: 0.7698\nEpoch 42/50\n60000/60000 [==============================] - 1s 22us/sample - loss: 0.6218 - acc: 0.7692\nEpoch 43/50\n60000/60000 [==============================] - 1s 23us/sample - loss: 0.6213 - acc: 0.7696\nEpoch 44/50\n60000/60000 [==============================] - 1s 23us/sample - loss: 0.6199 - acc: 0.7705\nEpoch 45/50\n60000/60000 [==============================] - 1s 23us/sample - loss: 0.6206 - acc: 0.7698\nEpoch 46/50\n60000/60000 [==============================] - 2s 26us/sample - loss: 0.6205 - acc: 0.7702\nEpoch 47/50\n60000/60000 [==============================] - 1s 24us/sample - loss: 0.6182 - acc: 0.7706\nEpoch 48/50\n60000/60000 [==============================] - 2s 26us/sample - loss: 0.6179 - acc: 0.7702\nEpoch 49/50\n60000/60000 [==============================] - 2s 26us/sample - loss: 0.6182 - acc: 0.7705\nEpoch 50/50\n60000/60000 [==============================] - 1s 23us/sample - loss: 0.6179 - acc: 0.7720\n"
    }
   ],
   "source": [
    "model.compile(loss='categorical_crossentropy', optimizer='adam', metrics = ['accuracy'])\n",
    "hist = model.fit(xtrain, ytrain, batch_size=32, epochs=50)\n"
   ]
  },
  {
   "cell_type": "code",
   "execution_count": 15,
   "metadata": {},
   "outputs": [
    {
     "output_type": "execute_result",
     "data": {
      "text/plain": "[0.6764764806747436, 0.7518]"
     },
     "metadata": {},
     "execution_count": 15
    }
   ],
   "source": [
    "model.evaluate(xtest,ytest, batch_size=32)"
   ]
  }
 ],
 "metadata": {
  "language_info": {
   "codemirror_mode": {
    "name": "ipython",
    "version": 3
   },
   "file_extension": ".py",
   "mimetype": "text/x-python",
   "name": "python",
   "nbconvert_exporter": "python",
   "pygments_lexer": "ipython3",
   "version": 3
  },
  "orig_nbformat": 2,
  "kernelspec": {
   "name": "python_defaultSpec_1594968104437",
   "display_name": "Python 3.7.6 64-bit ('base': conda)"
  }
 },
 "nbformat": 4,
 "nbformat_minor": 2
}