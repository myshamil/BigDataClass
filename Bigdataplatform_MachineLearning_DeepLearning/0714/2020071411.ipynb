{
 "cells": [
  {
   "cell_type": "code",
   "execution_count": 1,
   "metadata": {},
   "outputs": [],
   "source": [
    "import numpy as np"
   ]
  },
  {
   "cell_type": "code",
   "execution_count": 2,
   "metadata": {},
   "outputs": [],
   "source": [
    "x=[2,4,6,8]\n",
    "y=[81,93,91,97]\n",
    "mx=np.mean(x)\n",
    "my=np.mean(y)"
   ]
  },
  {
   "cell_type": "code",
   "execution_count": 3,
   "metadata": {},
   "outputs": [
    {
     "output_type": "execute_result",
     "data": {
      "text/plain": "20.0"
     },
     "metadata": {},
     "execution_count": 3
    }
   ],
   "source": [
    "#기울기 공식의 분모\n",
    "divisor= sum([(i-mx)**2 for i in  x])\n",
    "divisor"
   ]
  },
  {
   "cell_type": "code",
   "execution_count": 4,
   "metadata": {},
   "outputs": [
    {
     "output_type": "execute_result",
     "data": {
      "text/plain": "46.0"
     },
     "metadata": {},
     "execution_count": 4
    }
   ],
   "source": [
    "#기울기 공식의 분자\n",
    "def top(x,mx,y,my):\n",
    "    s=0\n",
    "    for i in range(len(x)):\n",
    "        s+=(x[i]-mx)*(y[i]-my)\n",
    "    return s\n",
    "dividend=top(x,mx,y,my)\n",
    "dividend"
   ]
  },
  {
   "cell_type": "code",
   "execution_count": 5,
   "metadata": {},
   "outputs": [],
   "source": [
    "#기울기\n",
    "w= dividend/divisor\n",
    "#y절편(bias)\n",
    "b=my-(mx*w)"
   ]
  },
  {
   "cell_type": "code",
   "execution_count": 6,
   "metadata": {
    "tags": []
   },
   "outputs": [
    {
     "output_type": "stream",
     "name": "stdout",
     "text": "기울기= 2.3\ny절편 b= 79.0\n"
    }
   ],
   "source": [
    "print(\"기울기=\",w)\n",
    "print(\"y절편 b=\",b)"
   ]
  },
  {
   "cell_type": "code",
   "execution_count": 7,
   "metadata": {},
   "outputs": [],
   "source": [
    "#기울기와 y절편이 각각 3, 76이라고 가정\n",
    "ab=[3,76]\n",
    "#x데이터(공부시간), y데이터(성적)\n",
    "data=[[2,81], [4,93], [6,91], [8,97]]\n",
    "x=[i[0] for i in data]\n",
    "y=[i[1] for i in data]\n",
    "# x=[2,4,6,8]\n",
    "# y=[81,93,91,97]"
   ]
  },
  {
   "cell_type": "code",
   "execution_count": 8,
   "metadata": {},
   "outputs": [],
   "source": [
    "def predict(x):       #y=ax+b => y=3*x+76\n",
    "    return ab[0]*x+ab[1]\n",
    "\n",
    "#mse 함수\n",
    "def mse(y, yhat): #실제값, 예측값 mean squared error\n",
    "    return ((y-yhat)**2).mean()\n",
    "\n",
    "def mseVal(y, res):  \n",
    "    return mse(np.array(y),np.array(res))"
   ]
  },
  {
   "cell_type": "code",
   "execution_count": 9,
   "metadata": {
    "tags": []
   },
   "outputs": [
    {
     "output_type": "stream",
     "name": "stdout",
     "text": "공부시간=2 실제점수=81 예측점수=82\n공부시간=4 실제점수=93 예측점수=88\n공부시간=6 실제점수=91 예측점수=94\n공부시간=8 실제점수=97 예측점수=100\n"
    },
    {
     "output_type": "execute_result",
     "data": {
      "text/plain": "11.0"
     },
     "metadata": {},
     "execution_count": 9
    }
   ],
   "source": [
    "y # 실제값\n",
    " # 예측값 = 3x+76\n",
    "res=[]\n",
    "for i in range(len(x)):\n",
    "    res.append(predict(x[i]))\n",
    "    print(\"공부시간=%.f 실제점수=%.f 예측점수=%.f\" %(x[i],y[i],predict(x[i])))\n",
    "#res #예측값\n",
    "\n",
    "#mse 출력\n",
    "#mse(np.array(res),np.array(y))\n",
    "\n",
    "mseVal(res,y)"
   ]
  },
  {
   "cell_type": "code",
   "execution_count": 10,
   "metadata": {},
   "outputs": [],
   "source": [
    "import pandas as pd\n",
    "import matplotlib.pyplot as plt"
   ]
  },
  {
   "cell_type": "code",
   "execution_count": 11,
   "metadata": {},
   "outputs": [],
   "source": [
    "data=[[2,81], [4,93], [6,91], [8,97]]\n",
    "x=[i[0] for i in data]\n",
    "y=[i[1] for i in data]"
   ]
  },
  {
   "cell_type": "code",
   "execution_count": 12,
   "metadata": {},
   "outputs": [],
   "source": [
    "plt.figure(figsize=(8,5))\n",
    "plt.scatter(x,y)\n",
    "plt.show()"
   ]
  },
  {
   "cell_type": "code",
   "execution_count": 13,
   "metadata": {},
   "outputs": [],
   "source": [
    "import tensorflow as tf"
   ]
  },
  {
   "cell_type": "code",
   "execution_count": 14,
   "metadata": {},
   "outputs": [],
   "source": [
    "epochs=2001 #전체 데이터를 2001번 반복\n",
    "lr=0.03 #학습률\n",
    "xdata=np.array(x)\n",
    "ydata=np.array(y)\n",
    "#기울기, 절편 초기화\n",
    "a=0\n",
    "b=0"
   ]
  },
  {
   "cell_type": "code",
   "execution_count": 15,
   "metadata": {
    "scrolled": false,
    "tags": []
   },
   "outputs": [
    {
     "output_type": "stream",
     "name": "stdout",
     "text": "에폭=0, 기울기=27.8400, 절편=5.4300\n에폭=100, 기울기=7.0739, 절편=50.5117\n에폭=200, 기울기=4.0960, 절편=68.2822\n에폭=300, 기울기=2.9757, 절편=74.9678\n에폭=400, 기울기=2.5542, 절편=77.4830\n에폭=500, 기울기=2.3956, 절편=78.4293\n에폭=600, 기울기=2.3360, 절편=78.7853\n에폭=700, 기울기=2.3135, 절편=78.9192\n에폭=800, 기울기=2.3051, 절편=78.9696\n에폭=900, 기울기=2.3019, 절편=78.9886\n에폭=1000, 기울기=2.3007, 절편=78.9957\n에폭=1100, 기울기=2.3003, 절편=78.9984\n에폭=1200, 기울기=2.3001, 절편=78.9994\n에폭=1300, 기울기=2.3000, 절편=78.9998\n에폭=1400, 기울기=2.3000, 절편=78.9999\n에폭=1500, 기울기=2.3000, 절편=79.0000\n에폭=1600, 기울기=2.3000, 절편=79.0000\n에폭=1700, 기울기=2.3000, 절편=79.0000\n에폭=1800, 기울기=2.3000, 절편=79.0000\n에폭=1900, 기울기=2.3000, 절편=79.0000\n에폭=2000, 기울기=2.3000, 절편=79.0000\n"
    }
   ],
   "source": [
    "#경사 하강법\n",
    "for i in range(epochs):\n",
    "    yhat=a*xdata+b #y 예측값\n",
    "    error=ydata-yhat #오차\n",
    "    aDiff=-(2/len(xdata))*sum(xdata*error) #오차함수를 a로 미분한 값\n",
    "    bDiff=-(2/len(xdata))*sum(error) #오찬함수를 b로 미분한 값\n",
    "    a=a-lr*aDiff #학습률을 곱해서 기존의 a값을 갱신\n",
    "    #W:=W - alpha * cost함수를 w로 편미분\n",
    "    b=b-lr*bDiff #학습률을 곱해서 기존의 b값을 갱신    \n",
    "    if i%100==0:\n",
    "        print(\"에폭=%.f, 기울기=%.4f, 절편=%.4f\"%(i,a,b))\n"
   ]
  },
  {
   "cell_type": "code",
   "execution_count": 16,
   "metadata": {},
   "outputs": [],
   "source": [
    "# a2=np.array([1,2,3])\n",
    "# a3=np.array([1,1,1])\n",
    "# a2-a3 #벡터화연산"
   ]
  },
  {
   "cell_type": "code",
   "execution_count": 17,
   "metadata": {},
   "outputs": [],
   "source": [
    "ypred=a*xdata+b #우리가 만든 모델의 예측값\n",
    "plt.scatter(x,y)\n",
    "plt.plot([min(xdata),max(xdata)],[min(ypred),max(ypred)])\n",
    "plt.show()"
   ]
  },
  {
   "cell_type": "code",
   "execution_count": 18,
   "metadata": {},
   "outputs": [],
   "source": [
    "#자동 경사하강법 실습\n",
    "data=[[2,81], [4,93], [6,91], [8,97]]\n",
    "x=[i[0] for i in data]\n",
    "y=[i[1] for i in data]\n"
   ]
  },
  {
   "cell_type": "code",
   "execution_count": null,
   "metadata": {},
   "outputs": [],
   "source": []
  },
  {
   "cell_type": "code",
   "execution_count": 19,
   "metadata": {},
   "outputs": [
    {
     "output_type": "execute_result",
     "data": {
      "text/plain": "<tf.Variable 'Variable:0' shape=() dtype=int32, numpy=40>"
     },
     "metadata": {},
     "execution_count": 19
    }
   ],
   "source": [
    "x=tf.constant(35)\n",
    "y=tf.Variable(x+5)\n",
    "y"
   ]
  },
  {
   "cell_type": "code",
   "execution_count": 20,
   "metadata": {
    "tags": []
   },
   "outputs": [
    {
     "output_type": "stream",
     "name": "stdout",
     "text": "WARNING:tensorflow:From C:\\Users\\kccistc\\anaconda3\\lib\\site-packages\\tensorflow\\python\\compat\\v2_compat.py:96: disable_resource_variables (from tensorflow.python.ops.variable_scope) is deprecated and will be removed in a future version.\nInstructions for updating:\nnon-resource variables are not supported in the long term\n"
    }
   ],
   "source": [
    "import tensorflow.compat.v1 as tf # 1.xxversion을 사용\n",
    "tf.disable_v2_behavior() #2.xx version 기능 사용불가\n",
    "#tf 1.xx version -> 2.xx version"
   ]
  },
  {
   "cell_type": "code",
   "execution_count": 21,
   "metadata": {
    "tags": []
   },
   "outputs": [
    {
     "output_type": "stream",
     "name": "stdout",
     "text": "[[ 2.  4.  6.]\n [ 8. 10. 12.]]\n"
    }
   ],
   "source": [
    "x=tf.placeholder(\"float\",[None,3])\n",
    "y=x*2\n",
    "with tf.Session() as sess:\n",
    "    xdata=[[1,2,3], [4,5,6]]\n",
    "    res=sess.run(y,feed_dict={x:xdata})\n",
    "    print(res)"
   ]
  },
  {
   "cell_type": "code",
   "execution_count": null,
   "metadata": {},
   "outputs": [],
   "source": []
  },
  {
   "cell_type": "code",
   "execution_count": 22,
   "metadata": {},
   "outputs": [],
   "source": [
    "#자동 경사하강법 실습\n",
    "data=[[2,81], [4,93], [6,91], [8,97]]\n",
    "x=[i[0] for i in data]\n",
    "y=[i[1] for i in data]"
   ]
  },
  {
   "cell_type": "code",
   "execution_count": 23,
   "metadata": {},
   "outputs": [],
   "source": [
    "w=tf.Variable(tf.random_uniform([1],0,10,seed=20200714))\n",
    "b=tf.Variable(tf.random_uniform([1],0,100,seed=20200714))"
   ]
  },
  {
   "cell_type": "code",
   "execution_count": 24,
   "metadata": {},
   "outputs": [],
   "source": [
    "sess=tf.Session()\n",
    "sess.run(tf.global_variables_initializer())\n",
    "\n",
    "hf=w*x+b\n",
    "#print(sess.run(hf))\n",
    "rmse=tf.sqrt(tf.reduce_mean(tf.square(hf-y)))\n",
    "train=tf.train.GradientDescentOptimizer(0.01).minimize(rmse)"
   ]
  },
  {
   "cell_type": "code",
   "execution_count": 25,
   "metadata": {
    "tags": []
   },
   "outputs": [
    {
     "output_type": "stream",
     "name": "stdout",
     "text": "[1.9601321]\n"
    }
   ],
   "source": [
    "#print(w)\n",
    "\n",
    "print(sess.run(w))"
   ]
  },
  {
   "cell_type": "code",
   "execution_count": 26,
   "metadata": {
    "tags": []
   },
   "outputs": [
    {
     "output_type": "stream",
     "name": "stdout",
     "text": "에폭=0, rmse=61, 기울기=2.0104, 절편=19.6113\n에폭=100, rmse=38, 기울기=6.7173, 절편=20.6006\n에폭=200, rmse=26, 기울기=10.0120, 절편=21.4685\n에폭=300, rmse=24, 기울기=11.3010, 절편=22.0756\n에폭=400, rmse=23, 기울기=11.6198, 절편=22.5330\n에폭=500, rmse=23, 기울기=11.6561, 절편=22.9441\n에폭=600, rmse=23, 기울기=11.6170, 절편=23.3426\n에폭=700, rmse=23, 기울기=11.5579, 절편=23.7377\n에폭=800, rmse=23, 기울기=11.4937, 절편=24.1319\n에폭=900, rmse=22, 기울기=11.4282, 절편=24.5259\n에폭=1000, rmse=22, 기울기=11.3623, 절편=24.9197\n에폭=1100, rmse=22, 기울기=11.2963, 절편=25.3135\n에폭=1200, rmse=22, 기울기=11.2304, 절편=25.7072\n에폭=1300, rmse=22, 기울기=11.1644, 절편=26.1009\n에폭=1400, rmse=22, 기울기=11.0985, 절편=26.4945\n에폭=1500, rmse=21, 기울기=11.0325, 절편=26.8881\n에폭=1600, rmse=21, 기울기=10.9666, 절편=27.2815\n에폭=1700, rmse=21, 기울기=10.9007, 절편=27.6750\n에폭=1800, rmse=21, 기울기=10.8347, 절편=28.0684\n에폭=1900, rmse=21, 기울기=10.7688, 절편=28.4617\n에폭=2000, rmse=21, 기울기=10.7029, 절편=28.8550\n"
    }
   ],
   "source": [
    "for step in range(2001):\n",
    "    sess.run(train)\n",
    "    if step%100==0:\n",
    "        print(\"에폭=%.f, rmse=%.f, 기울기=%.4f, 절편=%.4f\" % \n",
    "              (step, sess.run(rmse),\n",
    "               sess.run(w),sess.run(b)))"
   ]
  },
  {
   "cell_type": "markdown",
   "metadata": {},
   "source": [
    "해보기해보기"
   ]
  },
  {
   "cell_type": "code",
   "execution_count": 44,
   "metadata": {},
   "outputs": [],
   "source": [
    "x=[1,2,3]\n",
    "y=[5,15,20]\n",
    "w=tf.Variable(tf.random_uniform([1],-1,1))\n",
    "b=tf.Variable(tf.random_uniform([1],-1,1))"
   ]
  },
  {
   "cell_type": "code",
   "execution_count": 45,
   "metadata": {},
   "outputs": [],
   "source": [
    "hf=w*x +b\n",
    "cost=tf.reduce_mean((hf-y)**2)"
   ]
  },
  {
   "cell_type": "code",
   "execution_count": 46,
   "metadata": {},
   "outputs": [],
   "source": [
    "opt = tf.train.GradientDescentOptimizer(learning_rate=0.1)\n",
    "train=opt.minimize(cost)\n",
    "\n",
    "#W:=W-alpha*w편미분 cost(w,b)\n",
    "#alpha =learning rate"
   ]
  },
  {
   "cell_type": "code",
   "execution_count": 47,
   "metadata": {},
   "outputs": [],
   "source": [
    "sess=tf.Session()\n",
    "sess.run(tf.global_variables_initializer()) #필수과정\n",
    "\n"
   ]
  },
  {
   "cell_type": "code",
   "execution_count": 48,
   "metadata": {
    "tags": []
   },
   "outputs": [
    {
     "output_type": "stream",
     "name": "stdout",
     "text": "[7.499997] [-1.666661] 1.3888899\n"
    }
   ],
   "source": [
    "#학습\n",
    "for i in range(2001): #2001번\n",
    "    sess.run(train) #train을 통해 최적화 \n",
    "    # if i % 20 ==0: #cost가 점점 더 낮아짐\n",
    "        # print(i, sess.run(cost))\n",
    "\n",
    "print(sess.run(w), sess.run(b), sess.run(cost))\n",
    "\n",
    "print(\"x가 5일 때 예측값:\", )\n"
   ]
  },
  {
   "cell_type": "markdown",
   "metadata": {},
   "source": [
    "================================"
   ]
  },
  {
   "cell_type": "code",
   "execution_count": 49,
   "metadata": {},
   "outputs": [],
   "source": [
    "###x데이터가 입력되었을때 y값을 예측하시오.\n",
    "#x가 7, 11일때 y?\n",
    "xx=[1,2,3]\n",
    "yy=[2,5,7]\n",
    "\n",
    "w=tf.Variable(tf.random_uniform([1],-1,1))\n",
    "b=tf.Variable(tf.random_uniform([1],-1,1))\n",
    "x=tf.placeholder(tf.float32)\n",
    "y=tf.placeholder(tf.float32)"
   ]
  },
  {
   "cell_type": "code",
   "execution_count": 51,
   "metadata": {},
   "outputs": [],
   "source": [
    "hf=w*x+b\n",
    "cost=tf.reduce_mean((hf-y)**2)"
   ]
  },
  {
   "cell_type": "code",
   "execution_count": 52,
   "metadata": {},
   "outputs": [],
   "source": [
    "opt=tf.train.GradientDescentOptimizer(0.1)\n",
    "train=opt.minimize(cost)"
   ]
  },
  {
   "cell_type": "code",
   "execution_count": null,
   "metadata": {},
   "outputs": [],
   "source": []
  },
  {
   "cell_type": "markdown",
   "metadata": {},
   "source": [
    "cars.csv 파일을 읽어서 선형회귀 모델만들기  \n",
    "제동거리 = w*속도 +b  \n",
    "모델에 속도가 30,50일 때 예상되는 제동 거리를 출력  "
   ]
  },
  {
   "cell_type": "code",
   "execution_count": null,
   "metadata": {},
   "outputs": [],
   "source": []
  }
 ],
 "metadata": {
  "kernelspec": {
   "display_name": "Python 3",
   "language": "python",
   "name": "python3"
  },
  "language_info": {
   "codemirror_mode": {
    "name": "ipython",
    "version": 3
   },
   "file_extension": ".py",
   "mimetype": "text/x-python",
   "name": "python",
   "nbconvert_exporter": "python",
   "pygments_lexer": "ipython3",
   "version": "3.7.6"
  }
 },
 "nbformat": 4,
 "nbformat_minor": 4
}