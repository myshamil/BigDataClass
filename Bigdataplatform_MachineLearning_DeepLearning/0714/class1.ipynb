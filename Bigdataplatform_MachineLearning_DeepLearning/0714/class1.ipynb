{
 "cells": [
  {
   "cell_type": "code",
   "execution_count": null,
   "metadata": {},
   "outputs": [],
   "source": []
  },
  {
   "cell_type": "code",
   "execution_count": 1,
   "metadata": {},
   "outputs": [],
   "source": [
    "x=[2,4,6,8]\n",
    "y=[81,93,91,97]\n",
    "mx= np.mean(x)\n",
    "my=np.mean(y)"
   ]
  },
  {
   "cell_type": "code",
   "execution_count": 2,
   "metadata": {},
   "outputs": [
    {
     "output_type": "execute_result",
     "data": {
      "text/plain": "20.0"
     },
     "metadata": {},
     "execution_count": 2
    }
   ],
   "source": [
    "#기울기 공식의 분모\n",
    "divisor = sum([(i-mx)**2 for i in x])\n",
    "divisor"
   ]
  },
  {
   "cell_type": "code",
   "execution_count": 7,
   "metadata": {},
   "outputs": [
    {
     "output_type": "execute_result",
     "data": {
      "text/plain": "46.0"
     },
     "metadata": {},
     "execution_count": 7
    }
   ],
   "source": [
    "#기울기 공식의 분자\n",
    "def top(x, mx, y,my):\n",
    "    s=0\n",
    "    for i in range(len(x)):\n",
    "        s+=(x[i]-mx)*(y[i]-my)\n",
    "    return s\n",
    "\n",
    "dividend = top(x,mx,y,my)\n",
    "dividend"
   ]
  },
  {
   "cell_type": "code",
   "execution_count": 9,
   "metadata": {},
   "outputs": [],
   "source": [
    "w= dividend/divisor\n",
    "#y절편(bias))\n",
    "b=my-(mx*w)"
   ]
  },
  {
   "cell_type": "code",
   "execution_count": 10,
   "metadata": {
    "tags": []
   },
   "outputs": [
    {
     "output_type": "stream",
     "name": "stdout",
     "text": "기울기 :  2.3\ny절편 b=  79.0\n"
    }
   ],
   "source": [
    "print(\"기울기 : \",w)\n",
    "print(\"y절편 b= \",b)"
   ]
  },
  {
   "cell_type": "markdown",
   "metadata": {},
   "source": [
    "기울기와 y절편이 각각 3, 76이라고 가정  \n",
    "x 데이터(공부시간), y데이터(성적)"
   ]
  },
  {
   "cell_type": "code",
   "execution_count": 17,
   "metadata": {},
   "outputs": [
    {
     "output_type": "execute_result",
     "data": {
      "text/plain": "[81, 83, 91, 97]"
     },
     "metadata": {},
     "execution_count": 17
    }
   ],
   "source": [
    "ab=[3,78]\n",
    "data =[[2,81], [4,83],[6,91],[8,97]]\n",
    "# x=[2,4,6,8]\n",
    "# y=[,81,83,91,97]\n",
    "\n",
    "x=[i[0] for i in data]\n",
    "x\n",
    "y=[i[1] for i in data]\n",
    "y\n",
    "\n"
   ]
  },
  {
   "cell_type": "code",
   "execution_count": 19,
   "metadata": {},
   "outputs": [],
   "source": [
    "def predict(x):\n",
    "    return ab[0]*x+ab[1]\n",
    "\n",
    "#mse함수\n",
    "def mse(ym, yhat):\n",
    "    return ((y-yhat)**2).mean()\n",
    "\n"
   ]
  },
  {
   "cell_type": "code",
   "execution_count": 21,
   "metadata": {},
   "outputs": [
    {
     "output_type": "execute_result",
     "data": {
      "text/plain": "[84, 90, 96, 102]"
     },
     "metadata": {},
     "execution_count": 21
    }
   ],
   "source": [
    "res=[]\n",
    "for i in range(len(x)):\n",
    "    res.append(predict(x[i]))\n",
    "res #예측값"
   ]
  },
  {
   "cell_type": "code",
   "execution_count": 23,
   "metadata": {
    "tags": []
   },
   "outputs": [
    {
     "output_type": "stream",
     "name": "stdout",
     "text": "공부량 = 2 실제점수 81 예측점수 84\n공부량 = 4 실제점수 83 예측점수 90\n공부량 = 6 실제점수 91 예측점수 96\n공부량 = 8 실제점수 97 예측점수 102\n"
    },
    {
     "output_type": "error",
     "ename": "TypeError",
     "evalue": "unsupported operand type(s) for -: 'list' and 'list'",
     "traceback": [
      "\u001b[1;31m---------------------------------------------------------------------------\u001b[0m",
      "\u001b[1;31mTypeError\u001b[0m                                 Traceback (most recent call last)",
      "\u001b[1;32m<ipython-input-23-427c61768398>\u001b[0m in \u001b[0;36m<module>\u001b[1;34m\u001b[0m\n\u001b[0;32m     10\u001b[0m     \u001b[0mprint\u001b[0m\u001b[1;33m(\u001b[0m\u001b[1;34m'공부량 = %.f 실제점수 %.f 예측점수 %.f'\u001b[0m \u001b[1;33m%\u001b[0m\u001b[1;33m(\u001b[0m\u001b[0mx\u001b[0m\u001b[1;33m[\u001b[0m\u001b[0mi\u001b[0m\u001b[1;33m]\u001b[0m\u001b[1;33m,\u001b[0m \u001b[0my\u001b[0m\u001b[1;33m[\u001b[0m\u001b[0mi\u001b[0m\u001b[1;33m]\u001b[0m\u001b[1;33m,\u001b[0m \u001b[0mres\u001b[0m\u001b[1;33m[\u001b[0m\u001b[0mi\u001b[0m\u001b[1;33m]\u001b[0m\u001b[1;33m)\u001b[0m\u001b[1;33m)\u001b[0m\u001b[1;33m\u001b[0m\u001b[1;33m\u001b[0m\u001b[0m\n\u001b[0;32m     11\u001b[0m \u001b[0mres\u001b[0m\u001b[1;33m\u001b[0m\u001b[1;33m\u001b[0m\u001b[0m\n\u001b[1;32m---> 12\u001b[1;33m \u001b[0mmseVal\u001b[0m\u001b[1;33m(\u001b[0m\u001b[0my\u001b[0m \u001b[1;33m-\u001b[0m \u001b[0mres\u001b[0m\u001b[1;33m)\u001b[0m\u001b[1;33m\u001b[0m\u001b[1;33m\u001b[0m\u001b[0m\n\u001b[0m",
      "\u001b[1;31mTypeError\u001b[0m: unsupported operand type(s) for -: 'list' and 'list'"
     ]
    }
   ],
   "source": [
    "def predict(x): #y = ax +b\n",
    "    return ab[0]*x + ab[1]\n",
    "def mse(y, yhat):\n",
    "    return((y-yhat)**2).mean()\n",
    "def mseVal(y, res):\n",
    "    return mse(np.array(y) - np.array(res))\n",
    "res = []\n",
    "for i in range(len(x)):\n",
    "    res.append(predict(x[i]))\n",
    "    print('공부량 = %.f 실제점수 %.f 예측점수 %.f' %(x[i], y[i], res[i]))\n",
    "res\n",
    "mseVal(y - res)"
   ]
  },
  {
   "cell_type": "code",
   "execution_count": 24,
   "metadata": {},
   "outputs": [],
   "source": [
    "import tensorflow as tf "
   ]
  },
  {
   "cell_type": "code",
   "execution_count": 33,
   "metadata": {},
   "outputs": [],
   "source": [
    "epochs =2001\n",
    "lr =0.03\n",
    "xdata= np.array(x)\n",
    "ydata = np.array(y)\n",
    "#기울기, 절편초기화\n",
    "a=0\n",
    "b=0"
   ]
  },
  {
   "cell_type": "code",
   "execution_count": 34,
   "metadata": {
    "tags": []
   },
   "outputs": [
    {
     "output_type": "stream",
     "name": "stdout",
     "text": "에폭=0, 기울기=27.2400, 절편=5.2800\n에폭=100, 기울기=7.2651, 절편=47.3539\n에폭=200, 기울기=4.4799, 절편=63.9753\n에폭=300, 기울기=3.4320, 절편=70.2286\n에폭=400, 기울기=3.0378, 절편=72.5811\n에폭=500, 기울기=2.8895, 절편=73.4662\n에폭=600, 기울기=2.8337, 절편=73.7992\n에폭=700, 기울기=2.8127, 절편=73.9244\n에폭=800, 기울기=2.8048, 절편=73.9716\n에폭=900, 기울기=2.8018, 절편=73.9893\n에폭=1000, 기울기=2.8007, 절편=73.9960\n에폭=1100, 기울기=2.8003, 절편=73.9985\n에폭=1200, 기울기=2.8001, 절편=73.9994\n에폭=1300, 기울기=2.8000, 절편=73.9998\n에폭=1400, 기울기=2.8000, 절편=73.9999\n에폭=1500, 기울기=2.8000, 절편=74.0000\n에폭=1600, 기울기=2.8000, 절편=74.0000\n에폭=1700, 기울기=2.8000, 절편=74.0000\n에폭=1800, 기울기=2.8000, 절편=74.0000\n에폭=1900, 기울기=2.8000, 절편=74.0000\n에폭=2000, 기울기=2.8000, 절편=74.0000\n"
    }
   ],
   "source": [
    "#경사 하강법\n",
    "for i in range(epochs):\n",
    "    yhat = a*xdata + b #y 예측값\n",
    "    error = ydata -yhat #오차\n",
    "    aDiff = -(2/len(xdata))*sum(xdata*error) #오차함수를 a로 미분\n",
    "    bDiff = -(2/len(xdata))*sum(error) #오차 함수를 b로 미분\n",
    "    a= a-lr*aDiff #학습률을 곱해서 기존의 a값을 갱신\n",
    "    # W:=W - alpha*cost 함수를 w로 편미분\n",
    "    b = b-lr*bDiff \n",
    "    \n",
    "    if i%100 ==0:\n",
    "        print(\"에폭=%.f, 기울기=%.4f, 절편=%.4f\"%(i,a,b))\n",
    "    "
   ]
  },
  {
   "cell_type": "code",
   "execution_count": 41,
   "metadata": {},
   "outputs": [],
   "source": [
    "ypred= a*xdata+b\n",
    "plt.scatter(x,y)\n",
    "plt.plot([min(xdata), max(xdata)], [min(ypred), max(ypred)])\n",
    "plt.show()"
   ]
  },
  {
   "cell_type": "code",
   "execution_count": null,
   "metadata": {},
   "outputs": [],
   "source": [
    "x= tf.constant(35)\n",
    "y= tf.Variable(x+5)\n",
    "\n"
   ]
  },
  {
   "cell_type": "code",
   "execution_count": 45,
   "metadata": {
    "tags": []
   },
   "outputs": [
    {
     "output_type": "stream",
     "name": "stdout",
     "text": "WARNING:tensorflow:From C:\\Users\\kccistc\\anaconda3\\lib\\site-packages\\tensorflow\\python\\compat\\v2_compat.py:96: disable_resource_variables (from tensorflow.python.ops.variable_scope) is deprecated and will be removed in a future version.\nInstructions for updating:\nnon-resource variables are not supported in the long term\n"
    }
   ],
   "source": [
    "import tensorflow.compat.v1 as tf\n",
    "tf.disable_v2_behavior()"
   ]
  },
  {
   "cell_type": "code",
   "execution_count": 47,
   "metadata": {
    "tags": []
   },
   "outputs": [
    {
     "output_type": "stream",
     "name": "stdout",
     "text": "[[ 2.  4.  6.]\n [ 8. 10. 12.]]\n"
    }
   ],
   "source": [
    "#placeholder\n",
    "x= tf.placeholder(\"float\",[None,3])\n",
    "y=x*2\n",
    "\n",
    "with tf.Session() as sess:\n",
    "    xdata =[[1,2,3], [4,5,6]]\n",
    "    res = sess.run(y,feed_dict={x:xdata})\n",
    "    print(res)"
   ]
  }
 ],
 "metadata": {
  "language_info": {
   "codemirror_mode": {
    "name": "ipython",
    "version": 3
   },
   "file_extension": ".py",
   "mimetype": "text/x-python",
   "name": "python",
   "nbconvert_exporter": "python",
   "pygments_lexer": "ipython3",
   "version": 3
  },
  "orig_nbformat": 2,
  "kernelspec": {
   "name": "python_defaultSpec_1594685935657",
   "display_name": "Python 3.7.6 64-bit ('base': conda)"
  }
 },
 "nbformat": 4,
 "nbformat_minor": 2
}