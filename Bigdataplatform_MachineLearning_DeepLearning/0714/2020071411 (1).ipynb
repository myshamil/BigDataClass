{
 "cells": [
  {
   "cell_type": "code",
   "execution_count": 1,
   "metadata": {},
   "outputs": [],
   "source": [
    "import numpy as np"
   ]
  },
  {
   "cell_type": "code",
   "execution_count": 2,
   "metadata": {},
   "outputs": [],
   "source": [
    "x=[2,4,6,8]\n",
    "y=[81,93,91,97]\n",
    "mx=np.mean(x)\n",
    "my=np.mean(y)"
   ]
  },
  {
   "cell_type": "code",
   "execution_count": 5,
   "metadata": {},
   "outputs": [
    {
     "data": {
      "text/plain": [
       "20.0"
      ]
     },
     "execution_count": 5,
     "metadata": {},
     "output_type": "execute_result"
    }
   ],
   "source": [
    "#기울기 공식의 분모\n",
    "divisor= sum([(i-mx)**2 for i in  x])\n",
    "divisor"
   ]
  },
  {
   "cell_type": "code",
   "execution_count": 6,
   "metadata": {},
   "outputs": [
    {
     "data": {
      "text/plain": [
       "46.0"
      ]
     },
     "execution_count": 6,
     "metadata": {},
     "output_type": "execute_result"
    }
   ],
   "source": [
    "#기울기 공식의 분자\n",
    "def top(x,mx,y,my):\n",
    "    s=0\n",
    "    for i in range(len(x)):\n",
    "        s+=(x[i]-mx)*(y[i]-my)\n",
    "    return s\n",
    "dividend=top(x,mx,y,my)\n",
    "dividend"
   ]
  },
  {
   "cell_type": "code",
   "execution_count": 7,
   "metadata": {},
   "outputs": [],
   "source": [
    "#기울기\n",
    "w= dividend/divisor\n",
    "#y절편(bias)\n",
    "b=my-(mx*w)"
   ]
  },
  {
   "cell_type": "code",
   "execution_count": 8,
   "metadata": {},
   "outputs": [
    {
     "name": "stdout",
     "output_type": "stream",
     "text": [
      "기울기= 2.3\n",
      "y절편 b= 79.0\n"
     ]
    }
   ],
   "source": [
    "print(\"기울기=\",w)\n",
    "print(\"y절편 b=\",b)"
   ]
  },
  {
   "cell_type": "code",
   "execution_count": 10,
   "metadata": {},
   "outputs": [],
   "source": [
    "#기울기와 y절편이 각각 3, 76이라고 가정\n",
    "ab=[3,76]\n",
    "#x데이터(공부시간), y데이터(성적)\n",
    "data=[[2,81], [4,93], [6,91], [8,97]]\n",
    "x=[i[0] for i in data]\n",
    "y=[i[1] for i in data]\n",
    "# x=[2,4,6,8]\n",
    "# y=[81,93,91,97]"
   ]
  },
  {
   "cell_type": "code",
   "execution_count": 11,
   "metadata": {},
   "outputs": [],
   "source": [
    "def predict(x):       #y=ax+b => y=3*x+76\n",
    "    return ab[0]*x+ab[1]\n",
    "\n",
    "#mse 함수\n",
    "def mse(y, yhat): #실제값, 예측값 mean squared error\n",
    "    return ((y-yhat)**2).mean()\n",
    "\n",
    "def mseVal(y, res):  \n",
    "    return mse(np.array(y),np.array(res))"
   ]
  },
  {
   "cell_type": "code",
   "execution_count": 18,
   "metadata": {},
   "outputs": [
    {
     "name": "stdout",
     "output_type": "stream",
     "text": [
      "공부시간=1 실제점수=1 예측점수=79\n",
      "공부시간=2 실제점수=1 예측점수=82\n",
      "공부시간=3 실제점수=1 예측점수=85\n"
     ]
    },
    {
     "data": {
      "text/plain": [
       "6567.0"
      ]
     },
     "execution_count": 18,
     "metadata": {},
     "output_type": "execute_result"
    }
   ],
   "source": [
    "y # 실제값\n",
    " # 예측값 = 3x+76\n",
    "res=[]\n",
    "for i in range(len(x)):\n",
    "    res.append(predict(x[i]))\n",
    "    print(\"공부시간=%.f 실제점수=%.f 예측점수=%.f\" %(x[i],y[i],predict(x[i])))\n",
    "#res #예측값\n",
    "\n",
    "#mse 출력\n",
    "#mse(np.array(res),np.array(y))\n",
    "\n",
    "mseVal(res,y)"
   ]
  },
  {
   "cell_type": "code",
   "execution_count": 19,
   "metadata": {},
   "outputs": [],
   "source": [
    "import pandas as pd\n",
    "import matplotlib.pyplot as plt"
   ]
  },
  {
   "cell_type": "code",
   "execution_count": 59,
   "metadata": {},
   "outputs": [],
   "source": [
    "data=[[2,81], [4,93], [6,91], [8,97]]\n",
    "x=[i[0] for i in data]\n",
    "y=[i[1] for i in data]"
   ]
  },
  {
   "cell_type": "code",
   "execution_count": 60,
   "metadata": {},
   "outputs": [
    {
     "data": {
      "image/png": "[encoded data removed]",
      "text/plain": [
       "<Figure size 576x360 with 1 Axes>"
      ]
     },
     "metadata": {
      "needs_background": "light"
     },
     "output_type": "display_data"
    }
   ],
   "source": [
    "plt.figure(figsize=(8,5))\n",
    "plt.scatter(x,y)\n",
    "plt.show()"
   ]
  },
  {
   "cell_type": "code",
   "execution_count": 61,
   "metadata": {},
   "outputs": [],
   "source": [
    "import tensorflow as tf"
   ]
  },
  {
   "cell_type": "code",
   "execution_count": 62,
   "metadata": {},
   "outputs": [],
   "source": [
    "epochs=2001 #전체 데이터를 2001번 반복\n",
    "lr=0.03 #학습률\n",
    "xdata=np.array(x)\n",
    "ydata=np.array(y)\n",
    "#기울기, 절편 초기화\n",
    "a=0\n",
    "b=0"
   ]
  },
  {
   "cell_type": "code",
   "execution_count": 58,
   "metadata": {
    "scrolled": false
   },
   "outputs": [
    {
     "ename": "TypeError",
     "evalue": "can't multiply sequence by non-int of type 'numpy.float64'",
     "output_type": "error",
     "traceback": [
      "\u001b[1;31m---------------------------------------------------------------------------\u001b[0m",
      "\u001b[1;31mTypeError\u001b[0m                                 Traceback (most recent call last)",
      "\u001b[1;32m<ipython-input-58-d6a1023f9080>\u001b[0m in \u001b[0;36m<module>\u001b[1;34m\u001b[0m\n\u001b[0;32m      1\u001b[0m \u001b[1;31m#경사 하강법\u001b[0m\u001b[1;33m\u001b[0m\u001b[1;33m\u001b[0m\u001b[1;33m\u001b[0m\u001b[0m\n\u001b[0;32m      2\u001b[0m \u001b[1;32mfor\u001b[0m \u001b[0mi\u001b[0m \u001b[1;32min\u001b[0m \u001b[0mrange\u001b[0m\u001b[1;33m(\u001b[0m\u001b[0mepochs\u001b[0m\u001b[1;33m)\u001b[0m\u001b[1;33m:\u001b[0m\u001b[1;33m\u001b[0m\u001b[1;33m\u001b[0m\u001b[0m\n\u001b[1;32m----> 3\u001b[1;33m     \u001b[0myhat\u001b[0m\u001b[1;33m=\u001b[0m\u001b[0ma\u001b[0m\u001b[1;33m*\u001b[0m\u001b[0mxdata\u001b[0m\u001b[1;33m+\u001b[0m\u001b[0mb\u001b[0m \u001b[1;31m#y 예측값\u001b[0m\u001b[1;33m\u001b[0m\u001b[1;33m\u001b[0m\u001b[0m\n\u001b[0m\u001b[0;32m      4\u001b[0m     \u001b[0merror\u001b[0m\u001b[1;33m=\u001b[0m\u001b[0mydata\u001b[0m\u001b[1;33m-\u001b[0m\u001b[0myhat\u001b[0m \u001b[1;31m#오차\u001b[0m\u001b[1;33m\u001b[0m\u001b[1;33m\u001b[0m\u001b[0m\n\u001b[0;32m      5\u001b[0m     \u001b[0maDiff\u001b[0m\u001b[1;33m=\u001b[0m\u001b[1;33m-\u001b[0m\u001b[1;33m(\u001b[0m\u001b[1;36m2\u001b[0m\u001b[1;33m/\u001b[0m\u001b[0mlen\u001b[0m\u001b[1;33m(\u001b[0m\u001b[0mxdata\u001b[0m\u001b[1;33m)\u001b[0m\u001b[1;33m)\u001b[0m\u001b[1;33m*\u001b[0m\u001b[0msum\u001b[0m\u001b[1;33m(\u001b[0m\u001b[0mxdata\u001b[0m\u001b[1;33m*\u001b[0m\u001b[0merror\u001b[0m\u001b[1;33m)\u001b[0m \u001b[1;31m#오차함수를 a로 미분한 값\u001b[0m\u001b[1;33m\u001b[0m\u001b[1;33m\u001b[0m\u001b[0m\n",
      "\u001b[1;31mTypeError\u001b[0m: can't multiply sequence by non-int of type 'numpy.float64'"
     ]
    }
   ],
   "source": [
    "#경사 하강법\n",
    "for i in range(epochs):\n",
    "    yhat=a*xdata+b #y 예측값\n",
    "    error=ydata-yhat #오차\n",
    "    aDiff=-(2/len(xdata))*sum(xdata*error) #오차함수를 a로 미분한 값\n",
    "    bDiff=-(2/len(xdata))*sum(error) #오찬함수를 b로 미분한 값\n",
    "    a=a-lr*aDiff #학습률을 곱해서 기존의 a값을 갱신\n",
    "    #W:=W - alpha * cost함수를 w로 편미분\n",
    "    b=b-lr*bDiff #학습률을 곱해서 기존의 b값을 갱신    \n",
    "    if i%100==0:\n",
    "        print(\"에폭=%.f, 기울기=%.4f, 절편=%.4f\"%(i,a,b))\n"
   ]
  },
  {
   "cell_type": "code",
   "execution_count": 26,
   "metadata": {},
   "outputs": [],
   "source": [
    "# a2=np.array([1,2,3])\n",
    "# a3=np.array([1,1,1])\n",
    "# a2-a3 #벡터화연산"
   ]
  },
  {
   "cell_type": "code",
   "execution_count": 36,
   "metadata": {},
   "outputs": [
    {
     "data": {
      "image/png": "[encoded data removed]",
      "text/plain": [
       "<Figure size 432x288 with 1 Axes>"
      ]
     },
     "metadata": {
      "needs_background": "light"
     },
     "output_type": "display_data"
    }
   ],
   "source": [
    "ypred=a*xdata+b #우리가 만든 모델의 예측값\n",
    "plt.scatter(x,y)\n",
    "plt.plot([min(xdata),max(xdata)],[min(ypred),max(ypred)])\n",
    "plt.show()"
   ]
  },
  {
   "cell_type": "code",
   "execution_count": 37,
   "metadata": {},
   "outputs": [],
   "source": [
    "#자동 경사하강법 실습\n",
    "data=[[2,81], [4,93], [6,91], [8,97]]\n",
    "x=[i[0] for i in data]\n",
    "y=[i[1] for i in data]\n"
   ]
  },
  {
   "cell_type": "code",
   "execution_count": null,
   "metadata": {},
   "outputs": [],
   "source": []
  },
  {
   "cell_type": "code",
   "execution_count": 40,
   "metadata": {},
   "outputs": [
    {
     "data": {
      "text/plain": [
       "<tf.Variable 'Variable:0' shape=() dtype=int32, numpy=40>"
      ]
     },
     "execution_count": 40,
     "metadata": {},
     "output_type": "execute_result"
    }
   ],
   "source": [
    "x=tf.constant(35)\n",
    "y=tf.Variable(x+5)\n",
    "y"
   ]
  },
  {
   "cell_type": "code",
   "execution_count": 66,
   "metadata": {},
   "outputs": [],
   "source": [
    "import tensorflow.compat.v1 as tf # 1.xxversion을 사용\n",
    "tf.disable_v2_behavior() #2.xx version 기능 사용불가\n",
    "#tf 1.xx version -> 2.xx version"
   ]
  },
  {
   "cell_type": "code",
   "execution_count": 56,
   "metadata": {},
   "outputs": [
    {
     "name": "stdout",
     "output_type": "stream",
     "text": [
      "[[ 2.  4.  6.]\n",
      " [ 8. 10. 12.]]\n"
     ]
    }
   ],
   "source": [
    "x=tf.placeholder(\"float\",[None,3])\n",
    "y=x*2\n",
    "with tf.Session() as sess:\n",
    "    xdata=[[1,2,3], [4,5,6]]\n",
    "    res=sess.run(y,feed_dict={x:xdata})\n",
    "    print(res)"
   ]
  },
  {
   "cell_type": "code",
   "execution_count": null,
   "metadata": {},
   "outputs": [],
   "source": []
  },
  {
   "cell_type": "code",
   "execution_count": 68,
   "metadata": {},
   "outputs": [],
   "source": [
    "#자동 경사하강법 실습\n",
    "data=[[2,81], [4,93], [6,91], [8,97]]\n",
    "x=[i[0] for i in data]\n",
    "y=[i[1] for i in data]"
   ]
  },
  {
   "cell_type": "code",
   "execution_count": 88,
   "metadata": {},
   "outputs": [],
   "source": [
    "w=tf.Variable(tf.random_uniform([1],0,10,seed=20200714))\n",
    "b=tf.Variable(tf.random_uniform([1],0,100,seed=20200714))"
   ]
  },
  {
   "cell_type": "code",
   "execution_count": 93,
   "metadata": {},
   "outputs": [],
   "source": [
    "sess=tf.Session()\n",
    "sess.run(tf.global_variables_initializer())\n",
    "\n",
    "hf=w*x+b\n",
    "#print(sess.run(hf))\n",
    "rmse=tf.sqrt(tf.reduce_mean(tf.square(hf-y)))\n",
    "train=tf.train.GradientDescentOptimizer(0.01).minimize(rmse)"
   ]
  },
  {
   "cell_type": "code",
   "execution_count": 87,
   "metadata": {},
   "outputs": [
    {
     "name": "stdout",
     "output_type": "stream",
     "text": [
      "[1.9601321]\n"
     ]
    }
   ],
   "source": [
    "#print(w)\n",
    "\n",
    "print(sess.run(w))"
   ]
  },
  {
   "cell_type": "code",
   "execution_count": 95,
   "metadata": {
    "scrolled": true
   },
   "outputs": [
    {
     "name": "stdout",
     "output_type": "stream",
     "text": [
      "에폭=0, rmse=61, 기울기=2.0605, 절편=19.6213\n",
      "에폭=100, rmse=38, 기울기=6.7596, 절편=20.6102\n",
      "에폭=200, rmse=26, 기울기=10.0338, 절편=21.4759\n",
      "에폭=300, rmse=24, 기울기=11.3072, 절편=22.0807\n",
      "에폭=400, rmse=23, 기울기=11.6210, 절편=22.5373\n",
      "에폭=500, rmse=23, 기울기=11.6560, 절편=22.9481\n",
      "에폭=600, rmse=23, 기울기=11.6164, 절편=23.3466\n",
      "에폭=700, rmse=23, 기울기=11.5573, 절편=23.7417\n",
      "에폭=800, rmse=23, 기울기=11.4931, 절편=24.1359\n",
      "에폭=900, rmse=22, 기울기=11.4275, 절편=24.5298\n",
      "에폭=1000, rmse=22, 기울기=11.3617, 절편=24.9237\n",
      "에폭=1100, rmse=22, 기울기=11.2957, 절편=25.3174\n",
      "에폭=1200, rmse=22, 기울기=11.2297, 절편=25.7111\n",
      "에폭=1300, rmse=22, 기울기=11.1638, 절편=26.1048\n",
      "에폭=1400, rmse=22, 기울기=11.0978, 절편=26.4985\n",
      "에폭=1500, rmse=21, 기울기=11.0319, 절편=26.8920\n",
      "에폭=1600, rmse=21, 기울기=10.9659, 절편=27.2855\n",
      "에폭=1700, rmse=21, 기울기=10.9000, 절편=27.6790\n",
      "에폭=1800, rmse=21, 기울기=10.8341, 절편=28.0724\n",
      "에폭=1900, rmse=21, 기울기=10.7682, 절편=28.4657\n",
      "에폭=2000, rmse=21, 기울기=10.7023, 절편=28.8589\n"
     ]
    }
   ],
   "source": [
    "for step in range(2001):\n",
    "    sess.run(train)\n",
    "    if step%100==0:\n",
    "        print(\"에폭=%.f, rmse=%.f, 기울기=%.4f, 절편=%.4f\" % \n",
    "              (step, sess.run(rmse),\n",
    "               sess.run(w),sess.run(b)))"
   ]
  },
  {
   "cell_type": "code",
   "execution_count": 142,
   "metadata": {},
   "outputs": [],
   "source": [
    "x=[1, 2, 3] # 20\n",
    "y=[5, 15, 20]\n",
    "#hf=3.4 * x + 51    w:3.4, b:51\n",
    "w=tf.Variable(tf.random_uniform([1],-1,1))\n",
    "b=tf.Variable(tf.random_uniform([1],-1,1))"
   ]
  },
  {
   "cell_type": "code",
   "execution_count": 143,
   "metadata": {},
   "outputs": [],
   "source": [
    "hf=w*x+b\n",
    "cost=tf.reduce_mean((hf-y)**2)"
   ]
  },
  {
   "cell_type": "code",
   "execution_count": 144,
   "metadata": {},
   "outputs": [],
   "source": [
    "opt=tf.train.GradientDescentOptimizer(learning_rate=0.1)\n",
    "train=opt.minimize(cost)\n",
    "#W:=W-alpha* w편미분 cost(w,b)\n",
    "#alpha=learning rate"
   ]
  },
  {
   "cell_type": "code",
   "execution_count": 145,
   "metadata": {},
   "outputs": [],
   "source": [
    "sess=tf.Session()\n",
    "sess.run(tf.global_variables_initializer())"
   ]
  },
  {
   "cell_type": "code",
   "execution_count": 146,
   "metadata": {},
   "outputs": [
    {
     "name": "stdout",
     "output_type": "stream",
     "text": [
      "[7.499997] [-1.666661] 1.3888899\n"
     ]
    }
   ],
   "source": [
    "for i in range(2001):\n",
    "    #print(sess.run(w), sess.run(b), sess.run(cost))\n",
    "    #hf=0.29 * 3 -0.18\n",
    "    #cost=tf.reduce_mean((0.69-20)**2) = 203\n",
    "    #                   [23 220 390]\n",
    "    sess.run(train)\n",
    "#    print(sess.run(w), sess.run(b), sess.run(cost))\n",
    "    #if i % 20==0:\n",
    "#         print(i, sess.run(cost))\n",
    "print(sess.run(w),sess.run(b),sess.run(cost))\n",
    "\n",
    "print(\"x가 5일때 예측값:\", )\n",
    "#hf=w*x+b"
   ]
  },
  {
   "cell_type": "code",
   "execution_count": null,
   "metadata": {},
   "outputs": [],
   "source": []
  },
  {
   "cell_type": "code",
   "execution_count": 148,
   "metadata": {},
   "outputs": [],
   "source": [
    "###x데이터가 입력되었을때 y값을 예측하시오.\n",
    "#x가 7, 11일때 y?\n",
    "xx=[1,2,3]\n",
    "yy=[2,5,7]\n",
    "\n",
    "w=tf.Variable(tf.random_uniform([1],-1,1))\n",
    "b=tf.Variable(tf.random_uniform([1],-1,1))\n",
    "x=tf.placeholder(tf.float32)\n",
    "y=tf.placeholder(tf.float32)"
   ]
  },
  {
   "cell_type": "code",
   "execution_count": 149,
   "metadata": {},
   "outputs": [],
   "source": [
    "hf=w*x+b\n",
    "cost=tf.reduce_mean((hf-y)**2)"
   ]
  },
  {
   "cell_type": "code",
   "execution_count": 150,
   "metadata": {},
   "outputs": [],
   "source": [
    "opt=tf.train.GradientDescentOptimizer(0.1)\n",
    "train=opt.minimize(cost)"
   ]
  },
  {
   "cell_type": "code",
   "execution_count": 151,
   "metadata": {},
   "outputs": [],
   "source": [
    "sess=tf.Session()\n",
    "sess.run(tf.global_variables_initializer())"
   ]
  },
  {
   "cell_type": "code",
   "execution_count": 154,
   "metadata": {},
   "outputs": [
    {
     "name": "stdout",
     "output_type": "stream",
     "text": [
      "0 0.105992414\n",
      "20 0.073506944\n",
      "40 0.0623381\n",
      "60 0.058118206\n",
      "80 0.056523796\n",
      "100 0.055921327\n",
      "120 0.0556938\n",
      "140 0.055607807\n",
      "160 0.055575293\n",
      "180 0.055562984\n",
      "200 0.055558372\n",
      "220 0.05555662\n",
      "240 0.055555906\n",
      "260 0.05555576\n",
      "280 0.055555638\n",
      "300 0.055555552\n",
      "320 0.05555551\n",
      "340 0.055555608\n",
      "360 0.055555586\n",
      "380 0.055555582\n",
      "400 0.055555582\n",
      "420 0.055555556\n",
      "440 0.055555552\n",
      "460 0.055555552\n",
      "480 0.05555561\n",
      "500 0.055555552\n",
      "520 0.055555526\n",
      "540 0.055555608\n",
      "560 0.055555608\n",
      "580 0.055555608\n",
      "600 0.055555608\n",
      "620 0.055555608\n",
      "640 0.055555608\n",
      "660 0.055555608\n",
      "680 0.055555608\n",
      "700 0.055555608\n",
      "720 0.055555608\n",
      "740 0.055555608\n",
      "760 0.055555608\n",
      "780 0.055555608\n",
      "800 0.055555608\n",
      "820 0.055555608\n",
      "840 0.055555608\n",
      "860 0.055555608\n",
      "880 0.055555608\n",
      "900 0.055555608\n",
      "920 0.055555608\n",
      "940 0.055555608\n",
      "960 0.055555608\n",
      "980 0.055555608\n",
      "1000 0.055555608\n",
      "1020 0.055555608\n",
      "1040 0.055555608\n",
      "1060 0.055555608\n",
      "1080 0.055555608\n",
      "1100 0.055555608\n",
      "1120 0.055555608\n",
      "1140 0.055555608\n",
      "1160 0.055555608\n",
      "1180 0.055555608\n",
      "1200 0.055555608\n",
      "1220 0.055555608\n",
      "1240 0.055555608\n",
      "1260 0.055555608\n",
      "1280 0.055555608\n",
      "1300 0.055555608\n",
      "1320 0.055555608\n",
      "1340 0.055555608\n",
      "1360 0.055555608\n",
      "1380 0.055555608\n",
      "1400 0.055555608\n",
      "1420 0.055555608\n",
      "1440 0.055555608\n",
      "1460 0.055555608\n",
      "1480 0.055555608\n",
      "1500 0.055555608\n",
      "1520 0.055555608\n",
      "1540 0.055555608\n",
      "1560 0.055555608\n",
      "1580 0.055555608\n",
      "1600 0.055555608\n",
      "1620 0.055555608\n",
      "1640 0.055555608\n",
      "1660 0.055555608\n",
      "1680 0.055555608\n",
      "1700 0.055555608\n",
      "1720 0.055555608\n",
      "1740 0.055555608\n",
      "1760 0.055555608\n",
      "1780 0.055555608\n",
      "1800 0.055555608\n",
      "1820 0.055555608\n",
      "1840 0.055555608\n",
      "1860 0.055555608\n",
      "1880 0.055555608\n",
      "1900 0.055555608\n",
      "1920 0.055555608\n",
      "1940 0.055555608\n",
      "1960 0.055555608\n",
      "1980 0.055555608\n",
      "2000 0.055555608\n"
     ]
    }
   ],
   "source": [
    "for i in range(2001):\n",
    "    sess.run(train, feed_dict={x:xx, y:yy})\n",
    "    if i % 20==0:\n",
    "        print(i, sess.run(cost, feed_dict={x:xx, y:yy}))    \n",
    "   "
   ]
  },
  {
   "cell_type": "code",
   "execution_count": 161,
   "metadata": {},
   "outputs": [
    {
     "name": "stdout",
     "output_type": "stream",
     "text": [
      "[2.4999993]\n",
      "[-0.33333185]\n",
      "7, 11: [17.166662 27.16666 ]\n"
     ]
    }
   ],
   "source": [
    "print(sess.run(w))\n",
    "print(sess.run(b))\n",
    "#hf= 2.5 * x - 0.33\n",
    "#x가 7, 11일때 y값을 예측\n",
    "# print(\"7:\", sess.run(w)*7+sess.run(b))\n",
    "# print(\"11:\", sess.run(w)*11+sess.run(b))\n",
    "\n",
    "#print(\"7:\", sess.run(hf, feed_dict={x:7}))\n",
    "print(\"7, 11:\", sess.run(hf, feed_dict={x:[7,11]}))\n"
   ]
  },
  {
   "cell_type": "code",
   "execution_count": null,
   "metadata": {},
   "outputs": [],
   "source": []
  }
 ],
 "metadata": {
  "kernelspec": {
   "display_name": "Python 3",
   "language": "python",
   "name": "python3"
  },
  "language_info": {
   "codemirror_mode": {
    "name": "ipython",
    "version": 3
   },
   "file_extension": ".py",
   "mimetype": "text/x-python",
   "name": "python",
   "nbconvert_exporter": "python",
   "pygments_lexer": "ipython3",
   "version": "3.7.6"
  }
 },
 "nbformat": 4,
 "nbformat_minor": 4
}