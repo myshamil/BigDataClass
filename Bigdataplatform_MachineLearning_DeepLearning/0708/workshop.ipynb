{
 "cells": [
  {
   "cell_type": "code",
   "execution_count": 35,
   "metadata": {},
   "outputs": [],
   "source": [
    "from sklearn.ensemble import RandomForestRegressor\n",
    "import numpy as np\n",
    "import pandas as pd\n",
    "import matplotlib.pyplot as plt\n",
    "import seaborn as sns"
   ]
  },
  {
   "cell_type": "code",
   "execution_count": 36,
   "metadata": {},
   "outputs": [],
   "source": [
    "# font 설정\n",
    "import platform\n",
    "path = \"c:/Windows/Fonts/malgun.ttf\"\n",
    "from matplotlib import font_manager, rc\n",
    "\n",
    "if platform.system() == 'Darwin':\n",
    "    rc('font', family='AppleGothic')\n",
    "elif platform.system() == 'Windows':\n",
    "    font_name = font_manager.FontProperties(fname=path).get_name()\n",
    "    rc('font', family=font_name)\n",
    "else :\n",
    "    print('Unknown system... sorry~')"
   ]
  },
  {
   "cell_type": "code",
   "execution_count": 119,
   "metadata": {},
   "outputs": [],
   "source": [
    "train =  pd.read_csv(\"bike-sharing-demand/train.csv\",parse_dates=[\"datetime\"])\n",
    "test = pd.read_csv(\"bike-sharing-demand/test.csv\",parse_dates=[\"datetime\"])"
   ]
  },
  {
   "cell_type": "code",
   "execution_count": 120,
   "metadata": {},
   "outputs": [],
   "source": [
    "train['year'] =train['datetime'].dt.year\n",
    "train['month'] =train['datetime'].dt.month\n",
    "train['hour'] =train['datetime'].dt.hour\n",
    "train['dayofweek'] =train['datetime'].dt.dayofweek"
   ]
  },
  {
   "cell_type": "code",
   "execution_count": 121,
   "metadata": {},
   "outputs": [],
   "source": [
    "test['year'] =test['datetime'].dt.year\n",
    "test['month'] =test['datetime'].dt.month\n",
    "test['hour'] =test['datetime'].dt.hour\n",
    "test['dayofweek'] =test['datetime'].dt.dayofweek"
   ]
  },
  {
   "cell_type": "code",
   "execution_count": 122,
   "metadata": {},
   "outputs": [],
   "source": [
    "#이상치 제거\n",
    "train_out =  train[np.abs(train['count']-train['count'].mean())<=(3*train['count'].std())]"
   ]
  },
  {
   "cell_type": "code",
   "execution_count": 123,
   "metadata": {
    "tags": []
   },
   "outputs": [
    {
     "output_type": "stream",
     "name": "stdout",
     "text": "(10886, 16)\n(10739, 16)\n"
    }
   ],
   "source": [
    "print(train.shape)\n",
    "print(train_out.shape)"
   ]
  },
  {
   "cell_type": "code",
   "execution_count": 124,
   "metadata": {},
   "outputs": [],
   "source": [
    "#windspeed 값 채우기\n",
    "train =  pd.read_csv(\"bike-sharing-demand/train.csv\",parse_dates=[\"datetime\"])\n",
    "test = pd.read_csv(\"bike-sharing-demand/test.csv\",parse_dates=[\"datetime\"])"
   ]
  },
  {
   "cell_type": "code",
   "execution_count": 125,
   "metadata": {},
   "outputs": [],
   "source": [
    "#train, test 합치기\n",
    "data = train.append(test)\n",
    "data.reset_index(inplace= True)\n",
    "data.drop('index', inplace=True, axis=1)"
   ]
  },
  {
   "cell_type": "code",
   "execution_count": 126,
   "metadata": {},
   "outputs": [],
   "source": [
    "data['year'] =data['datetime'].dt.year\n",
    "data['month'] =data['datetime'].dt.month\n",
    "data['hour'] =data['datetime'].dt.hour\n",
    "data['dayofweek'] =data['datetime'].dt.dayofweek\n"
   ]
  },
  {
   "cell_type": "code",
   "execution_count": 127,
   "metadata": {},
   "outputs": [],
   "source": [
    "#랜덤 포레스트로 windspeed 채우기\n",
    "dataWind0 = data[data['windspeed']==0]\n",
    "dataWind1 = data[data['windspeed']!=0]\n",
    "#모델 객체 생성, 사용할 feature(windCol), fit하기 \n",
    "rfModel_wind = RandomForestRegressor()\n",
    "windCol= ['season', 'weather','humidity', 'month', 'year', 'temp','atemp']\n",
    "rfModel_wind.fit(dataWind1[windCol], dataWind1['windspeed'])\n",
    "#예측, 대입 \n",
    "wind0Values = rfModel_wind.predict(X = dataWind0[windCol])\n",
    "dataWind0['windspeed']=wind0Values\n",
    "\n",
    "data = dataWind1.append(dataWind0)\n",
    "data.reset_index(inplace=True)\n",
    "data.drop('index', inplace=True, axis=1)\n"
   ]
  },
  {
   "cell_type": "code",
   "execution_count": 128,
   "metadata": {},
   "outputs": [],
   "source": [
    "dropFeatures = ['casual',\"count\",\"registered\"]"
   ]
  },
  {
   "cell_type": "code",
   "execution_count": 129,
   "metadata": {},
   "outputs": [],
   "source": [
    "dataTrain = data[pd.notnull(data['count'])].sort_values(by=[\"datetime\"])\n",
    "dataTest = data[~pd.notnull(data['count'])].sort_values(by=[\"datetime\"])\n"
   ]
  },
  {
   "cell_type": "code",
   "execution_count": 131,
   "metadata": {},
   "outputs": [],
   "source": [
    "label = dataTrain['count']\n",
    "xData = dataTrain.drop(['datetime','casual','registered','count'],axis=1)\n",
    "test = dataTest.drop(['datetime','casual','registered','count'],axis=1)"
   ]
  },
  {
   "cell_type": "code",
   "execution_count": 132,
   "metadata": {},
   "outputs": [],
   "source": [
    "rfModel = RandomForestRegressor()\n",
    "rfModel.fit(xData, label)\n",
    "prediction = rfModel.predict(test)\n",
    "# res = pd.DataFrame({'datetime':datetime_,'count':prediction})"
   ]
  },
  {
   "cell_type": "code",
   "execution_count": 133,
   "metadata": {},
   "outputs": [
    {
     "output_type": "execute_result",
     "data": {
      "text/plain": "                 datetime       count\n0     2011-01-20 00:00:00  165.786000\n1     2011-01-20 01:00:00   54.903000\n2     2011-01-20 02:00:00   54.903000\n3     2011-01-20 03:00:00   98.720000\n4     2011-01-20 04:00:00   98.720000\n...                   ...         ...\n6488  2012-12-31 19:00:00  124.290190\n6489  2012-12-31 20:00:00  124.290190\n6490  2012-12-31 21:00:00   73.471667\n6491  2012-12-31 22:00:00   58.726667\n6492  2012-12-31 23:00:00   23.732500\n\n[6493 rows x 2 columns]",
      "text/html": "<div>\n<style scoped>\n    .dataframe tbody tr th:only-of-type {\n        vertical-align: middle;\n    }\n\n    .dataframe tbody tr th {\n        vertical-align: top;\n    }\n\n    .dataframe thead th {\n        text-align: right;\n    }\n</style>\n<table border=\"1\" class=\"dataframe\">\n  <thead>\n    <tr style=\"text-align: right;\">\n      <th></th>\n      <th>datetime</th>\n      <th>count</th>\n    </tr>\n  </thead>\n  <tbody>\n    <tr>\n      <th>0</th>\n      <td>2011-01-20 00:00:00</td>\n      <td>165.786000</td>\n    </tr>\n    <tr>\n      <th>1</th>\n      <td>2011-01-20 01:00:00</td>\n      <td>54.903000</td>\n    </tr>\n    <tr>\n      <th>2</th>\n      <td>2011-01-20 02:00:00</td>\n      <td>54.903000</td>\n    </tr>\n    <tr>\n      <th>3</th>\n      <td>2011-01-20 03:00:00</td>\n      <td>98.720000</td>\n    </tr>\n    <tr>\n      <th>4</th>\n      <td>2011-01-20 04:00:00</td>\n      <td>98.720000</td>\n    </tr>\n    <tr>\n      <th>...</th>\n      <td>...</td>\n      <td>...</td>\n    </tr>\n    <tr>\n      <th>6488</th>\n      <td>2012-12-31 19:00:00</td>\n      <td>124.290190</td>\n    </tr>\n    <tr>\n      <th>6489</th>\n      <td>2012-12-31 20:00:00</td>\n      <td>124.290190</td>\n    </tr>\n    <tr>\n      <th>6490</th>\n      <td>2012-12-31 21:00:00</td>\n      <td>73.471667</td>\n    </tr>\n    <tr>\n      <th>6491</th>\n      <td>2012-12-31 22:00:00</td>\n      <td>58.726667</td>\n    </tr>\n    <tr>\n      <th>6492</th>\n      <td>2012-12-31 23:00:00</td>\n      <td>23.732500</td>\n    </tr>\n  </tbody>\n</table>\n<p>6493 rows × 2 columns</p>\n</div>"
     },
     "metadata": {},
     "execution_count": 133
    }
   ],
   "source": [
    "res.to_csv(\"result4.csv\",index=False)\n",
    "pd.read_csv(\"result4.csv\")"
   ]
  }
 ],
 "metadata": {
  "language_info": {
   "codemirror_mode": {
    "name": "ipython",
    "version": 3
   },
   "file_extension": ".py",
   "mimetype": "text/x-python",
   "name": "python",
   "nbconvert_exporter": "python",
   "pygments_lexer": "ipython3",
   "version": 3
  },
  "orig_nbformat": 2,
  "kernelspec": {
   "name": "python_defaultSpec_1594205695693",
   "display_name": "Python 3.7.7 64-bit"
  }
 },
 "nbformat": 4,
 "nbformat_minor": 2
}