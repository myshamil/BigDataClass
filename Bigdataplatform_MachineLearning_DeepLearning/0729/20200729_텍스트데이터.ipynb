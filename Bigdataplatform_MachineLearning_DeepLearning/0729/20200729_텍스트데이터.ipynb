{
 "cells": [
  {
   "cell_type": "code",
   "execution_count": 1,
   "metadata": {},
   "outputs": [],
   "source": [
    "import numpy as np\n",
    "from keras.preprocessing.text import Tokenizer, text_to_word_sequence\n",
    "from keras.preprocessing.sequence import pad_sequences\n",
    "from keras.models import Sequential\n",
    "from keras.layers import *"
   ]
  },
  {
   "cell_type": "code",
   "execution_count": 2,
   "metadata": {},
   "outputs": [],
   "source": [
    "text='해보지 않으면 해낼 수 없다'"
   ]
  },
  {
   "cell_type": "code",
   "execution_count": 3,
   "metadata": {
    "tags": []
   },
   "outputs": [
    {
     "output_type": "stream",
     "name": "stdout",
     "text": "원문: 해보지 않으면 해낼 수 없다\n토큰화: ['해보지', '않으면', '해낼', '수', '없다']\n"
    }
   ],
   "source": [
    "#텍스트 -> 토큰화\n",
    "result=text_to_word_sequence(text)\n",
    "print(\"원문:\", text)\n",
    "print(\"토큰화:\", result)"
   ]
  },
  {
   "cell_type": "code",
   "execution_count": 4,
   "metadata": {},
   "outputs": [],
   "source": [
    "docs=['먼저 텍스트의 각 단어를 나누어 토큰화 합니다.',\n",
    "     '텍스트의 단어로 토큰화 해야 딥러닝에서 인식됩니다.',\n",
    "     '토큰화 한 결과는 딥러닝에서 사용 할 수 있습니다.']"
   ]
  },
  {
   "cell_type": "code",
   "execution_count": 5,
   "metadata": {},
   "outputs": [],
   "source": [
    "token=Tokenizer() #토큰화 함수\n",
    "token.fit_on_texts(docs) "
   ]
  },
  {
   "cell_type": "code",
   "execution_count": 6,
   "metadata": {
    "tags": []
   },
   "outputs": [
    {
     "output_type": "stream",
     "name": "stdout",
     "text": "OrderedDict([('먼저', 1), ('텍스트의', 2), ('각', 1), ('단어를', 1), ('나누어', 1), ('토큰화', 3), ('합니다', 1), ('단어로', 1), ('해야', 1), ('딥러닝에서', 2), ('인식됩니다', 1), ('한', 1), ('결과는', 1), ('사용', 1), ('할', 1), ('수', 1), ('있습니다', 1)])\n"
    }
   ],
   "source": [
    "print(token.word_counts)"
   ]
  },
  {
   "cell_type": "code",
   "execution_count": 7,
   "metadata": {
    "tags": []
   },
   "outputs": [
    {
     "output_type": "stream",
     "name": "stdout",
     "text": "3\ndefaultdict(<class 'int'>, {'각': 1, '텍스트의': 2, '단어를': 1, '나누어': 1, '합니다': 1, '토큰화': 3, '먼저': 1, '해야': 1, '인식됩니다': 1, '단어로': 1, '딥러닝에서': 2, '결과는': 1, '있습니다': 1, '한': 1, '수': 1, '사용': 1, '할': 1})\n{'토큰화': 1, '텍스트의': 2, '딥러닝에서': 3, '먼저': 4, '각': 5, '단어를': 6, '나누어': 7, '합니다': 8, '단어로': 9, '해야': 10, '인식됩니다': 11, '한': 12, '결과는': 13, '사용': 14, '할': 15, '수': 16, '있습니다': 17}\n"
    }
   ],
   "source": [
    "print(token.document_count) #문장 개수\n",
    "print(token.word_docs) #각 단어가 포함된 문장의 개수\n",
    "print(token.word_index) #각 단어의 인덱스"
   ]
  },
  {
   "cell_type": "code",
   "execution_count": 8,
   "metadata": {},
   "outputs": [],
   "source": [
    "docs=[\"너무 재밌네요\",\"최고예요\",\"참 잘 만든 영화예요\",\n",
    "     \"추천하고 싶은 영화입니다\", \"한번 더 보고싶네요\",\n",
    "     \"글쎄요\",\"별로예요\",\"생각보다 지루하네요\",\n",
    "     \"연기가 어색해요\",\"재미없어요\"]\n",
    "classes=np.array([1,1,1,1,1,0,0,0,0,0])#긍정:1,부정:0"
   ]
  },
  {
   "cell_type": "code",
   "execution_count": 9,
   "metadata": {},
   "outputs": [],
   "source": [
    "#토큰화\n",
    "token=Tokenizer()\n",
    "token.fit_on_texts(docs)"
   ]
  },
  {
   "cell_type": "code",
   "execution_count": 10,
   "metadata": {
    "tags": []
   },
   "outputs": [
    {
     "output_type": "stream",
     "name": "stdout",
     "text": "패딩결과: [[ 0  0  1  2]\n [ 0  0  0  3]\n [ 4  5  6  7]\n [ 0  8  9 10]\n [ 0 11 12 13]\n [ 0  0  0 14]\n [ 0  0  0 15]\n [ 0  0 16 17]\n [ 0  0 18 19]\n [ 0  0  0 20]]\n"
    }
   ],
   "source": [
    "#print(token.word_index)\n",
    "x=token.texts_to_sequences(docs)\n",
    "#x에 저장된 서로 다른 단어의 개수(길이)를 4로 통일(패딩)\n",
    "paddedX=pad_sequences(x,4)\n",
    "print(\"패딩결과:\",paddedX)"
   ]
  },
  {
   "cell_type": "code",
   "execution_count": 11,
   "metadata": {},
   "outputs": [
    {
     "output_type": "execute_result",
     "data": {
      "text/plain": "{'너무': 1,\n '재밌네요': 2,\n '최고예요': 3,\n '참': 4,\n '잘': 5,\n '만든': 6,\n '영화예요': 7,\n '추천하고': 8,\n '싶은': 9,\n '영화입니다': 10,\n '한번': 11,\n '더': 12,\n '보고싶네요': 13,\n '글쎄요': 14,\n '별로예요': 15,\n '생각보다': 16,\n '지루하네요': 17,\n '연기가': 18,\n '어색해요': 19,\n '재미없어요': 20}"
     },
     "metadata": {},
     "execution_count": 11
    }
   ],
   "source": [
    "token.word_index"
   ]
  },
  {
   "cell_type": "code",
   "execution_count": 12,
   "metadata": {},
   "outputs": [],
   "source": [
    "#딥러닝 모델 작성\n",
    "wordSize=len(token.word_index)+1 #0~20"
   ]
  },
  {
   "cell_type": "code",
   "execution_count": 13,
   "metadata": {
    "tags": []
   },
   "outputs": [
    {
     "output_type": "stream",
     "name": "stdout",
     "text": "Epoch 1/20\n1/1 [==============================] - 0s 998us/step - loss: 0.6879 - accuracy: 0.7000\nEpoch 2/20\n1/1 [==============================] - 0s 989us/step - loss: 0.6857 - accuracy: 0.7000\nEpoch 3/20\n1/1 [==============================] - 0s 3ms/step - loss: 0.6836 - accuracy: 0.7000\nEpoch 4/20\n1/1 [==============================] - 0s 0s/step - loss: 0.6815 - accuracy: 0.7000\nEpoch 5/20\n1/1 [==============================] - 0s 1ms/step - loss: 0.6793 - accuracy: 0.7000\nEpoch 6/20\n1/1 [==============================] - 0s 998us/step - loss: 0.6772 - accuracy: 0.7000\nEpoch 7/20\n1/1 [==============================] - 0s 997us/step - loss: 0.6750 - accuracy: 0.8000\nEpoch 8/20\n1/1 [==============================] - 0s 0s/step - loss: 0.6729 - accuracy: 0.9000\nEpoch 9/20\n1/1 [==============================] - 0s 2ms/step - loss: 0.6708 - accuracy: 0.9000\nEpoch 10/20\n1/1 [==============================] - 0s 997us/step - loss: 0.6686 - accuracy: 0.9000\nEpoch 11/20\n1/1 [==============================] - 0s 2ms/step - loss: 0.6665 - accuracy: 0.9000\nEpoch 12/20\n1/1 [==============================] - 0s 2ms/step - loss: 0.6643 - accuracy: 0.9000\nEpoch 13/20\n1/1 [==============================] - 0s 2ms/step - loss: 0.6622 - accuracy: 0.9000\nEpoch 14/20\n1/1 [==============================] - 0s 997us/step - loss: 0.6600 - accuracy: 0.9000\nEpoch 15/20\n1/1 [==============================] - 0s 998us/step - loss: 0.6578 - accuracy: 0.9000\nEpoch 16/20\n1/1 [==============================] - 0s 2ms/step - loss: 0.6557 - accuracy: 0.9000\nEpoch 17/20\n1/1 [==============================] - 0s 998us/step - loss: 0.6535 - accuracy: 0.9000\nEpoch 18/20\n1/1 [==============================] - 0s 0s/step - loss: 0.6513 - accuracy: 0.9000\nEpoch 19/20\n1/1 [==============================] - 0s 0s/step - loss: 0.6491 - accuracy: 0.9000\nEpoch 20/20\n1/1 [==============================] - 0s 998us/step - loss: 0.6469 - accuracy: 0.9000\n"
    },
    {
     "output_type": "execute_result",
     "data": {
      "text/plain": "<tensorflow.python.keras.callbacks.History at 0x25f8f261648>"
     },
     "metadata": {},
     "execution_count": 13
    }
   ],
   "source": [
    "#딥러닝\n",
    "model=Sequential()\n",
    "model.add(Embedding(wordSize, 8, input_length=4))\n",
    "#Embedding(단어개수(voc),임베딩벡터크기(8차원),입력시퀀스길이)\n",
    "#21차원 -> 임베딩(단어->밀집벡터) -> 8차원\n",
    "model.add(Flatten())\n",
    "model.add(Dense(1, activation='sigmoid'))\n",
    "model.compile(optimizer='adam',\n",
    "             loss='binary_crossentropy',\n",
    "             metrics=['accuracy'])\n",
    "model.fit(paddedX,classes, epochs=20)\n",
    "\n",
    "#model.summary()\n",
    "\n",
    "#1만차원 -> 256, 512차원\n",
    "\n",
    "# 예시) 단어종류:21가지->벡터공간->21차원===>임베딩===>2차원\n",
    "#     100000...0000  => [1.5, 3.1]\n",
    "#     00001...00000  => [1.0, 2.7]\n",
    "# 임베딩 : 단어 -> 밀집벡터(dense vector)\n",
    "#              신경망\n",
    "# ex)원핫 인코딩 단어벡터의 차원이 50000차원 => 임베딩 => 2차원\n",
    "# 하늘=[1000..000]#1이 1개, 0이 49999개 => 비효율적 => 임베딩(2차원)\n",
    "# =>[1.5, 3.8]=하늘"
   ]
  },
  {
   "cell_type": "code",
   "execution_count": 22,
   "metadata": {},
   "outputs": [],
   "source": [
    "#LSTM을 이용한 뉴스(로이터) 분류기 "
   ]
  },
  {
   "cell_type": "code",
   "execution_count": 23,
   "metadata": {},
   "outputs": [],
   "source": [
    "from keras.datasets import reuters\n",
    "from keras.utils import np_utils"
   ]
  },
  {
   "cell_type": "code",
   "execution_count": 30,
   "metadata": {},
   "outputs": [],
   "source": [
    "(xTrain, yTrain),(xTest,yTest)=reuters.load_data(num_words=1000, test_split=0.2)"
   ]
  },
  {
   "cell_type": "code",
   "execution_count": 31,
   "metadata": {
    "tags": []
   },
   "outputs": [
    {
     "output_type": "stream",
     "name": "stdout",
     "text": "카테고리: 46\n학습데이터: 8982\n테스트데이터: 2246\n[1, 2, 699, 2, 2, 56, 2, 2, 9, 56, 2, 2, 81, 5, 2, 57, 366, 737, 132, 20, 2, 7, 2, 49, 2, 2, 2, 2, 699, 2, 8, 7, 10, 241, 16, 855, 129, 231, 783, 5, 4, 587, 2, 2, 2, 775, 7, 48, 34, 191, 44, 35, 2, 505, 17, 12]\n3\n"
    }
   ],
   "source": [
    "category=np.max(yTrain)+1 #뉴스 카테고리(46가지), 0~45 => 1~46\n",
    "print(\"카테고리:\", category)\n",
    "print(\"학습데이터:\", len(xTrain)) #8982 건\n",
    "print(\"테스트데이터:\", len(xTest)) #2246 건\n",
    "print(xTrain[1]) #길이 87인 뉴스 기사\n",
    "print(yTrain[0]) #3 카테고리 뉴스"
   ]
  },
  {
   "cell_type": "code",
   "execution_count": 32,
   "metadata": {},
   "outputs": [],
   "source": [
    "xTrain=pad_sequences(xTrain,maxlen=100)\n",
    "xTest=pad_sequences(xTest,maxlen=100)\n",
    "yTrain=np_utils.to_categorical(yTrain)\n",
    "yTest=np_utils.to_categorical(yTest)"
   ]
  },
  {
   "cell_type": "code",
   "execution_count": 33,
   "metadata": {},
   "outputs": [],
   "source": [
    "#모델 생성\n",
    "model=Sequential()\n",
    "model.add(Embedding(1000, 100))\n",
    "model.add(LSTM(100, activation='tanh'))\n",
    "model.add(Dense(46, activation='softmax'))"
   ]
  },
  {
   "cell_type": "code",
   "execution_count": 34,
   "metadata": {},
   "outputs": [],
   "source": [
    "model.compile(loss='categorical_crossentropy',\n",
    "             optimizer='adam',\n",
    "             metrics=['accuracy'])"
   ]
  },
  {
   "cell_type": "code",
   "execution_count": 35,
   "metadata": {
    "tags": []
   },
   "outputs": [
    {
     "output_type": "stream",
     "name": "stdout",
     "text": "Epoch 1/20\n90/90 [==============================] - 8s 86ms/step - loss: 2.5756 - accuracy: 0.3471 - val_loss: 2.4142 - val_accuracy: 0.3620\nEpoch 2/20\n90/90 [==============================] - 7s 81ms/step - loss: 2.1359 - accuracy: 0.4498 - val_loss: 1.9228 - val_accuracy: 0.5085\nEpoch 3/20\n90/90 [==============================] - 9s 98ms/step - loss: 1.9116 - accuracy: 0.5030 - val_loss: 1.9162 - val_accuracy: 0.5031\nEpoch 4/20\n90/90 [==============================] - 9s 105ms/step - loss: 1.7524 - accuracy: 0.5536 - val_loss: 1.7868 - val_accuracy: 0.5383\nEpoch 5/20\n90/90 [==============================] - 10s 108ms/step - loss: 1.6777 - accuracy: 0.5700 - val_loss: 1.6863 - val_accuracy: 0.5699\nEpoch 6/20\n90/90 [==============================] - 10s 108ms/step - loss: 1.6492 - accuracy: 0.5736 - val_loss: 1.6540 - val_accuracy: 0.5757\nEpoch 7/20\n90/90 [==============================] - 9s 104ms/step - loss: 1.5964 - accuracy: 0.5851 - val_loss: 1.6014 - val_accuracy: 0.6002\nEpoch 8/20\n90/90 [==============================] - 9s 96ms/step - loss: 1.5089 - accuracy: 0.6080 - val_loss: 1.5742 - val_accuracy: 0.6086\nEpoch 9/20\n90/90 [==============================] - 7s 80ms/step - loss: 1.4331 - accuracy: 0.6349 - val_loss: 1.5111 - val_accuracy: 0.6180\nEpoch 10/20\n90/90 [==============================] - 7s 83ms/step - loss: 1.3605 - accuracy: 0.6525 - val_loss: 1.4294 - val_accuracy: 0.6456\nEpoch 11/20\n90/90 [==============================] - 8s 86ms/step - loss: 1.2706 - accuracy: 0.6808 - val_loss: 1.3712 - val_accuracy: 0.6558\nEpoch 12/20\n90/90 [==============================] - 9s 96ms/step - loss: 1.2033 - accuracy: 0.6944 - val_loss: 1.3488 - val_accuracy: 0.6683\nEpoch 13/20\n90/90 [==============================] - 8s 94ms/step - loss: 1.1467 - accuracy: 0.7092 - val_loss: 1.2992 - val_accuracy: 0.6630\nEpoch 14/20\n90/90 [==============================] - 7s 81ms/step - loss: 1.0931 - accuracy: 0.7216 - val_loss: 1.2741 - val_accuracy: 0.6745\nEpoch 15/20\n90/90 [==============================] - 7s 81ms/step - loss: 1.0438 - accuracy: 0.7332 - val_loss: 1.2779 - val_accuracy: 0.6821\nEpoch 16/20\n90/90 [==============================] - 7s 78ms/step - loss: 1.0007 - accuracy: 0.7463 - val_loss: 1.2739 - val_accuracy: 0.6825\nEpoch 17/20\n90/90 [==============================] - 7s 83ms/step - loss: 0.9586 - accuracy: 0.7602 - val_loss: 1.2356 - val_accuracy: 0.6910\nEpoch 18/20\n90/90 [==============================] - 7s 81ms/step - loss: 0.9204 - accuracy: 0.7693 - val_loss: 1.1757 - val_accuracy: 0.7097\nEpoch 19/20\n90/90 [==============================] - 7s 75ms/step - loss: 0.8743 - accuracy: 0.7807 - val_loss: 1.1667 - val_accuracy: 0.7061\nEpoch 20/20\n90/90 [==============================] - 7s 77ms/step - loss: 0.8323 - accuracy: 0.7943 - val_loss: 1.1752 - val_accuracy: 0.7119\n"
    }
   ],
   "source": [
    "history=model.fit(xTrain, yTrain, batch_size=100, epochs=20,\n",
    "         validation_data=(xTest, yTest))"
   ]
  },
  {
   "cell_type": "markdown",
   "metadata": {},
   "source": [
    "'hihello'->학습->모델->입력 h , 출력 i"
   ]
  },
  {
   "cell_type": "code",
   "execution_count": 37,
   "metadata": {},
   "outputs": [],
   "source": [
    "sample ='hihello'\n",
    "charSet =list(set(sample)) #코퍼스라고 하면 e,h,i,l,o가 vocabulary가 된다"
   ]
  },
  {
   "cell_type": "code",
   "execution_count": 38,
   "metadata": {},
   "outputs": [
    {
     "output_type": "execute_result",
     "data": {
      "text/plain": "{'i': 0, 'o': 1, 'e': 2, 'h': 3, 'l': 4}"
     },
     "metadata": {},
     "execution_count": 38
    }
   ],
   "source": [
    "charDic = {w: i for i, w in enumerate(charSet) }\n",
    "charDic"
   ]
  }
 ],
 "metadata": {
  "kernelspec": {
   "display_name": "Python 3",
   "language": "python",
   "name": "python3"
  },
  "language_info": {
   "codemirror_mode": {
    "name": "ipython",
    "version": 3
   },
   "file_extension": ".py",
   "mimetype": "text/x-python",
   "name": "python",
   "nbconvert_exporter": "python",
   "pygments_lexer": "ipython3",
   "version": "3.7.6"
  }
 },
 "nbformat": 4,
 "nbformat_minor": 4
}