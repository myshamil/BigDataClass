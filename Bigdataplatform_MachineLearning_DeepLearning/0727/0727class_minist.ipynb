{
 "metadata": {
  "language_info": {
   "codemirror_mode": {
    "name": "ipython",
    "version": 3
   },
   "file_extension": ".py",
   "mimetype": "text/x-python",
   "name": "python",
   "nbconvert_exporter": "python",
   "pygments_lexer": "ipython3",
   "version": 3
  },
  "orig_nbformat": 2,
  "kernelspec": {
   "name": "python_defaultSpec_1595809011299",
   "display_name": "Python 3.7.6 64-bit ('base': conda)"
  }
 },
 "nbformat": 4,
 "nbformat_minor": 2,
 "cells": [
  {
   "cell_type": "code",
   "execution_count": 6,
   "metadata": {},
   "outputs": [],
   "source": [
    "from keras.datasets import mnist\n",
    "from keras.utils import np_utils\n",
    "import sys\n",
    "%matplotlib inline"
   ]
  },
  {
   "cell_type": "code",
   "execution_count": 39,
   "metadata": {},
   "outputs": [],
   "source": [
    "(xTrain, yTrain), (xTest, yTest)= mnist.load_data()"
   ]
  },
  {
   "cell_type": "code",
   "execution_count": 31,
   "metadata": {},
   "outputs": [
    {
     "output_type": "execute_result",
     "data": {
      "text/plain": "<function matplotlib.pyplot.show(*args, **kw)>"
     },
     "metadata": {},
     "execution_count": 31
    },
    {
     "output_type": "display_data",
     "data": {
      "text/plain": "<Figure size 432x288 with 1 Axes>",
      "image/svg+xml": "<?xml version=\"1.0\" encoding=\"utf-8\" standalone=\"no\"?>\r\n<!DOCTYPE svg PUBLIC \"-//W3C//DTD SVG 1.1//EN\"\r\n  \"http://www.w3.org/Graphics/SVG/1.1/DTD/svg11.dtd\">\r\n<!-- Created with matplotlib (https://matplotlib.org/) -->\r\n<svg height=\"251.453783pt\" version=\"1.1\" viewBox=\"0 0 253.574062 251.453783\" width=\"253.574062pt\" xmlns=\"http://www.w3.org/2000/svg\" xmlns:xlink=\"http://www.w3.org/1999/xlink\">\r\n <defs>\r\n  <style type=\"text/css\">\r\n*{stroke-linecap:butt;stroke-linejoin:round;}\r\n  </style>\r\n </defs>\r\n <g id=\"figure_1\">\r\n  <g id=\"patch_1\">\r\n   <path d=\"M 0 251.453783 \r\nL 253.574062 251.453783 \r\nL 253.574062 0 \r\nL 0 0 \r\nz\r\n\" style=\"fill:none;\"/>\r\n  </g>\r\n  <g id=\"axes_1\">\r\n   <g id=\"patch_2\">\r\n    <path d=\"M 28.934063 224.69394 \r\nL 246.374063 224.69394 \r\nL 246.374063 7.25394 \r\nL 28.934063 7.25394 \r\nz\r\n\" style=\"fill:#ffffff;\"/>\r\n   </g>\r\n   <g clip-path=\"url(#p01def67581)\">\r\n    <image height=\"218\" id=\"imagef3328f2d9c\" transform=\"scale(1 -1)translate(0 -218)\" width=\"218\" x=\"28.934063\" xlink:href=\"data:image/png;base64,\r\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\" y=\"-6.69394\"/>\r\n   </g>\r\n   <g id=\"matplotlib.axis_1\">\r\n    <g id=\"xtick_1\">\r\n     <g id=\"line2d_1\">\r\n      <path clip-path=\"url(#p01def67581)\" d=\"M 32.81692 224.69394 \r\nL 32.81692 7.25394 \r\n\" style=\"fill:none;stroke:#cccccc;stroke-linecap:round;\"/>\r\n     </g>\r\n     <g id=\"text_1\">\r\n      <!-- 0 -->\r\n      <defs>\r\n       <path d=\"M 4.15625 35.296875 \r\nQ 4.15625 48 6.765625 55.734375 \r\nQ 9.375 63.484375 14.515625 67.671875 \r\nQ 19.671875 71.875 27.484375 71.875 \r\nQ 33.25 71.875 37.59375 69.546875 \r\nQ 41.9375 67.234375 44.765625 62.859375 \r\nQ 47.609375 58.5 49.21875 52.21875 \r\nQ 50.828125 45.953125 50.828125 35.296875 \r\nQ 50.828125 22.703125 48.234375 14.96875 \r\nQ 45.65625 7.234375 40.5 3 \r\nQ 35.359375 -1.21875 27.484375 -1.21875 \r\nQ 17.140625 -1.21875 11.234375 6.203125 \r\nQ 4.15625 15.140625 4.15625 35.296875 \r\nz\r\nM 13.1875 35.296875 \r\nQ 13.1875 17.671875 17.3125 11.828125 \r\nQ 21.4375 6 27.484375 6 \r\nQ 33.546875 6 37.671875 11.859375 \r\nQ 41.796875 17.71875 41.796875 35.296875 \r\nQ 41.796875 52.984375 37.671875 58.78125 \r\nQ 33.546875 64.59375 27.390625 64.59375 \r\nQ 21.34375 64.59375 17.71875 59.46875 \r\nQ 13.1875 52.9375 13.1875 35.296875 \r\nz\r\n\" id=\"ArialMT-48\"/>\r\n      </defs>\r\n      <g style=\"fill:#262626;\" transform=\"translate(29.758404 242.067533)scale(0.11 -0.11)\">\r\n       <use xlink:href=\"#ArialMT-48\"/>\r\n      </g>\r\n     </g>\r\n    </g>\r\n    <g id=\"xtick_2\">\r\n     <g id=\"line2d_2\">\r\n      <path clip-path=\"url(#p01def67581)\" d=\"M 71.645491 224.69394 \r\nL 71.645491 7.25394 \r\n\" style=\"fill:none;stroke:#cccccc;stroke-linecap:round;\"/>\r\n     </g>\r\n     <g id=\"text_2\">\r\n      <!-- 5 -->\r\n      <defs>\r\n       <path d=\"M 4.15625 18.75 \r\nL 13.375 19.53125 \r\nQ 14.40625 12.796875 18.140625 9.390625 \r\nQ 21.875 6 27.15625 6 \r\nQ 33.5 6 37.890625 10.78125 \r\nQ 42.28125 15.578125 42.28125 23.484375 \r\nQ 42.28125 31 38.0625 35.34375 \r\nQ 33.84375 39.703125 27 39.703125 \r\nQ 22.75 39.703125 19.328125 37.765625 \r\nQ 15.921875 35.84375 13.96875 32.765625 \r\nL 5.71875 33.84375 \r\nL 12.640625 70.609375 \r\nL 48.25 70.609375 \r\nL 48.25 62.203125 \r\nL 19.671875 62.203125 \r\nL 15.828125 42.96875 \r\nQ 22.265625 47.46875 29.34375 47.46875 \r\nQ 38.71875 47.46875 45.15625 40.96875 \r\nQ 51.609375 34.46875 51.609375 24.265625 \r\nQ 51.609375 14.546875 45.953125 7.46875 \r\nQ 39.0625 -1.21875 27.15625 -1.21875 \r\nQ 17.390625 -1.21875 11.203125 4.25 \r\nQ 5.03125 9.71875 4.15625 18.75 \r\nz\r\n\" id=\"ArialMT-53\"/>\r\n      </defs>\r\n      <g style=\"fill:#262626;\" transform=\"translate(68.586975 242.067533)scale(0.11 -0.11)\">\r\n       <use xlink:href=\"#ArialMT-53\"/>\r\n      </g>\r\n     </g>\r\n    </g>\r\n    <g id=\"xtick_3\">\r\n     <g id=\"line2d_3\">\r\n      <path clip-path=\"url(#p01def67581)\" d=\"M 110.474063 224.69394 \r\nL 110.474063 7.25394 \r\n\" style=\"fill:none;stroke:#cccccc;stroke-linecap:round;\"/>\r\n     </g>\r\n     <g id=\"text_3\">\r\n      <!-- 10 -->\r\n      <defs>\r\n       <path d=\"M 37.25 0 \r\nL 28.46875 0 \r\nL 28.46875 56 \r\nQ 25.296875 52.984375 20.140625 49.953125 \r\nQ 14.984375 46.921875 10.890625 45.40625 \r\nL 10.890625 53.90625 \r\nQ 18.265625 57.375 23.78125 62.296875 \r\nQ 29.296875 67.234375 31.59375 71.875 \r\nL 37.25 71.875 \r\nz\r\n\" id=\"ArialMT-49\"/>\r\n      </defs>\r\n      <g style=\"fill:#262626;\" transform=\"translate(104.357031 242.067533)scale(0.11 -0.11)\">\r\n       <use xlink:href=\"#ArialMT-49\"/>\r\n       <use x=\"55.615234\" xlink:href=\"#ArialMT-48\"/>\r\n      </g>\r\n     </g>\r\n    </g>\r\n    <g id=\"xtick_4\">\r\n     <g id=\"line2d_4\">\r\n      <path clip-path=\"url(#p01def67581)\" d=\"M 149.302634 224.69394 \r\nL 149.302634 7.25394 \r\n\" style=\"fill:none;stroke:#cccccc;stroke-linecap:round;\"/>\r\n     </g>\r\n     <g id=\"text_4\">\r\n      <!-- 15 -->\r\n      <g style=\"fill:#262626;\" transform=\"translate(143.185603 242.067533)scale(0.11 -0.11)\">\r\n       <use xlink:href=\"#ArialMT-49\"/>\r\n       <use x=\"55.615234\" xlink:href=\"#ArialMT-53\"/>\r\n      </g>\r\n     </g>\r\n    </g>\r\n    <g id=\"xtick_5\">\r\n     <g id=\"line2d_5\">\r\n      <path clip-path=\"url(#p01def67581)\" d=\"M 188.131205 224.69394 \r\nL 188.131205 7.25394 \r\n\" style=\"fill:none;stroke:#cccccc;stroke-linecap:round;\"/>\r\n     </g>\r\n     <g id=\"text_5\">\r\n      <!-- 20 -->\r\n      <defs>\r\n       <path d=\"M 50.34375 8.453125 \r\nL 50.34375 0 \r\nL 3.03125 0 \r\nQ 2.9375 3.171875 4.046875 6.109375 \r\nQ 5.859375 10.9375 9.828125 15.625 \r\nQ 13.8125 20.3125 21.34375 26.46875 \r\nQ 33.015625 36.03125 37.109375 41.625 \r\nQ 41.21875 47.21875 41.21875 52.203125 \r\nQ 41.21875 57.421875 37.46875 61 \r\nQ 33.734375 64.59375 27.734375 64.59375 \r\nQ 21.390625 64.59375 17.578125 60.78125 \r\nQ 13.765625 56.984375 13.71875 50.25 \r\nL 4.6875 51.171875 \r\nQ 5.609375 61.28125 11.65625 66.578125 \r\nQ 17.71875 71.875 27.9375 71.875 \r\nQ 38.234375 71.875 44.234375 66.15625 \r\nQ 50.25 60.453125 50.25 52 \r\nQ 50.25 47.703125 48.484375 43.546875 \r\nQ 46.734375 39.40625 42.65625 34.8125 \r\nQ 38.578125 30.21875 29.109375 22.21875 \r\nQ 21.1875 15.578125 18.9375 13.203125 \r\nQ 16.703125 10.84375 15.234375 8.453125 \r\nz\r\n\" id=\"ArialMT-50\"/>\r\n      </defs>\r\n      <g style=\"fill:#262626;\" transform=\"translate(182.014174 242.067533)scale(0.11 -0.11)\">\r\n       <use xlink:href=\"#ArialMT-50\"/>\r\n       <use x=\"55.615234\" xlink:href=\"#ArialMT-48\"/>\r\n      </g>\r\n     </g>\r\n    </g>\r\n    <g id=\"xtick_6\">\r\n     <g id=\"line2d_6\">\r\n      <path clip-path=\"url(#p01def67581)\" d=\"M 226.959777 224.69394 \r\nL 226.959777 7.25394 \r\n\" style=\"fill:none;stroke:#cccccc;stroke-linecap:round;\"/>\r\n     </g>\r\n     <g id=\"text_6\">\r\n      <!-- 25 -->\r\n      <g style=\"fill:#262626;\" transform=\"translate(220.842746 242.067533)scale(0.11 -0.11)\">\r\n       <use xlink:href=\"#ArialMT-50\"/>\r\n       <use x=\"55.615234\" xlink:href=\"#ArialMT-53\"/>\r\n      </g>\r\n     </g>\r\n    </g>\r\n   </g>\r\n   <g id=\"matplotlib.axis_2\">\r\n    <g id=\"ytick_1\">\r\n     <g id=\"line2d_7\">\r\n      <path clip-path=\"url(#p01def67581)\" d=\"M 28.934063 11.136797 \r\nL 246.374063 11.136797 \r\n\" style=\"fill:none;stroke:#cccccc;stroke-linecap:round;\"/>\r\n     </g>\r\n     <g id=\"text_7\">\r\n      <!-- 0 -->\r\n      <g style=\"fill:#262626;\" transform=\"translate(13.317031 15.073594)scale(0.11 -0.11)\">\r\n       <use xlink:href=\"#ArialMT-48\"/>\r\n      </g>\r\n     </g>\r\n    </g>\r\n    <g id=\"ytick_2\">\r\n     <g id=\"line2d_8\">\r\n      <path clip-path=\"url(#p01def67581)\" d=\"M 28.934063 49.965368 \r\nL 246.374063 49.965368 \r\n\" style=\"fill:none;stroke:#cccccc;stroke-linecap:round;\"/>\r\n     </g>\r\n     <g id=\"text_8\">\r\n      <!-- 5 -->\r\n      <g style=\"fill:#262626;\" transform=\"translate(13.317031 53.902165)scale(0.11 -0.11)\">\r\n       <use xlink:href=\"#ArialMT-53\"/>\r\n      </g>\r\n     </g>\r\n    </g>\r\n    <g id=\"ytick_3\">\r\n     <g id=\"line2d_9\">\r\n      <path clip-path=\"url(#p01def67581)\" d=\"M 28.934063 88.79394 \r\nL 246.374063 88.79394 \r\n\" style=\"fill:none;stroke:#cccccc;stroke-linecap:round;\"/>\r\n     </g>\r\n     <g id=\"text_9\">\r\n      <!-- 10 -->\r\n      <g style=\"fill:#262626;\" transform=\"translate(7.2 92.730737)scale(0.11 -0.11)\">\r\n       <use xlink:href=\"#ArialMT-49\"/>\r\n       <use x=\"55.615234\" xlink:href=\"#ArialMT-48\"/>\r\n      </g>\r\n     </g>\r\n    </g>\r\n    <g id=\"ytick_4\">\r\n     <g id=\"line2d_10\">\r\n      <path clip-path=\"url(#p01def67581)\" d=\"M 28.934063 127.622511 \r\nL 246.374063 127.622511 \r\n\" style=\"fill:none;stroke:#cccccc;stroke-linecap:round;\"/>\r\n     </g>\r\n     <g id=\"text_10\">\r\n      <!-- 15 -->\r\n      <g style=\"fill:#262626;\" transform=\"translate(7.2 131.559308)scale(0.11 -0.11)\">\r\n       <use xlink:href=\"#ArialMT-49\"/>\r\n       <use x=\"55.615234\" xlink:href=\"#ArialMT-53\"/>\r\n      </g>\r\n     </g>\r\n    </g>\r\n    <g id=\"ytick_5\">\r\n     <g id=\"line2d_11\">\r\n      <path clip-path=\"url(#p01def67581)\" d=\"M 28.934063 166.451083 \r\nL 246.374063 166.451083 \r\n\" style=\"fill:none;stroke:#cccccc;stroke-linecap:round;\"/>\r\n     </g>\r\n     <g id=\"text_11\">\r\n      <!-- 20 -->\r\n      <g style=\"fill:#262626;\" transform=\"translate(7.2 170.387879)scale(0.11 -0.11)\">\r\n       <use xlink:href=\"#ArialMT-50\"/>\r\n       <use x=\"55.615234\" xlink:href=\"#ArialMT-48\"/>\r\n      </g>\r\n     </g>\r\n    </g>\r\n    <g id=\"ytick_6\">\r\n     <g id=\"line2d_12\">\r\n      <path clip-path=\"url(#p01def67581)\" d=\"M 28.934063 205.279654 \r\nL 246.374063 205.279654 \r\n\" style=\"fill:none;stroke:#cccccc;stroke-linecap:round;\"/>\r\n     </g>\r\n     <g id=\"text_12\">\r\n      <!-- 25 -->\r\n      <g style=\"fill:#262626;\" transform=\"translate(7.2 209.216451)scale(0.11 -0.11)\">\r\n       <use xlink:href=\"#ArialMT-50\"/>\r\n       <use x=\"55.615234\" xlink:href=\"#ArialMT-53\"/>\r\n      </g>\r\n     </g>\r\n    </g>\r\n   </g>\r\n   <g id=\"patch_3\">\r\n    <path d=\"M 28.934063 224.69394 \r\nL 28.934063 7.25394 \r\n\" style=\"fill:none;stroke:#cccccc;stroke-linecap:square;stroke-linejoin:miter;stroke-width:1.25;\"/>\r\n   </g>\r\n   <g id=\"patch_4\">\r\n    <path d=\"M 246.374063 224.69394 \r\nL 246.374063 7.25394 \r\n\" style=\"fill:none;stroke:#cccccc;stroke-linecap:square;stroke-linejoin:miter;stroke-width:1.25;\"/>\r\n   </g>\r\n   <g id=\"patch_5\">\r\n    <path d=\"M 28.934063 224.69394 \r\nL 246.374063 224.69394 \r\n\" style=\"fill:none;stroke:#cccccc;stroke-linecap:square;stroke-linejoin:miter;stroke-width:1.25;\"/>\r\n   </g>\r\n   <g id=\"patch_6\">\r\n    <path d=\"M 28.934063 7.25394 \r\nL 246.374063 7.25394 \r\n\" style=\"fill:none;stroke:#cccccc;stroke-linecap:square;stroke-linejoin:miter;stroke-width:1.25;\"/>\r\n   </g>\r\n  </g>\r\n </g>\r\n <defs>\r\n  <clipPath id=\"p01def67581\">\r\n   <rect height=\"217.44\" width=\"217.44\" x=\"28.934063\" y=\"7.25394\"/>\r\n  </clipPath>\r\n </defs>\r\n</svg>\r\n",
      "image/png": "[encoded data removed]"
     },
     "metadata": {
      "needs_background": "light"
     }
    }
   ],
   "source": [
    "plt.imshow(xTrain[0], cmap='Greys')\n",
    "plt.show"
   ]
  },
  {
   "cell_type": "code",
   "execution_count": 40,
   "metadata": {},
   "outputs": [],
   "source": [
    "xTrain.shape[0]\n",
    "xTrain=xTrain.reshape(xTrain.shape[0], 784)\n",
    "xTest=xTest.reshape(xTest.shape[0], 784)"
   ]
  },
  {
   "cell_type": "code",
   "execution_count": 41,
   "metadata": {},
   "outputs": [],
   "source": [
    "xTrain=xTrain.astype(\"float64\")\n",
    "xTrain=xTrain/255\n",
    "xTest=xTest.astype(\"float64\")\n",
    "xTest=xTest/255"
   ]
  },
  {
   "cell_type": "code",
   "execution_count": 42,
   "metadata": {},
   "outputs": [],
   "source": [
    "yTrain=np_utils.to_categorical(yTrain,10)\n",
    "yTest=np_utils.to_categorical(yTest,10)"
   ]
  },
  {
   "cell_type": "code",
   "execution_count": 14,
   "metadata": {},
   "outputs": [],
   "source": [
    "# xTrain, yTrain 정규화 (0~1)\n"
   ]
  },
  {
   "cell_type": "code",
   "execution_count": 15,
   "metadata": {},
   "outputs": [],
   "source": [
    "from keras.models import Sequential\n",
    "from keras.layers import Dense #계층추가\n",
    "from keras.callbacks import EarlyStopping"
   ]
  },
  {
   "cell_type": "code",
   "execution_count": 35,
   "metadata": {},
   "outputs": [],
   "source": [
    "model = Sequential()\n",
    "model.add(Dense(512, input_dim=784, activation='relu')) #input_shape=(784,) 랑 같은 의미\n",
    "model.add(Dense(10, activation='softmax'))"
   ]
  },
  {
   "cell_type": "code",
   "execution_count": 36,
   "metadata": {},
   "outputs": [],
   "source": [
    " model.compile(loss='categorical_crossentropy', optimizer='adam', metrics=['accuracy'])"
   ]
  },
  {
   "cell_type": "code",
   "execution_count": 37,
   "metadata": {},
   "outputs": [],
   "source": [
    "es=EarlyStopping(monitor='val_loss', patience=10)\n",
    "#val_loss 가 10회 이상 줄어들지 않으면 모델링 중단할 것"
   ]
  },
  {
   "cell_type": "code",
   "execution_count": 38,
   "metadata": {
    "tags": []
   },
   "outputs": [
    {
     "output_type": "stream",
     "name": "stdout",
     "text": "Epoch 1/30\n300/300 [==============================] - 1s 4ms/step - loss: 0.3002 - accuracy: 0.9153 - val_loss: 0.1539 - val_accuracy: 0.9544\nEpoch 2/30\n300/300 [==============================] - 1s 4ms/step - loss: 0.1245 - accuracy: 0.9640 - val_loss: 0.1027 - val_accuracy: 0.9688\nEpoch 3/30\n300/300 [==============================] - 1s 4ms/step - loss: 0.0821 - accuracy: 0.9768 - val_loss: 0.0931 - val_accuracy: 0.9712\nEpoch 4/30\n300/300 [==============================] - 1s 4ms/step - loss: 0.0602 - accuracy: 0.9826 - val_loss: 0.0711 - val_accuracy: 0.9780\nEpoch 5/30\n300/300 [==============================] - 1s 4ms/step - loss: 0.0451 - accuracy: 0.9872 - val_loss: 0.0707 - val_accuracy: 0.9776\nEpoch 6/30\n300/300 [==============================] - 1s 5ms/step - loss: 0.0346 - accuracy: 0.9907 - val_loss: 0.0658 - val_accuracy: 0.9798\nEpoch 7/30\n300/300 [==============================] - 1s 4ms/step - loss: 0.0263 - accuracy: 0.9931 - val_loss: 0.0594 - val_accuracy: 0.9823\nEpoch 8/30\n300/300 [==============================] - 1s 4ms/step - loss: 0.0208 - accuracy: 0.9948 - val_loss: 0.0604 - val_accuracy: 0.9803\nEpoch 9/30\n300/300 [==============================] - 1s 4ms/step - loss: 0.0163 - accuracy: 0.9962 - val_loss: 0.0593 - val_accuracy: 0.9806\nEpoch 10/30\n300/300 [==============================] - 1s 4ms/step - loss: 0.0129 - accuracy: 0.9972 - val_loss: 0.0642 - val_accuracy: 0.9800\nEpoch 11/30\n300/300 [==============================] - 1s 4ms/step - loss: 0.0098 - accuracy: 0.9982 - val_loss: 0.0574 - val_accuracy: 0.9813\nEpoch 12/30\n300/300 [==============================] - 1s 4ms/step - loss: 0.0073 - accuracy: 0.9990 - val_loss: 0.0639 - val_accuracy: 0.9812\nEpoch 13/30\n300/300 [==============================] - 1s 5ms/step - loss: 0.0062 - accuracy: 0.9990 - val_loss: 0.0572 - val_accuracy: 0.9828\nEpoch 14/30\n300/300 [==============================] - 1s 4ms/step - loss: 0.0040 - accuracy: 0.9996 - val_loss: 0.0603 - val_accuracy: 0.9812\nEpoch 15/30\n300/300 [==============================] - 1s 5ms/step - loss: 0.0033 - accuracy: 0.9996 - val_loss: 0.0676 - val_accuracy: 0.9811\nEpoch 16/30\n300/300 [==============================] - 1s 5ms/step - loss: 0.0051 - accuracy: 0.9990 - val_loss: 0.0663 - val_accuracy: 0.9812\nEpoch 17/30\n300/300 [==============================] - 1s 4ms/step - loss: 0.0081 - accuracy: 0.9979 - val_loss: 0.0713 - val_accuracy: 0.9809\nEpoch 18/30\n300/300 [==============================] - 1s 4ms/step - loss: 0.0036 - accuracy: 0.9994 - val_loss: 0.0682 - val_accuracy: 0.9822\nEpoch 19/30\n300/300 [==============================] - 1s 4ms/step - loss: 0.0013 - accuracy: 1.0000 - val_loss: 0.0626 - val_accuracy: 0.9834\nEpoch 20/30\n300/300 [==============================] - 1s 4ms/step - loss: 9.1258e-04 - accuracy: 1.0000 - val_loss: 0.0638 - val_accuracy: 0.9828\nEpoch 21/30\n300/300 [==============================] - 1s 4ms/step - loss: 6.1147e-04 - accuracy: 1.0000 - val_loss: 0.0653 - val_accuracy: 0.9829\nEpoch 22/30\n300/300 [==============================] - 1s 4ms/step - loss: 5.0456e-04 - accuracy: 1.0000 - val_loss: 0.0659 - val_accuracy: 0.9833\nEpoch 23/30\n300/300 [==============================] - 1s 4ms/step - loss: 4.0445e-04 - accuracy: 1.0000 - val_loss: 0.0659 - val_accuracy: 0.9838\n"
    },
    {
     "output_type": "execute_result",
     "data": {
      "text/plain": "<tensorflow.python.keras.callbacks.History at 0x1ddf2c828c8>"
     },
     "metadata": {},
     "execution_count": 38
    }
   ],
   "source": [
    "model.fit(xTrain,yTrain, validation_data=(xTest, yTest), epochs=30, batch_size=200, callbacks=[es])"
   ]
  },
  {
   "cell_type": "code",
   "execution_count": null,
   "metadata": {},
   "outputs": [],
   "source": []
  },
  {
   "cell_type": "code",
   "execution_count": 43,
   "metadata": {},
   "outputs": [],
   "source": [
    "(xTrain, yTrain), (xTest, yTest)= mnist.load_data()\n",
    "xTrain.shape[0]\n",
    "xTrain=xTrain.reshape(xTrain.shape[0],28,28,1)\n",
    "xTest=xTest.reshape(xTest.shape[0], 28,28,1)\n",
    "xTrain=xTrain.astype(\"float32\")\n",
    "xTrain=xTrain/255\n",
    "xTest=xTest.astype(\"float32\")\n",
    "xTest=xTest/255\n",
    "yTrain=np_utils.to_categorical(yTrain,10)\n",
    "yTest=np_utils.to_categorical(yTest,10)"
   ]
  },
  {
   "cell_type": "code",
   "execution_count": null,
   "metadata": {},
   "outputs": [],
   "source": [
    "##CNN##\n",
    "model=Sequential()\n",
    "model.add(Conv2D())"
   ]
  }
 ]
}