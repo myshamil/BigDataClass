{
 "cells": [
  {
   "cell_type": "code",
   "execution_count": 1,
   "metadata": {},
   "outputs": [],
   "source": [
    "from keras.datasets import mnist\n",
    "from keras.utils import np_utils\n",
    "import numpy as np\n",
    "import sys"
   ]
  },
  {
   "cell_type": "code",
   "execution_count": 53,
   "metadata": {},
   "outputs": [],
   "source": [
    "(xTrain, yTrain), (xTest, yTest)=mnist.load_data()"
   ]
  },
  {
   "cell_type": "code",
   "execution_count": 40,
   "metadata": {},
   "outputs": [],
   "source": [
    "import matplotlib.pyplot as plt"
   ]
  },
  {
   "cell_type": "code",
   "execution_count": 41,
   "metadata": {},
   "outputs": [
    {
     "data": {
      "image/png": "[encoded data removed]",
      "text/plain": [
       "<Figure size 432x288 with 1 Axes>"
      ]
     },
     "metadata": {
      "needs_background": "light"
     },
     "output_type": "display_data"
    }
   ],
   "source": [
    "plt.imshow(xTrain[0], cmap='Greys')\n",
    "\n",
    "plt.show()"
   ]
  },
  {
   "cell_type": "code",
   "execution_count": 54,
   "metadata": {},
   "outputs": [],
   "source": [
    "#xTrain.shape\n",
    "xTrain=xTrain.reshape(xTrain.shape[0],784)\n",
    "xTest=xTest.reshape(xTest.shape[0],784)"
   ]
  },
  {
   "cell_type": "code",
   "execution_count": 55,
   "metadata": {},
   "outputs": [],
   "source": [
    "xTrain=xTrain.astype('float64')\n",
    "xTrain=xTrain/255\n",
    "xTest=xTest.astype('float64')\n",
    "xTest=xTest/255"
   ]
  },
  {
   "cell_type": "code",
   "execution_count": 26,
   "metadata": {},
   "outputs": [],
   "source": [
    "#1/2 =>0.5\n",
    "#1/2.0 #정수와 정수간의 연산 결과 => 정수\n",
    "# x=[1]\n",
    "# x=np.array(x)\n",
    "# print(x/2)"
   ]
  },
  {
   "cell_type": "code",
   "execution_count": 27,
   "metadata": {},
   "outputs": [
    {
     "data": {
      "text/plain": [
       "array([[0., 0., 0., ..., 0., 0., 0.],\n",
       "       [0., 0., 0., ..., 0., 0., 0.],\n",
       "       [0., 0., 0., ..., 0., 0., 0.],\n",
       "       ...,\n",
       "       [0., 0., 0., ..., 0., 0., 0.],\n",
       "       [0., 0., 0., ..., 0., 0., 0.],\n",
       "       [0., 0., 0., ..., 0., 0., 0.]])"
      ]
     },
     "execution_count": 27,
     "metadata": {},
     "output_type": "execute_result"
    }
   ],
   "source": [
    "xTrain"
   ]
  },
  {
   "cell_type": "code",
   "execution_count": 56,
   "metadata": {},
   "outputs": [],
   "source": [
    "yTrain=np_utils.to_categorical(yTrain,10)\n",
    "yTest=np_utils.to_categorical(yTest,10)"
   ]
  },
  {
   "cell_type": "code",
   "execution_count": null,
   "metadata": {},
   "outputs": [],
   "source": [
    "# 1. xTrain, yTrain 정규화(0~1)\n",
    "# 2. yTrain, yTest 카테고리화(원핫 인코딩)"
   ]
  },
  {
   "cell_type": "code",
   "execution_count": 47,
   "metadata": {},
   "outputs": [],
   "source": [
    "from keras.models import Sequential\n",
    "from keras.layers import Dense #계층 추가\n",
    "from keras.callbacks import EarlyStopping"
   ]
  },
  {
   "cell_type": "code",
   "execution_count": 48,
   "metadata": {},
   "outputs": [],
   "source": [
    "model=Sequential()\n",
    "model.add(Dense(512, input_dim=784, activation='relu'))\n",
    "#input_shape=(784,) == input_dim=784\n",
    "model.add(Dense(10, activation='softmax'))"
   ]
  },
  {
   "cell_type": "code",
   "execution_count": 49,
   "metadata": {},
   "outputs": [],
   "source": [
    "model.compile(loss='categorical_crossentropy',\n",
    "             optimizer='adam',\n",
    "             metrics=['accuracy'])"
   ]
  },
  {
   "cell_type": "code",
   "execution_count": 50,
   "metadata": {},
   "outputs": [],
   "source": [
    "es=EarlyStopping(monitor='val_loss',patience=10)\n",
    "#validation data의 loss(cost)가 10회 이상(계속해서)\n",
    "#줄어들지 않으면 모델링 중단하겠다"
   ]
  },
  {
   "cell_type": "code",
   "execution_count": 51,
   "metadata": {},
   "outputs": [
    {
     "name": "stdout",
     "output_type": "stream",
     "text": [
      "Epoch 1/30\n",
      "300/300 [==============================] - 1s 5ms/step - loss: 1.6522 - accuracy: 0.6507 - val_loss: 0.9374 - val_accuracy: 0.8031\n",
      "Epoch 2/30\n",
      "300/300 [==============================] - 1s 4ms/step - loss: 0.7044 - accuracy: 0.8376 - val_loss: 0.5331 - val_accuracy: 0.8714\n",
      "Epoch 3/30\n",
      "300/300 [==============================] - 1s 4ms/step - loss: 0.4791 - accuracy: 0.8780 - val_loss: 0.4131 - val_accuracy: 0.8933\n",
      "Epoch 4/30\n",
      "300/300 [==============================] - 1s 4ms/step - loss: 0.3974 - accuracy: 0.8924 - val_loss: 0.3621 - val_accuracy: 0.9014\n",
      "Epoch 5/30\n",
      "300/300 [==============================] - 1s 4ms/step - loss: 0.3571 - accuracy: 0.9007 - val_loss: 0.3313 - val_accuracy: 0.9092\n",
      "Epoch 6/30\n",
      "300/300 [==============================] - 1s 4ms/step - loss: 0.3323 - accuracy: 0.9059 - val_loss: 0.3127 - val_accuracy: 0.9110\n",
      "Epoch 7/30\n",
      "300/300 [==============================] - 1s 4ms/step - loss: 0.3149 - accuracy: 0.9106 - val_loss: 0.3004 - val_accuracy: 0.9134\n",
      "Epoch 8/30\n",
      "300/300 [==============================] - 1s 4ms/step - loss: 0.3021 - accuracy: 0.9129 - val_loss: 0.2902 - val_accuracy: 0.9170\n",
      "Epoch 9/30\n",
      "300/300 [==============================] - 1s 4ms/step - loss: 0.2916 - accuracy: 0.9169 - val_loss: 0.2794 - val_accuracy: 0.9178\n",
      "Epoch 10/30\n",
      "300/300 [==============================] - 1s 4ms/step - loss: 0.2816 - accuracy: 0.9187 - val_loss: 0.2704 - val_accuracy: 0.9212\n",
      "Epoch 11/30\n",
      "300/300 [==============================] - 1s 4ms/step - loss: 0.2728 - accuracy: 0.9215 - val_loss: 0.2644 - val_accuracy: 0.9228\n",
      "Epoch 12/30\n",
      "300/300 [==============================] - 1s 4ms/step - loss: 0.2648 - accuracy: 0.9236 - val_loss: 0.2558 - val_accuracy: 0.9256\n",
      "Epoch 13/30\n",
      "300/300 [==============================] - 1s 4ms/step - loss: 0.2572 - accuracy: 0.9260 - val_loss: 0.2507 - val_accuracy: 0.9284\n",
      "Epoch 14/30\n",
      "300/300 [==============================] - 1s 4ms/step - loss: 0.2498 - accuracy: 0.9280 - val_loss: 0.2430 - val_accuracy: 0.9307\n",
      "Epoch 15/30\n",
      "300/300 [==============================] - 1s 4ms/step - loss: 0.2418 - accuracy: 0.9305 - val_loss: 0.2360 - val_accuracy: 0.9314\n",
      "Epoch 16/30\n",
      "300/300 [==============================] - 1s 4ms/step - loss: 0.2346 - accuracy: 0.9321 - val_loss: 0.2294 - val_accuracy: 0.9337\n",
      "Epoch 17/30\n",
      "300/300 [==============================] - 1s 4ms/step - loss: 0.2276 - accuracy: 0.9349 - val_loss: 0.2229 - val_accuracy: 0.9359\n",
      "Epoch 18/30\n",
      "300/300 [==============================] - 1s 4ms/step - loss: 0.2207 - accuracy: 0.9364 - val_loss: 0.2160 - val_accuracy: 0.9376\n",
      "Epoch 19/30\n",
      "300/300 [==============================] - 1s 4ms/step - loss: 0.2138 - accuracy: 0.9384 - val_loss: 0.2118 - val_accuracy: 0.9385\n",
      "Epoch 20/30\n",
      "300/300 [==============================] - 1s 4ms/step - loss: 0.2070 - accuracy: 0.9412 - val_loss: 0.2047 - val_accuracy: 0.9415\n",
      "Epoch 21/30\n",
      "300/300 [==============================] - 1s 4ms/step - loss: 0.2002 - accuracy: 0.9429 - val_loss: 0.2002 - val_accuracy: 0.9416\n",
      "Epoch 22/30\n",
      "300/300 [==============================] - 1s 4ms/step - loss: 0.1939 - accuracy: 0.9442 - val_loss: 0.1931 - val_accuracy: 0.9441\n",
      "Epoch 23/30\n",
      "300/300 [==============================] - 1s 4ms/step - loss: 0.1878 - accuracy: 0.9462 - val_loss: 0.1891 - val_accuracy: 0.9442\n",
      "Epoch 24/30\n",
      "300/300 [==============================] - 1s 4ms/step - loss: 0.1816 - accuracy: 0.9482 - val_loss: 0.1823 - val_accuracy: 0.9479\n",
      "Epoch 25/30\n",
      "300/300 [==============================] - 1s 4ms/step - loss: 0.1761 - accuracy: 0.9500 - val_loss: 0.1786 - val_accuracy: 0.9479\n",
      "Epoch 26/30\n",
      "300/300 [==============================] - 1s 4ms/step - loss: 0.1704 - accuracy: 0.9513 - val_loss: 0.1719 - val_accuracy: 0.9494\n",
      "Epoch 27/30\n",
      "300/300 [==============================] - 1s 4ms/step - loss: 0.1653 - accuracy: 0.9533 - val_loss: 0.1692 - val_accuracy: 0.9501\n",
      "Epoch 28/30\n",
      "300/300 [==============================] - 1s 4ms/step - loss: 0.1606 - accuracy: 0.9542 - val_loss: 0.1635 - val_accuracy: 0.9523\n",
      "Epoch 29/30\n",
      "300/300 [==============================] - 1s 4ms/step - loss: 0.1557 - accuracy: 0.9556 - val_loss: 0.1602 - val_accuracy: 0.9533\n",
      "Epoch 30/30\n",
      "300/300 [==============================] - 1s 4ms/step - loss: 0.1507 - accuracy: 0.9567 - val_loss: 0.1552 - val_accuracy: 0.9551\n"
     ]
    },
    {
     "data": {
      "text/plain": [
       "<tensorflow.python.keras.callbacks.History at 0x23517af79c8>"
      ]
     },
     "execution_count": 51,
     "metadata": {},
     "output_type": "execute_result"
    }
   ],
   "source": [
    "model.fit(xTrain,yTrain, validation_data=(xTest,yTest), epochs=30, batch_size=200, callbacks=[es])"
   ]
  },
  {
   "cell_type": "code",
   "execution_count": 52,
   "metadata": {},
   "outputs": [],
   "source": [
    "# 전체 데이터가 1000건\n",
    "\n",
    "# 트레이닝:700건, 테스트:300건\n",
    "# 트레이닝-> 트레이닝(560건), 검증(140건)\n",
    "\n",
    "# 전체 데이터가 1000건\n",
    "# 트레이닝:700건, 테스트:300건\n"
   ]
  },
  {
   "cell_type": "code",
   "execution_count": null,
   "metadata": {},
   "outputs": [],
   "source": []
  },
  {
   "cell_type": "code",
   "execution_count": null,
   "metadata": {},
   "outputs": [],
   "source": [
    "#######cnn#######\n",
    "(xTrain, yTrain), (xTest, yTest)=mnist.load_data()\n",
    "xTrain=xTrain.reshape(xTrain.shape[0],28,28,1).astype('float32')/255\n",
    "xTest=xTest.reshape(xTest.shape[0],28,28,1).astype('float32')/255\n",
    "yTrain=np_utils.to_categorical(yTrain,10)\n",
    "yTest=np_utils.to_categorical(yTest,10)\n",
    "\n",
    "model=Sequential()\n",
    "model.add(Conv2D())"
   ]
  },
  {
   "cell_type": "code",
   "execution_count": null,
   "metadata": {},
   "outputs": [],
   "source": []
  },
  {
   "cell_type": "code",
   "execution_count": null,
   "metadata": {},
   "outputs": [],
   "source": []
  },
  {
   "cell_type": "code",
   "execution_count": null,
   "metadata": {},
   "outputs": [],
   "source": []
  },
  {
   "cell_type": "code",
   "execution_count": null,
   "metadata": {},
   "outputs": [],
   "source": []
  },
  {
   "cell_type": "code",
   "execution_count": null,
   "metadata": {},
   "outputs": [],
   "source": []
  },
  {
   "cell_type": "code",
   "execution_count": null,
   "metadata": {},
   "outputs": [],
   "source": []
  },
  {
   "cell_type": "code",
   "execution_count": null,
   "metadata": {},
   "outputs": [],
   "source": []
  }
 ],
 "metadata": {
  "kernelspec": {
   "display_name": "Python 3",
   "language": "python",
   "name": "python3"
  },
  "language_info": {
   "codemirror_mode": {
    "name": "ipython",
    "version": 3
   },
   "file_extension": ".py",
   "mimetype": "text/x-python",
   "name": "python",
   "nbconvert_exporter": "python",
   "pygments_lexer": "ipython3",
   "version": "3.7.6"
  }
 },
 "nbformat": 4,
 "nbformat_minor": 4
}
