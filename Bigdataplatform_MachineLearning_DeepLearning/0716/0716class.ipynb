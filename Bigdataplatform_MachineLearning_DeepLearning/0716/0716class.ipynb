{
 "cells": [
  {
   "cell_type": "markdown",
   "metadata": {},
   "source": [
    "동물 분류기"
   ]
  },
  {
   "cell_type": "code",
   "execution_count": 12,
   "metadata": {
    "tags": []
   },
   "outputs": [],
   "source": [
    "# import tensorflow as tf\n",
    "import tensorflow.compat.v1 as tf # 1.xxversion을 사용\n",
    "tf.disable_v2_behavior() #2.xx version 기능 사용불가\n",
    "#tf 1.xx version -> 2.xx version\n",
    "\n",
    "\n",
    "#포유류? 조류? 기타?\n",
    "#기준 - 털, 날개\n",
    "#[털, 날개]"
   ]
  },
  {
   "cell_type": "code",
   "execution_count": 13,
   "metadata": {},
   "outputs": [],
   "source": [
    "xdata= np.array(\n",
    "    [[0,0],\n",
    "    [1,0],\n",
    "    [1,1],\n",
    "    [0,0],\n",
    "    [0,0],\n",
    "    [0,1]]\n",
    ")\n",
    "ydata= np.array(\n",
    "    [[1,0,0], #기타\n",
    "    [0,1,0], #포유류\n",
    "    [0,0,1], #조류\n",
    "    [1,0,0],\n",
    "    [1,0,0],\n",
    "    [0,0,1]]\n",
    ")"
   ]
  },
  {
   "cell_type": "code",
   "execution_count": 14,
   "metadata": {},
   "outputs": [],
   "source": [
    "# hx=wx+b ->예측\n",
    "# hx=wx +b ->sigmoid =>0.5 -> 분류(0,1)\n",
    "# hx=w1x +b1 -> score->softmax ->확률 (기타)\n",
    "#     w2x+b2 ->score ->softmax ->확률(포유류)  =>max (확률)\n",
    "#     w3x+b3 -> score->softmax ->확률(조류)"
   ]
  },
  {
   "cell_type": "code",
   "execution_count": 15,
   "metadata": {},
   "outputs": [],
   "source": [
    "#신경망 모델 구성\n",
    "x=tf.placeholder(tf.float32, shape=[None,2])\n",
    "y=tf.placeholder(tf.float32, shape=[None,3])\n",
    "#분류기3개\n",
    "w= tf.Variable(tf.random_uniform([2,3], -1.,1.)) #-1~1 사이일때가 모델이 잘 나오는 편..필수는 아님\n",
    "#신경망은 2차원[입력층(특성), 출력층(레이블])]\n",
    "b=tf.Variable(tf.zeros([3])) \n",
    "#L = score\n",
    "L =tf.add(tf.matmul(x,w),b) #[None, 3]와 [3]요소간의 덧셈\n",
    "L = tf.nn.relu(L)\n",
    "\n",
    "model = tf.nn.softmax(L)\n",
    "#신경망 최적화를 위한 cost함수 작성\n",
    "cost= tf.reduce_mean(-tf.reduce_sum(y*tf.log(model), axis=1))\n",
    "train = tf.train.GradientDescentOptimizer(0.01).minimize(cost)\n"
   ]
  },
  {
   "cell_type": "code",
   "execution_count": 16,
   "metadata": {},
   "outputs": [],
   "source": [
    "sess= tf.Session()\n",
    "sess.run(tf.global_variables_initializer())"
   ]
  },
  {
   "cell_type": "code",
   "execution_count": 21,
   "metadata": {
    "tags": []
   },
   "outputs": [
    {
     "output_type": "stream",
     "name": "stdout",
     "text": "예측값 [1 1 1 1 1 0]\n실제값 [0 1 2 0 0 2]\n정확도 : 16.67\n"
    }
   ],
   "source": [
    "for step in range(1001) :\n",
    "    sess.run(train, feed_dict={x:xdata, y:ydata})\n",
    "#     if step%20 == 0:\n",
    "#         print(step, sess.run(cost, feed_dict={x:xdata, y:ydata}))\n",
    "# print(sess.run(model, feed_dict={x:xdata}))\n",
    "prediction = tf.argmax(model, axis=1)\n",
    "target = tf.argmax(y,1)\n",
    "print(\"예측값\", sess.run(prediction, feed_dict={x:xdata}))\n",
    "print(\"실제값\", sess.run(target, feed_dict={y:ydata}))\n",
    "isCorrect = tf.equal(prediction, target)\n",
    "acc= tf.reduce_mean(tf.cast(isCorrect, tf.float32))\n",
    "print(\"정확도 : %.2f\"%sess.run(acc*100, feed_dict={x:xdata, y:ydata}))"
   ]
  },
  {
   "cell_type": "markdown",
   "metadata": {},
   "source": [
    "딥러닝 모델구성"
   ]
  },
  {
   "cell_type": "code",
   "execution_count": 24,
   "metadata": {},
   "outputs": [],
   "source": [
    "xdata= np.array(\n",
    "    [[0,0],\n",
    "    [1,0],\n",
    "    [1,1],\n",
    "    [0,0],\n",
    "    [0,0],\n",
    "    [0,1]]\n",
    ")\n",
    "ydata= np.array(\n",
    "    [[1,0,0], #기타\n",
    "    [0,1,0], #포유류\n",
    "    [0,0,1], #조류\n",
    "    [1,0,0],\n",
    "    [1,0,0],\n",
    "    [0,0,1]])"
   ]
  },
  {
   "cell_type": "code",
   "execution_count": 25,
   "metadata": {},
   "outputs": [],
   "source": [
    "x=tf.placeholder(tf.float32, shape=[None,2])\n",
    "y=tf.placeholder(tf.float32, shape=[None,3])\n",
    "#분류기3개\n",
    "w1= tf.Variable(tf.random_uniform([2,10], -1.,1.)) \n",
    "w2= tf.Variable(tf.random_uniform([10,3], -1.,1.)) \n",
    "#신경망은 2차원[입력층(특성), 출력층(레이블])]\n",
    "b1=tf.Variable(tf.zeros([10])) \n",
    "b2=tf.Variable(tf.zeros([3])) "
   ]
  },
  {
   "cell_type": "code",
   "execution_count": 27,
   "metadata": {},
   "outputs": [],
   "source": [
    "L1 =tf.add(tf.matmul(x,w1),b1)\n",
    "L1 = tf.nn.relu(L1)\n",
    "model=tf.add(tf.matmul(L1,w2), b2)\n",
    "cost=tf.reduce_mean(\n",
    "    tf.reduce_sum(tf.nn.softmax_cross_entropy_with_logits_v2(labels=y, logits=model)))\n",
    "train=tf.train.AdamOptimizer(0.01).minimize(cost)"
   ]
  },
  {
   "cell_type": "code",
   "execution_count": null,
   "metadata": {},
   "outputs": [],
   "source": []
  }
 ],
 "metadata": {
  "language_info": {
   "codemirror_mode": {
    "name": "ipython",
    "version": 3
   },
   "file_extension": ".py",
   "mimetype": "text/x-python",
   "name": "python",
   "nbconvert_exporter": "python",
   "pygments_lexer": "ipython3",
   "version": 3
  },
  "orig_nbformat": 2,
  "kernelspec": {
   "name": "python_defaultSpec_1594861297668",
   "display_name": "Python 3.7.6 64-bit ('base': conda)"
  }
 },
 "nbformat": 4,
 "nbformat_minor": 2
}