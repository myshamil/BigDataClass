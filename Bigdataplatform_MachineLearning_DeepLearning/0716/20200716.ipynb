{
 "cells": [
  {
   "cell_type": "code",
   "execution_count": 3,
   "metadata": {},
   "outputs": [
    {
     "name": "stdout",
     "output_type": "stream",
     "text": [
      "WARNING:tensorflow:From C:\\Users\\B-0\\anaconda3\\lib\\site-packages\\tensorflow\\python\\compat\\v2_compat.py:96: disable_resource_variables (from tensorflow.python.ops.variable_scope) is deprecated and will be removed in a future version.\n",
      "Instructions for updating:\n",
      "non-resource variables are not supported in the long term\n"
     ]
    }
   ],
   "source": [
    "import tensorflow.compat.v1 as tf\n",
    "tf.disable_v2_behavior()"
   ]
  },
  {
   "cell_type": "code",
   "execution_count": 4,
   "metadata": {},
   "outputs": [],
   "source": [
    "#허접한 동물 분류기\n",
    "import numpy as np\n",
    "#포유류? 조류? 기타? 분류기 (신경망)\n",
    "#기준- 털, 날개 유무에 따라 분류\n",
    "#[털, 날개]\n",
    "xdata=np.array(\n",
    "[[0,0],\n",
    "[1,0],\n",
    "[1,1],\n",
    "[0,0],\n",
    "[0,0],\n",
    "[0,1]]\n",
    ")\n",
    "ydata=np.array(\n",
    "[[1,0,0], #기타        100\n",
    "[0,1,0],  #포유류      010 \n",
    "[0,0,1],  #조류        100\n",
    "[1,0,0],              \n",
    "[1,0,0],\n",
    "[0,0,1]]\n",
    ")"
   ]
  },
  {
   "cell_type": "code",
   "execution_count": 6,
   "metadata": {},
   "outputs": [],
   "source": [
    "#신경망 모델 구성\n",
    "x=tf.placeholder(tf.float32, shape=[None,2])\n",
    "y=tf.placeholder(tf.float32, shape=[None,3])\n",
    "#분류기가 3개니까 3이에요.(한개만 1, 나머지는 0으로 출력)\n",
    "w=tf.Variable(tf.random_uniform([2,3], -1., 1.))\n",
    "b=tf.Variable(tf.zeros([3]))\n",
    "#x*w+b\n",
    "#None,2 * 2,3=> None,3\n",
    "#   x   *   w  =>  tf.matmul(x,w)\n",
    "#신경망은 2차원[입력층(특성),출력층(레이블)]\n",
    "\n",
    "L=tf.add(tf.matmul(x,w), b) #[None,3] 와 [3] 요소간 덧셈\n",
    "#L은 scores(logits)\n",
    "\n",
    "L=tf.nn.relu(L) #relu함수는 음수가 전달되는 경우에는 0,\n",
    "#양수가 전달되는 경우에는 양수값을 그대로 리턴해주는 함수\n",
    "\n",
    "#예) scores = [8.05, 2.07, 1.3] =>softmax => [0.7 0.2 0.1]\n",
    "model=tf.nn.softmax(L) #신경망 모델\n",
    "\n",
    "#신경망을 최적화하기 위한 cost함수 작성\n",
    "cost=tf.reduce_mean(\n",
    "    -tf.reduce_sum(y*tf.log(model),axis=1))\n",
    "train=tf.train.GradientDescentOptimizer(0.01).minimize(cost)\n"
   ]
  },
  {
   "cell_type": "code",
   "execution_count": 7,
   "metadata": {},
   "outputs": [],
   "source": [
    "sess=tf.Session()\n",
    "sess.run(tf.global_variables_initializer())"
   ]
  },
  {
   "cell_type": "code",
   "execution_count": 14,
   "metadata": {},
   "outputs": [
    {
     "name": "stdout",
     "output_type": "stream",
     "text": [
      "예측값: [0 1 1 0 0 0]\n",
      "실제값: [0 1 2 0 0 2]\n",
      "정확도:66.67\n"
     ]
    }
   ],
   "source": [
    "for step in range(101):\n",
    "    sess.run(train, feed_dict={x:xdata, y:ydata})\n",
    "    #if step%10==0:\n",
    "        #print(step, sess.run(cost,feed_dict={x:xdata, y:ydata}))\n",
    "#print(sess.run(model, feed_dict={x:xdata}))\n",
    "prediction=tf.argmax(model,axis=1)\n",
    "target=tf.argmax(y,1)\n",
    "print(\"예측값:\", sess.run(prediction, \n",
    "                       feed_dict={x:xdata}))\n",
    "print(\"실제값:\", sess.run(target, \n",
    "                        feed_dict={y:ydata}))\n",
    "isCorrect=tf.equal(prediction, target)\n",
    "acc=tf.reduce_mean(tf.cast(isCorrect,tf.float32))\n",
    "print(\"정확도:%.2f\"%sess.run(acc*100,\n",
    "                          feed_dict={x:xdata, y:ydata}))"
   ]
  },
  {
   "cell_type": "code",
   "execution_count": null,
   "metadata": {},
   "outputs": [],
   "source": []
  },
  {
   "cell_type": "code",
   "execution_count": null,
   "metadata": {},
   "outputs": [],
   "source": []
  },
  {
   "cell_type": "code",
   "execution_count": null,
   "metadata": {},
   "outputs": [],
   "source": [
    "# hx=wx+b -> 예측\n",
    "# hx=wx+b -> sigmoid -> 0.5? -> 분류(0,1)\n",
    "# hx=w1x+b1 -> score -> softmax -> 확률(기타)\n",
    "#    w2x+b2 -> score -> softmax -> 확률(포유) => max(확률)\n",
    "#    w3x+b3 -> score -> softmax -> 확률(조류)"
   ]
  },
  {
   "cell_type": "code",
   "execution_count": null,
   "metadata": {},
   "outputs": [],
   "source": []
  },
  {
   "cell_type": "code",
   "execution_count": 23,
   "metadata": {},
   "outputs": [],
   "source": [
    "###딥러닝 모델 구성\n",
    "xdata=np.array(\n",
    "[[0,0],\n",
    "[1,0],\n",
    "[1,1],\n",
    "[0,0],\n",
    "[0,0],\n",
    "[0,1]]\n",
    ")\n",
    "ydata=np.array(\n",
    "[[1,0,0], #기타        100\n",
    "[0,1,0],  #포유류      010 \n",
    "[0,0,1],  #조류        100\n",
    "[1,0,0],              \n",
    "[1,0,0],\n",
    "[0,0,1]]\n",
    ")"
   ]
  },
  {
   "cell_type": "code",
   "execution_count": 19,
   "metadata": {},
   "outputs": [],
   "source": [
    "x=tf.placeholder(tf.float32, shape=[None,2])\n",
    "y=tf.placeholder(tf.float32, shape=[None,3])\n",
    "#분류기가 3개니까 3이에요.(한개만 1, 나머지는 0으로 출력)\n",
    "w1=tf.Variable(tf.random_uniform([2,10], -1., 1.))\n",
    "w2=tf.Variable(tf.random_uniform([10,3], -1., 1.))\n",
    "b1=tf.Variable(tf.zeros([10]))\n",
    "b2=tf.Variable(tf.zeros([3]))"
   ]
  },
  {
   "cell_type": "code",
   "execution_count": 24,
   "metadata": {},
   "outputs": [],
   "source": [
    "L1=tf.add(tf.matmul(x,w1), b1) \n",
    "L1=tf.nn.relu(L1) \n",
    "model=tf.add(tf.matmul(L1,w2), b2) \n",
    "cost=tf.reduce_mean(\n",
    "    tf.nn.softmax_cross_entropy_with_logits_v2\n",
    "                    (labels=y, logits=model))\n",
    "train=tf.train.AdamOptimizer(0.01).minimize(cost)"
   ]
  },
  {
   "cell_type": "code",
   "execution_count": 25,
   "metadata": {},
   "outputs": [
    {
     "name": "stdout",
     "output_type": "stream",
     "text": [
      "예측값: [0 1 2 0 0 2]\n",
      "실제값: [0 1 2 0 0 2]\n",
      "정확도:100.00\n"
     ]
    }
   ],
   "source": [
    "sess=tf.Session()\n",
    "sess.run(tf.global_variables_initializer())\n",
    "for step in range(101):\n",
    "    sess.run(train, feed_dict={x:xdata, y:ydata})\n",
    "    \n",
    "prediction=tf.argmax(model,axis=1)\n",
    "target=tf.argmax(y,1)\n",
    "print(\"예측값:\", sess.run(prediction, \n",
    "                       feed_dict={x:xdata}))\n",
    "print(\"실제값:\", sess.run(target, \n",
    "                        feed_dict={y:ydata}))\n",
    "isCorrect=tf.equal(prediction, target)\n",
    "acc=tf.reduce_mean(tf.cast(isCorrect,tf.float32))\n",
    "print(\"정확도:%.2f\" % sess.run(acc*100,\n",
    "                          feed_dict={x:xdata, y:ydata}))"
   ]
  },
  {
   "cell_type": "code",
   "execution_count": null,
   "metadata": {},
   "outputs": [],
   "source": []
  }
 ],
 "metadata": {
  "kernelspec": {
   "display_name": "Python 3",
   "language": "python",
   "name": "python3"
  },
  "language_info": {
   "codemirror_mode": {
    "name": "ipython",
    "version": 3
   },
   "file_extension": ".py",
   "mimetype": "text/x-python",
   "name": "python",
   "nbconvert_exporter": "python",
   "pygments_lexer": "ipython3",
   "version": "3.7.6"
  }
 },
 "nbformat": 4,
 "nbformat_minor": 4
}