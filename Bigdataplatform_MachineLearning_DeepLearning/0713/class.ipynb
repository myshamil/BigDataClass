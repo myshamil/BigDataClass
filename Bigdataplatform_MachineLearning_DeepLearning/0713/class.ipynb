{
 "cells": [
  {
   "cell_type": "code",
   "execution_count": 2,
   "metadata": {},
   "outputs": [],
   "source": [
    "import numpy as np\n",
    "import pandas as pd\n",
    "import matplotlib.pyplot as plt\n",
    "import seaborn as sns"
   ]
  },
  {
   "cell_type": "code",
   "execution_count": 42,
   "metadata": {},
   "outputs": [],
   "source": [
    "train=pd.read_csv(\"../0708/bike-sharing-demand/train.csv\", parse_dates=['datetime']) #train.csv, datetime컬럼\n",
    "test=pd.read_csv(\"../0708/bike-sharing-demand/test.csv\", parse_dates=['datetime'])#train.csv, datetime컬럼"
   ]
  },
  {
   "cell_type": "code",
   "execution_count": 43,
   "metadata": {},
   "outputs": [],
   "source": [
    "train.shape #(10886, 12)\n",
    "test.shape #(6493, 9)\n",
    "train['year']=train['datetime'].dt.year\n",
    "train['month']=train['datetime'].dt.month\n",
    "train['hour']=train['datetime'].dt.hour\n",
    "train['dayofweek']=train['datetime'].dt.dayofweek\n",
    "test['year']=test['datetime'].dt.year\n",
    "test['month']=test['datetime'].dt.month\n",
    "test['hour']=test['datetime'].dt.hour\n",
    "test['dayofweek']=test['datetime'].dt.dayofweek"
   ]
  },
  {
   "cell_type": "code",
   "execution_count": 44,
   "metadata": {},
   "outputs": [],
   "source": [
    "cfn = ['season', 'holiday', 'workingday', 'weather', 'dayofweek', 'month', 'year','hour']\n",
    "\n",
    "for v in cfn:\n",
    "    train[v]=train[v].astype('category')\n",
    "    test[v]=test[v].astype('category')"
   ]
  },
  {
   "cell_type": "code",
   "execution_count": 45,
   "metadata": {},
   "outputs": [],
   "source": [
    "fn= ['season', 'holiday', 'workingday', 'weather', 'dayofweek', 'month', 'year','hour', 'temp', 'humidity']"
   ]
  },
  {
   "cell_type": "code",
   "execution_count": 46,
   "metadata": {},
   "outputs": [],
   "source": [
    "train[fn].shape\n",
    "test[fn].shape\n",
    "xTrain = train[fn]\n",
    "yTrain = train['count']\n",
    "xTest = test[fn]"
   ]
  },
  {
   "cell_type": "code",
   "execution_count": 47,
   "metadata": {},
   "outputs": [],
   "source": [
    "def rmsle(av, pv):\n",
    "    av= np.array(av)\n",
    "    pv = np.array(pv)\n",
    "    logav =np.log(av+1) #log1p(av)\n",
    "    logpv =np.log(pv+1)\n",
    "    diff =logpv-logav\n",
    "    ds= np.square(diff)\n",
    "    md = ds.mean()\n",
    "    score= np.sqrt(md)\n",
    "\n",
    "    return score\n"
   ]
  },
  {
   "cell_type": "code",
   "execution_count": 48,
   "metadata": {},
   "outputs": [],
   "source": [
    "#선형회귀모델\n",
    "from sklearn.linear_model import *\n",
    "#LinearRegression, Lasso, Ridge\n",
    "from sklearn.model_selection import GridSearchCV\n",
    "from sklearn import metrics"
   ]
  },
  {
   "cell_type": "code",
   "execution_count": 49,
   "metadata": {},
   "outputs": [
    {
     "output_type": "execute_result",
     "data": {
      "text/plain": "0.9795860605214377"
     },
     "metadata": {},
     "execution_count": 49
    }
   ],
   "source": [
    "#선형회귀모델\n",
    "model= LinearRegression()\n",
    "yTrain = np.log1p(yTrain)\n",
    "model.fit(xTrain, yTrain)\n",
    "\n",
    "predictions = model.predict(xTrain)\n",
    "rmsle(np.exp(yTrain), np.exp(predictions))\n"
   ]
  },
  {
   "cell_type": "code",
   "execution_count": 23,
   "metadata": {},
   "outputs": [
    {
     "output_type": "execute_result",
     "data": {
      "text/plain": "array([-16.60964047,   0.        ,   1.        ,   2.        ,\n         3.32192809,   6.64385619])"
     },
     "metadata": {},
     "execution_count": 23
    }
   ],
   "source": [
    "#지수함수의 역함수 -> 로그함수! 밑이 자연상수e(np.log), 10(np.log10), 2(np.log2)\n",
    "x= np.array([0.00001,1,2,4,10,100])\n",
    "np.exp(x) #밑이 자연상수 e인 지수함수 y=e^x형태로 변환\n",
    "np.log(x)\n",
    "np.log10(x)\n",
    "np.log2(x)"
   ]
  },
  {
   "cell_type": "code",
   "execution_count": 50,
   "metadata": {},
   "outputs": [
    {
     "output_type": "execute_result",
     "data": {
      "text/plain": "1"
     },
     "metadata": {},
     "execution_count": 50
    }
   ],
   "source": [
    "def AND(x1,x2):\n",
    "    w1, w2, theta=0.5,0.5,0.7\n",
    "    res = w1*x1+w2*x2\n",
    "    if res <= theta:\n",
    "        return 0\n",
    "    elif res> theta:\n",
    "        return 1\n",
    "AND(0,0)\n",
    "AND(0,1)\n",
    "AND(1,0)\n",
    "AND(1,1)"
   ]
  },
  {
   "cell_type": "code",
   "execution_count": null,
   "metadata": {},
   "outputs": [],
   "source": [
    "def OR(x1,x2):\n",
    "    w1, w2, theta=-1,-1,-1\n",
    "    res = w1*x1+w2*x2\n",
    "    if res <= theta:\n",
    "        return 0\n",
    "    elif res> theta:\n",
    "        return 1"
   ]
  },
  {
   "cell_type": "code",
   "execution_count": 64,
   "metadata": {
    "tags": []
   },
   "outputs": [
    {
     "output_type": "stream",
     "name": "stdout",
     "text": "0\n0\n0\n1\n"
    }
   ],
   "source": [
    "# y= W1X1 + W2X2 + bias\n",
    "def AND2(x1, x2):\n",
    "    x = np.array([x1, x2])\n",
    "    w = np.array([0.5, 0.5])\n",
    "    b = -0.7\n",
    "    t = np.sum(x*w) + b\n",
    "    if t<=0:\n",
    "        return 0\n",
    "    else:\n",
    "        return 1\n",
    "\n",
    "for data in [(0,0),(0,1),(1,0),(1,1)]:\n",
    "    y=AND2(data[0],data[1])\n",
    "    print(y)"
   ]
  },
  {
   "cell_type": "code",
   "execution_count": 67,
   "metadata": {
    "tags": []
   },
   "outputs": [
    {
     "output_type": "stream",
     "name": "stdout",
     "text": "1\n1\n1\n0\n"
    }
   ],
   "source": [
    "# 신경망 : 퍼셉트론 : NAND게이트\n",
    "def NAND2(x1,x2): # NOT AND ( 입력값이 모두 1일때만 0, 나머지는 1 )\n",
    "    x = np.array([x1,x2])\n",
    "    w = np.array([-0.5,-0.5])\n",
    "    b = 0.7\n",
    "    t = np.sum(x*w)+b\n",
    "    if t<=0:\n",
    "        return 0\n",
    "    else:\n",
    "        return 1\n",
    "for data in [(0,0),(0,1),(1,0),(1,1)]:\n",
    "    y = NAND2(data[0],data[1])\n",
    "    print(y)"
   ]
  },
  {
   "cell_type": "code",
   "execution_count": 68,
   "metadata": {
    "tags": []
   },
   "outputs": [
    {
     "output_type": "stream",
     "name": "stdout",
     "text": "0\n1\n1\n1\n"
    }
   ],
   "source": [
    "# y=W1X1+X2X2+bias\n",
    "def OR2(x1, x2):\n",
    "    x=np.array([x1, x2])\n",
    "    w=np.array([0.5, 0.5]) #\n",
    "    b= -0.4 \n",
    "    t=np.sum(x*w)+b\n",
    "    if t<=0:\n",
    "        return 0\n",
    "    else:\n",
    "        return 1\n",
    "for data in [(0,0),(0,1),(1,0),(1,1)]:\n",
    "    y=OR2(data[0], data[1])\n",
    "    print(y)"
   ]
  },
  {
   "cell_type": "code",
   "execution_count": 70,
   "metadata": {
    "tags": []
   },
   "outputs": [
    {
     "output_type": "stream",
     "name": "stdout",
     "text": "1\n1\n1\n0\n"
    }
   ],
   "source": [
    "def XOR2(x1, x2):\n",
    "    s1 =NAND2(x1,x2)\n",
    "    s2 = OR2(x1, x2)\n",
    "    y =AND2(s1, s2)\n",
    "    return y #0 1 1 0\n",
    "\n",
    "for data in [(0,0),(0,1),(1,0),(1,1)]:\n",
    "    y=NAND2(data[0],data[1])\n",
    "    print(y)"
   ]
  },
  {
   "cell_type": "code",
   "execution_count": 24,
   "metadata": {},
   "outputs": [],
   "source": [
    "import tensorflow as tf\n",
    "from keras.models import Sequential\n",
    "from keras.layers import Dense"
   ]
  },
  {
   "cell_type": "code",
   "execution_count": 25,
   "metadata": {},
   "outputs": [
    {
     "output_type": "execute_result",
     "data": {
      "text/plain": "(470, 18)"
     },
     "metadata": {},
     "execution_count": 25
    }
   ],
   "source": [
    "data =np.loadtxt(\"딥러닝/ThoraricSurgery.csv\", delimiter=\",\")\n",
    "data.shape"
   ]
  },
  {
   "cell_type": "code",
   "execution_count": 27,
   "metadata": {},
   "outputs": [],
   "source": [
    "x=data[:,0:17]\n",
    "y=data[:,17]"
   ]
  },
  {
   "cell_type": "code",
   "execution_count": 29,
   "metadata": {},
   "outputs": [],
   "source": [
    "#Keras\n",
    "#모델만들기 \n",
    "model = Sequential()\n",
    "model.add(Dense(30, input_dim =17, activation='relu'))\n",
    "model.add(Dense(1, activation='sigmoid'))"
   ]
  },
  {
   "cell_type": "code",
   "execution_count": 31,
   "metadata": {
    "tags": []
   },
   "outputs": [
    {
     "output_type": "stream",
     "name": "stdout",
     "text": "Epoch 1/30\n47/47 [==============================] - 0s 700us/step - loss: 0.2590 - accuracy: 0.7191\nEpoch 2/30\n47/47 [==============================] - 0s 700us/step - loss: 0.1501 - accuracy: 0.8447\nEpoch 3/30\n47/47 [==============================] - 0s 700us/step - loss: 0.1480 - accuracy: 0.8511\nEpoch 4/30\n47/47 [==============================] - 0s 700us/step - loss: 0.1475 - accuracy: 0.8511\nEpoch 5/30\n47/47 [==============================] - 0s 679us/step - loss: 0.1473 - accuracy: 0.8489\nEpoch 6/30\n47/47 [==============================] - 0s 700us/step - loss: 0.1471 - accuracy: 0.8511\nEpoch 7/30\n47/47 [==============================] - 0s 615us/step - loss: 0.1480 - accuracy: 0.8468\nEpoch 8/30\n47/47 [==============================] - 0s 679us/step - loss: 0.1472 - accuracy: 0.8511\nEpoch 9/30\n47/47 [==============================] - 0s 658us/step - loss: 0.1476 - accuracy: 0.8511\nEpoch 10/30\n47/47 [==============================] - 0s 615us/step - loss: 0.1465 - accuracy: 0.8511\nEpoch 11/30\n47/47 [==============================] - 0s 658us/step - loss: 0.1462 - accuracy: 0.8511\nEpoch 12/30\n47/47 [==============================] - 0s 615us/step - loss: 0.1472 - accuracy: 0.8511\nEpoch 13/30\n47/47 [==============================] - 0s 637us/step - loss: 0.1466 - accuracy: 0.8511\nEpoch 14/30\n47/47 [==============================] - 0s 637us/step - loss: 0.1460 - accuracy: 0.8511\nEpoch 15/30\n47/47 [==============================] - 0s 658us/step - loss: 0.1452 - accuracy: 0.8511\nEpoch 16/30\n47/47 [==============================] - 0s 615us/step - loss: 0.1461 - accuracy: 0.8489\nEpoch 17/30\n47/47 [==============================] - 0s 615us/step - loss: 0.1447 - accuracy: 0.8489\nEpoch 18/30\n47/47 [==============================] - 0s 637us/step - loss: 0.1422 - accuracy: 0.8553\nEpoch 19/30\n47/47 [==============================] - 0s 594us/step - loss: 0.1436 - accuracy: 0.8511\nEpoch 20/30\n47/47 [==============================] - 0s 658us/step - loss: 0.1436 - accuracy: 0.8511\nEpoch 21/30\n47/47 [==============================] - 0s 637us/step - loss: 0.1438 - accuracy: 0.8553\nEpoch 22/30\n47/47 [==============================] - 0s 658us/step - loss: 0.1452 - accuracy: 0.8489\nEpoch 23/30\n47/47 [==============================] - 0s 594us/step - loss: 0.1437 - accuracy: 0.8511\nEpoch 24/30\n47/47 [==============================] - 0s 594us/step - loss: 0.1414 - accuracy: 0.8489\nEpoch 25/30\n47/47 [==============================] - 0s 615us/step - loss: 0.1432 - accuracy: 0.8511\nEpoch 26/30\n47/47 [==============================] - 0s 594us/step - loss: 0.1408 - accuracy: 0.8532\nEpoch 27/30\n47/47 [==============================] - 0s 637us/step - loss: 0.1425 - accuracy: 0.8489\nEpoch 28/30\n47/47 [==============================] - 0s 637us/step - loss: 0.1392 - accuracy: 0.8553\nEpoch 29/30\n47/47 [==============================] - 0s 615us/step - loss: 0.1471 - accuracy: 0.8468\nEpoch 30/30\n47/47 [==============================] - 0s 637us/step - loss: 0.1413 - accuracy: 0.8553\n"
    },
    {
     "output_type": "execute_result",
     "data": {
      "text/plain": "<tensorflow.python.keras.callbacks.History at 0x262318ebc88>"
     },
     "metadata": {},
     "execution_count": 31
    }
   ],
   "source": [
    "model.compile(loss=\"mean_squared_error\", optimizer=\"adam\", metrics=['accuracy'])\n",
    "model.fit(x,y, epochs=30, batch_size=10)"
   ]
  },
  {
   "cell_type": "code",
   "execution_count": 33,
   "metadata": {
    "tags": []
   },
   "outputs": [
    {
     "output_type": "stream",
     "name": "stdout",
     "text": "Model: \"sequential\"\n_________________________________________________________________\nLayer (type)                 Output Shape              Param #   \n=================================================================\ndense (Dense)                (None, 30)                540       \n_________________________________________________________________\ndense_1 (Dense)              (None, 1)                 31        \n=================================================================\nTotal params: 571\nTrainable params: 571\nNon-trainable params: 0\n_________________________________________________________________\n"
    }
   ],
   "source": [
    "model.summary()"
   ]
  }
 ],
 "metadata": {
  "language_info": {
   "codemirror_mode": {
    "name": "ipython",
    "version": 3
   },
   "file_extension": ".py",
   "mimetype": "text/x-python",
   "name": "python",
   "nbconvert_exporter": "python",
   "pygments_lexer": "ipython3",
   "version": "3.7.6-final"
  },
  "orig_nbformat": 2,
  "kernelspec": {
   "name": "python3",
   "display_name": "Python 3"
  }
 },
 "nbformat": 4,
 "nbformat_minor": 2
}