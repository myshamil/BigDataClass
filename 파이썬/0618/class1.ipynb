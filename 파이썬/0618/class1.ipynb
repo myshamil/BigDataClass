{
 "cells": [
  {
   "cell_type": "code",
   "execution_count": 11,
   "metadata": {},
   "outputs": [],
   "source": [
    "def mySq(x):\n",
    "    print(x)\n",
    "    print(\"--\"*50)\n",
    "    return x**2\n",
    "\n",
    "def myEXP(x,n):\n",
    "    return x**n"
   ]
  },
  {
   "cell_type": "code",
   "execution_count": 2,
   "metadata": {},
   "outputs": [
    {
     "output_type": "execute_result",
     "data": {
      "text/plain": "27"
     },
     "metadata": {},
     "execution_count": 2
    }
   ],
   "source": [
    "mySq(3)\n",
    "myEXP(3,3)"
   ]
  },
  {
   "cell_type": "code",
   "execution_count": 5,
   "metadata": {},
   "outputs": [
    {
     "output_type": "execute_result",
     "data": {
      "text/plain": "0    100\n1    400\n2    900\nName: a, dtype: int64"
     },
     "metadata": {},
     "execution_count": 5
    }
   ],
   "source": [
    "import pandas as pd \n",
    "\n",
    "df=pd.DataFrame({\n",
    "    'a':[10,20,30],\n",
    "    'b':[20,30,40]\n",
    "})\n",
    "df['a']**2 "
   ]
  },
  {
   "cell_type": "code",
   "execution_count": 9,
   "metadata": {
    "tags": []
   },
   "outputs": [
    {
     "output_type": "stream",
     "name": "stdout",
     "text": "10\n----------------------------------------------------------------------------------------------------\n20\n----------------------------------------------------------------------------------------------------\n30\n----------------------------------------------------------------------------------------------------\n"
    },
    {
     "output_type": "execute_result",
     "data": {
      "text/plain": "0    100\n1    400\n2    900\nName: a, dtype: int64"
     },
     "metadata": {},
     "execution_count": 9
    }
   ],
   "source": [
    "df['a'].apply(mySq)\n",
    "\n",
    "#열벡터 단위의 연산에 apply 사용"
   ]
  },
  {
   "cell_type": "code",
   "execution_count": 15,
   "metadata": {},
   "outputs": [
    {
     "output_type": "execute_result",
     "data": {
      "text/plain": "0     1000\n1     8000\n2    27000\nName: a, dtype: int64"
     },
     "metadata": {},
     "execution_count": 15
    }
   ],
   "source": [
    "df['a'].apply(myEXP,n=3)"
   ]
  },
  {
   "cell_type": "code",
   "execution_count": 21,
   "metadata": {
    "tags": []
   },
   "outputs": [
    {
     "output_type": "stream",
     "name": "stdout",
     "text": "0    10\n1    20\n2    30\nName: a, dtype: int64\n0    20\n1    30\n2    40\nName: b, dtype: int64\na    10\nb    20\nName: 0, dtype: int64\na    20\nb    30\nName: 1, dtype: int64\na    30\nb    40\nName: 2, dtype: int64\n"
    },
    {
     "output_type": "execute_result",
     "data": {
      "text/plain": "0    None\n1    None\n2    None\ndtype: object"
     },
     "metadata": {},
     "execution_count": 21
    }
   ],
   "source": [
    "\n",
    "def printMe(x):\n",
    "    print(x)\n",
    "\n",
    "df.apply(printMe, axis=0)#디폴트로 axis=0이 설정되어있음 행\n",
    "df.apply(printMe, axis=1)\n"
   ]
  },
  {
   "cell_type": "code",
   "execution_count": 26,
   "metadata": {},
   "outputs": [
    {
     "output_type": "execute_result",
     "data": {
      "text/plain": "a    20.0\nb    30.0\ndtype: float64"
     },
     "metadata": {},
     "execution_count": 26
    }
   ],
   "source": [
    "def myAvg(x,y,z):\n",
    "    return (x+y+z)/3\n",
    "\n",
    "def myAvg2(data):\n",
    "    return (data[0]+data[1]+data[2])/3\n",
    "\n",
    "df.apply(myAvg2)"
   ]
  },
  {
   "cell_type": "code",
   "execution_count": 30,
   "metadata": {
    "tags": []
   },
   "outputs": [
    {
     "output_type": "stream",
     "name": "stdout",
     "text": "<class 'pandas.core.frame.DataFrame'>\nRangeIndex: 891 entries, 0 to 890\nData columns (total 15 columns):\n #   Column       Non-Null Count  Dtype   \n---  ------       --------------  -----   \n 0   survived     891 non-null    int64   \n 1   pclass       891 non-null    int64   \n 2   sex          891 non-null    object  \n 3   age          714 non-null    float64 \n 4   sibsp        891 non-null    int64   \n 5   parch        891 non-null    int64   \n 6   fare         891 non-null    float64 \n 7   embarked     889 non-null    object  \n 8   class        891 non-null    category\n 9   who          891 non-null    object  \n 10  adult_male   891 non-null    bool    \n 11  deck         203 non-null    category\n 12  embark_town  889 non-null    object  \n 13  alive        891 non-null    object  \n 14  alone        891 non-null    bool    \ndtypes: bool(2), category(2), float64(2), int64(4), object(5)\nmemory usage: 80.6+ KB\n"
    }
   ],
   "source": [
    "import seaborn as sns\n",
    "\n",
    "titanic = sns.load_dataset(\"titanic\")\n",
    "titanic.info()"
   ]
  },
  {
   "cell_type": "markdown",
   "metadata": {},
   "source": [
    "아래의 함수는 결측값의 개수를 세는 함수"
   ]
  },
  {
   "cell_type": "markdown",
   "metadata": {},
   "source": []
  },
  {
   "cell_type": "code",
   "execution_count": 37,
   "metadata": {
    "tags": []
   },
   "outputs": [
    {
     "output_type": "execute_result",
     "data": {
      "text/plain": "survived         0\npclass           0\nsex              0\nage            177\nsibsp            0\nparch            0\nfare             0\nembarked         2\nclass            0\nwho              0\nadult_male       0\ndeck           688\nembark_town      2\nalive            0\nalone            0\ndtype: int64"
     },
     "metadata": {},
     "execution_count": 37
    }
   ],
   "source": [
    "import numpy as np \n",
    "\n",
    "def countMissing(v):\n",
    "    nullCount = np.sum(pd.isnull(v))\n",
    "    return nullCount\n",
    "\n",
    "titanic.apply(countMissing)"
   ]
  },
  {
   "cell_type": "markdown",
   "metadata": {},
   "source": [
    "널값의 비율"
   ]
  },
  {
   "cell_type": "code",
   "execution_count": 39,
   "metadata": {},
   "outputs": [],
   "source": [
    "def propMissing(v):\n",
    "    n= countMissing(v)\n",
    "    return n/v.size"
   ]
  },
  {
   "cell_type": "code",
   "execution_count": 40,
   "metadata": {},
   "outputs": [
    {
     "output_type": "execute_result",
     "data": {
      "text/plain": "survived       0.000000\npclass         0.000000\nsex            0.000000\nage            0.198653\nsibsp          0.000000\nparch          0.000000\nfare           0.000000\nembarked       0.002245\nclass          0.000000\nwho            0.000000\nadult_male     0.000000\ndeck           0.772166\nembark_town    0.002245\nalive          0.000000\nalone          0.000000\ndtype: float64"
     },
     "metadata": {},
     "execution_count": 40
    }
   ],
   "source": [
    "titanic.apply(propMissing)"
   ]
  },
  {
   "cell_type": "code",
   "execution_count": 41,
   "metadata": {},
   "outputs": [
    {
     "output_type": "execute_result",
     "data": {
      "text/plain": "0      0.066667\n1      0.000000\n2      0.066667\n3      0.000000\n4      0.066667\n         ...   \n886    0.066667\n887    0.000000\n888    0.133333\n889    0.000000\n890    0.066667\nLength: 891, dtype: float64"
     },
     "metadata": {},
     "execution_count": 41
    }
   ],
   "source": [
    "titanic.apply(propMissing,axis=1)"
   ]
  },
  {
   "cell_type": "code",
   "execution_count": 46,
   "metadata": {},
   "outputs": [
    {
     "output_type": "execute_result",
     "data": {
      "text/plain": "     survived  pclass     sex   age  sibsp  parch     fare embarked   class  \\\n0           0       3    male  22.0      1      0   7.2500        S   Third   \n1           1       1  female  38.0      1      0  71.2833        C   First   \n2           1       3  female  26.0      0      0   7.9250        S   Third   \n3           1       1  female  35.0      1      0  53.1000        S   First   \n4           0       3    male  35.0      0      0   8.0500        S   Third   \n..        ...     ...     ...   ...    ...    ...      ...      ...     ...   \n886         0       2    male  27.0      0      0  13.0000        S  Second   \n887         1       1  female  19.0      0      0  30.0000        S   First   \n888         0       3  female   NaN      1      2  23.4500        S   Third   \n889         1       1    male  26.0      0      0  30.0000        C   First   \n890         0       3    male  32.0      0      0   7.7500        Q   Third   \n\n       who  adult_male deck  embark_town alive  alone  numMissing  \n0      man        True  NaN  Southampton    no  False           2  \n1    woman       False    C    Cherbourg   yes  False           1  \n2    woman       False  NaN  Southampton   yes   True           2  \n3    woman       False    C  Southampton   yes  False           1  \n4      man        True  NaN  Southampton    no   True           2  \n..     ...         ...  ...          ...   ...    ...         ...  \n886    man        True  NaN  Southampton    no   True           2  \n887  woman       False    B  Southampton   yes   True           1  \n888  woman       False  NaN  Southampton    no  False           3  \n889    man        True    C    Cherbourg   yes   True           1  \n890    man        True  NaN   Queenstown    no   True           2  \n\n[891 rows x 16 columns]",
      "text/html": "<div>\n<style scoped>\n    .dataframe tbody tr th:only-of-type {\n        vertical-align: middle;\n    }\n\n    .dataframe tbody tr th {\n        vertical-align: top;\n    }\n\n    .dataframe thead th {\n        text-align: right;\n    }\n</style>\n<table border=\"1\" class=\"dataframe\">\n  <thead>\n    <tr style=\"text-align: right;\">\n      <th></th>\n      <th>survived</th>\n      <th>pclass</th>\n      <th>sex</th>\n      <th>age</th>\n      <th>sibsp</th>\n      <th>parch</th>\n      <th>fare</th>\n      <th>embarked</th>\n      <th>class</th>\n      <th>who</th>\n      <th>adult_male</th>\n      <th>deck</th>\n      <th>embark_town</th>\n      <th>alive</th>\n      <th>alone</th>\n      <th>numMissing</th>\n    </tr>\n  </thead>\n  <tbody>\n    <tr>\n      <th>0</th>\n      <td>0</td>\n      <td>3</td>\n      <td>male</td>\n      <td>22.0</td>\n      <td>1</td>\n      <td>0</td>\n      <td>7.2500</td>\n      <td>S</td>\n      <td>Third</td>\n      <td>man</td>\n      <td>True</td>\n      <td>NaN</td>\n      <td>Southampton</td>\n      <td>no</td>\n      <td>False</td>\n      <td>2</td>\n    </tr>\n    <tr>\n      <th>1</th>\n      <td>1</td>\n      <td>1</td>\n      <td>female</td>\n      <td>38.0</td>\n      <td>1</td>\n      <td>0</td>\n      <td>71.2833</td>\n      <td>C</td>\n      <td>First</td>\n      <td>woman</td>\n      <td>False</td>\n      <td>C</td>\n      <td>Cherbourg</td>\n      <td>yes</td>\n      <td>False</td>\n      <td>1</td>\n    </tr>\n    <tr>\n      <th>2</th>\n      <td>1</td>\n      <td>3</td>\n      <td>female</td>\n      <td>26.0</td>\n      <td>0</td>\n      <td>0</td>\n      <td>7.9250</td>\n      <td>S</td>\n      <td>Third</td>\n      <td>woman</td>\n      <td>False</td>\n      <td>NaN</td>\n      <td>Southampton</td>\n      <td>yes</td>\n      <td>True</td>\n      <td>2</td>\n    </tr>\n    <tr>\n      <th>3</th>\n      <td>1</td>\n      <td>1</td>\n      <td>female</td>\n      <td>35.0</td>\n      <td>1</td>\n      <td>0</td>\n      <td>53.1000</td>\n      <td>S</td>\n      <td>First</td>\n      <td>woman</td>\n      <td>False</td>\n      <td>C</td>\n      <td>Southampton</td>\n      <td>yes</td>\n      <td>False</td>\n      <td>1</td>\n    </tr>\n    <tr>\n      <th>4</th>\n      <td>0</td>\n      <td>3</td>\n      <td>male</td>\n      <td>35.0</td>\n      <td>0</td>\n      <td>0</td>\n      <td>8.0500</td>\n      <td>S</td>\n      <td>Third</td>\n      <td>man</td>\n      <td>True</td>\n      <td>NaN</td>\n      <td>Southampton</td>\n      <td>no</td>\n      <td>True</td>\n      <td>2</td>\n    </tr>\n    <tr>\n      <th>...</th>\n      <td>...</td>\n      <td>...</td>\n      <td>...</td>\n      <td>...</td>\n      <td>...</td>\n      <td>...</td>\n      <td>...</td>\n      <td>...</td>\n      <td>...</td>\n      <td>...</td>\n      <td>...</td>\n      <td>...</td>\n      <td>...</td>\n      <td>...</td>\n      <td>...</td>\n      <td>...</td>\n    </tr>\n    <tr>\n      <th>886</th>\n      <td>0</td>\n      <td>2</td>\n      <td>male</td>\n      <td>27.0</td>\n      <td>0</td>\n      <td>0</td>\n      <td>13.0000</td>\n      <td>S</td>\n      <td>Second</td>\n      <td>man</td>\n      <td>True</td>\n      <td>NaN</td>\n      <td>Southampton</td>\n      <td>no</td>\n      <td>True</td>\n      <td>2</td>\n    </tr>\n    <tr>\n      <th>887</th>\n      <td>1</td>\n      <td>1</td>\n      <td>female</td>\n      <td>19.0</td>\n      <td>0</td>\n      <td>0</td>\n      <td>30.0000</td>\n      <td>S</td>\n      <td>First</td>\n      <td>woman</td>\n      <td>False</td>\n      <td>B</td>\n      <td>Southampton</td>\n      <td>yes</td>\n      <td>True</td>\n      <td>1</td>\n    </tr>\n    <tr>\n      <th>888</th>\n      <td>0</td>\n      <td>3</td>\n      <td>female</td>\n      <td>NaN</td>\n      <td>1</td>\n      <td>2</td>\n      <td>23.4500</td>\n      <td>S</td>\n      <td>Third</td>\n      <td>woman</td>\n      <td>False</td>\n      <td>NaN</td>\n      <td>Southampton</td>\n      <td>no</td>\n      <td>False</td>\n      <td>3</td>\n    </tr>\n    <tr>\n      <th>889</th>\n      <td>1</td>\n      <td>1</td>\n      <td>male</td>\n      <td>26.0</td>\n      <td>0</td>\n      <td>0</td>\n      <td>30.0000</td>\n      <td>C</td>\n      <td>First</td>\n      <td>man</td>\n      <td>True</td>\n      <td>C</td>\n      <td>Cherbourg</td>\n      <td>yes</td>\n      <td>True</td>\n      <td>1</td>\n    </tr>\n    <tr>\n      <th>890</th>\n      <td>0</td>\n      <td>3</td>\n      <td>male</td>\n      <td>32.0</td>\n      <td>0</td>\n      <td>0</td>\n      <td>7.7500</td>\n      <td>Q</td>\n      <td>Third</td>\n      <td>man</td>\n      <td>True</td>\n      <td>NaN</td>\n      <td>Queenstown</td>\n      <td>no</td>\n      <td>True</td>\n      <td>2</td>\n    </tr>\n  </tbody>\n</table>\n<p>891 rows × 16 columns</p>\n</div>"
     },
     "metadata": {},
     "execution_count": 46
    }
   ],
   "source": [
    "#타이타닉 데이터 프레임에 'numMissing' 컬롬 추가\n",
    "#numMissing에는 행단위로 결측값의 개수가 저장\n",
    "\n",
    "titanic['numMissing'] = titanic.apply(countMissing,axis=1)\n",
    "\n",
    "titanic"
   ]
  },
  {
   "cell_type": "code",
   "execution_count": 53,
   "metadata": {},
   "outputs": [
    {
     "output_type": "execute_result",
     "data": {
      "text/plain": "     survived  pclass     sex   age  sibsp  parch     fare embarked   class  \\\n342         0       2    male  28.0      0      0  13.0000        S  Second   \n138         0       3    male  16.0      0      0   9.2167        S   Third   \n801         1       2  female  31.0      1      1  26.2500        S  Second   \n578         0       3  female   NaN      1      0  14.4583        C   Third   \n72          0       2    male  21.0      0      0  73.5000        S  Second   \n524         0       3    male   NaN      0      0   7.2292        C   Third   \n36          1       3    male   NaN      0      0   7.2292        C   Third   \n346         1       2  female  40.0      0      0  13.0000        S  Second   \n219         0       2    male  30.0      0      0  10.5000        S  Second   \n764         0       3    male  16.0      0      0   7.7750        S   Third   \n\n       who  adult_male deck  embark_town alive  alone  numMissing  \n342    man        True  NaN  Southampton    no   True           2  \n138    man        True  NaN  Southampton    no   True           2  \n801  woman       False  NaN  Southampton   yes  False           2  \n578  woman       False  NaN    Cherbourg    no  False           3  \n72     man        True  NaN  Southampton    no   True           2  \n524    man        True  NaN    Cherbourg    no   True           3  \n36     man        True  NaN    Cherbourg   yes   True           3  \n346  woman       False  NaN  Southampton   yes   True           2  \n219    man        True  NaN  Southampton    no   True           2  \n764    man        True  NaN  Southampton    no   True           2  ",
      "text/html": "<div>\n<style scoped>\n    .dataframe tbody tr th:only-of-type {\n        vertical-align: middle;\n    }\n\n    .dataframe tbody tr th {\n        vertical-align: top;\n    }\n\n    .dataframe thead th {\n        text-align: right;\n    }\n</style>\n<table border=\"1\" class=\"dataframe\">\n  <thead>\n    <tr style=\"text-align: right;\">\n      <th></th>\n      <th>survived</th>\n      <th>pclass</th>\n      <th>sex</th>\n      <th>age</th>\n      <th>sibsp</th>\n      <th>parch</th>\n      <th>fare</th>\n      <th>embarked</th>\n      <th>class</th>\n      <th>who</th>\n      <th>adult_male</th>\n      <th>deck</th>\n      <th>embark_town</th>\n      <th>alive</th>\n      <th>alone</th>\n      <th>numMissing</th>\n    </tr>\n  </thead>\n  <tbody>\n    <tr>\n      <th>342</th>\n      <td>0</td>\n      <td>2</td>\n      <td>male</td>\n      <td>28.0</td>\n      <td>0</td>\n      <td>0</td>\n      <td>13.0000</td>\n      <td>S</td>\n      <td>Second</td>\n      <td>man</td>\n      <td>True</td>\n      <td>NaN</td>\n      <td>Southampton</td>\n      <td>no</td>\n      <td>True</td>\n      <td>2</td>\n    </tr>\n    <tr>\n      <th>138</th>\n      <td>0</td>\n      <td>3</td>\n      <td>male</td>\n      <td>16.0</td>\n      <td>0</td>\n      <td>0</td>\n      <td>9.2167</td>\n      <td>S</td>\n      <td>Third</td>\n      <td>man</td>\n      <td>True</td>\n      <td>NaN</td>\n      <td>Southampton</td>\n      <td>no</td>\n      <td>True</td>\n      <td>2</td>\n    </tr>\n    <tr>\n      <th>801</th>\n      <td>1</td>\n      <td>2</td>\n      <td>female</td>\n      <td>31.0</td>\n      <td>1</td>\n      <td>1</td>\n      <td>26.2500</td>\n      <td>S</td>\n      <td>Second</td>\n      <td>woman</td>\n      <td>False</td>\n      <td>NaN</td>\n      <td>Southampton</td>\n      <td>yes</td>\n      <td>False</td>\n      <td>2</td>\n    </tr>\n    <tr>\n      <th>578</th>\n      <td>0</td>\n      <td>3</td>\n      <td>female</td>\n      <td>NaN</td>\n      <td>1</td>\n      <td>0</td>\n      <td>14.4583</td>\n      <td>C</td>\n      <td>Third</td>\n      <td>woman</td>\n      <td>False</td>\n      <td>NaN</td>\n      <td>Cherbourg</td>\n      <td>no</td>\n      <td>False</td>\n      <td>3</td>\n    </tr>\n    <tr>\n      <th>72</th>\n      <td>0</td>\n      <td>2</td>\n      <td>male</td>\n      <td>21.0</td>\n      <td>0</td>\n      <td>0</td>\n      <td>73.5000</td>\n      <td>S</td>\n      <td>Second</td>\n      <td>man</td>\n      <td>True</td>\n      <td>NaN</td>\n      <td>Southampton</td>\n      <td>no</td>\n      <td>True</td>\n      <td>2</td>\n    </tr>\n    <tr>\n      <th>524</th>\n      <td>0</td>\n      <td>3</td>\n      <td>male</td>\n      <td>NaN</td>\n      <td>0</td>\n      <td>0</td>\n      <td>7.2292</td>\n      <td>C</td>\n      <td>Third</td>\n      <td>man</td>\n      <td>True</td>\n      <td>NaN</td>\n      <td>Cherbourg</td>\n      <td>no</td>\n      <td>True</td>\n      <td>3</td>\n    </tr>\n    <tr>\n      <th>36</th>\n      <td>1</td>\n      <td>3</td>\n      <td>male</td>\n      <td>NaN</td>\n      <td>0</td>\n      <td>0</td>\n      <td>7.2292</td>\n      <td>C</td>\n      <td>Third</td>\n      <td>man</td>\n      <td>True</td>\n      <td>NaN</td>\n      <td>Cherbourg</td>\n      <td>yes</td>\n      <td>True</td>\n      <td>3</td>\n    </tr>\n    <tr>\n      <th>346</th>\n      <td>1</td>\n      <td>2</td>\n      <td>female</td>\n      <td>40.0</td>\n      <td>0</td>\n      <td>0</td>\n      <td>13.0000</td>\n      <td>S</td>\n      <td>Second</td>\n      <td>woman</td>\n      <td>False</td>\n      <td>NaN</td>\n      <td>Southampton</td>\n      <td>yes</td>\n      <td>True</td>\n      <td>2</td>\n    </tr>\n    <tr>\n      <th>219</th>\n      <td>0</td>\n      <td>2</td>\n      <td>male</td>\n      <td>30.0</td>\n      <td>0</td>\n      <td>0</td>\n      <td>10.5000</td>\n      <td>S</td>\n      <td>Second</td>\n      <td>man</td>\n      <td>True</td>\n      <td>NaN</td>\n      <td>Southampton</td>\n      <td>no</td>\n      <td>True</td>\n      <td>2</td>\n    </tr>\n    <tr>\n      <th>764</th>\n      <td>0</td>\n      <td>3</td>\n      <td>male</td>\n      <td>16.0</td>\n      <td>0</td>\n      <td>0</td>\n      <td>7.7750</td>\n      <td>S</td>\n      <td>Third</td>\n      <td>man</td>\n      <td>True</td>\n      <td>NaN</td>\n      <td>Southampton</td>\n      <td>no</td>\n      <td>True</td>\n      <td>2</td>\n    </tr>\n  </tbody>\n</table>\n</div>"
     },
     "metadata": {},
     "execution_count": 53
    }
   ],
   "source": [
    "#타이타닉 데이터에서 numMissing 컬럼값이 1보다 큰 모든행 추출\n",
    "titanic[titanic['numMissing']>1]\n",
    "#부울린 참조!\n",
    "#샘플링 가능\n",
    "titanic[titanic.numMissing>1].sample(10)\n",
    "\n"
   ]
  },
  {
   "cell_type": "code",
   "execution_count": 56,
   "metadata": {
    "tags": []
   },
   "outputs": [
    {
     "output_type": "stream",
     "name": "stdout",
     "text": "<class 'pandas.core.frame.DataFrame'>\nRangeIndex: 244 entries, 0 to 243\nData columns (total 7 columns):\n #   Column      Non-Null Count  Dtype   \n---  ------      --------------  -----   \n 0   total_bill  244 non-null    float64 \n 1   tip         244 non-null    float64 \n 2   sex         244 non-null    category\n 3   smoker      244 non-null    category\n 4   day         244 non-null    category\n 5   time        244 non-null    category\n 6   size        244 non-null    int64   \ndtypes: category(4), float64(2), int64(1)\nmemory usage: 7.3 KB\n"
    },
    {
     "output_type": "execute_result",
     "data": {
      "text/plain": "total_bill     float64\ntip            float64\nsex           category\nsmoker        category\nday           category\ntime          category\nsize             int64\nsex_str         object\ndtype: object"
     },
     "metadata": {},
     "execution_count": 56
    }
   ],
   "source": [
    "tips = sns.load_dataset('tips')\n",
    "tips.info()\n",
    "\n",
    "tips['sex_str'] = tips['sex'].astype(str)\n",
    "tips.dtypes"
   ]
  },
  {
   "cell_type": "code",
   "execution_count": 61,
   "metadata": {},
   "outputs": [
    {
     "output_type": "execute_result",
     "data": {
      "text/plain": "total_bill     float64\ntip            float64\nsex           category\nsmoker        category\nday           category\ntime          category\nsize             int64\nsex_str         object\ndtype: object"
     },
     "metadata": {},
     "execution_count": 61
    }
   ],
   "source": [
    "tips['total_bill'] = tips['total_bill'].astype(str)\n",
    "tips.dtypes\n",
    "tips['total_bill'] = tips['total_bill'].astype(float)\n",
    "tips.dtypes"
   ]
  },
  {
   "cell_type": "code",
   "execution_count": 79,
   "metadata": {
    "tags": []
   },
   "outputs": [
    {
     "output_type": "stream",
     "name": "stdout",
     "text": "<class 'pandas.core.frame.DataFrame'>\nRangeIndex: 10 entries, 0 to 9\nData columns (total 8 columns):\n #   Column      Non-Null Count  Dtype   \n---  ------      --------------  -----   \n 0   total_bill  10 non-null     object  \n 1   tip         10 non-null     float64 \n 2   sex         10 non-null     category\n 3   smoker      10 non-null     category\n 4   day         10 non-null     category\n 5   time        10 non-null     category\n 6   size        10 non-null     int64   \n 7   sex_str     10 non-null     object  \ndtypes: category(4), float64(1), int64(1), object(2)\nmemory usage: 968.0+ bytes\n"
    }
   ],
   "source": [
    "tipsEx = tips.head(10)\n",
    "# tipsEx의 1,3,5,7번의  행의 'total_bill' 컬럼 값을'missing'으로 변경하기\n",
    "tipsEx.loc[[1,3,5,7],'total_bill'] = 'missing'\n",
    "tipsEx.info()\n",
    "#objext로 바뀜\n"
   ]
  },
  {
   "cell_type": "code",
   "execution_count": null,
   "metadata": {},
   "outputs": [],
   "source": [
    "\n",
    "# tipsEx['total_bill'].astype(float)  <- 불가"
   ]
  },
  {
   "cell_type": "code",
   "execution_count": 85,
   "metadata": {
    "tags": []
   },
   "outputs": [
    {
     "output_type": "stream",
     "name": "stdout",
     "text": "<class 'pandas.core.frame.DataFrame'>\nRangeIndex: 10 entries, 0 to 9\nData columns (total 8 columns):\n #   Column      Non-Null Count  Dtype   \n---  ------      --------------  -----   \n 0   total_bill  6 non-null      float64 \n 1   tip         10 non-null     float64 \n 2   sex         10 non-null     category\n 3   smoker      10 non-null     category\n 4   day         10 non-null     category\n 5   time        10 non-null     category\n 6   size        10 non-null     int64   \n 7   sex_str     10 non-null     object  \ndtypes: category(4), float64(2), int64(1), object(1)\nmemory usage: 968.0+ bytes\n"
    }
   ],
   "source": [
    "tipsEx['total_bill'] = pd.to_numeric(tipsEx['total_bill'], errors ='ignore')\n",
    "tipsEx.info()"
   ]
  },
  {
   "cell_type": "code",
   "execution_count": 86,
   "metadata": {
    "tags": []
   },
   "outputs": [
    {
     "output_type": "stream",
     "name": "stdout",
     "text": "<class 'pandas.core.frame.DataFrame'>\nRangeIndex: 10 entries, 0 to 9\nData columns (total 8 columns):\n #   Column      Non-Null Count  Dtype   \n---  ------      --------------  -----   \n 0   total_bill  6 non-null      float64 \n 1   tip         10 non-null     float64 \n 2   sex         10 non-null     category\n 3   smoker      10 non-null     category\n 4   day         10 non-null     category\n 5   time        10 non-null     category\n 6   size        10 non-null     int64   \n 7   sex_str     10 non-null     object  \ndtypes: category(4), float64(2), int64(1), object(1)\nmemory usage: 968.0+ bytes\n"
    }
   ],
   "source": [
    "tipsEx['total_bill'] = pd.to_numeric(tipsEx['total_bill'], errors ='coerce')\n",
    "tipsEx.info()"
   ]
  },
  {
   "cell_type": "code",
   "execution_count": 89,
   "metadata": {
    "tags": []
   },
   "outputs": [
    {
     "output_type": "stream",
     "name": "stdout",
     "text": "<class 'pandas.core.frame.DataFrame'>\nRangeIndex: 244 entries, 0 to 243\nData columns (total 8 columns):\n #   Column      Non-Null Count  Dtype   \n---  ------      --------------  -----   \n 0   total_bill  244 non-null    float64 \n 1   tip         244 non-null    float64 \n 2   sex         244 non-null    category\n 3   smoker      244 non-null    object  \n 4   day         244 non-null    category\n 5   time        244 non-null    category\n 6   size        244 non-null    int64   \n 7   sex_str     244 non-null    object  \ndtypes: category(3), float64(2), int64(1), object(2)\nmemory usage: 10.7+ KB\n"
    }
   ],
   "source": [
    "tips['smoker']=tips['smoker'].astype('str')\n",
    "tips.info()"
   ]
  },
  {
   "cell_type": "code",
   "execution_count": 90,
   "metadata": {
    "tags": []
   },
   "outputs": [
    {
     "output_type": "stream",
     "name": "stdout",
     "text": "<class 'pandas.core.frame.DataFrame'>\nRangeIndex: 244 entries, 0 to 243\nData columns (total 8 columns):\n #   Column      Non-Null Count  Dtype   \n---  ------      --------------  -----   \n 0   total_bill  244 non-null    float64 \n 1   tip         244 non-null    float64 \n 2   sex         244 non-null    category\n 3   smoker      244 non-null    category\n 4   day         244 non-null    category\n 5   time        244 non-null    category\n 6   size        244 non-null    int64   \n 7   sex_str     244 non-null    object  \ndtypes: category(4), float64(2), int64(1), object(1)\nmemory usage: 9.2+ KB\n"
    }
   ],
   "source": [
    "tips['smoker']=tips['smoker'].astype('category')\n",
    "tips.info()"
   ]
  },
  {
   "cell_type": "code",
   "execution_count": 92,
   "metadata": {},
   "outputs": [
    {
     "output_type": "execute_result",
     "data": {
      "text/plain": "          country continent  year  lifeExp       pop   gdpPercap\n0     Afghanistan      Asia  1952   28.801   8425333  779.445314\n1     Afghanistan      Asia  1957   30.332   9240934  820.853030\n2     Afghanistan      Asia  1962   31.997  10267083  853.100710\n3     Afghanistan      Asia  1967   34.020  11537966  836.197138\n4     Afghanistan      Asia  1972   36.088  13079460  739.981106\n...           ...       ...   ...      ...       ...         ...\n1699     Zimbabwe    Africa  1987   62.351   9216418  706.157306\n1700     Zimbabwe    Africa  1992   60.377  10704340  693.420786\n1701     Zimbabwe    Africa  1997   46.809  11404948  792.449960\n1702     Zimbabwe    Africa  2002   39.989  11926563  672.038623\n1703     Zimbabwe    Africa  2007   43.487  12311143  469.709298\n\n[1704 rows x 6 columns]",
      "text/html": "<div>\n<style scoped>\n    .dataframe tbody tr th:only-of-type {\n        vertical-align: middle;\n    }\n\n    .dataframe tbody tr th {\n        vertical-align: top;\n    }\n\n    .dataframe thead th {\n        text-align: right;\n    }\n</style>\n<table border=\"1\" class=\"dataframe\">\n  <thead>\n    <tr style=\"text-align: right;\">\n      <th></th>\n      <th>country</th>\n      <th>continent</th>\n      <th>year</th>\n      <th>lifeExp</th>\n      <th>pop</th>\n      <th>gdpPercap</th>\n    </tr>\n  </thead>\n  <tbody>\n    <tr>\n      <th>0</th>\n      <td>Afghanistan</td>\n      <td>Asia</td>\n      <td>1952</td>\n      <td>28.801</td>\n      <td>8425333</td>\n      <td>779.445314</td>\n    </tr>\n    <tr>\n      <th>1</th>\n      <td>Afghanistan</td>\n      <td>Asia</td>\n      <td>1957</td>\n      <td>30.332</td>\n      <td>9240934</td>\n      <td>820.853030</td>\n    </tr>\n    <tr>\n      <th>2</th>\n      <td>Afghanistan</td>\n      <td>Asia</td>\n      <td>1962</td>\n      <td>31.997</td>\n      <td>10267083</td>\n      <td>853.100710</td>\n    </tr>\n    <tr>\n      <th>3</th>\n      <td>Afghanistan</td>\n      <td>Asia</td>\n      <td>1967</td>\n      <td>34.020</td>\n      <td>11537966</td>\n      <td>836.197138</td>\n    </tr>\n    <tr>\n      <th>4</th>\n      <td>Afghanistan</td>\n      <td>Asia</td>\n      <td>1972</td>\n      <td>36.088</td>\n      <td>13079460</td>\n      <td>739.981106</td>\n    </tr>\n    <tr>\n      <th>...</th>\n      <td>...</td>\n      <td>...</td>\n      <td>...</td>\n      <td>...</td>\n      <td>...</td>\n      <td>...</td>\n    </tr>\n    <tr>\n      <th>1699</th>\n      <td>Zimbabwe</td>\n      <td>Africa</td>\n      <td>1987</td>\n      <td>62.351</td>\n      <td>9216418</td>\n      <td>706.157306</td>\n    </tr>\n    <tr>\n      <th>1700</th>\n      <td>Zimbabwe</td>\n      <td>Africa</td>\n      <td>1992</td>\n      <td>60.377</td>\n      <td>10704340</td>\n      <td>693.420786</td>\n    </tr>\n    <tr>\n      <th>1701</th>\n      <td>Zimbabwe</td>\n      <td>Africa</td>\n      <td>1997</td>\n      <td>46.809</td>\n      <td>11404948</td>\n      <td>792.449960</td>\n    </tr>\n    <tr>\n      <th>1702</th>\n      <td>Zimbabwe</td>\n      <td>Africa</td>\n      <td>2002</td>\n      <td>39.989</td>\n      <td>11926563</td>\n      <td>672.038623</td>\n    </tr>\n    <tr>\n      <th>1703</th>\n      <td>Zimbabwe</td>\n      <td>Africa</td>\n      <td>2007</td>\n      <td>43.487</td>\n      <td>12311143</td>\n      <td>469.709298</td>\n    </tr>\n  </tbody>\n</table>\n<p>1704 rows × 6 columns</p>\n</div>"
     },
     "metadata": {},
     "execution_count": 92
    }
   ],
   "source": [
    "df = pd.read_csv(\"data2/gapminder.tsv\",sep ='\\t')\n",
    "df"
   ]
  },
  {
   "cell_type": "code",
   "execution_count": 97,
   "metadata": {},
   "outputs": [
    {
     "output_type": "execute_result",
     "data": {
      "text/plain": "year\n1952    49.057620\n1957    51.507401\n1962    53.609249\n1967    55.678290\n1972    57.647386\n1977    59.570157\n1982    61.533197\n1987    63.212613\n1992    64.160338\n1997    65.014676\n2002    65.694923\n2007    67.007423\nName: lifeExp, dtype: float64"
     },
     "metadata": {},
     "execution_count": 97
    }
   ],
   "source": [
    "#year 단위로 그룹화해서 기대수명치의 평균\n",
    "aleby =df.groupby('year').lifeExp.mean()\n",
    "aleby"
   ]
  },
  {
   "cell_type": "code",
   "execution_count": 101,
   "metadata": {
    "tags": []
   },
   "outputs": [
    {
     "output_type": "stream",
     "name": "stdout",
     "text": "[1952 1957 1962 1967 1972 1977 1982 1987 1992 1997 2002 2007]\n"
    },
    {
     "output_type": "execute_result",
     "data": {
      "text/plain": "{1952, 1957, 1962, 1967, 1972, 1977, 1982, 1987, 1992, 1997, 2002, 2007}"
     },
     "metadata": {},
     "execution_count": 101
    }
   ],
   "source": [
    "#df에서 year열에 대해 유일한 값만 추출\n",
    "print(df.year.unique())\n",
    "set(df.year)\n"
   ]
  },
  {
   "cell_type": "code",
   "execution_count": 106,
   "metadata": {},
   "outputs": [
    {
     "output_type": "execute_result",
     "data": {
      "text/plain": "                 country continent  year  lifeExp       pop    gdpPercap\n0            Afghanistan      Asia  1952   28.801   8425333   779.445314\n12               Albania    Europe  1952   55.230   1282697  1601.056136\n24               Algeria    Africa  1952   43.077   9279525  2449.008185\n36                Angola    Africa  1952   30.015   4232095  3520.610273\n48             Argentina  Americas  1952   62.485  17876956  5911.315053\n...                  ...       ...   ...      ...       ...          ...\n1644             Vietnam      Asia  1952   40.412  26246839   605.066492\n1656  West Bank and Gaza      Asia  1952   43.160   1030585  1515.592329\n1668         Yemen, Rep.      Asia  1952   32.548   4963829   781.717576\n1680              Zambia    Africa  1952   42.038   2672000  1147.388831\n1692            Zimbabwe    Africa  1952   48.451   3080907   406.884115\n\n[142 rows x 6 columns]",
      "text/html": "<div>\n<style scoped>\n    .dataframe tbody tr th:only-of-type {\n        vertical-align: middle;\n    }\n\n    .dataframe tbody tr th {\n        vertical-align: top;\n    }\n\n    .dataframe thead th {\n        text-align: right;\n    }\n</style>\n<table border=\"1\" class=\"dataframe\">\n  <thead>\n    <tr style=\"text-align: right;\">\n      <th></th>\n      <th>country</th>\n      <th>continent</th>\n      <th>year</th>\n      <th>lifeExp</th>\n      <th>pop</th>\n      <th>gdpPercap</th>\n    </tr>\n  </thead>\n  <tbody>\n    <tr>\n      <th>0</th>\n      <td>Afghanistan</td>\n      <td>Asia</td>\n      <td>1952</td>\n      <td>28.801</td>\n      <td>8425333</td>\n      <td>779.445314</td>\n    </tr>\n    <tr>\n      <th>12</th>\n      <td>Albania</td>\n      <td>Europe</td>\n      <td>1952</td>\n      <td>55.230</td>\n      <td>1282697</td>\n      <td>1601.056136</td>\n    </tr>\n    <tr>\n      <th>24</th>\n      <td>Algeria</td>\n      <td>Africa</td>\n      <td>1952</td>\n      <td>43.077</td>\n      <td>9279525</td>\n      <td>2449.008185</td>\n    </tr>\n    <tr>\n      <th>36</th>\n      <td>Angola</td>\n      <td>Africa</td>\n      <td>1952</td>\n      <td>30.015</td>\n      <td>4232095</td>\n      <td>3520.610273</td>\n    </tr>\n    <tr>\n      <th>48</th>\n      <td>Argentina</td>\n      <td>Americas</td>\n      <td>1952</td>\n      <td>62.485</td>\n      <td>17876956</td>\n      <td>5911.315053</td>\n    </tr>\n    <tr>\n      <th>...</th>\n      <td>...</td>\n      <td>...</td>\n      <td>...</td>\n      <td>...</td>\n      <td>...</td>\n      <td>...</td>\n    </tr>\n    <tr>\n      <th>1644</th>\n      <td>Vietnam</td>\n      <td>Asia</td>\n      <td>1952</td>\n      <td>40.412</td>\n      <td>26246839</td>\n      <td>605.066492</td>\n    </tr>\n    <tr>\n      <th>1656</th>\n      <td>West Bank and Gaza</td>\n      <td>Asia</td>\n      <td>1952</td>\n      <td>43.160</td>\n      <td>1030585</td>\n      <td>1515.592329</td>\n    </tr>\n    <tr>\n      <th>1668</th>\n      <td>Yemen, Rep.</td>\n      <td>Asia</td>\n      <td>1952</td>\n      <td>32.548</td>\n      <td>4963829</td>\n      <td>781.717576</td>\n    </tr>\n    <tr>\n      <th>1680</th>\n      <td>Zambia</td>\n      <td>Africa</td>\n      <td>1952</td>\n      <td>42.038</td>\n      <td>2672000</td>\n      <td>1147.388831</td>\n    </tr>\n    <tr>\n      <th>1692</th>\n      <td>Zimbabwe</td>\n      <td>Africa</td>\n      <td>1952</td>\n      <td>48.451</td>\n      <td>3080907</td>\n      <td>406.884115</td>\n    </tr>\n  </tbody>\n</table>\n<p>142 rows × 6 columns</p>\n</div>"
     },
     "metadata": {},
     "execution_count": 106
    }
   ],
   "source": [
    "#df에서 year가 1952년도인 모든자료 출력\n",
    "y1952=df[df.year==1952]\n",
    "y1952"
   ]
  },
  {
   "cell_type": "code",
   "execution_count": 108,
   "metadata": {},
   "outputs": [],
   "source": [
    "#1952 lifeExp 평균\n",
    "y1952Mean = y1952.lifeExp.mean()"
   ]
  },
  {
   "cell_type": "code",
   "execution_count": 112,
   "metadata": {},
   "outputs": [],
   "source": [
    "y1957=df[df.year==1957]\n",
    "y1957Mean = y1957.lifeExp.mean()\n",
    "y1962=df[df.year==1962]\n",
    "y1962Mean = y1962.lifeExp.mean()\n",
    "y2007=df[df.year==2007]\n",
    "y2007Mean = y2007.lifeExp.mean()"
   ]
  },
  {
   "cell_type": "code",
   "execution_count": 193,
   "metadata": {},
   "outputs": [
    {
     "output_type": "execute_result",
     "data": {
      "text/plain": "   year        avg\n0  1952  49.057620\n1  1957  51.507401\n2  1962  53.609249\n3  2007  67.007423",
      "text/html": "<div>\n<style scoped>\n    .dataframe tbody tr th:only-of-type {\n        vertical-align: middle;\n    }\n\n    .dataframe tbody tr th {\n        vertical-align: top;\n    }\n\n    .dataframe thead th {\n        text-align: right;\n    }\n</style>\n<table border=\"1\" class=\"dataframe\">\n  <thead>\n    <tr style=\"text-align: right;\">\n      <th></th>\n      <th>year</th>\n      <th>avg</th>\n    </tr>\n  </thead>\n  <tbody>\n    <tr>\n      <th>0</th>\n      <td>1952</td>\n      <td>49.057620</td>\n    </tr>\n    <tr>\n      <th>1</th>\n      <td>1957</td>\n      <td>51.507401</td>\n    </tr>\n    <tr>\n      <th>2</th>\n      <td>1962</td>\n      <td>53.609249</td>\n    </tr>\n    <tr>\n      <th>3</th>\n      <td>2007</td>\n      <td>67.007423</td>\n    </tr>\n  </tbody>\n</table>\n</div>"
     },
     "metadata": {},
     "execution_count": 193
    }
   ],
   "source": [
    "pd.DataFrame({\n",
    "    'year' : [1952,1957,1962,2007],\n",
    "    'avg':[y1952Mean,y1957Mean,y1962Mean,y2007Mean]\n",
    "})"
   ]
  },
  {
   "cell_type": "code",
   "execution_count": 204,
   "metadata": {},
   "outputs": [
    {
     "output_type": "execute_result",
     "data": {
      "text/plain": "           mean        std  count_nonzero\nyear                                     \n1952  49.057620  12.225956          142.0\n1957  51.507401  12.231286          142.0\n1962  53.609249  12.097245          142.0\n1967  55.678290  11.718858          142.0\n1972  57.647386  11.381953          142.0\n1977  59.570157  11.227229          142.0\n1982  61.533197  10.770618          142.0\n1987  63.212613  10.556285          142.0\n1992  64.160338  11.227380          142.0\n1997  65.014676  11.559439          142.0\n2002  65.694923  12.279823          142.0\n2007  67.007423  12.073021          142.0",
      "text/html": "<div>\n<style scoped>\n    .dataframe tbody tr th:only-of-type {\n        vertical-align: middle;\n    }\n\n    .dataframe tbody tr th {\n        vertical-align: top;\n    }\n\n    .dataframe thead th {\n        text-align: right;\n    }\n</style>\n<table border=\"1\" class=\"dataframe\">\n  <thead>\n    <tr style=\"text-align: right;\">\n      <th></th>\n      <th>mean</th>\n      <th>std</th>\n      <th>count_nonzero</th>\n    </tr>\n    <tr>\n      <th>year</th>\n      <th></th>\n      <th></th>\n      <th></th>\n    </tr>\n  </thead>\n  <tbody>\n    <tr>\n      <th>1952</th>\n      <td>49.057620</td>\n      <td>12.225956</td>\n      <td>142.0</td>\n    </tr>\n    <tr>\n      <th>1957</th>\n      <td>51.507401</td>\n      <td>12.231286</td>\n      <td>142.0</td>\n    </tr>\n    <tr>\n      <th>1962</th>\n      <td>53.609249</td>\n      <td>12.097245</td>\n      <td>142.0</td>\n    </tr>\n    <tr>\n      <th>1967</th>\n      <td>55.678290</td>\n      <td>11.718858</td>\n      <td>142.0</td>\n    </tr>\n    <tr>\n      <th>1972</th>\n      <td>57.647386</td>\n      <td>11.381953</td>\n      <td>142.0</td>\n    </tr>\n    <tr>\n      <th>1977</th>\n      <td>59.570157</td>\n      <td>11.227229</td>\n      <td>142.0</td>\n    </tr>\n    <tr>\n      <th>1982</th>\n      <td>61.533197</td>\n      <td>10.770618</td>\n      <td>142.0</td>\n    </tr>\n    <tr>\n      <th>1987</th>\n      <td>63.212613</td>\n      <td>10.556285</td>\n      <td>142.0</td>\n    </tr>\n    <tr>\n      <th>1992</th>\n      <td>64.160338</td>\n      <td>11.227380</td>\n      <td>142.0</td>\n    </tr>\n    <tr>\n      <th>1997</th>\n      <td>65.014676</td>\n      <td>11.559439</td>\n      <td>142.0</td>\n    </tr>\n    <tr>\n      <th>2002</th>\n      <td>65.694923</td>\n      <td>12.279823</td>\n      <td>142.0</td>\n    </tr>\n    <tr>\n      <th>2007</th>\n      <td>67.007423</td>\n      <td>12.073021</td>\n      <td>142.0</td>\n    </tr>\n  </tbody>\n</table>\n</div>"
     },
     "metadata": {},
     "execution_count": 204
    }
   ],
   "source": [
    "def myMean(v):\n",
    "    n=len(v)\n",
    "    s=0\n",
    "    for value in v:\n",
    "        s+=value\n",
    "    return s/n\n",
    "\n",
    "#연도단위로 기대 수명치의 평균을 위 함수를 이용해서 출력\n",
    "df.groupby('year').lifeExp.agg(myMean)\n",
    "df.groupby('year').lifeExp.agg([np.mean])\n",
    "df.groupby('year').lifeExp.agg([np.mean, np.std, np.count_nonzero])\n",
    "\n"
   ]
  },
  {
   "cell_type": "code",
   "execution_count": 209,
   "metadata": {},
   "outputs": [
    {
     "output_type": "execute_result",
     "data": {
      "text/plain": "datetime.timedelta(days=18431, seconds=44306, microseconds=275272)"
     },
     "metadata": {},
     "execution_count": 209
    }
   ],
   "source": [
    "from datetime import datetime\n",
    "t1 =datetime.today()\n",
    "t2 =datetime(1970,1,1)\n",
    "t3 =datetime(1970,12,12,13,13,20)\n",
    "t1 -t2"
   ]
  },
  {
   "cell_type": "code",
   "execution_count": 212,
   "metadata": {
    "tags": []
   },
   "outputs": [
    {
     "output_type": "stream",
     "name": "stdout",
     "text": "<class 'pandas.core.frame.DataFrame'>\nRangeIndex: 122 entries, 0 to 121\nData columns (total 18 columns):\n #   Column               Non-Null Count  Dtype  \n---  ------               --------------  -----  \n 0   Date                 122 non-null    object \n 1   Day                  122 non-null    int64  \n 2   Cases_Guinea         93 non-null     float64\n 3   Cases_Liberia        83 non-null     float64\n 4   Cases_SierraLeone    87 non-null     float64\n 5   Cases_Nigeria        38 non-null     float64\n 6   Cases_Senegal        25 non-null     float64\n 7   Cases_UnitedStates   18 non-null     float64\n 8   Cases_Spain          16 non-null     float64\n 9   Cases_Mali           12 non-null     float64\n 10  Deaths_Guinea        92 non-null     float64\n 11  Deaths_Liberia       81 non-null     float64\n 12  Deaths_SierraLeone   87 non-null     float64\n 13  Deaths_Nigeria       38 non-null     float64\n 14  Deaths_Senegal       22 non-null     float64\n 15  Deaths_UnitedStates  18 non-null     float64\n 16  Deaths_Spain         16 non-null     float64\n 17  Deaths_Mali          12 non-null     float64\ndtypes: float64(16), int64(1), object(1)\nmemory usage: 17.3+ KB\n<class 'pandas.core.frame.DataFrame'>\nRangeIndex: 122 entries, 0 to 121\nData columns (total 18 columns):\n #   Column               Non-Null Count  Dtype  \n---  ------               --------------  -----  \n 0   Date                 122 non-null    object \n 1   Day                  122 non-null    int64  \n 2   Cases_Guinea         93 non-null     float64\n 3   Cases_Liberia        83 non-null     float64\n 4   Cases_SierraLeone    87 non-null     float64\n 5   Cases_Nigeria        38 non-null     float64\n 6   Cases_Senegal        25 non-null     float64\n 7   Cases_UnitedStates   18 non-null     float64\n 8   Cases_Spain          16 non-null     float64\n 9   Cases_Mali           12 non-null     float64\n 10  Deaths_Guinea        92 non-null     float64\n 11  Deaths_Liberia       81 non-null     float64\n 12  Deaths_SierraLeone   87 non-null     float64\n 13  Deaths_Nigeria       38 non-null     float64\n 14  Deaths_Senegal       22 non-null     float64\n 15  Deaths_UnitedStates  18 non-null     float64\n 16  Deaths_Spain         16 non-null     float64\n 17  Deaths_Mali          12 non-null     float64\ndtypes: float64(16), int64(1), object(1)\nmemory usage: 17.3+ KB\n"
    }
   ],
   "source": [
    "ebola = pd.read_csv(\"data2/country_timeseries.csv\")\n",
    "ebola.info()\n",
    "pd.to_datetime(ebola['Date'])\n",
    "ebola.info()"
   ]
  },
  {
   "cell_type": "code",
   "execution_count": 216,
   "metadata": {
    "tags": []
   },
   "outputs": [
    {
     "output_type": "stream",
     "name": "stdout",
     "text": "<class 'pandas.core.frame.DataFrame'>\nRangeIndex: 122 entries, 0 to 121\nData columns (total 18 columns):\n #   Column               Non-Null Count  Dtype         \n---  ------               --------------  -----         \n 0   Date                 122 non-null    datetime64[ns]\n 1   Day                  122 non-null    int64         \n 2   Cases_Guinea         93 non-null     float64       \n 3   Cases_Liberia        83 non-null     float64       \n 4   Cases_SierraLeone    87 non-null     float64       \n 5   Cases_Nigeria        38 non-null     float64       \n 6   Cases_Senegal        25 non-null     float64       \n 7   Cases_UnitedStates   18 non-null     float64       \n 8   Cases_Spain          16 non-null     float64       \n 9   Cases_Mali           12 non-null     float64       \n 10  Deaths_Guinea        92 non-null     float64       \n 11  Deaths_Liberia       81 non-null     float64       \n 12  Deaths_SierraLeone   87 non-null     float64       \n 13  Deaths_Nigeria       38 non-null     float64       \n 14  Deaths_Senegal       22 non-null     float64       \n 15  Deaths_UnitedStates  18 non-null     float64       \n 16  Deaths_Spain         16 non-null     float64       \n 17  Deaths_Mali          12 non-null     float64       \ndtypes: datetime64[ns](1), float64(16), int64(1)\nmemory usage: 17.3 KB\n"
    }
   ],
   "source": [
    "ebola = pd.read_csv(\"data2/country_timeseries.csv\", parse_dates= ['Date'])\n",
    "ebola.info()"
   ]
  },
  {
   "cell_type": "code",
   "execution_count": 217,
   "metadata": {},
   "outputs": [
    {
     "output_type": "error",
     "ename": "NameError",
     "evalue": "name 'd1' is not defined",
     "traceback": [
      "\u001b[1;31m---------------------------------------------------------------------------\u001b[0m",
      "\u001b[1;31mNameError\u001b[0m                                 Traceback (most recent call last)",
      "\u001b[1;32m<ipython-input-217-75a2cfb38813>\u001b[0m in \u001b[0;36m<module>\u001b[1;34m\u001b[0m\n\u001b[0;32m      2\u001b[0m \u001b[0mpd\u001b[0m\u001b[1;33m.\u001b[0m\u001b[0mto_datetime\u001b[0m\u001b[1;33m(\u001b[0m\u001b[1;34m'06/18/20'\u001b[0m\u001b[1;33m)\u001b[0m \u001b[1;31m#날짜형식을 가진 문자를 날짜형식으로 바꿔준다\u001b[0m\u001b[1;33m\u001b[0m\u001b[1;33m\u001b[0m\u001b[0m\n\u001b[0;32m      3\u001b[0m \u001b[0mpd\u001b[0m\u001b[1;33m.\u001b[0m\u001b[0mto_datetime\u001b[0m\u001b[1;33m(\u001b[0m\u001b[1;34m'06/18/20'\u001b[0m\u001b[1;33m,\u001b[0m \u001b[0mformat\u001b[0m \u001b[1;33m=\u001b[0m\u001b[1;34m\"%m/%y/%d\"\u001b[0m\u001b[1;33m)\u001b[0m\u001b[1;33m\u001b[0m\u001b[1;33m\u001b[0m\u001b[0m\n\u001b[1;32m----> 4\u001b[1;33m \u001b[0md1\u001b[0m\u001b[1;33m.\u001b[0m\u001b[0myear\u001b[0m\u001b[1;33m\u001b[0m\u001b[1;33m\u001b[0m\u001b[0m\n\u001b[0m\u001b[0;32m      5\u001b[0m \u001b[0md1\u001b[0m\u001b[1;33m.\u001b[0m\u001b[0mmonth\u001b[0m\u001b[1;33m\u001b[0m\u001b[1;33m\u001b[0m\u001b[0m\n\u001b[0;32m      6\u001b[0m \u001b[0md1\u001b[0m\u001b[1;33m.\u001b[0m\u001b[0mday\u001b[0m\u001b[1;33m\u001b[0m\u001b[1;33m\u001b[0m\u001b[0m\n",
      "\u001b[1;31mNameError\u001b[0m: name 'd1' is not defined"
     ]
    }
   ],
   "source": [
    "# '06/18/20'\n",
    "pd.to_datetime('06/18/20') #날짜형식을 가진 문자를 날짜형식으로 바꿔준다\n",
    "pd.to_datetime('06/18/20', format =\"%m/%y/%d\")\n",
    "d1.year\n",
    "d1.month\n",
    "d1.day"
   ]
  },
  {
   "cell_type": "code",
   "execution_count": 220,
   "metadata": {},
   "outputs": [
    {
     "output_type": "execute_result",
     "data": {
      "text/plain": "0       1\n1       1\n2       1\n3       1\n4      12\n       ..\n117     3\n118     3\n119     3\n120     3\n121     3\nName: dateDt, Length: 122, dtype: int64"
     },
     "metadata": {},
     "execution_count": 220
    }
   ],
   "source": [
    "ebola = pd.read_csv(\"data2/country_timeseries.csv\")\n",
    "ebola['dateDt'] = pd.to_datetime(ebola['Date'])\n",
    "ebola[['Date','dateDt']]\n",
    "# ebola['Date'][0].year\n",
    "ebola['dateDt'][0].year\n",
    "ebola['dateDt'].dt.month"
   ]
  },
  {
   "cell_type": "code",
   "execution_count": 223,
   "metadata": {
    "tags": []
   },
   "outputs": [
    {
     "output_type": "stream",
     "name": "stdout",
     "text": "<class 'pandas.core.frame.DataFrame'>\nRangeIndex: 122 entries, 0 to 121\nData columns (total 21 columns):\n #   Column               Non-Null Count  Dtype         \n---  ------               --------------  -----         \n 0   Date                 122 non-null    object        \n 1   Day                  122 non-null    int64         \n 2   Cases_Guinea         93 non-null     float64       \n 3   Cases_Liberia        83 non-null     float64       \n 4   Cases_SierraLeone    87 non-null     float64       \n 5   Cases_Nigeria        38 non-null     float64       \n 6   Cases_Senegal        25 non-null     float64       \n 7   Cases_UnitedStates   18 non-null     float64       \n 8   Cases_Spain          16 non-null     float64       \n 9   Cases_Mali           12 non-null     float64       \n 10  Deaths_Guinea        92 non-null     float64       \n 11  Deaths_Liberia       81 non-null     float64       \n 12  Deaths_SierraLeone   87 non-null     float64       \n 13  Deaths_Nigeria       38 non-null     float64       \n 14  Deaths_Senegal       22 non-null     float64       \n 15  Deaths_UnitedStates  18 non-null     float64       \n 16  Deaths_Spain         16 non-null     float64       \n 17  Deaths_Mali          12 non-null     float64       \n 18  dateDt               122 non-null    datetime64[ns]\n 19  month                122 non-null    int64         \n 20  day                  122 non-null    int64         \ndtypes: datetime64[ns](1), float64(16), int64(3), object(1)\nmemory usage: 20.1+ KB\n"
    }
   ],
   "source": [
    "# ebola['dateDt'].month <-에러 발생 \n",
    "ebola['month'],ebola['day'] = ebola['dateDt'].dt.month, ebola['dateDt'].dt.day\n",
    "ebola.info()"
   ]
  },
  {
   "cell_type": "code",
   "execution_count": 225,
   "metadata": {},
   "outputs": [
    {
     "output_type": "execute_result",
     "data": {
      "text/plain": "          Date  Day  Cases_Guinea  Cases_Liberia  Cases_SierraLeone\n117  3/27/2014    5         103.0            8.0                6.0\n118  3/26/2014    4          86.0            NaN                NaN\n119  3/25/2014    3          86.0            NaN                NaN\n120  3/24/2014    2          86.0            NaN                NaN\n121  3/22/2014    0          49.0            NaN                NaN",
      "text/html": "<div>\n<style scoped>\n    .dataframe tbody tr th:only-of-type {\n        vertical-align: middle;\n    }\n\n    .dataframe tbody tr th {\n        vertical-align: top;\n    }\n\n    .dataframe thead th {\n        text-align: right;\n    }\n</style>\n<table border=\"1\" class=\"dataframe\">\n  <thead>\n    <tr style=\"text-align: right;\">\n      <th></th>\n      <th>Date</th>\n      <th>Day</th>\n      <th>Cases_Guinea</th>\n      <th>Cases_Liberia</th>\n      <th>Cases_SierraLeone</th>\n    </tr>\n  </thead>\n  <tbody>\n    <tr>\n      <th>117</th>\n      <td>3/27/2014</td>\n      <td>5</td>\n      <td>103.0</td>\n      <td>8.0</td>\n      <td>6.0</td>\n    </tr>\n    <tr>\n      <th>118</th>\n      <td>3/26/2014</td>\n      <td>4</td>\n      <td>86.0</td>\n      <td>NaN</td>\n      <td>NaN</td>\n    </tr>\n    <tr>\n      <th>119</th>\n      <td>3/25/2014</td>\n      <td>3</td>\n      <td>86.0</td>\n      <td>NaN</td>\n      <td>NaN</td>\n    </tr>\n    <tr>\n      <th>120</th>\n      <td>3/24/2014</td>\n      <td>2</td>\n      <td>86.0</td>\n      <td>NaN</td>\n      <td>NaN</td>\n    </tr>\n    <tr>\n      <th>121</th>\n      <td>3/22/2014</td>\n      <td>0</td>\n      <td>49.0</td>\n      <td>NaN</td>\n      <td>NaN</td>\n    </tr>\n  </tbody>\n</table>\n</div>"
     },
     "metadata": {},
     "execution_count": 225
    }
   ],
   "source": [
    "ebola.tail(5)\n",
    "ebola.loc[[117,118,120,121]]\n",
    "ebola.iloc[-5: , :5]"
   ]
  },
  {
   "cell_type": "code",
   "execution_count": 228,
   "metadata": {},
   "outputs": [
    {
     "output_type": "execute_result",
     "data": {
      "text/plain": "0     289 days\n1     288 days\n2     287 days\n3     286 days\n4     284 days\n        ...   \n117     5 days\n118     4 days\n119     3 days\n120     2 days\n121     0 days\nName: dateDt, Length: 122, dtype: timedelta64[ns]"
     },
     "metadata": {},
     "execution_count": 228
    }
   ],
   "source": [
    "ebola['dateDt'] #가장 오래된 날짜는?\n",
    "ebola['dateDt'].min() #수치 데이터라 사용가능함\n",
    "ebola['dateDt']-ebola['dateDt'].min() #최초 발병일로 부터 며칠이나 되었나\n"
   ]
  },
  {
   "cell_type": "code",
   "execution_count": 233,
   "metadata": {
    "tags": []
   },
   "outputs": [
    {
     "output_type": "stream",
     "name": "stdout",
     "text": "<class 'pandas.core.frame.DataFrame'>\nRangeIndex: 555 entries, 0 to 554\nData columns (total 7 columns):\n #   Column                 Non-Null Count  Dtype \n---  ------                 --------------  ----- \n 0   Bank Name              555 non-null    object\n 1   City                   555 non-null    object\n 2   ST                     555 non-null    object\n 3   CERT                   555 non-null    int64 \n 4   Acquiring Institution  555 non-null    object\n 5   Closing Date           555 non-null    object\n 6   Updated Date           555 non-null    object\ndtypes: int64(1), object(6)\nmemory usage: 30.5+ KB\n<class 'pandas.core.frame.DataFrame'>\nRangeIndex: 555 entries, 0 to 554\nData columns (total 7 columns):\n #   Column                 Non-Null Count  Dtype         \n---  ------                 --------------  -----         \n 0   Bank Name              555 non-null    object        \n 1   City                   555 non-null    object        \n 2   ST                     555 non-null    object        \n 3   CERT                   555 non-null    int64         \n 4   Acquiring Institution  555 non-null    object        \n 5   Closing Date           555 non-null    datetime64[ns]\n 6   Updated Date           555 non-null    datetime64[ns]\ndtypes: datetime64[ns](2), int64(1), object(4)\nmemory usage: 30.5+ KB\n"
    }
   ],
   "source": [
    "banks = pd.read_csv(\"data2/banklist.csv\")\n",
    "banks.info()\n",
    "\n",
    "banks = pd.read_csv(\"data2/banklist.csv\", parse_dates=[5,6])\n",
    "banks.info()\n"
   ]
  },
  {
   "cell_type": "code",
   "execution_count": 240,
   "metadata": {},
   "outputs": [],
   "source": [
    "banks['Closing Date'].dt.year #연도만\n",
    "banks['Closing_year'] ,banks['Closing_quarter']=banks['Closing Date'].dt.year,banks['Closing Date'].dt.quarter\n",
    "\n"
   ]
  },
  {
   "cell_type": "code",
   "execution_count": 242,
   "metadata": {},
   "outputs": [
    {
     "output_type": "error",
     "ename": "IndentationError",
     "evalue": "unexpected indent (<ipython-input-242-f05d33e0b4d2>, line 2)",
     "traceback": [
      "\u001b[1;36m  File \u001b[1;32m\"<ipython-input-242-f05d33e0b4d2>\"\u001b[1;36m, line \u001b[1;32m2\u001b[0m\n\u001b[1;33m    banks.groupby(['Closing_year']).value_counts()\u001b[0m\n\u001b[1;37m    ^\u001b[0m\n\u001b[1;31mIndentationError\u001b[0m\u001b[1;31m:\u001b[0m unexpected indent\n"
     ]
    }
   ],
   "source": [
    "# banks.groupby(['Closing_year']).size()\n",
    " banks[''].value_counts()"
   ]
  },
  {
   "cell_type": "code",
   "execution_count": 244,
   "metadata": {},
   "outputs": [
    {
     "output_type": "execute_result",
     "data": {
      "text/plain": "                 CERT  Closing_quarter\nClosing_year                          \n2000            24844                8\n2001           107787                9\n2002           248023               21\n2003            65936                7\n2004            86195                5\n2007            84776                8\n2008           772428               81\n2009          4406094              399\n2010          5003277              374\n2011          3285484              220\n2012          1513266              114\n2013           929287               54\n2014           496014               41\n2015           266186               17\n2016            77020               11\n2017           228170               17",
      "text/html": "<div>\n<style scoped>\n    .dataframe tbody tr th:only-of-type {\n        vertical-align: middle;\n    }\n\n    .dataframe tbody tr th {\n        vertical-align: top;\n    }\n\n    .dataframe thead th {\n        text-align: right;\n    }\n</style>\n<table border=\"1\" class=\"dataframe\">\n  <thead>\n    <tr style=\"text-align: right;\">\n      <th></th>\n      <th>CERT</th>\n      <th>Closing_quarter</th>\n    </tr>\n    <tr>\n      <th>Closing_year</th>\n      <th></th>\n      <th></th>\n    </tr>\n  </thead>\n  <tbody>\n    <tr>\n      <th>2000</th>\n      <td>24844</td>\n      <td>8</td>\n    </tr>\n    <tr>\n      <th>2001</th>\n      <td>107787</td>\n      <td>9</td>\n    </tr>\n    <tr>\n      <th>2002</th>\n      <td>248023</td>\n      <td>21</td>\n    </tr>\n    <tr>\n      <th>2003</th>\n      <td>65936</td>\n      <td>7</td>\n    </tr>\n    <tr>\n      <th>2004</th>\n      <td>86195</td>\n      <td>5</td>\n    </tr>\n    <tr>\n      <th>2007</th>\n      <td>84776</td>\n      <td>8</td>\n    </tr>\n    <tr>\n      <th>2008</th>\n      <td>772428</td>\n      <td>81</td>\n    </tr>\n    <tr>\n      <th>2009</th>\n      <td>4406094</td>\n      <td>399</td>\n    </tr>\n    <tr>\n      <th>2010</th>\n      <td>5003277</td>\n      <td>374</td>\n    </tr>\n    <tr>\n      <th>2011</th>\n      <td>3285484</td>\n      <td>220</td>\n    </tr>\n    <tr>\n      <th>2012</th>\n      <td>1513266</td>\n      <td>114</td>\n    </tr>\n    <tr>\n      <th>2013</th>\n      <td>929287</td>\n      <td>54</td>\n    </tr>\n    <tr>\n      <th>2014</th>\n      <td>496014</td>\n      <td>41</td>\n    </tr>\n    <tr>\n      <th>2015</th>\n      <td>266186</td>\n      <td>17</td>\n    </tr>\n    <tr>\n      <th>2016</th>\n      <td>77020</td>\n      <td>11</td>\n    </tr>\n    <tr>\n      <th>2017</th>\n      <td>228170</td>\n      <td>17</td>\n    </tr>\n  </tbody>\n</table>\n</div>"
     },
     "metadata": {},
     "execution_count": 244
    }
   ],
   "source": [
    "banks.groupby(['Closing_year']).sum()"
   ]
  },
  {
   "cell_type": "code",
   "execution_count": 247,
   "metadata": {},
   "outputs": [],
   "source": [
    "    Closing_yearQ = banks.groupby(['Closing_year','Closing_quarter'])"
   ]
  },
  {
   "cell_type": "code",
   "execution_count": 246,
   "metadata": {},
   "outputs": [
    {
     "output_type": "execute_result",
     "data": {
      "text/plain": "Closing_year  Closing_quarter\n2000          4                  AxesSubplot(0.125,0.125;0.775x0.755)\n2001          1                  AxesSubplot(0.125,0.125;0.775x0.755)\n              2                  AxesSubplot(0.125,0.125;0.775x0.755)\n              3                  AxesSubplot(0.125,0.125;0.775x0.755)\n2002          1                  AxesSubplot(0.125,0.125;0.775x0.755)\n              2                  AxesSubplot(0.125,0.125;0.775x0.755)\n              3                  AxesSubplot(0.125,0.125;0.775x0.755)\n              4                  AxesSubplot(0.125,0.125;0.775x0.755)\n2003          1                  AxesSubplot(0.125,0.125;0.775x0.755)\n              2                  AxesSubplot(0.125,0.125;0.775x0.755)\n              4                  AxesSubplot(0.125,0.125;0.775x0.755)\n2004          1                  AxesSubplot(0.125,0.125;0.775x0.755)\n              2                  AxesSubplot(0.125,0.125;0.775x0.755)\n2007          1                  AxesSubplot(0.125,0.125;0.775x0.755)\n              3                  AxesSubplot(0.125,0.125;0.775x0.755)\n              4                  AxesSubplot(0.125,0.125;0.775x0.755)\n2008          1                  AxesSubplot(0.125,0.125;0.775x0.755)\n              2                  AxesSubplot(0.125,0.125;0.775x0.755)\n              3                  AxesSubplot(0.125,0.125;0.775x0.755)\n              4                  AxesSubplot(0.125,0.125;0.775x0.755)\n2009          1                  AxesSubplot(0.125,0.125;0.775x0.755)\n              2                  AxesSubplot(0.125,0.125;0.775x0.755)\n              3                  AxesSubplot(0.125,0.125;0.775x0.755)\n              4                  AxesSubplot(0.125,0.125;0.775x0.755)\n2010          1                  AxesSubplot(0.125,0.125;0.775x0.755)\n              2                  AxesSubplot(0.125,0.125;0.775x0.755)\n              3                  AxesSubplot(0.125,0.125;0.775x0.755)\n              4                  AxesSubplot(0.125,0.125;0.775x0.755)\n2011          1                  AxesSubplot(0.125,0.125;0.775x0.755)\n              2                  AxesSubplot(0.125,0.125;0.775x0.755)\n              3                  AxesSubplot(0.125,0.125;0.775x0.755)\n              4                  AxesSubplot(0.125,0.125;0.775x0.755)\n2012          1                  AxesSubplot(0.125,0.125;0.775x0.755)\n              2                  AxesSubplot(0.125,0.125;0.775x0.755)\n              3                  AxesSubplot(0.125,0.125;0.775x0.755)\n              4                  AxesSubplot(0.125,0.125;0.775x0.755)\n2013          1                  AxesSubplot(0.125,0.125;0.775x0.755)\n              2                  AxesSubplot(0.125,0.125;0.775x0.755)\n              3                  AxesSubplot(0.125,0.125;0.775x0.755)\n              4                  AxesSubplot(0.125,0.125;0.775x0.755)\n2014          1                  AxesSubplot(0.125,0.125;0.775x0.755)\n              2                  AxesSubplot(0.125,0.125;0.775x0.755)\n              3                  AxesSubplot(0.125,0.125;0.775x0.755)\n              4                  AxesSubplot(0.125,0.125;0.775x0.755)\n2015          1                  AxesSubplot(0.125,0.125;0.775x0.755)\n              2                  AxesSubplot(0.125,0.125;0.775x0.755)\n              3                  AxesSubplot(0.125,0.125;0.775x0.755)\n              4                  AxesSubplot(0.125,0.125;0.775x0.755)\n2016          1                  AxesSubplot(0.125,0.125;0.775x0.755)\n              2                  AxesSubplot(0.125,0.125;0.775x0.755)\n              3                  AxesSubplot(0.125,0.125;0.775x0.755)\n2017          1                  AxesSubplot(0.125,0.125;0.775x0.755)\n              2                  AxesSubplot(0.125,0.125;0.775x0.755)\n              4                  AxesSubplot(0.125,0.125;0.775x0.755)\ndtype: object"
     },
     "metadata": {},
     "execution_count": 246
    },
    {
     "output_type": "error",
     "ename": "ValueError",
     "evalue": "view limit minimum -32595.35 is less than 1 and is an invalid Matplotlib date value. This often happens if you pass a non-datetime value to an axis that has datetime units",
     "traceback": [
      "\u001b[1;31m---------------------------------------------------------------------------\u001b[0m",
      "\u001b[1;31mValueError\u001b[0m                                Traceback (most recent call last)",
      "\u001b[1;32mC:\\Python37\\lib\\site-packages\\ipykernel\\pylab\\backend_inline.py\u001b[0m in \u001b[0;36mshow\u001b[1;34m(close, block)\u001b[0m\n\u001b[0;32m     41\u001b[0m             display(\n\u001b[0;32m     42\u001b[0m                 \u001b[0mfigure_manager\u001b[0m\u001b[1;33m.\u001b[0m\u001b[0mcanvas\u001b[0m\u001b[1;33m.\u001b[0m\u001b[0mfigure\u001b[0m\u001b[1;33m,\u001b[0m\u001b[1;33m\u001b[0m\u001b[1;33m\u001b[0m\u001b[0m\n\u001b[1;32m---> 43\u001b[1;33m                 \u001b[0mmetadata\u001b[0m\u001b[1;33m=\u001b[0m\u001b[0m_fetch_figure_metadata\u001b[0m\u001b[1;33m(\u001b[0m\u001b[0mfigure_manager\u001b[0m\u001b[1;33m.\u001b[0m\u001b[0mcanvas\u001b[0m\u001b[1;33m.\u001b[0m\u001b[0mfigure\u001b[0m\u001b[1;33m)\u001b[0m\u001b[1;33m\u001b[0m\u001b[1;33m\u001b[0m\u001b[0m\n\u001b[0m\u001b[0;32m     44\u001b[0m             )\n\u001b[0;32m     45\u001b[0m     \u001b[1;32mfinally\u001b[0m\u001b[1;33m:\u001b[0m\u001b[1;33m\u001b[0m\u001b[1;33m\u001b[0m\u001b[0m\n",
      "\u001b[1;32mC:\\Python37\\lib\\site-packages\\ipykernel\\pylab\\backend_inline.py\u001b[0m in \u001b[0;36m_fetch_figure_metadata\u001b[1;34m(fig)\u001b[0m\n\u001b[0;32m    179\u001b[0m         \u001b[1;31m# the background is transparent\u001b[0m\u001b[1;33m\u001b[0m\u001b[1;33m\u001b[0m\u001b[1;33m\u001b[0m\u001b[0m\n\u001b[0;32m    180\u001b[0m         ticksLight = _is_light([label.get_color()\n\u001b[1;32m--> 181\u001b[1;33m                                 \u001b[1;32mfor\u001b[0m \u001b[0maxes\u001b[0m \u001b[1;32min\u001b[0m \u001b[0mfig\u001b[0m\u001b[1;33m.\u001b[0m\u001b[0maxes\u001b[0m\u001b[1;33m\u001b[0m\u001b[1;33m\u001b[0m\u001b[0m\n\u001b[0m\u001b[0;32m    182\u001b[0m                                 \u001b[1;32mfor\u001b[0m \u001b[0maxis\u001b[0m \u001b[1;32min\u001b[0m \u001b[1;33m(\u001b[0m\u001b[0maxes\u001b[0m\u001b[1;33m.\u001b[0m\u001b[0mxaxis\u001b[0m\u001b[1;33m,\u001b[0m \u001b[0maxes\u001b[0m\u001b[1;33m.\u001b[0m\u001b[0myaxis\u001b[0m\u001b[1;33m)\u001b[0m\u001b[1;33m\u001b[0m\u001b[1;33m\u001b[0m\u001b[0m\n\u001b[0;32m    183\u001b[0m                                 for label in axis.get_ticklabels()])\n",
      "\u001b[1;32mC:\\Python37\\lib\\site-packages\\ipykernel\\pylab\\backend_inline.py\u001b[0m in \u001b[0;36m<listcomp>\u001b[1;34m(.0)\u001b[0m\n\u001b[0;32m    181\u001b[0m                                 \u001b[1;32mfor\u001b[0m \u001b[0maxes\u001b[0m \u001b[1;32min\u001b[0m \u001b[0mfig\u001b[0m\u001b[1;33m.\u001b[0m\u001b[0maxes\u001b[0m\u001b[1;33m\u001b[0m\u001b[1;33m\u001b[0m\u001b[0m\n\u001b[0;32m    182\u001b[0m                                 \u001b[1;32mfor\u001b[0m \u001b[0maxis\u001b[0m \u001b[1;32min\u001b[0m \u001b[1;33m(\u001b[0m\u001b[0maxes\u001b[0m\u001b[1;33m.\u001b[0m\u001b[0mxaxis\u001b[0m\u001b[1;33m,\u001b[0m \u001b[0maxes\u001b[0m\u001b[1;33m.\u001b[0m\u001b[0myaxis\u001b[0m\u001b[1;33m)\u001b[0m\u001b[1;33m\u001b[0m\u001b[1;33m\u001b[0m\u001b[0m\n\u001b[1;32m--> 183\u001b[1;33m                                 for label in axis.get_ticklabels()])\n\u001b[0m\u001b[0;32m    184\u001b[0m         \u001b[1;32mif\u001b[0m \u001b[0mticksLight\u001b[0m\u001b[1;33m.\u001b[0m\u001b[0msize\u001b[0m \u001b[1;32mand\u001b[0m \u001b[1;33m(\u001b[0m\u001b[0mticksLight\u001b[0m \u001b[1;33m==\u001b[0m \u001b[0mticksLight\u001b[0m\u001b[1;33m[\u001b[0m\u001b[1;36m0\u001b[0m\u001b[1;33m]\u001b[0m\u001b[1;33m)\u001b[0m\u001b[1;33m.\u001b[0m\u001b[0mall\u001b[0m\u001b[1;33m(\u001b[0m\u001b[1;33m)\u001b[0m\u001b[1;33m:\u001b[0m\u001b[1;33m\u001b[0m\u001b[1;33m\u001b[0m\u001b[0m\n\u001b[0;32m    185\u001b[0m             \u001b[1;31m# there are one or more tick labels, all with the same lightness\u001b[0m\u001b[1;33m\u001b[0m\u001b[1;33m\u001b[0m\u001b[1;33m\u001b[0m\u001b[0m\n",
      "\u001b[1;32mC:\\Python37\\lib\\site-packages\\matplotlib\\axis.py\u001b[0m in \u001b[0;36mget_ticklabels\u001b[1;34m(self, minor, which)\u001b[0m\n\u001b[0;32m   1318\u001b[0m         \u001b[1;32mif\u001b[0m \u001b[0mminor\u001b[0m\u001b[1;33m:\u001b[0m\u001b[1;33m\u001b[0m\u001b[1;33m\u001b[0m\u001b[0m\n\u001b[0;32m   1319\u001b[0m             \u001b[1;32mreturn\u001b[0m \u001b[0mself\u001b[0m\u001b[1;33m.\u001b[0m\u001b[0mget_minorticklabels\u001b[0m\u001b[1;33m(\u001b[0m\u001b[1;33m)\u001b[0m\u001b[1;33m\u001b[0m\u001b[1;33m\u001b[0m\u001b[0m\n\u001b[1;32m-> 1320\u001b[1;33m         \u001b[1;32mreturn\u001b[0m \u001b[0mself\u001b[0m\u001b[1;33m.\u001b[0m\u001b[0mget_majorticklabels\u001b[0m\u001b[1;33m(\u001b[0m\u001b[1;33m)\u001b[0m\u001b[1;33m\u001b[0m\u001b[1;33m\u001b[0m\u001b[0m\n\u001b[0m\u001b[0;32m   1321\u001b[0m \u001b[1;33m\u001b[0m\u001b[0m\n\u001b[0;32m   1322\u001b[0m     \u001b[1;32mdef\u001b[0m \u001b[0mget_majorticklines\u001b[0m\u001b[1;33m(\u001b[0m\u001b[0mself\u001b[0m\u001b[1;33m)\u001b[0m\u001b[1;33m:\u001b[0m\u001b[1;33m\u001b[0m\u001b[1;33m\u001b[0m\u001b[0m\n",
      "\u001b[1;32mC:\\Python37\\lib\\site-packages\\matplotlib\\axis.py\u001b[0m in \u001b[0;36mget_majorticklabels\u001b[1;34m(self)\u001b[0m\n\u001b[0;32m   1274\u001b[0m     \u001b[1;32mdef\u001b[0m \u001b[0mget_majorticklabels\u001b[0m\u001b[1;33m(\u001b[0m\u001b[0mself\u001b[0m\u001b[1;33m)\u001b[0m\u001b[1;33m:\u001b[0m\u001b[1;33m\u001b[0m\u001b[1;33m\u001b[0m\u001b[0m\n\u001b[0;32m   1275\u001b[0m         \u001b[1;34m'Return a list of Text instances for the major ticklabels.'\u001b[0m\u001b[1;33m\u001b[0m\u001b[1;33m\u001b[0m\u001b[0m\n\u001b[1;32m-> 1276\u001b[1;33m         \u001b[0mticks\u001b[0m \u001b[1;33m=\u001b[0m \u001b[0mself\u001b[0m\u001b[1;33m.\u001b[0m\u001b[0mget_major_ticks\u001b[0m\u001b[1;33m(\u001b[0m\u001b[1;33m)\u001b[0m\u001b[1;33m\u001b[0m\u001b[1;33m\u001b[0m\u001b[0m\n\u001b[0m\u001b[0;32m   1277\u001b[0m         \u001b[0mlabels1\u001b[0m \u001b[1;33m=\u001b[0m \u001b[1;33m[\u001b[0m\u001b[0mtick\u001b[0m\u001b[1;33m.\u001b[0m\u001b[0mlabel1\u001b[0m \u001b[1;32mfor\u001b[0m \u001b[0mtick\u001b[0m \u001b[1;32min\u001b[0m \u001b[0mticks\u001b[0m \u001b[1;32mif\u001b[0m \u001b[0mtick\u001b[0m\u001b[1;33m.\u001b[0m\u001b[0mlabel1\u001b[0m\u001b[1;33m.\u001b[0m\u001b[0mget_visible\u001b[0m\u001b[1;33m(\u001b[0m\u001b[1;33m)\u001b[0m\u001b[1;33m]\u001b[0m\u001b[1;33m\u001b[0m\u001b[1;33m\u001b[0m\u001b[0m\n\u001b[0;32m   1278\u001b[0m         \u001b[0mlabels2\u001b[0m \u001b[1;33m=\u001b[0m \u001b[1;33m[\u001b[0m\u001b[0mtick\u001b[0m\u001b[1;33m.\u001b[0m\u001b[0mlabel2\u001b[0m \u001b[1;32mfor\u001b[0m \u001b[0mtick\u001b[0m \u001b[1;32min\u001b[0m \u001b[0mticks\u001b[0m \u001b[1;32mif\u001b[0m \u001b[0mtick\u001b[0m\u001b[1;33m.\u001b[0m\u001b[0mlabel2\u001b[0m\u001b[1;33m.\u001b[0m\u001b[0mget_visible\u001b[0m\u001b[1;33m(\u001b[0m\u001b[1;33m)\u001b[0m\u001b[1;33m]\u001b[0m\u001b[1;33m\u001b[0m\u001b[1;33m\u001b[0m\u001b[0m\n",
      "\u001b[1;32mC:\\Python37\\lib\\site-packages\\matplotlib\\axis.py\u001b[0m in \u001b[0;36mget_major_ticks\u001b[1;34m(self, numticks)\u001b[0m\n\u001b[0;32m   1429\u001b[0m         \u001b[1;34m'Get the tick instances; grow as necessary.'\u001b[0m\u001b[1;33m\u001b[0m\u001b[1;33m\u001b[0m\u001b[0m\n\u001b[0;32m   1430\u001b[0m         \u001b[1;32mif\u001b[0m \u001b[0mnumticks\u001b[0m \u001b[1;32mis\u001b[0m \u001b[1;32mNone\u001b[0m\u001b[1;33m:\u001b[0m\u001b[1;33m\u001b[0m\u001b[1;33m\u001b[0m\u001b[0m\n\u001b[1;32m-> 1431\u001b[1;33m             \u001b[0mnumticks\u001b[0m \u001b[1;33m=\u001b[0m \u001b[0mlen\u001b[0m\u001b[1;33m(\u001b[0m\u001b[0mself\u001b[0m\u001b[1;33m.\u001b[0m\u001b[0mget_majorticklocs\u001b[0m\u001b[1;33m(\u001b[0m\u001b[1;33m)\u001b[0m\u001b[1;33m)\u001b[0m\u001b[1;33m\u001b[0m\u001b[1;33m\u001b[0m\u001b[0m\n\u001b[0m\u001b[0;32m   1432\u001b[0m \u001b[1;33m\u001b[0m\u001b[0m\n\u001b[0;32m   1433\u001b[0m         \u001b[1;32mwhile\u001b[0m \u001b[0mlen\u001b[0m\u001b[1;33m(\u001b[0m\u001b[0mself\u001b[0m\u001b[1;33m.\u001b[0m\u001b[0mmajorTicks\u001b[0m\u001b[1;33m)\u001b[0m \u001b[1;33m<\u001b[0m \u001b[0mnumticks\u001b[0m\u001b[1;33m:\u001b[0m\u001b[1;33m\u001b[0m\u001b[1;33m\u001b[0m\u001b[0m\n",
      "\u001b[1;32mC:\\Python37\\lib\\site-packages\\matplotlib\\axis.py\u001b[0m in \u001b[0;36mget_majorticklocs\u001b[1;34m(self)\u001b[0m\n\u001b[0;32m   1346\u001b[0m     \u001b[1;32mdef\u001b[0m \u001b[0mget_majorticklocs\u001b[0m\u001b[1;33m(\u001b[0m\u001b[0mself\u001b[0m\u001b[1;33m)\u001b[0m\u001b[1;33m:\u001b[0m\u001b[1;33m\u001b[0m\u001b[1;33m\u001b[0m\u001b[0m\n\u001b[0;32m   1347\u001b[0m         \u001b[1;34m\"\"\"Get the array of major tick locations in data coordinates.\"\"\"\u001b[0m\u001b[1;33m\u001b[0m\u001b[1;33m\u001b[0m\u001b[0m\n\u001b[1;32m-> 1348\u001b[1;33m         \u001b[1;32mreturn\u001b[0m \u001b[0mself\u001b[0m\u001b[1;33m.\u001b[0m\u001b[0mmajor\u001b[0m\u001b[1;33m.\u001b[0m\u001b[0mlocator\u001b[0m\u001b[1;33m(\u001b[0m\u001b[1;33m)\u001b[0m\u001b[1;33m\u001b[0m\u001b[1;33m\u001b[0m\u001b[0m\n\u001b[0m\u001b[0;32m   1349\u001b[0m \u001b[1;33m\u001b[0m\u001b[0m\n\u001b[0;32m   1350\u001b[0m     \u001b[1;32mdef\u001b[0m \u001b[0mget_minorticklocs\u001b[0m\u001b[1;33m(\u001b[0m\u001b[0mself\u001b[0m\u001b[1;33m)\u001b[0m\u001b[1;33m:\u001b[0m\u001b[1;33m\u001b[0m\u001b[1;33m\u001b[0m\u001b[0m\n",
      "\u001b[1;32mC:\\Python37\\lib\\site-packages\\matplotlib\\dates.py\u001b[0m in \u001b[0;36m__call__\u001b[1;34m(self)\u001b[0m\n\u001b[0;32m   1336\u001b[0m     \u001b[1;32mdef\u001b[0m \u001b[0m__call__\u001b[0m\u001b[1;33m(\u001b[0m\u001b[0mself\u001b[0m\u001b[1;33m)\u001b[0m\u001b[1;33m:\u001b[0m\u001b[1;33m\u001b[0m\u001b[1;33m\u001b[0m\u001b[0m\n\u001b[0;32m   1337\u001b[0m         \u001b[1;34m'Return the locations of the ticks'\u001b[0m\u001b[1;33m\u001b[0m\u001b[1;33m\u001b[0m\u001b[0m\n\u001b[1;32m-> 1338\u001b[1;33m         \u001b[0mself\u001b[0m\u001b[1;33m.\u001b[0m\u001b[0mrefresh\u001b[0m\u001b[1;33m(\u001b[0m\u001b[1;33m)\u001b[0m\u001b[1;33m\u001b[0m\u001b[1;33m\u001b[0m\u001b[0m\n\u001b[0m\u001b[0;32m   1339\u001b[0m         \u001b[1;32mreturn\u001b[0m \u001b[0mself\u001b[0m\u001b[1;33m.\u001b[0m\u001b[0m_locator\u001b[0m\u001b[1;33m(\u001b[0m\u001b[1;33m)\u001b[0m\u001b[1;33m\u001b[0m\u001b[1;33m\u001b[0m\u001b[0m\n\u001b[0;32m   1340\u001b[0m \u001b[1;33m\u001b[0m\u001b[0m\n",
      "\u001b[1;32mC:\\Python37\\lib\\site-packages\\matplotlib\\dates.py\u001b[0m in \u001b[0;36mrefresh\u001b[1;34m(self)\u001b[0m\n\u001b[0;32m   1362\u001b[0m     \u001b[1;32mdef\u001b[0m \u001b[0mrefresh\u001b[0m\u001b[1;33m(\u001b[0m\u001b[0mself\u001b[0m\u001b[1;33m)\u001b[0m\u001b[1;33m:\u001b[0m\u001b[1;33m\u001b[0m\u001b[1;33m\u001b[0m\u001b[0m\n\u001b[0;32m   1363\u001b[0m         \u001b[1;31m# docstring inherited\u001b[0m\u001b[1;33m\u001b[0m\u001b[1;33m\u001b[0m\u001b[1;33m\u001b[0m\u001b[0m\n\u001b[1;32m-> 1364\u001b[1;33m         \u001b[0mdmin\u001b[0m\u001b[1;33m,\u001b[0m \u001b[0mdmax\u001b[0m \u001b[1;33m=\u001b[0m \u001b[0mself\u001b[0m\u001b[1;33m.\u001b[0m\u001b[0mviewlim_to_dt\u001b[0m\u001b[1;33m(\u001b[0m\u001b[1;33m)\u001b[0m\u001b[1;33m\u001b[0m\u001b[1;33m\u001b[0m\u001b[0m\n\u001b[0m\u001b[0;32m   1365\u001b[0m         \u001b[0mself\u001b[0m\u001b[1;33m.\u001b[0m\u001b[0m_locator\u001b[0m \u001b[1;33m=\u001b[0m \u001b[0mself\u001b[0m\u001b[1;33m.\u001b[0m\u001b[0mget_locator\u001b[0m\u001b[1;33m(\u001b[0m\u001b[0mdmin\u001b[0m\u001b[1;33m,\u001b[0m \u001b[0mdmax\u001b[0m\u001b[1;33m)\u001b[0m\u001b[1;33m\u001b[0m\u001b[1;33m\u001b[0m\u001b[0m\n\u001b[0;32m   1366\u001b[0m \u001b[1;33m\u001b[0m\u001b[0m\n",
      "\u001b[1;32mC:\\Python37\\lib\\site-packages\\matplotlib\\dates.py\u001b[0m in \u001b[0;36mviewlim_to_dt\u001b[1;34m(self)\u001b[0m\n\u001b[0;32m   1096\u001b[0m                              \u001b[1;34m'often happens if you pass a non-datetime '\u001b[0m\u001b[1;33m\u001b[0m\u001b[1;33m\u001b[0m\u001b[0m\n\u001b[0;32m   1097\u001b[0m                              \u001b[1;34m'value to an axis that has datetime units'\u001b[0m\u001b[1;33m\u001b[0m\u001b[1;33m\u001b[0m\u001b[0m\n\u001b[1;32m-> 1098\u001b[1;33m                              .format(vmin))\n\u001b[0m\u001b[0;32m   1099\u001b[0m         \u001b[1;32mreturn\u001b[0m \u001b[0mnum2date\u001b[0m\u001b[1;33m(\u001b[0m\u001b[0mvmin\u001b[0m\u001b[1;33m,\u001b[0m \u001b[0mself\u001b[0m\u001b[1;33m.\u001b[0m\u001b[0mtz\u001b[0m\u001b[1;33m)\u001b[0m\u001b[1;33m,\u001b[0m \u001b[0mnum2date\u001b[0m\u001b[1;33m(\u001b[0m\u001b[0mvmax\u001b[0m\u001b[1;33m,\u001b[0m \u001b[0mself\u001b[0m\u001b[1;33m.\u001b[0m\u001b[0mtz\u001b[0m\u001b[1;33m)\u001b[0m\u001b[1;33m\u001b[0m\u001b[1;33m\u001b[0m\u001b[0m\n\u001b[0;32m   1100\u001b[0m \u001b[1;33m\u001b[0m\u001b[0m\n",
      "\u001b[1;31mValueError\u001b[0m: view limit minimum -32595.35 is less than 1 and is an invalid Matplotlib date value. This often happens if you pass a non-datetime value to an axis that has datetime units"
     ]
    }
   ],
   "source": [
    "import matplotlib.pyplot as plt \n",
    "Closing_yearQ.plot()"
   ]
  }
 ],
 "metadata": {
  "language_info": {
   "codemirror_mode": {
    "name": "ipython",
    "version": 3
   },
   "file_extension": ".py",
   "mimetype": "text/x-python",
   "name": "python",
   "nbconvert_exporter": "python",
   "pygments_lexer": "ipython3",
   "version": "3.7.7-final"
  },
  "orig_nbformat": 2,
  "kernelspec": {
   "name": "python37764bit103ddcd5d3034bf398bf8a71a396b0e1",
   "display_name": "Python 3.7.7 64-bit"
  }
 },
 "nbformat": 4,
 "nbformat_minor": 2
}