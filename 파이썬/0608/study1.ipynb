{
 "cells": [
  {
   "cell_type": "code",
   "execution_count": null,
   "metadata": {},
   "outputs": [],
   "source": [
    "import numpy as np\n",
    "import pandas as pd\n",
    "import matplotlib.pyplot as plt \n",
    "\n",
    "df = pd.read_csv(\"DataScience-master/data/01. CCTV_in_Seoul.csv\", encoding='utf-8') #ascii, euc-kr 셋중하나...\n",
    "df.head()\n",
    "df.columns # [0] 숫자넣으면 해당 칼럼 이름 조회 가능 \n",
    "df.loc[:,['기관명']]\n",
    "df2= df.rename(columns={'기관명':'구별'}) #교재에서는 그냥 replace로 바꿔버림\n",
    "df2\n",
    "df3 = pd.read_excel(\"DataScience-master/data/01. population_in_Seoul.xls\", header=2) #헤더 줄 선택\n",
    "df3 #인덱스는 하나 \n",
    "df4 = df3.loc[:,['자치구','계','계.1', '계.2','65세이상고령자']]\n",
    "df5 = df4.rename(columns = {'자치구':'구별', '계':'인구수', '계.1':'한국인', '계.2':'외국인','65세이상고령자':'고령자'})\n",
    "df5 #없는데 여기서 잡히는 데이터가 있을 수 있다.  <- 주의!\n",
    "df5.head()"
   ]
  },
  {
   "cell_type": "code",
   "execution_count": 14,
   "metadata": {},
   "outputs": [
    {
     "output_type": "execute_result",
     "data": {
      "text/plain": "                   A         B         C         D\n2013-10-13  0.252334  1.973887 -0.756256 -1.555076\n2013-10-15  0.113851  1.822008 -0.985909  1.274342\n2013-10-10  0.890723  1.391245  0.725889 -0.214748\n2013-10-12  0.182414 -0.193813  0.756558 -0.624295\n2013-10-14  1.318647 -1.505941 -0.733081 -0.696500\n2013-10-11 -0.392349 -3.733203  0.192322 -1.584507",
      "text/html": "<div>\n<style scoped>\n    .dataframe tbody tr th:only-of-type {\n        vertical-align: middle;\n    }\n\n    .dataframe tbody tr th {\n        vertical-align: top;\n    }\n\n    .dataframe thead th {\n        text-align: right;\n    }\n</style>\n<table border=\"1\" class=\"dataframe\">\n  <thead>\n    <tr style=\"text-align: right;\">\n      <th></th>\n      <th>A</th>\n      <th>B</th>\n      <th>C</th>\n      <th>D</th>\n    </tr>\n  </thead>\n  <tbody>\n    <tr>\n      <th>2013-10-13</th>\n      <td>0.252334</td>\n      <td>1.973887</td>\n      <td>-0.756256</td>\n      <td>-1.555076</td>\n    </tr>\n    <tr>\n      <th>2013-10-15</th>\n      <td>0.113851</td>\n      <td>1.822008</td>\n      <td>-0.985909</td>\n      <td>1.274342</td>\n    </tr>\n    <tr>\n      <th>2013-10-10</th>\n      <td>0.890723</td>\n      <td>1.391245</td>\n      <td>0.725889</td>\n      <td>-0.214748</td>\n    </tr>\n    <tr>\n      <th>2013-10-12</th>\n      <td>0.182414</td>\n      <td>-0.193813</td>\n      <td>0.756558</td>\n      <td>-0.624295</td>\n    </tr>\n    <tr>\n      <th>2013-10-14</th>\n      <td>1.318647</td>\n      <td>-1.505941</td>\n      <td>-0.733081</td>\n      <td>-0.696500</td>\n    </tr>\n    <tr>\n      <th>2013-10-11</th>\n      <td>-0.392349</td>\n      <td>-3.733203</td>\n      <td>0.192322</td>\n      <td>-1.584507</td>\n    </tr>\n  </tbody>\n</table>\n</div>"
     },
     "metadata": {},
     "execution_count": 14
    }
   ],
   "source": [
    "import numpy as np\n",
    "import pandas as pd\n",
    "import matplotlib.pyplot as plt \n",
    "#데이터주무르기 책 p.30~\n",
    "dates =pd.date_range('20131010', periods=6)\n",
    "bf = pd.DataFrame(np.random.randn(6,4), index=dates, columns=['A','B','C','D'])\n",
    "bf\n",
    "bf.head(3)\n",
    "bf.index\n",
    "bf.info \n",
    "bf.describe()\n",
    "bf.sort_values(by='B', ascending=False)\n"
   ]
  }
 ],
 "metadata": {
  "language_info": {
   "codemirror_mode": {
    "name": "ipython",
    "version": 3
   },
   "file_extension": ".py",
   "mimetype": "text/x-python",
   "name": "python",
   "nbconvert_exporter": "python",
   "pygments_lexer": "ipython3",
   "version": "3.7.7-final"
  },
  "orig_nbformat": 2,
  "kernelspec": {
   "name": "python37764bit103ddcd5d3034bf398bf8a71a396b0e1",
   "display_name": "Python 3.7.7 64-bit"
  }
 },
 "nbformat": 4,
 "nbformat_minor": 2
}