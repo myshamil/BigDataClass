{
 "cells": [
  {
   "cell_type": "code",
   "execution_count": 5,
   "metadata": {},
   "outputs": [
    {
     "output_type": "stream",
     "name": "stdout",
     "text": "['언더워터' '5.7']\n['위대한 쇼맨' '8.9']\n['프리즌 이스케이프' '7.4']\n['카페 벨에포크' '9']\n['미스비헤이비어' '8.3']\n['그집' '6.8']\n['초미의 관심사' '8']\n['패왕별희 디 오리지널' '9.3']\n['더 플랫폼' '6.7']\n['루팡 3세: 더 퍼스트' '8.7']\n['트롤: 월드 투어' '8.4']\n['조금씩，천천히 안녕' '6']\n['톰보이' '8.3']\n['날씨의 아이' '6.7']\n['아홉 스님' '7']\n['킬러의 보디가드 무삭제 특별판' '7.3']\n['나는보리' '8.6']\n['런 보이 런' '8.9']\n['레이니 데이 인 뉴욕' '6.1']\n['싸커 퀸즈' '']\n"
    }
   ],
   "source": [
    "import time\n",
    "import requests\n",
    "from bs4 import BeautifulSoup\n",
    "import numpy as np \n",
    "\n",
    "URL = \"http://ticket2.movie.daum.net/Movie/MovieRankList.aspx\"\n",
    "\n",
    "res = requests.get(URL)\n",
    "soup = BeautifulSoup(res.content, 'lxml')\n",
    "box = soup.find_all('div', class_=\"desc_boxthumb\")\n",
    "\n",
    "for movie in box:  \n",
    "    title, ranking = movie.find('strong', class_=\"tit_join\"), movie.find('em', class_=\"emph_grade\")\n",
    "    movie, grade = title.get_text().strip(), ranking.get_text().strip()\n",
    "    # print(movie, grade)\n",
    "    movie_arr = np.array([movie, grade])\n",
    "    print(movie_arr)\n",
    "\n"
   ]
  }
 ],
 "metadata": {
  "language_info": {
   "codemirror_mode": {
    "name": "ipython",
    "version": 3
   },
   "file_extension": ".py",
   "mimetype": "text/x-python",
   "name": "python",
   "nbconvert_exporter": "python",
   "pygments_lexer": "ipython3",
   "version": "3.7.7-final"
  },
  "orig_nbformat": 2,
  "kernelspec": {
   "name": "python37764bit103ddcd5d3034bf398bf8a71a396b0e1",
   "display_name": "Python 3.7.7 64-bit"
  }
 },
 "nbformat": 4,
 "nbformat_minor": 2
}