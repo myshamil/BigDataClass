{
 "cells": [
  {
   "cell_type": "code",
   "execution_count": 3,
   "metadata": {},
   "outputs": [],
   "source": [
    "import numpy as np\n",
    "import pandas as pd\n",
    "import requests\n",
    "import json\n",
    "\n",
    "url_stores = \"https://8oi9s0nnth.apigw.ntruss.com/corona19-masks/v1/stores/json\"\n",
    "url_sales = \"https://8oi9s0nnth.apigw.ntruss.com/corona19-masks/v1/sales/json?page=1\"\n",
    "json_stores = requests.get(url_stores).json()\n",
    "json_sales = requests.get(url_sales).json()\n",
    "#json_stores\n",
    "#json_sales"
   ]
  },
  {
   "cell_type": "code",
   "execution_count": 12,
   "metadata": {},
   "outputs": [
    {
     "output_type": "execute_result",
     "data": {
      "text/plain": "           code          name\n0      34840559          신신약국\n1      37844571       밝은온누리약국\n2      34833323          지애약국\n3    5038300744       고령쌍림우체국\n4      21839824         굿모닝약국\n..          ...           ...\n482  6198200983  곤명농협하나로마트완사점\n483    21824916       수안메디컬약국\n484    41840259          이화약국\n485    31831931         푸른솔약국\n486    31834060        포도나무약국\n\n[487 rows x 2 columns]",
      "text/html": "<div>\n<style scoped>\n    .dataframe tbody tr th:only-of-type {\n        vertical-align: middle;\n    }\n\n    .dataframe tbody tr th {\n        vertical-align: top;\n    }\n\n    .dataframe thead th {\n        text-align: right;\n    }\n</style>\n<table border=\"1\" class=\"dataframe\">\n  <thead>\n    <tr style=\"text-align: right;\">\n      <th></th>\n      <th>code</th>\n      <th>name</th>\n    </tr>\n  </thead>\n  <tbody>\n    <tr>\n      <th>0</th>\n      <td>34840559</td>\n      <td>신신약국</td>\n    </tr>\n    <tr>\n      <th>1</th>\n      <td>37844571</td>\n      <td>밝은온누리약국</td>\n    </tr>\n    <tr>\n      <th>2</th>\n      <td>34833323</td>\n      <td>지애약국</td>\n    </tr>\n    <tr>\n      <th>3</th>\n      <td>5038300744</td>\n      <td>고령쌍림우체국</td>\n    </tr>\n    <tr>\n      <th>4</th>\n      <td>21839824</td>\n      <td>굿모닝약국</td>\n    </tr>\n    <tr>\n      <th>...</th>\n      <td>...</td>\n      <td>...</td>\n    </tr>\n    <tr>\n      <th>482</th>\n      <td>6198200983</td>\n      <td>곤명농협하나로마트완사점</td>\n    </tr>\n    <tr>\n      <th>483</th>\n      <td>21824916</td>\n      <td>수안메디컬약국</td>\n    </tr>\n    <tr>\n      <th>484</th>\n      <td>41840259</td>\n      <td>이화약국</td>\n    </tr>\n    <tr>\n      <th>485</th>\n      <td>31831931</td>\n      <td>푸른솔약국</td>\n    </tr>\n    <tr>\n      <th>486</th>\n      <td>31834060</td>\n      <td>포도나무약국</td>\n    </tr>\n  </tbody>\n</table>\n<p>487 rows × 2 columns</p>\n</div>"
     },
     "metadata": {},
     "execution_count": 12
    }
   ],
   "source": [
    "data_stores = []\n",
    "size_stores = len(json_stores['storeInfos'])\n",
    "for inx in range(size_stores):\n",
    "    # print(json_stores['storeInfos'][inx]['code'], json_stores['storeInfos'][inx]['name'])\n",
    "    code, name = json_stores['storeInfos'][inx]['code'], json_stores['storeInfos'][inx]['name']\n",
    "    data_stores.append([code, name])\n",
    "df_stores = pd.DataFrame(data_stores, columns=['code','name'])\n",
    "df_stores.shape\n",
    "df_stores"
   ]
  },
  {
   "cell_type": "code",
   "execution_count": 18,
   "metadata": {},
   "outputs": [
    {
     "output_type": "execute_result",
     "data": {
      "text/plain": "       code    name remain_stat\n0  37811461   대학당약국      plenty\n1  31896359    이화약국      plenty\n2  31863515  100세약국      plenty\n3  38810859    예은약국      plenty\n4  41812816  능동키즈약국      plenty",
      "text/html": "<div>\n<style scoped>\n    .dataframe tbody tr th:only-of-type {\n        vertical-align: middle;\n    }\n\n    .dataframe tbody tr th {\n        vertical-align: top;\n    }\n\n    .dataframe thead th {\n        text-align: right;\n    }\n</style>\n<table border=\"1\" class=\"dataframe\">\n  <thead>\n    <tr style=\"text-align: right;\">\n      <th></th>\n      <th>code</th>\n      <th>name</th>\n      <th>remain_stat</th>\n    </tr>\n  </thead>\n  <tbody>\n    <tr>\n      <th>0</th>\n      <td>37811461</td>\n      <td>대학당약국</td>\n      <td>plenty</td>\n    </tr>\n    <tr>\n      <th>1</th>\n      <td>31896359</td>\n      <td>이화약국</td>\n      <td>plenty</td>\n    </tr>\n    <tr>\n      <th>2</th>\n      <td>31863515</td>\n      <td>100세약국</td>\n      <td>plenty</td>\n    </tr>\n    <tr>\n      <th>3</th>\n      <td>38810859</td>\n      <td>예은약국</td>\n      <td>plenty</td>\n    </tr>\n    <tr>\n      <th>4</th>\n      <td>41812816</td>\n      <td>능동키즈약국</td>\n      <td>plenty</td>\n    </tr>\n  </tbody>\n</table>\n</div>"
     },
     "metadata": {},
     "execution_count": 18
    }
   ],
   "source": [
    "data_sales = []\n",
    "size_sales = len(json_sales['sales'])\n",
    "for inx in range(size_sales):\n",
    "    # print(json_sales['sales'][inx]['code'],json_sales['sales'][inx]['remain_stat'])\n",
    "    code, remain_stat = json_sales['sales'][inx]['code'],json_sales['sales'][inx]['remain_stat']\n",
    "    data_sales.append([code, remain_stat])\n",
    "\n",
    "df_sales = pd.DataFrame(data_sales, columns=['code','remain_stat']) \n",
    "df_sales.head()  \n",
    "df_stores.head() \n",
    "df = pd.merge(df_stores, df_sales, on='code')\n",
    "df.head()"
   ]
  }
 ],
 "metadata": {
  "language_info": {
   "codemirror_mode": {
    "name": "ipython",
    "version": 3
   },
   "file_extension": ".py",
   "mimetype": "text/x-python",
   "name": "python",
   "nbconvert_exporter": "python",
   "pygments_lexer": "ipython3",
   "version": "3.7.7-final"
  },
  "orig_nbformat": 2,
  "kernelspec": {
   "name": "python37764bit2a62d355062c4d9c86e007042d04db36",
   "display_name": "Python 3.7.7 64-bit"
  }
 },
 "nbformat": 4,
 "nbformat_minor": 2
}