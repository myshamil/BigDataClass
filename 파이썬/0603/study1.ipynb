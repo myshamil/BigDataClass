{
 "cells": [
  {
   "cell_type": "code",
   "execution_count": 50,
   "metadata": {},
   "outputs": [
    {
     "output_type": "execute_result",
     "data": {
      "text/plain": "0    6.0\n1    1.0\n2    7.0\n3    4.0\n4    3.0\n5    2.0\n6    5.0\ndtype: float64"
     },
     "metadata": {},
     "execution_count": 50
    }
   ],
   "source": [
    "#220~222\n",
    "import numpy as np \n",
    "import pandas as pd \n",
    "\n",
    "obj = pd.Series(range(4), index=['d','a','b','c'])\n",
    "obj.sort_index()\n",
    "\n",
    "frame = pd.DataFrame(np.arange(8).reshape((2,4)),index = ['three','one'], columns=['d','a','b','c'])\n",
    "frame.sort_index()\n",
    "# d\ta\tb\tc\n",
    "# one\t4\t5\t6\t7\n",
    "# three\t0\t1\t2\t3\n",
    "frame.sort_index(axis=1) #로우나 컬럼 중 하나의 축을 기준으로 정렬할 수 있다. \n",
    "# a\tb\tc\td\n",
    "# three\t1\t2\t3\t0\n",
    "# one\t5\t6\t7\t4\n",
    "frame.sort_index(axis=1, ascending=False) #기본적으로 오름차순, 내림차순으로도 가능\n",
    "# d\tc\tb\ta\n",
    "# three\t0\t3\t2\t1\n",
    "# one\t4\t7\t6\t5\n",
    "\n",
    "obj = pd.Series([4,7,-3,2])\n",
    "obj.sort_values() #Series 객체를 값에 따라 정렬하는 메서드\n",
    "\n",
    "obj = pd.Series([4,np.nan,7,np.nan,-3,2])\n",
    "obj.sort_values() #정렬할 때 비어있는 값은 기본적으로 가장 마지막에 위치\n",
    "\n",
    "frame = pd.DataFrame({'b':[4,7,-3,2],'a':[0,1,0,1]})\n",
    "frame\n",
    "fr1 = frame.sort_values(by='b') \n",
    "fr1 #하나 이상의 컬럼에 있는 값으로 정렬을 하는 경우. by옵션에 하나 이상의 컬럼이름\n",
    "#여러개\n",
    "fr2 = frame.sort_values(by=['a','b'])\n",
    "fr2\n",
    "\n",
    "obj = pd.Series([7,-5,7,4,2,0,4])\n",
    "obj.rank() #순위 : 정렬과 흡사,1부터 유효한 데이터의 개수까지 순서를 매김. 동점인 항목에 대해서는 평균순위를 매김\n",
    "obj.rank(method='first') #데이터상 나타나는 순서에 따라 순위를 매길 수도 있음 "
   ]
  }
 ],
 "metadata": {
  "language_info": {
   "codemirror_mode": {
    "name": "ipython",
    "version": 3
   },
   "file_extension": ".py",
   "mimetype": "text/x-python",
   "name": "python",
   "nbconvert_exporter": "python",
   "pygments_lexer": "ipython3",
   "version": "3.7.7-final"
  },
  "orig_nbformat": 2,
  "kernelspec": {
   "name": "python37764bit103ddcd5d3034bf398bf8a71a396b0e1",
   "display_name": "Python 3.7.7 64-bit"
  }
 },
 "nbformat": 4,
 "nbformat_minor": 2
}