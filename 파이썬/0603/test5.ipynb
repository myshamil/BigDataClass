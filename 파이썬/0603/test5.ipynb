{
 "cells": [
  {
   "cell_type": "code",
   "execution_count": 46,
   "metadata": {},
   "outputs": [
    {
     "output_type": "execute_result",
     "data": {
      "text/plain": "a     10\na1     a\nb     11\nb1     a\nc     12\nc1     a\nName: col1, dtype: object"
     },
     "metadata": {},
     "execution_count": 46
    }
   ],
   "source": [
    "import numpy as np \n",
    "import pandas as pd\n",
    "\n",
    "#df= pd.read_csv(\"student.csv\", sep=\",\", header=0, skiprows=1)\n",
    "df= pd.read_csv(\"student.csv\", sep=\",\", header=None, skiprows=1, names=['col1','col2','col3','col4','col5','col6','col7'], index_col='col6') #df.loc[157.1]\n",
    "df\n",
    "\n",
    "df2 = pd.DataFrame([[10,2],[11,4],[12,2],[13,4],[14,2],[15,4]], columns = ['col1','col2'], index=['a','b','c','d','e','f'])\n",
    "df3 = df2.reindex(['a','a1','b','b1','c','c1'])\n",
    "df3['col1'].isnull()\n",
    "df3\n",
    "df3['col1'].fillna('a') #널값 채우기 \n",
    " "
   ]
  }
 ],
 "metadata": {
  "language_info": {
   "codemirror_mode": {
    "name": "ipython",
    "version": 3
   },
   "file_extension": ".py",
   "mimetype": "text/x-python",
   "name": "python",
   "nbconvert_exporter": "python",
   "pygments_lexer": "ipython3",
   "version": "3.7.7-final"
  },
  "orig_nbformat": 2,
  "kernelspec": {
   "name": "python37764bit103ddcd5d3034bf398bf8a71a396b0e1",
   "display_name": "Python 3.7.7 64-bit"
  }
 },
 "nbformat": 4,
 "nbformat_minor": 2
}