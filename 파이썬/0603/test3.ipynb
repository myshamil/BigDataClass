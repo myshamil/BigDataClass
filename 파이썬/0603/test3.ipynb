{
 "cells": [
  {
   "cell_type": "code",
   "execution_count": 22,
   "metadata": {},
   "outputs": [
    {
     "output_type": "execute_result",
     "data": {
      "text/plain": "   0  1\n0  2  4\n1  6  8",
      "text/html": "<div>\n<style scoped>\n    .dataframe tbody tr th:only-of-type {\n        vertical-align: middle;\n    }\n\n    .dataframe tbody tr th {\n        vertical-align: top;\n    }\n\n    .dataframe thead th {\n        text-align: right;\n    }\n</style>\n<table border=\"1\" class=\"dataframe\">\n  <thead>\n    <tr style=\"text-align: right;\">\n      <th></th>\n      <th>0</th>\n      <th>1</th>\n    </tr>\n  </thead>\n  <tbody>\n    <tr>\n      <th>0</th>\n      <td>2</td>\n      <td>4</td>\n    </tr>\n    <tr>\n      <th>1</th>\n      <td>6</td>\n      <td>8</td>\n    </tr>\n  </tbody>\n</table>\n</div>"
     },
     "metadata": {},
     "execution_count": 22
    }
   ],
   "source": [
    "import numpy as np \n",
    "import pandas as pd\n",
    "\n",
    "#table Wise Function\n",
    "def adder(a,b):\n",
    "    return a+b\n",
    "\n",
    "ds = pd.Series([11,21,31,41,51])\n",
    "ds\n",
    "ds.pipe(adder,4)\n",
    "\n",
    "df = pd.DataFrame(np.random.rand(6,3), columns=['col1','col2','col3'])\n",
    "df.pipe(adder,5)\n",
    "\n",
    "#Row or Column Wise Function\n",
    "def myfunc(x):\n",
    "    return x*x\n",
    "ds.apply(myfunc)\n",
    "df2 = pd.DataFrame([[1,2],[3,4]])\n",
    "df2\n",
    "df2.apply(myfunc,axis=0)\n",
    "\n",
    "f = lambda x:x*2\n",
    "df2.apply(f)\n"
   ]
  }
 ],
 "metadata": {
  "language_info": {
   "codemirror_mode": {
    "name": "ipython",
    "version": 3
   },
   "file_extension": ".py",
   "mimetype": "text/x-python",
   "name": "python",
   "nbconvert_exporter": "python",
   "pygments_lexer": "ipython3",
   "version": "3.7.7-final"
  },
  "orig_nbformat": 2,
  "kernelspec": {
   "name": "python37764bit103ddcd5d3034bf398bf8a71a396b0e1",
   "display_name": "Python 3.7.7 64-bit"
  }
 },
 "nbformat": 4,
 "nbformat_minor": 2
}