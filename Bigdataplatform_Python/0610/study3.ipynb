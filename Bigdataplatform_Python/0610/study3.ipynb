{
 "cells": [
  {
   "cell_type": "code",
   "execution_count": 1,
   "metadata": {},
   "outputs": [
    {
     "output_type": "execute_result",
     "data": {
      "text/plain": "50"
     },
     "metadata": {},
     "execution_count": 1
    }
   ],
   "source": [
    "from bs4 import BeautifulSoup\n",
    "from urllib.request import urlopen\n",
    "\n",
    "url_base = 'https://www.chicagomag.com'\n",
    "url_sub = '/Chicago-Magazine/November-2012/Best-Sandwiches-Chicago/'\n",
    "url = url_base + url_sub\n",
    "\n",
    "html = urlopen(url)\n",
    "soup = BeautifulSoup(html, \"html.parser\")\n",
    "len(soup.find_all('div','sammy'))\n",
    "\n",
    "tmp_one = soup.find_all('div','sammy')[0]\n",
    "import re\n",
    "\n",
    "tmp_string = tmp_one.find(class_='sammyListing').get_text()\n",
    "re.split(('\\n|\\r\\n'), tmp_string)\n",
    "\n"
   ]
  },
  {
   "cell_type": "code",
   "execution_count": 13,
   "metadata": {},
   "outputs": [
    {
     "output_type": "execute_result",
     "data": {
      "text/plain": "['$10', '$9', '$9.50']"
     },
     "metadata": {},
     "execution_count": 13
    }
   ],
   "source": [
    "from bs4 import BeautifulSoup\n",
    "from urllib.request import urlopen\n",
    "\n",
    "import pandas as pd \n",
    "from tqdm import tqdm\n",
    "#139~152\n",
    "df = pd.read_csv('/python_Pjt/DataScience-master/data/03. best_sandwiches_list_chicago.csv', index_col=0)\n",
    "df.head()\n",
    "\n",
    "df['URL'][0]\n",
    "\n",
    "html= urlopen(df['URL'][0])\n",
    "soup_tmp = BeautifulSoup(html, \"html.parser\")\n",
    "soup_tmp\n",
    "price_tmp= soup_tmp.find('p','addy').get_text()\n",
    "price_tmp\n",
    "price_tmp.split()\n",
    "price=[]\n",
    "address=[]\n",
    "for n in tqdm(df.index[:3]):\n",
    "    html = urlopen(df['URL'][n])\n",
    "    soup_tmp = BeautifulSoup(html,'lxml')\n",
    "    gettings = soup_tmp.find('p','addy').get_text()\n",
    "\n",
    "    price.append(gettings.split()[0][:-1])\n",
    "    address.append(' '.join(gettings.split()[1:-2]))\n",
    "\n",
    "price"
   ]
  }
 ],
 "metadata": {
  "language_info": {
   "codemirror_mode": {
    "name": "ipython",
    "version": 3
   },
   "file_extension": ".py",
   "mimetype": "text/x-python",
   "name": "python",
   "nbconvert_exporter": "python",
   "pygments_lexer": "ipython3",
   "version": "3.7.7-final"
  },
  "orig_nbformat": 2,
  "kernelspec": {
   "name": "python37764bit103ddcd5d3034bf398bf8a71a396b0e1",
   "display_name": "Python 3.7.7 64-bit"
  }
 },
 "nbformat": 4,
 "nbformat_minor": 2
}