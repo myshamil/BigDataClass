{
 "cells": [
  {
   "cell_type": "code",
   "execution_count": 43,
   "metadata": {},
   "outputs": [],
   "source": [
    "#workshop1번\n",
    "critics={\n",
    "    'BTS':{'암수살인':5, '바울':4, '할로윈':1.5},\n",
    "    '손흥민':{'바울':5, '할로윈':2},\n",
    "    '레드벨벳':{'암수살인':2.5, '바울':2, '할로윈':1},\n",
    "    '트와이스':{'암수살인':3.5, '바울':4, '할로윈':5}\n",
    "}"
   ]
  },
  {
   "cell_type": "code",
   "execution_count": 100,
   "metadata": {},
   "outputs": [],
   "source": [
    "from math import sqrt\n",
    "#평균\n",
    "def avr(data, name1, name2): \n",
    "    sum = 0\n",
    "    count = 0\n",
    "    for i in data[name1]:\n",
    "        if i in data[name2]:\n",
    "            sum += data[name1][i]\n",
    "            count = count + 1\n",
    "    return sum/count\n",
    "\n",
    "#표준편차\n",
    "def v(data, name1, name2): \n",
    "    sum1 =0\n",
    "    mean=avr(data, name1, name2)\n",
    "   \n",
    "    for i in data[name1]:\n",
    "        if i in data[name2]:\n",
    "            sum1 += pow(data[name1][i]-mean,2)\n",
    "    return sqrt(sum1)\n",
    "\n",
    "#공분산\n",
    "def cov(data, name1, name2):\n",
    "    sum = 0\n",
    "    for i in data[name1]:\n",
    "        if i in data[name2]:\n",
    "            sum += (data[name1][i]-avr(data,name1,name2))*(data[name2][i]-avr(data,name2,name1))  \n",
    "    return sum\n"
   ]
  },
  {
   "cell_type": "code",
   "execution_count": 101,
   "metadata": {},
   "outputs": [],
   "source": [
    "#피어슨 상관계수\n",
    "def simPerarson(data, name1, name2):\n",
    "    for i in data[name1]:\n",
    "        if i in data[name2]:\n",
    "            sp =cov(data, name1, name2)/(v(data, name1, name2)*v(data, name2, name1))\n",
    "    return sp"
   ]
  },
  {
   "cell_type": "code",
   "execution_count": 99,
   "metadata": {},
   "outputs": [
    {
     "output_type": "stream",
     "name": "stdout",
     "text": "1.0\n0.9986254289035241\n-0.998625428903524\n1.0000000000000002\n-1.0\n-0.9999999999999998\n"
    }
   ],
   "source": [
    "# BTS, 손흥민의 피어슨 상관계수?\n",
    "# BTS, 레드벨벳의 피어슨 상관계수?\n",
    "# BTS, 트와이스의 피어슨 상관계수?\n",
    "# 손흥민, 레드벨벳의 피어슨 상관계수?\n",
    "# 손흥민, 트와이스의 피어슨 상관계수?\n",
    "# 레드벨벳, 트와이스의 피어슨 상관계수?\n",
    "print(simPerarson(critics,'BTS','손흥민'))\n",
    "print(simPerarson(critics,'BTS','레드벨벳'))\n",
    "print(simPerarson(critics,'BTS','트와이스'))\n",
    "print(simPerarson(critics,'손흥민','손흥민'))\n",
    "print(simPerarson(critics,'손흥민','트와이스'))\n",
    "print(simPerarson(critics,'레드벨벳','트와이스'))"
   ]
  }
 ],
 "metadata": {
  "language_info": {
   "codemirror_mode": {
    "name": "ipython",
    "version": 3
   },
   "file_extension": ".py",
   "mimetype": "text/x-python",
   "name": "python",
   "nbconvert_exporter": "python",
   "pygments_lexer": "ipython3",
   "version": "3.7.7-final"
  },
  "orig_nbformat": 2,
  "kernelspec": {
   "name": "python37764bit103ddcd5d3034bf398bf8a71a396b0e1",
   "display_name": "Python 3.7.7 64-bit"
  }
 },
 "nbformat": 4,
 "nbformat_minor": 2
}