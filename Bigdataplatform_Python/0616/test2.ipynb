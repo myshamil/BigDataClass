{
 "cells": [
  {
   "cell_type": "code",
   "execution_count": 11,
   "metadata": {},
   "outputs": [
    {
     "output_type": "execute_result",
     "data": {
      "text/plain": "5"
     },
     "metadata": {},
     "execution_count": 11
    }
   ],
   "source": [
    "critics={\n",
    "    'BTS':{'암수살인':5, '바울':4, '할로윈':1.5},\n",
    "    '손흥민':{'바울':5, '할로윈':2},\n",
    "    '레드벨벳':{'암수살인':2.5, '바울':2, '할로윈':1},\n",
    "    '트와이스':{'암수살인':3.5, '바울':4, '할로윈':5}\n",
    "}\n",
    "#손흥민과 비슷한 사람? 영화에 대한 평점으로...\n",
    "critics['손흥민']\n",
    "critics.get('손흥민') #두가지 다 가능\n",
    "\n",
    "critics['손흥민']['바울']\n",
    "critics.get('손흥민').get('바울')"
   ]
  },
  {
   "cell_type": "code",
   "execution_count": 14,
   "metadata": {},
   "outputs": [
    {
     "output_type": "execute_result",
     "data": {
      "text/plain": "2.0"
     },
     "metadata": {},
     "execution_count": 14
    }
   ],
   "source": [
    "#(1,2) , (3,2)  \n",
    "#두 점 사이의 거리 d = ((1-3)**2 + (2-2)**2)**0.5\n",
    "from math import sqrt\n",
    "sqrt(pow(3-1,2) + pow(2-2,2))\n",
    "\n"
   ]
  },
  {
   "cell_type": "code",
   "execution_count": 15,
   "metadata": {},
   "outputs": [],
   "source": [
    "def sim(i,j):\n",
    "    return sqrt(pow(i,2)+pow(j,2))"
   ]
  },
  {
   "cell_type": "code",
   "execution_count": 19,
   "metadata": {},
   "outputs": [
    {
     "output_type": "stream",
     "name": "stdout",
     "text": "1.118033988749895\n"
    }
   ],
   "source": [
    "v1 =critics['손흥민']['바울']-critics['BTS']['바울']\n",
    "v2 =critics['손흥민']['할로윈']-critics['BTS']['할로윈']\n",
    "print(sim(v1,v2))\n"
   ]
  },
  {
   "cell_type": "code",
   "execution_count": 26,
   "metadata": {},
   "outputs": [
    {
     "output_type": "stream",
     "name": "stdout",
     "text": "BTS\nBTS : 0.4721359549995794\n손흥민\n레드벨벳\n레드벨벳 : 0.2402530733520421\n트와이스\n트와이스 : 0.2402530733520421\n"
    }
   ],
   "source": [
    "#다차원 공간에서의 두 사람간 유클리디안 거리 구하기\n",
    "\n",
    "for i in critics:\n",
    "    # print(i)\n",
    "    if i !='손흥민':\n",
    "        v1 =critics['손흥민']['바울']-critics[i]['바울']\n",
    "        v2 =critics['손흥민']['할로윈']-critics[i]['할로윈']\n",
    "        # print(i,\":\",sim(v1,v2))\n",
    "        print(i,\":\",1/(1+sim(v1,v2)))"
   ]
  },
  {
   "cell_type": "code",
   "execution_count": 31,
   "metadata": {},
   "outputs": [
    {
     "output_type": "execute_result",
     "data": {
      "text/plain": "0.20799159651347807"
     },
     "metadata": {},
     "execution_count": 31
    }
   ],
   "source": [
    "#다차원 공간에서의 두 사람간 유클리디안 거리 구하기\n",
    "\n",
    "def simDistance(data, name1, name2):\n",
    "    sum = 0\n",
    "    for i in data[name1]: #i는 BTS가 본 영화 제목(key)\n",
    "        if i in data[name2]:\n",
    "            # '트와이스':{'암수살인':3.5, '바울':4, '할로윈':5} \n",
    "            # i가 data[name2]가 있다면! ex)트와이스가 본 영화 목록에 BTS가 본 영화가 있다면!\n",
    "            sum+=pow(data[name1][i]-data[name2][i],2)\n",
    "    return 1/(1+sqrt(sum))\n",
    "\n",
    "simDistance(critics, 'BTS','트와이스')"
   ]
  },
  {
   "cell_type": "code",
   "execution_count": 50,
   "metadata": {},
   "outputs": [],
   "source": [
    "def topMatch(data, name, index =2, simFunction = simDistance):\n",
    "    res = []\n",
    "    for i in data:\n",
    "        if name != i :\n",
    "            res.append((simFunction(data, name, i),i))\n",
    "    res.sort()\n",
    "    res.reverse() #오름차순 내림차순~\n",
    "\n",
    "    return res"
   ]
  },
  {
   "cell_type": "code",
   "execution_count": 51,
   "metadata": {},
   "outputs": [
    {
     "output_type": "execute_result",
     "data": {
      "text/plain": "[(0.2402530733520421, '손흥민'),\n (0.20799159651347807, 'BTS'),\n (0.179128784747792, '레드벨벳')]"
     },
     "metadata": {},
     "execution_count": 51
    }
   ],
   "source": [
    "topMatch(critics,'트와이스') "
   ]
  },
  {
   "cell_type": "code",
   "execution_count": 55,
   "metadata": {},
   "outputs": [
    {
     "output_type": "stream",
     "name": "stdout",
     "text": "None\n"
    },
    {
     "output_type": "execute_result",
     "data": {
      "text/plain": "<re.Match object; span=(0, 11), match='aaaaaaaaaab'>"
     },
     "metadata": {},
     "execution_count": 55
    }
   ],
   "source": [
    "import re\n",
    "# re.match('패턴','문자열') 패턴이 문자열 속에 있는가, 어디에 있는가\n",
    "re.match('hello', 'hello world')\n",
    "print(re.match('hi', 'hello world'))\n",
    "\n",
    "re.match('a*b','aaaaaaaaaab')\n",
    "#a문자가 1개 이상 있으면서 반드시 그 뒤에 b가 와야함"
   ]
  },
  {
   "cell_type": "code",
   "execution_count": 58,
   "metadata": {},
   "outputs": [
    {
     "output_type": "execute_result",
     "data": {
      "text/plain": "<re.Match object; span=(0, 3), match='hhh'>"
     },
     "metadata": {},
     "execution_count": 58
    }
   ],
   "source": [
    "re.match('abc?d','abd')\n",
    "#? : ?앞의 문자가 0개 또는 1개 있으면 매칭\n",
    "re.match('ab.d','abd')\n",
    "# . : .의 위치에 아무문자(숫자) 1개\n",
    "re.match('ab.d','abxd')\n",
    "re.match('ab[0-9]?c','abc')\n",
    "re.match('h{3}','hhhhheeelllo')\n",
    "#{}문자가 해당 갯수 (위에서는 3개)"
   ]
  }
 ],
 "metadata": {
  "language_info": {
   "codemirror_mode": {
    "name": "ipython",
    "version": 3
   },
   "file_extension": ".py",
   "mimetype": "text/x-python",
   "name": "python",
   "nbconvert_exporter": "python",
   "pygments_lexer": "ipython3",
   "version": "3.7.7-final"
  },
  "orig_nbformat": 2,
  "kernelspec": {
   "name": "python37764bit103ddcd5d3034bf398bf8a71a396b0e1",
   "display_name": "Python 3.7.7 64-bit"
  }
 },
 "nbformat": 4,
 "nbformat_minor": 2
}