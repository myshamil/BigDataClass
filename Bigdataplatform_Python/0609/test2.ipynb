{
 "cells": [
  {
   "cell_type": "code",
   "execution_count": 14,
   "metadata": {},
   "outputs": [
    {
     "output_type": "execute_result",
     "data": {
      "text/plain": "col1       a    b    c    d\ndate                       \n2020101  1.0  2.0  3.0  NaN\n2020102  1.0  2.0  3.0  NaN\n2020103  NaN  2.0  NaN  3.0",
      "text/html": "<div>\n<style scoped>\n    .dataframe tbody tr th:only-of-type {\n        vertical-align: middle;\n    }\n\n    .dataframe tbody tr th {\n        vertical-align: top;\n    }\n\n    .dataframe thead th {\n        text-align: right;\n    }\n</style>\n<table border=\"1\" class=\"dataframe\">\n  <thead>\n    <tr style=\"text-align: right;\">\n      <th>col1</th>\n      <th>a</th>\n      <th>b</th>\n      <th>c</th>\n      <th>d</th>\n    </tr>\n    <tr>\n      <th>date</th>\n      <th></th>\n      <th></th>\n      <th></th>\n      <th></th>\n    </tr>\n  </thead>\n  <tbody>\n    <tr>\n      <th>2020101</th>\n      <td>1.0</td>\n      <td>2.0</td>\n      <td>3.0</td>\n      <td>NaN</td>\n    </tr>\n    <tr>\n      <th>2020102</th>\n      <td>1.0</td>\n      <td>2.0</td>\n      <td>3.0</td>\n      <td>NaN</td>\n    </tr>\n    <tr>\n      <th>2020103</th>\n      <td>NaN</td>\n      <td>2.0</td>\n      <td>NaN</td>\n      <td>3.0</td>\n    </tr>\n  </tbody>\n</table>\n</div>"
     },
     "metadata": {},
     "execution_count": 14
    }
   ],
   "source": [
    "import pandas as pd \n",
    "import numpy as np \n",
    "from datetime import datetime\n",
    "\n",
    "# pd.date_range(datetime.today(), periods=10).tolist()\n",
    "# d = pd.date_range(start='2020-01-01', end='2020-01-10')\n",
    "d = ['2020101','2020101','2020101','2020102','2020102','2020102','2020102','2020103','2020103']\n",
    "col1 = ['a','b','c','a','b','c','a','b','d']\n",
    "col2 = [1,2,3,1,2,3,1,2,3]\n",
    "data = {'date':d, 'col1':col1, 'col2':col2}\n",
    "\n",
    "df = pd.DataFrame(data)\n",
    "df.pivot_table(index='date', columns='col1', values='col2')"
   ]
  },
  {
   "cell_type": "code",
   "execution_count": 18,
   "metadata": {},
   "outputs": [
    {
     "output_type": "execute_result",
     "data": {
      "text/plain": "                                            sum                   mean  \\\n                                          Price Quantity         Price   \nManager       Rep           Product                                      \nDebra Henley  Craig Booker  CPU           65000        2  32500.000000   \n                            Maintenance    5000        2   5000.000000   \n                            Software      10000        1  10000.000000   \n              Daniel Hilton CPU          105000        4  52500.000000   \n                            Software      10000        1  10000.000000   \n              John Smith    CPU           35000        1  35000.000000   \n                            Maintenance    5000        2   5000.000000   \nFred Anderson Cedric Moss   CPU           95000        3  47500.000000   \n                            Maintenance    5000        1   5000.000000   \n                            Software      10000        1  10000.000000   \n              Wendy Yule    CPU          165000        7  82500.000000   \n                            Maintenance    7000        3   7000.000000   \n                            Monitor        5000        2   5000.000000   \nAll                                      522000       30  30705.882353   \n\n                                                   \n                                         Quantity  \nManager       Rep           Product                \nDebra Henley  Craig Booker  CPU          1.000000  \n                            Maintenance  2.000000  \n                            Software     1.000000  \n              Daniel Hilton CPU          2.000000  \n                            Software     1.000000  \n              John Smith    CPU          1.000000  \n                            Maintenance  2.000000  \nFred Anderson Cedric Moss   CPU          1.500000  \n                            Maintenance  1.000000  \n                            Software     1.000000  \n              Wendy Yule    CPU          3.500000  \n                            Maintenance  3.000000  \n                            Monitor      2.000000  \nAll                                      1.764706  ",
      "text/html": "<div>\n<style scoped>\n    .dataframe tbody tr th:only-of-type {\n        vertical-align: middle;\n    }\n\n    .dataframe tbody tr th {\n        vertical-align: top;\n    }\n\n    .dataframe thead tr th {\n        text-align: left;\n    }\n\n    .dataframe thead tr:last-of-type th {\n        text-align: right;\n    }\n</style>\n<table border=\"1\" class=\"dataframe\">\n  <thead>\n    <tr>\n      <th></th>\n      <th></th>\n      <th></th>\n      <th colspan=\"2\" halign=\"left\">sum</th>\n      <th colspan=\"2\" halign=\"left\">mean</th>\n    </tr>\n    <tr>\n      <th></th>\n      <th></th>\n      <th></th>\n      <th>Price</th>\n      <th>Quantity</th>\n      <th>Price</th>\n      <th>Quantity</th>\n    </tr>\n    <tr>\n      <th>Manager</th>\n      <th>Rep</th>\n      <th>Product</th>\n      <th></th>\n      <th></th>\n      <th></th>\n      <th></th>\n    </tr>\n  </thead>\n  <tbody>\n    <tr>\n      <th rowspan=\"7\" valign=\"top\">Debra Henley</th>\n      <th rowspan=\"3\" valign=\"top\">Craig Booker</th>\n      <th>CPU</th>\n      <td>65000</td>\n      <td>2</td>\n      <td>32500.000000</td>\n      <td>1.000000</td>\n    </tr>\n    <tr>\n      <th>Maintenance</th>\n      <td>5000</td>\n      <td>2</td>\n      <td>5000.000000</td>\n      <td>2.000000</td>\n    </tr>\n    <tr>\n      <th>Software</th>\n      <td>10000</td>\n      <td>1</td>\n      <td>10000.000000</td>\n      <td>1.000000</td>\n    </tr>\n    <tr>\n      <th rowspan=\"2\" valign=\"top\">Daniel Hilton</th>\n      <th>CPU</th>\n      <td>105000</td>\n      <td>4</td>\n      <td>52500.000000</td>\n      <td>2.000000</td>\n    </tr>\n    <tr>\n      <th>Software</th>\n      <td>10000</td>\n      <td>1</td>\n      <td>10000.000000</td>\n      <td>1.000000</td>\n    </tr>\n    <tr>\n      <th rowspan=\"2\" valign=\"top\">John Smith</th>\n      <th>CPU</th>\n      <td>35000</td>\n      <td>1</td>\n      <td>35000.000000</td>\n      <td>1.000000</td>\n    </tr>\n    <tr>\n      <th>Maintenance</th>\n      <td>5000</td>\n      <td>2</td>\n      <td>5000.000000</td>\n      <td>2.000000</td>\n    </tr>\n    <tr>\n      <th rowspan=\"6\" valign=\"top\">Fred Anderson</th>\n      <th rowspan=\"3\" valign=\"top\">Cedric Moss</th>\n      <th>CPU</th>\n      <td>95000</td>\n      <td>3</td>\n      <td>47500.000000</td>\n      <td>1.500000</td>\n    </tr>\n    <tr>\n      <th>Maintenance</th>\n      <td>5000</td>\n      <td>1</td>\n      <td>5000.000000</td>\n      <td>1.000000</td>\n    </tr>\n    <tr>\n      <th>Software</th>\n      <td>10000</td>\n      <td>1</td>\n      <td>10000.000000</td>\n      <td>1.000000</td>\n    </tr>\n    <tr>\n      <th rowspan=\"3\" valign=\"top\">Wendy Yule</th>\n      <th>CPU</th>\n      <td>165000</td>\n      <td>7</td>\n      <td>82500.000000</td>\n      <td>3.500000</td>\n    </tr>\n    <tr>\n      <th>Maintenance</th>\n      <td>7000</td>\n      <td>3</td>\n      <td>7000.000000</td>\n      <td>3.000000</td>\n    </tr>\n    <tr>\n      <th>Monitor</th>\n      <td>5000</td>\n      <td>2</td>\n      <td>5000.000000</td>\n      <td>2.000000</td>\n    </tr>\n    <tr>\n      <th>All</th>\n      <th></th>\n      <th></th>\n      <td>522000</td>\n      <td>30</td>\n      <td>30705.882353</td>\n      <td>1.764706</td>\n    </tr>\n  </tbody>\n</table>\n</div>"
     },
     "metadata": {},
     "execution_count": 18
    }
   ],
   "source": [
    "import pandas as pandas\n",
    "import numpy as np \n",
    "\n",
    "df = pd.read_excel(\"/python_Pjt/DataScience-master/data/02. sales-funnel.xlsx\")\n",
    "df.index \n",
    "df.head()\n",
    "pd.pivot_table(df, index=[\"Manager\",\"Rep\",\"Product\"], values=[\"Price\",\"Quantity\"], aggfunc=[np.sum, np.mean],fill_value=0,margins=True)\n"
   ]
  },
  {
   "cell_type": "code",
   "execution_count": 22,
   "metadata": {},
   "outputs": [
    {
     "output_type": "execute_result",
     "data": {
      "text/plain": "    Unnamed: 0   관서명  살인 발생  살인 검거  강도 발생  강도 검거  강간 발생  강간 검거  절도 발생  절도 검거  \\\n0            0   중부서      2      2      3      2    105     65   1395    477   \n1            1   종로서      3      3      6      5    115     98   1070    413   \n2            2  남대문서      1      0      6      4     65     46   1153    382   \n3            3  서대문서      2      2      5      4    154    124   1812    738   \n4            4   혜화서      3      2      5      4     96     63   1114    424   \n5            5   용산서      5      5     14     14    194    173   1557    587   \n6            6   성북서      2      2      2      1     86     71    953    409   \n7            7  동대문서      5      5     13     13    173    146   1981    814   \n8            8   마포서      8      8     14     10    294    247   2555    813   \n9            9  영등포서     14     12     22     20    295    183   2964    978   \n10          10   성동서      4      4      9      8    126    119   1607    597   \n11          11   동작서      5      5      9      5    285    139   1865    661   \n12          12   광진서      4      4     14     26    240    220   3026   1277   \n13          13   서부서      2      2      2      1     70     59    819    293   \n14          14   강북서      7      8     14     13    153    126   1434    618   \n15          15   금천서      3      4      6      6    151    122   1567    888   \n16          16   중랑서     13     12     11      9    187    148   2135    829   \n17          17   강남서      3      3     15     12    300    225   2411    984   \n18          18   관악서      9      8     12     14    320    221   2706    827   \n19          19   강서서      7      8     13     13    262    191   2096   1260   \n20          20   강동서      4      3      6      8    156    123   2366    789   \n21          21   종암서      3      3      3      3     64     53    832    332   \n22          22   구로서      8      6     15     11    281    164   2335    889   \n23          23   서초서      7      4      8      5    334    193   1982    905   \n24          24   양천서      3      5      6      3    120    105   1890    672   \n25          25   송파서     11     10     13     10    220    178   3239   1129   \n26          26   노원서     10     10      7      7    197    121   2193    801   \n27          27   방배서      1      2      1      1     59     56    653    186   \n28          28   은평서      1      1      7      5     96     82   1095    418   \n29          29   도봉서      3      3      9     10    102    106   1063    478   \n30          30   수서서     10      7      6      6    149    124   1439    666   \n\n    폭력 발생  폭력 검거    구별  \n0    1355   1170    중구  \n1    1278   1070   종로구  \n2     869    794    중구  \n3    2056   1711  서대문구  \n4    1015    861   종로구  \n5    2050   1704   용산구  \n6    1194   1015   성북구  \n7    2548   2227  동대문구  \n8    2983   2519   마포구  \n9    3572   2961  영등포구  \n10   1612   1395   성동구  \n11   1910   1587   동작구  \n12   2625   2180   광진구  \n13   1192   1038   은평구  \n14   2649   2348   강북구  \n15   2054   1776   금천구  \n16   2847   2407   중랑구  \n17   2465   2146   강남구  \n18   3298   2642   관악구  \n19   3207   2718   양천구  \n20   2712   2248   강동구  \n21   1015    840   성북구  \n22   3007   2432   구로구  \n23   1852   1607   서초구  \n24   2509   2030   양천구  \n25   3295   2786   송파구  \n26   2723   2329   노원구  \n27    547    491   서초구  \n28   1461   1268   은평구  \n29   1487   1303   도봉구  \n30   1819   1559   강남구  ",
      "text/html": "<div>\n<style scoped>\n    .dataframe tbody tr th:only-of-type {\n        vertical-align: middle;\n    }\n\n    .dataframe tbody tr th {\n        vertical-align: top;\n    }\n\n    .dataframe thead th {\n        text-align: right;\n    }\n</style>\n<table border=\"1\" class=\"dataframe\">\n  <thead>\n    <tr style=\"text-align: right;\">\n      <th></th>\n      <th>Unnamed: 0</th>\n      <th>관서명</th>\n      <th>살인 발생</th>\n      <th>살인 검거</th>\n      <th>강도 발생</th>\n      <th>강도 검거</th>\n      <th>강간 발생</th>\n      <th>강간 검거</th>\n      <th>절도 발생</th>\n      <th>절도 검거</th>\n      <th>폭력 발생</th>\n      <th>폭력 검거</th>\n      <th>구별</th>\n    </tr>\n  </thead>\n  <tbody>\n    <tr>\n      <th>0</th>\n      <td>0</td>\n      <td>중부서</td>\n      <td>2</td>\n      <td>2</td>\n      <td>3</td>\n      <td>2</td>\n      <td>105</td>\n      <td>65</td>\n      <td>1395</td>\n      <td>477</td>\n      <td>1355</td>\n      <td>1170</td>\n      <td>중구</td>\n    </tr>\n    <tr>\n      <th>1</th>\n      <td>1</td>\n      <td>종로서</td>\n      <td>3</td>\n      <td>3</td>\n      <td>6</td>\n      <td>5</td>\n      <td>115</td>\n      <td>98</td>\n      <td>1070</td>\n      <td>413</td>\n      <td>1278</td>\n      <td>1070</td>\n      <td>종로구</td>\n    </tr>\n    <tr>\n      <th>2</th>\n      <td>2</td>\n      <td>남대문서</td>\n      <td>1</td>\n      <td>0</td>\n      <td>6</td>\n      <td>4</td>\n      <td>65</td>\n      <td>46</td>\n      <td>1153</td>\n      <td>382</td>\n      <td>869</td>\n      <td>794</td>\n      <td>중구</td>\n    </tr>\n    <tr>\n      <th>3</th>\n      <td>3</td>\n      <td>서대문서</td>\n      <td>2</td>\n      <td>2</td>\n      <td>5</td>\n      <td>4</td>\n      <td>154</td>\n      <td>124</td>\n      <td>1812</td>\n      <td>738</td>\n      <td>2056</td>\n      <td>1711</td>\n      <td>서대문구</td>\n    </tr>\n    <tr>\n      <th>4</th>\n      <td>4</td>\n      <td>혜화서</td>\n      <td>3</td>\n      <td>2</td>\n      <td>5</td>\n      <td>4</td>\n      <td>96</td>\n      <td>63</td>\n      <td>1114</td>\n      <td>424</td>\n      <td>1015</td>\n      <td>861</td>\n      <td>종로구</td>\n    </tr>\n    <tr>\n      <th>5</th>\n      <td>5</td>\n      <td>용산서</td>\n      <td>5</td>\n      <td>5</td>\n      <td>14</td>\n      <td>14</td>\n      <td>194</td>\n      <td>173</td>\n      <td>1557</td>\n      <td>587</td>\n      <td>2050</td>\n      <td>1704</td>\n      <td>용산구</td>\n    </tr>\n    <tr>\n      <th>6</th>\n      <td>6</td>\n      <td>성북서</td>\n      <td>2</td>\n      <td>2</td>\n      <td>2</td>\n      <td>1</td>\n      <td>86</td>\n      <td>71</td>\n      <td>953</td>\n      <td>409</td>\n      <td>1194</td>\n      <td>1015</td>\n      <td>성북구</td>\n    </tr>\n    <tr>\n      <th>7</th>\n      <td>7</td>\n      <td>동대문서</td>\n      <td>5</td>\n      <td>5</td>\n      <td>13</td>\n      <td>13</td>\n      <td>173</td>\n      <td>146</td>\n      <td>1981</td>\n      <td>814</td>\n      <td>2548</td>\n      <td>2227</td>\n      <td>동대문구</td>\n    </tr>\n    <tr>\n      <th>8</th>\n      <td>8</td>\n      <td>마포서</td>\n      <td>8</td>\n      <td>8</td>\n      <td>14</td>\n      <td>10</td>\n      <td>294</td>\n      <td>247</td>\n      <td>2555</td>\n      <td>813</td>\n      <td>2983</td>\n      <td>2519</td>\n      <td>마포구</td>\n    </tr>\n    <tr>\n      <th>9</th>\n      <td>9</td>\n      <td>영등포서</td>\n      <td>14</td>\n      <td>12</td>\n      <td>22</td>\n      <td>20</td>\n      <td>295</td>\n      <td>183</td>\n      <td>2964</td>\n      <td>978</td>\n      <td>3572</td>\n      <td>2961</td>\n      <td>영등포구</td>\n    </tr>\n    <tr>\n      <th>10</th>\n      <td>10</td>\n      <td>성동서</td>\n      <td>4</td>\n      <td>4</td>\n      <td>9</td>\n      <td>8</td>\n      <td>126</td>\n      <td>119</td>\n      <td>1607</td>\n      <td>597</td>\n      <td>1612</td>\n      <td>1395</td>\n      <td>성동구</td>\n    </tr>\n    <tr>\n      <th>11</th>\n      <td>11</td>\n      <td>동작서</td>\n      <td>5</td>\n      <td>5</td>\n      <td>9</td>\n      <td>5</td>\n      <td>285</td>\n      <td>139</td>\n      <td>1865</td>\n      <td>661</td>\n      <td>1910</td>\n      <td>1587</td>\n      <td>동작구</td>\n    </tr>\n    <tr>\n      <th>12</th>\n      <td>12</td>\n      <td>광진서</td>\n      <td>4</td>\n      <td>4</td>\n      <td>14</td>\n      <td>26</td>\n      <td>240</td>\n      <td>220</td>\n      <td>3026</td>\n      <td>1277</td>\n      <td>2625</td>\n      <td>2180</td>\n      <td>광진구</td>\n    </tr>\n    <tr>\n      <th>13</th>\n      <td>13</td>\n      <td>서부서</td>\n      <td>2</td>\n      <td>2</td>\n      <td>2</td>\n      <td>1</td>\n      <td>70</td>\n      <td>59</td>\n      <td>819</td>\n      <td>293</td>\n      <td>1192</td>\n      <td>1038</td>\n      <td>은평구</td>\n    </tr>\n    <tr>\n      <th>14</th>\n      <td>14</td>\n      <td>강북서</td>\n      <td>7</td>\n      <td>8</td>\n      <td>14</td>\n      <td>13</td>\n      <td>153</td>\n      <td>126</td>\n      <td>1434</td>\n      <td>618</td>\n      <td>2649</td>\n      <td>2348</td>\n      <td>강북구</td>\n    </tr>\n    <tr>\n      <th>15</th>\n      <td>15</td>\n      <td>금천서</td>\n      <td>3</td>\n      <td>4</td>\n      <td>6</td>\n      <td>6</td>\n      <td>151</td>\n      <td>122</td>\n      <td>1567</td>\n      <td>888</td>\n      <td>2054</td>\n      <td>1776</td>\n      <td>금천구</td>\n    </tr>\n    <tr>\n      <th>16</th>\n      <td>16</td>\n      <td>중랑서</td>\n      <td>13</td>\n      <td>12</td>\n      <td>11</td>\n      <td>9</td>\n      <td>187</td>\n      <td>148</td>\n      <td>2135</td>\n      <td>829</td>\n      <td>2847</td>\n      <td>2407</td>\n      <td>중랑구</td>\n    </tr>\n    <tr>\n      <th>17</th>\n      <td>17</td>\n      <td>강남서</td>\n      <td>3</td>\n      <td>3</td>\n      <td>15</td>\n      <td>12</td>\n      <td>300</td>\n      <td>225</td>\n      <td>2411</td>\n      <td>984</td>\n      <td>2465</td>\n      <td>2146</td>\n      <td>강남구</td>\n    </tr>\n    <tr>\n      <th>18</th>\n      <td>18</td>\n      <td>관악서</td>\n      <td>9</td>\n      <td>8</td>\n      <td>12</td>\n      <td>14</td>\n      <td>320</td>\n      <td>221</td>\n      <td>2706</td>\n      <td>827</td>\n      <td>3298</td>\n      <td>2642</td>\n      <td>관악구</td>\n    </tr>\n    <tr>\n      <th>19</th>\n      <td>19</td>\n      <td>강서서</td>\n      <td>7</td>\n      <td>8</td>\n      <td>13</td>\n      <td>13</td>\n      <td>262</td>\n      <td>191</td>\n      <td>2096</td>\n      <td>1260</td>\n      <td>3207</td>\n      <td>2718</td>\n      <td>양천구</td>\n    </tr>\n    <tr>\n      <th>20</th>\n      <td>20</td>\n      <td>강동서</td>\n      <td>4</td>\n      <td>3</td>\n      <td>6</td>\n      <td>8</td>\n      <td>156</td>\n      <td>123</td>\n      <td>2366</td>\n      <td>789</td>\n      <td>2712</td>\n      <td>2248</td>\n      <td>강동구</td>\n    </tr>\n    <tr>\n      <th>21</th>\n      <td>21</td>\n      <td>종암서</td>\n      <td>3</td>\n      <td>3</td>\n      <td>3</td>\n      <td>3</td>\n      <td>64</td>\n      <td>53</td>\n      <td>832</td>\n      <td>332</td>\n      <td>1015</td>\n      <td>840</td>\n      <td>성북구</td>\n    </tr>\n    <tr>\n      <th>22</th>\n      <td>22</td>\n      <td>구로서</td>\n      <td>8</td>\n      <td>6</td>\n      <td>15</td>\n      <td>11</td>\n      <td>281</td>\n      <td>164</td>\n      <td>2335</td>\n      <td>889</td>\n      <td>3007</td>\n      <td>2432</td>\n      <td>구로구</td>\n    </tr>\n    <tr>\n      <th>23</th>\n      <td>23</td>\n      <td>서초서</td>\n      <td>7</td>\n      <td>4</td>\n      <td>8</td>\n      <td>5</td>\n      <td>334</td>\n      <td>193</td>\n      <td>1982</td>\n      <td>905</td>\n      <td>1852</td>\n      <td>1607</td>\n      <td>서초구</td>\n    </tr>\n    <tr>\n      <th>24</th>\n      <td>24</td>\n      <td>양천서</td>\n      <td>3</td>\n      <td>5</td>\n      <td>6</td>\n      <td>3</td>\n      <td>120</td>\n      <td>105</td>\n      <td>1890</td>\n      <td>672</td>\n      <td>2509</td>\n      <td>2030</td>\n      <td>양천구</td>\n    </tr>\n    <tr>\n      <th>25</th>\n      <td>25</td>\n      <td>송파서</td>\n      <td>11</td>\n      <td>10</td>\n      <td>13</td>\n      <td>10</td>\n      <td>220</td>\n      <td>178</td>\n      <td>3239</td>\n      <td>1129</td>\n      <td>3295</td>\n      <td>2786</td>\n      <td>송파구</td>\n    </tr>\n    <tr>\n      <th>26</th>\n      <td>26</td>\n      <td>노원서</td>\n      <td>10</td>\n      <td>10</td>\n      <td>7</td>\n      <td>7</td>\n      <td>197</td>\n      <td>121</td>\n      <td>2193</td>\n      <td>801</td>\n      <td>2723</td>\n      <td>2329</td>\n      <td>노원구</td>\n    </tr>\n    <tr>\n      <th>27</th>\n      <td>27</td>\n      <td>방배서</td>\n      <td>1</td>\n      <td>2</td>\n      <td>1</td>\n      <td>1</td>\n      <td>59</td>\n      <td>56</td>\n      <td>653</td>\n      <td>186</td>\n      <td>547</td>\n      <td>491</td>\n      <td>서초구</td>\n    </tr>\n    <tr>\n      <th>28</th>\n      <td>28</td>\n      <td>은평서</td>\n      <td>1</td>\n      <td>1</td>\n      <td>7</td>\n      <td>5</td>\n      <td>96</td>\n      <td>82</td>\n      <td>1095</td>\n      <td>418</td>\n      <td>1461</td>\n      <td>1268</td>\n      <td>은평구</td>\n    </tr>\n    <tr>\n      <th>29</th>\n      <td>29</td>\n      <td>도봉서</td>\n      <td>3</td>\n      <td>3</td>\n      <td>9</td>\n      <td>10</td>\n      <td>102</td>\n      <td>106</td>\n      <td>1063</td>\n      <td>478</td>\n      <td>1487</td>\n      <td>1303</td>\n      <td>도봉구</td>\n    </tr>\n    <tr>\n      <th>30</th>\n      <td>30</td>\n      <td>수서서</td>\n      <td>10</td>\n      <td>7</td>\n      <td>6</td>\n      <td>6</td>\n      <td>149</td>\n      <td>124</td>\n      <td>1439</td>\n      <td>666</td>\n      <td>1819</td>\n      <td>1559</td>\n      <td>강남구</td>\n    </tr>\n  </tbody>\n</table>\n</div>"
     },
     "metadata": {},
     "execution_count": 22
    }
   ],
   "source": [
    "crime_anal_raw= pd.read_csv(\"/python_Pjt/DataScience-master/data/02. crime_in_Seoul_include_gu_name.csv\", encoding='utf-8')\n",
    "crime_anal_raw\n"
   ]
  },
  {
   "cell_type": "code",
   "execution_count": 26,
   "metadata": {},
   "outputs": [
    {
     "output_type": "execute_result",
     "data": {
      "text/plain": "bar    A    B    C    D\nfoo                    \none  1.0  2.0  3.0  NaN\ntwo  4.0  5.0  6.0  7.0",
      "text/html": "<div>\n<style scoped>\n    .dataframe tbody tr th:only-of-type {\n        vertical-align: middle;\n    }\n\n    .dataframe tbody tr th {\n        vertical-align: top;\n    }\n\n    .dataframe thead th {\n        text-align: right;\n    }\n</style>\n<table border=\"1\" class=\"dataframe\">\n  <thead>\n    <tr style=\"text-align: right;\">\n      <th>bar</th>\n      <th>A</th>\n      <th>B</th>\n      <th>C</th>\n      <th>D</th>\n    </tr>\n    <tr>\n      <th>foo</th>\n      <th></th>\n      <th></th>\n      <th></th>\n      <th></th>\n    </tr>\n  </thead>\n  <tbody>\n    <tr>\n      <th>one</th>\n      <td>1.0</td>\n      <td>2.0</td>\n      <td>3.0</td>\n      <td>NaN</td>\n    </tr>\n    <tr>\n      <th>two</th>\n      <td>4.0</td>\n      <td>5.0</td>\n      <td>6.0</td>\n      <td>7.0</td>\n    </tr>\n  </tbody>\n</table>\n</div>"
     },
     "metadata": {},
     "execution_count": 26
    }
   ],
   "source": [
    "df2 = pd.DataFrame({'foo':['one','one','one','two','two','two','two'], 'bar':['A','B','C','A','B','C','D'],'baz': [1,2,3,4,5,6,7],'zoo':['x','y','z','q','w','t','s']})\n",
    "df2.pivot(index='foo', columns='bar', values='baz')\n"
   ]
  },
  {
   "cell_type": "code",
   "execution_count": 28,
   "metadata": {},
   "outputs": [
    {
     "output_type": "execute_result",
     "data": {
      "text/plain": "bar    A    B    C\nfoo               \none  1.0  2.0  NaN\ntwo  NaN  3.0  4.0",
      "text/html": "<div>\n<style scoped>\n    .dataframe tbody tr th:only-of-type {\n        vertical-align: middle;\n    }\n\n    .dataframe tbody tr th {\n        vertical-align: top;\n    }\n\n    .dataframe thead th {\n        text-align: right;\n    }\n</style>\n<table border=\"1\" class=\"dataframe\">\n  <thead>\n    <tr style=\"text-align: right;\">\n      <th>bar</th>\n      <th>A</th>\n      <th>B</th>\n      <th>C</th>\n    </tr>\n    <tr>\n      <th>foo</th>\n      <th></th>\n      <th></th>\n      <th></th>\n    </tr>\n  </thead>\n  <tbody>\n    <tr>\n      <th>one</th>\n      <td>1.0</td>\n      <td>2.0</td>\n      <td>NaN</td>\n    </tr>\n    <tr>\n      <th>two</th>\n      <td>NaN</td>\n      <td>3.0</td>\n      <td>4.0</td>\n    </tr>\n  </tbody>\n</table>\n</div>"
     },
     "metadata": {},
     "execution_count": 28
    }
   ],
   "source": [
    "df3 = pd.DataFrame({'foo':['one','one','two','two'], 'bar':['A','B','B','C'],'baz': [1,2,3,4]})\n",
    "df3.pivot(index='foo',columns='bar', values='baz')"
   ]
  },
  {
   "cell_type": "code",
   "execution_count": 33,
   "metadata": {},
   "outputs": [
    {
     "output_type": "execute_result",
     "data": {
      "text/plain": "array([[100,  30,  89],\n       [ 87,  29,  20],\n       [ 92,  20,   3],\n       [ 10,  30,   2],\n       [ 20, 100,  50]], dtype=int64)"
     },
     "metadata": {},
     "execution_count": 33
    }
   ],
   "source": [
    "df4 = pd.DataFrame(\n",
    "    {'col1' : [100,87,92,10,20],\n",
    "    'col2' : [30,29,20,30,100], \n",
    "    'col3': [89,20,3,2,50]}\n",
    ")\n",
    "from sklearn import preprocessing\n",
    "\n",
    "cols = ['col1','col2','col3']\n",
    "df5 = df4[cols].values\n",
    "min_max_scaler = preprocessing.MinMaxScaler()\n",
    "x_data = min_max_scaler.fit_transform(df5.astype(float))\n",
    "x_data.shape\n",
    "df6 = pd.DataFrame(x_data)\n",
    "df5"
   ]
  }
 ],
 "metadata": {
  "language_info": {
   "codemirror_mode": {
    "name": "ipython",
    "version": 3
   },
   "file_extension": ".py",
   "mimetype": "text/x-python",
   "name": "python",
   "nbconvert_exporter": "python",
   "pygments_lexer": "ipython3",
   "version": "3.7.7-final"
  },
  "orig_nbformat": 2,
  "kernelspec": {
   "name": "python37764bit103ddcd5d3034bf398bf8a71a396b0e1",
   "display_name": "Python 3.7.7 64-bit"
  }
 },
 "nbformat": 4,
 "nbformat_minor": 2
}