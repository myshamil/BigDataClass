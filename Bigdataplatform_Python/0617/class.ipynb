{
 "cells": [
  {
   "cell_type": "code",
   "execution_count": 1,
   "metadata": {},
   "outputs": [],
   "source": [
    "import re"
   ]
  },
  {
   "cell_type": "code",
   "execution_count": 16,
   "metadata": {},
   "outputs": [
    {
     "output_type": "execute_result",
     "data": {
      "text/plain": "<re.Match object; span=(0, 12), match='02-1234-5678'>"
     },
     "metadata": {},
     "execution_count": 16
    }
   ],
   "source": [
    "re.match(\"[0-9]{3}\",'010-') #숫자 세개가 나와야한다\n",
    "#전화번호 패턴식 정의해보기\n",
    "#지역번호 2~3, 국번호: 3~4, 전화번호 :4 \n",
    "# 각 사이에 - 기호가 들어감\n",
    "re.match(\"[0-9]{2,3}-[0-9]{3,4}-[0-9]{4}\",\"02-1234-5678\")\n",
    "re.match(\"[0-9]{2,3}-[0-9]{3,4}-[0-9]{4}\",\"042-1234-5678\")\n",
    "re.match(\"[0-9]{2,3}-[0-9]{3,4}-[0-9]{4}\",\"02-123-5678\")\n",
    "re.match(\"[0-9]{2,3}-[0-9]{3,4}-[0-9]{4}\",\"02-1234-56789\") #안되는 예시"
   ]
  },
  {
   "cell_type": "code",
   "execution_count": null,
   "metadata": {},
   "outputs": [],
   "source": [
    "#특수문자 판단 (*,+,?,.,&,$,(,),[,],-)  역슬래시를 붙여서 한다!\n",
    "# 3+5\n",
    "# 2+7\n",
    "# 100+200\n",
    "# \\d+\\+\\d+\n"
   ]
  },
  {
   "cell_type": "code",
   "execution_count": 18,
   "metadata": {},
   "outputs": [
    {
     "output_type": "execute_result",
     "data": {
      "text/plain": "<re.Match object; span=(2, 4), match='**'>"
     },
     "metadata": {},
     "execution_count": 18
    }
   ],
   "source": [
    "re.search(\"\\*+\",\"3 ** 2\") #*이 있는가 확인"
   ]
  },
  {
   "cell_type": "code",
   "execution_count": 24,
   "metadata": {},
   "outputs": [
    {
     "output_type": "execute_result",
     "data": {
      "text/plain": "<re.Match object; span=(0, 10), match='Hello 1234'>"
     },
     "metadata": {},
     "execution_count": 24
    }
   ],
   "source": [
    "re.match(\"[A-Za-z\\s0-9]+\",\"Hello 1234\")\n"
   ]
  },
  {
   "cell_type": "code",
   "execution_count": 29,
   "metadata": {},
   "outputs": [],
   "source": [
    "m = re.match(\"([0-9]+) ([0-9]+)\",'10 200')\n",
    "#숫자가 1개 이상 소문자는 그룹... "
   ]
  },
  {
   "cell_type": "code",
   "execution_count": 32,
   "metadata": {},
   "outputs": [
    {
     "output_type": "execute_result",
     "data": {
      "text/plain": "'10'"
     },
     "metadata": {},
     "execution_count": 32
    }
   ],
   "source": [
    "m.end() #span결과의 마지막\n",
    "m.group(1) # n번 째 그 룹\n"
   ]
  },
  {
   "cell_type": "code",
   "execution_count": 34,
   "metadata": {},
   "outputs": [
    {
     "output_type": "execute_result",
     "data": {
      "text/plain": "<re.Match object; span=(0, 13), match='println(1234)'>"
     },
     "metadata": {},
     "execution_count": 34
    }
   ],
   "source": [
    "re.match(\"[a-z]+\\([0-9]+\\)\",\"println(1234)\")"
   ]
  },
  {
   "cell_type": "code",
   "execution_count": 39,
   "metadata": {},
   "outputs": [
    {
     "output_type": "execute_result",
     "data": {
      "text/plain": "'1234'"
     },
     "metadata": {},
     "execution_count": 39
    }
   ],
   "source": [
    "m = re.match(\"(?P<fn>[a-zA-Z_][a-zA-Z_0-9]+)\\((?P<par>[a-zA-Z_0-9]+)\\)\",\"myprint2(1234)\")\n",
    "m.group(1)\n",
    "m.group(2)"
   ]
  },
  {
   "cell_type": "code",
   "execution_count": 40,
   "metadata": {},
   "outputs": [
    {
     "output_type": "execute_result",
     "data": {
      "text/plain": "'num num one two num four num num'"
     },
     "metadata": {},
     "execution_count": 40
    }
   ],
   "source": [
    "re.findall(\"[0-9]+\", \"1 2 one two 3 four 4 5\")\n",
    "#패턴과 매칭되는 모든 숫자들을 num 으로 치환하시오 -> sub 사용!\n",
    "re.sub(\"[0-9]+\", \"num\",\"1 2 one two 3 four 4 5\")"
   ]
  },
  {
   "cell_type": "code",
   "execution_count": 56,
   "metadata": {},
   "outputs": [
    {
     "output_type": "execute_result",
     "data": {
      "text/plain": "<re.Match object; span=(0, 8), match='임꺽정ㅋㅋㅋㅋㅋ'>"
     },
     "metadata": {},
     "execution_count": 56
    }
   ],
   "source": [
    "re.match(\"[가-힣]+\", \"임꺽정ㅋㅋㅋㅋㅋ\")\n",
    "\n",
    "re.match(\"[가-힣ㄱ-ㅎ]+\", \"임꺽정ㅋㅋㅋㅋㅋ\")"
   ]
  }
 ],
 "metadata": {
  "language_info": {
   "codemirror_mode": {
    "name": "ipython",
    "version": 3
   },
   "file_extension": ".py",
   "mimetype": "text/x-python",
   "name": "python",
   "nbconvert_exporter": "python",
   "pygments_lexer": "ipython3",
   "version": "3.7.7-final"
  },
  "orig_nbformat": 2,
  "kernelspec": {
   "name": "python37764bit103ddcd5d3034bf398bf8a71a396b0e1",
   "display_name": "Python 3.7.7 64-bit"
  }
 },
 "nbformat": 4,
 "nbformat_minor": 2
}