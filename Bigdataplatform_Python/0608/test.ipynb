{
 "cells": [
  {
   "cell_type": "code",
   "execution_count": 23,
   "metadata": {},
   "outputs": [
    {
     "output_type": "execute_result",
     "data": {
      "text/plain": "      구별    소계  2013년도 이전  2014년  2015년  2016년     인구수     한국인    외국인    고령자\n0    강남구  2780       1292    430    584    932  570500  565550   4950  63167\n1    강동구   773        379     99    155    377  453233  449019   4214  54622\n2    강북구   748        369    120    138    204  330192  326686   3506  54813\n3    강서구   884        388    258    184     81  603772  597248   6524  72548\n4    관악구  1496        846    260    390    613  525515  507203  18312  68082\n5    광진구   707        573     78     53    174  372164  357211  14953  42214\n6    구로구  1561       1142    173    246    323  447874  416487  31387  56833\n7    금천구  1015        674     51    269    354  255082  236353  18729  32970\n8    노원구  1265        542     57    451    516  569384  565565   3819  71941\n9    도봉구   485        238    159     42    386  348646  346629   2017  51312\n10  동대문구  1294       1070     23    198    579  369496  354079  15417  54173\n11   동작구  1091        544    341    103    314  412520  400456  12064  56013\n12   마포구   574        314    118    169    379  389649  378566  11083  48765\n13  서대문구   962        844     50     68    292  327163  314982  12181  48161\n14   서초구  1930       1406    157    336    398  450310  445994   4316  51733\n15   성동구  1062        730     91    241    265  311244  303380   7864  39997\n16   성북구  1464       1009     78    360    204  461260  449773  11487  64692\n17   송파구   618        529     21     68    463  667483  660584   6899  72506\n18   양천구  2034       1843    142     30    467  479978  475949   4029  52975\n19  영등포구   904        495    214    195    373  402985  368072  34913  52413\n20   용산구  1624       1368    218    112    398  244203  229456  14747  36231\n21   은평구  1873       1138    224    278    468  494388  489943   4445  72334\n22   종로구  1002        464    314    211    630  162820  153589   9231  25425\n23    중구   671        413    190     72    348  133240  124312   8928  20764\n24   중랑구   660        509    121    177    109  414503  409882   4621  56774",
      "text/html": "<div>\n<style scoped>\n    .dataframe tbody tr th:only-of-type {\n        vertical-align: middle;\n    }\n\n    .dataframe tbody tr th {\n        vertical-align: top;\n    }\n\n    .dataframe thead th {\n        text-align: right;\n    }\n</style>\n<table border=\"1\" class=\"dataframe\">\n  <thead>\n    <tr style=\"text-align: right;\">\n      <th></th>\n      <th>구별</th>\n      <th>소계</th>\n      <th>2013년도 이전</th>\n      <th>2014년</th>\n      <th>2015년</th>\n      <th>2016년</th>\n      <th>인구수</th>\n      <th>한국인</th>\n      <th>외국인</th>\n      <th>고령자</th>\n    </tr>\n  </thead>\n  <tbody>\n    <tr>\n      <th>0</th>\n      <td>강남구</td>\n      <td>2780</td>\n      <td>1292</td>\n      <td>430</td>\n      <td>584</td>\n      <td>932</td>\n      <td>570500</td>\n      <td>565550</td>\n      <td>4950</td>\n      <td>63167</td>\n    </tr>\n    <tr>\n      <th>1</th>\n      <td>강동구</td>\n      <td>773</td>\n      <td>379</td>\n      <td>99</td>\n      <td>155</td>\n      <td>377</td>\n      <td>453233</td>\n      <td>449019</td>\n      <td>4214</td>\n      <td>54622</td>\n    </tr>\n    <tr>\n      <th>2</th>\n      <td>강북구</td>\n      <td>748</td>\n      <td>369</td>\n      <td>120</td>\n      <td>138</td>\n      <td>204</td>\n      <td>330192</td>\n      <td>326686</td>\n      <td>3506</td>\n      <td>54813</td>\n    </tr>\n    <tr>\n      <th>3</th>\n      <td>강서구</td>\n      <td>884</td>\n      <td>388</td>\n      <td>258</td>\n      <td>184</td>\n      <td>81</td>\n      <td>603772</td>\n      <td>597248</td>\n      <td>6524</td>\n      <td>72548</td>\n    </tr>\n    <tr>\n      <th>4</th>\n      <td>관악구</td>\n      <td>1496</td>\n      <td>846</td>\n      <td>260</td>\n      <td>390</td>\n      <td>613</td>\n      <td>525515</td>\n      <td>507203</td>\n      <td>18312</td>\n      <td>68082</td>\n    </tr>\n    <tr>\n      <th>5</th>\n      <td>광진구</td>\n      <td>707</td>\n      <td>573</td>\n      <td>78</td>\n      <td>53</td>\n      <td>174</td>\n      <td>372164</td>\n      <td>357211</td>\n      <td>14953</td>\n      <td>42214</td>\n    </tr>\n    <tr>\n      <th>6</th>\n      <td>구로구</td>\n      <td>1561</td>\n      <td>1142</td>\n      <td>173</td>\n      <td>246</td>\n      <td>323</td>\n      <td>447874</td>\n      <td>416487</td>\n      <td>31387</td>\n      <td>56833</td>\n    </tr>\n    <tr>\n      <th>7</th>\n      <td>금천구</td>\n      <td>1015</td>\n      <td>674</td>\n      <td>51</td>\n      <td>269</td>\n      <td>354</td>\n      <td>255082</td>\n      <td>236353</td>\n      <td>18729</td>\n      <td>32970</td>\n    </tr>\n    <tr>\n      <th>8</th>\n      <td>노원구</td>\n      <td>1265</td>\n      <td>542</td>\n      <td>57</td>\n      <td>451</td>\n      <td>516</td>\n      <td>569384</td>\n      <td>565565</td>\n      <td>3819</td>\n      <td>71941</td>\n    </tr>\n    <tr>\n      <th>9</th>\n      <td>도봉구</td>\n      <td>485</td>\n      <td>238</td>\n      <td>159</td>\n      <td>42</td>\n      <td>386</td>\n      <td>348646</td>\n      <td>346629</td>\n      <td>2017</td>\n      <td>51312</td>\n    </tr>\n    <tr>\n      <th>10</th>\n      <td>동대문구</td>\n      <td>1294</td>\n      <td>1070</td>\n      <td>23</td>\n      <td>198</td>\n      <td>579</td>\n      <td>369496</td>\n      <td>354079</td>\n      <td>15417</td>\n      <td>54173</td>\n    </tr>\n    <tr>\n      <th>11</th>\n      <td>동작구</td>\n      <td>1091</td>\n      <td>544</td>\n      <td>341</td>\n      <td>103</td>\n      <td>314</td>\n      <td>412520</td>\n      <td>400456</td>\n      <td>12064</td>\n      <td>56013</td>\n    </tr>\n    <tr>\n      <th>12</th>\n      <td>마포구</td>\n      <td>574</td>\n      <td>314</td>\n      <td>118</td>\n      <td>169</td>\n      <td>379</td>\n      <td>389649</td>\n      <td>378566</td>\n      <td>11083</td>\n      <td>48765</td>\n    </tr>\n    <tr>\n      <th>13</th>\n      <td>서대문구</td>\n      <td>962</td>\n      <td>844</td>\n      <td>50</td>\n      <td>68</td>\n      <td>292</td>\n      <td>327163</td>\n      <td>314982</td>\n      <td>12181</td>\n      <td>48161</td>\n    </tr>\n    <tr>\n      <th>14</th>\n      <td>서초구</td>\n      <td>1930</td>\n      <td>1406</td>\n      <td>157</td>\n      <td>336</td>\n      <td>398</td>\n      <td>450310</td>\n      <td>445994</td>\n      <td>4316</td>\n      <td>51733</td>\n    </tr>\n    <tr>\n      <th>15</th>\n      <td>성동구</td>\n      <td>1062</td>\n      <td>730</td>\n      <td>91</td>\n      <td>241</td>\n      <td>265</td>\n      <td>311244</td>\n      <td>303380</td>\n      <td>7864</td>\n      <td>39997</td>\n    </tr>\n    <tr>\n      <th>16</th>\n      <td>성북구</td>\n      <td>1464</td>\n      <td>1009</td>\n      <td>78</td>\n      <td>360</td>\n      <td>204</td>\n      <td>461260</td>\n      <td>449773</td>\n      <td>11487</td>\n      <td>64692</td>\n    </tr>\n    <tr>\n      <th>17</th>\n      <td>송파구</td>\n      <td>618</td>\n      <td>529</td>\n      <td>21</td>\n      <td>68</td>\n      <td>463</td>\n      <td>667483</td>\n      <td>660584</td>\n      <td>6899</td>\n      <td>72506</td>\n    </tr>\n    <tr>\n      <th>18</th>\n      <td>양천구</td>\n      <td>2034</td>\n      <td>1843</td>\n      <td>142</td>\n      <td>30</td>\n      <td>467</td>\n      <td>479978</td>\n      <td>475949</td>\n      <td>4029</td>\n      <td>52975</td>\n    </tr>\n    <tr>\n      <th>19</th>\n      <td>영등포구</td>\n      <td>904</td>\n      <td>495</td>\n      <td>214</td>\n      <td>195</td>\n      <td>373</td>\n      <td>402985</td>\n      <td>368072</td>\n      <td>34913</td>\n      <td>52413</td>\n    </tr>\n    <tr>\n      <th>20</th>\n      <td>용산구</td>\n      <td>1624</td>\n      <td>1368</td>\n      <td>218</td>\n      <td>112</td>\n      <td>398</td>\n      <td>244203</td>\n      <td>229456</td>\n      <td>14747</td>\n      <td>36231</td>\n    </tr>\n    <tr>\n      <th>21</th>\n      <td>은평구</td>\n      <td>1873</td>\n      <td>1138</td>\n      <td>224</td>\n      <td>278</td>\n      <td>468</td>\n      <td>494388</td>\n      <td>489943</td>\n      <td>4445</td>\n      <td>72334</td>\n    </tr>\n    <tr>\n      <th>22</th>\n      <td>종로구</td>\n      <td>1002</td>\n      <td>464</td>\n      <td>314</td>\n      <td>211</td>\n      <td>630</td>\n      <td>162820</td>\n      <td>153589</td>\n      <td>9231</td>\n      <td>25425</td>\n    </tr>\n    <tr>\n      <th>23</th>\n      <td>중구</td>\n      <td>671</td>\n      <td>413</td>\n      <td>190</td>\n      <td>72</td>\n      <td>348</td>\n      <td>133240</td>\n      <td>124312</td>\n      <td>8928</td>\n      <td>20764</td>\n    </tr>\n    <tr>\n      <th>24</th>\n      <td>중랑구</td>\n      <td>660</td>\n      <td>509</td>\n      <td>121</td>\n      <td>177</td>\n      <td>109</td>\n      <td>414503</td>\n      <td>409882</td>\n      <td>4621</td>\n      <td>56774</td>\n    </tr>\n  </tbody>\n</table>\n</div>"
     },
     "metadata": {},
     "execution_count": 23
    }
   ],
   "source": [
    "import numpy as np\n",
    "import pandas as pd\n",
    "import matplotlib.pyplot as plt \n",
    "\n",
    "df = pd.read_csv(\"DataScience-master/data/01. CCTV_in_Seoul.csv\", encoding='utf-8') #ascii, euc-kr 셋중하나...\n",
    "df.head()\n",
    "df.columns # [0] 숫자넣으면 해당 칼럼 이름 조회 가능 \n",
    "df.loc[:,['기관명']]\n",
    "df_cctv= df.rename(columns={'기관명':'구별'}) #교재에서는 그냥 replace로 바꿔버림\n",
    "df_cctv\n",
    "df_cctv= df.rename(columns={'기관명':'구별'}) \n",
    "df3 = pd.read_excel(\"DataScience-master/data/01. population_in_Seoul.xls\", header=2) #헤더 줄 선택\n",
    "df3 #인덱스는 하나 \n",
    "df4 = df3.loc[:,['자치구','계','계.1', '계.2','65세이상고령자']]\n",
    "df_populate = df4.rename(columns = {'자치구':'구별', '계':'인구수', '계.1':'한국인', '계.2':'외국인','65세이상고령자':'고령자'})\n",
    " #없는데 여기서 잡히는 데이터가 있을 수 있다.  <- 주의!\n",
    "df_populate = df_populate.drop([0])\n",
    "df_populate\n",
    "\n",
    "data_result=pd.merge(df_cctv,df_populate,on='구별')\n",
    "data_result\n",
    "\n",
    "\n"
   ]
  }
 ],
 "metadata": {
  "language_info": {
   "codemirror_mode": {
    "name": "ipython",
    "version": 3
   },
   "file_extension": ".py",
   "mimetype": "text/x-python",
   "name": "python",
   "nbconvert_exporter": "python",
   "pygments_lexer": "ipython3",
   "version": "3.7.7-final"
  },
  "orig_nbformat": 2,
  "kernelspec": {
   "name": "python37764bit103ddcd5d3034bf398bf8a71a396b0e1",
   "display_name": "Python 3.7.7 64-bit"
  }
 },
 "nbformat": 4,
 "nbformat_minor": 2
}