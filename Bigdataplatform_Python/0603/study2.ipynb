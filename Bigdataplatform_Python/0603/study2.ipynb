{
 "cells": [
  {
   "cell_type": "code",
   "execution_count": 16,
   "metadata": {},
   "outputs": [
    {
     "output_type": "execute_result",
     "data": {
      "text/plain": "0     True\n1    False\n2    False\n3    False\n4    False\n5     True\n6     True\n7     True\n8     True\ndtype: bool"
     },
     "metadata": {},
     "execution_count": 16
    }
   ],
   "source": [
    "import numpy as np \n",
    "import pandas as pd\n",
    "#232~233\n",
    "obj = pd.Series(['c','a','d','a','a','b','b','c','c'])\n",
    "uni = obj.unique() #중복되는 값을 제거하고 유일값만 담고 있는 시리즈 반환\n",
    "uni\n",
    "\n",
    "a1 = obj.value_counts() #시리즈에서 도수(freauency)를 계산해서 반환 \n",
    "a1 \n",
    "\n",
    "a2=pd.value_counts(obj.values, sort=False)\n",
    "a2\n",
    "\n",
    "obj\n",
    "mask = obj.isin(['b','c']) #어떤 값이 시리즈에 존재하는지 나타내는 불리언 벡터 반환, 값골라낼때 유용\n",
    "mask"
   ]
  }
 ],
 "metadata": {
  "language_info": {
   "codemirror_mode": {
    "name": "ipython",
    "version": 3
   },
   "file_extension": ".py",
   "mimetype": "text/x-python",
   "name": "python",
   "nbconvert_exporter": "python",
   "pygments_lexer": "ipython3",
   "version": "3.7.7-final"
  },
  "orig_nbformat": 2,
  "kernelspec": {
   "name": "python37764bit103ddcd5d3034bf398bf8a71a396b0e1",
   "display_name": "Python 3.7.7 64-bit"
  }
 },
 "nbformat": 4,
 "nbformat_minor": 2
}